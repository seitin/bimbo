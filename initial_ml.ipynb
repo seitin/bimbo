{
 "cells": [
  {
   "cell_type": "code",
   "execution_count": 1,
   "metadata": {
    "ExecuteTime": {
     "end_time": "2016-07-06T19:12:25.446737",
     "start_time": "2016-07-06T19:12:25.113044"
    },
    "collapsed": false
   },
   "outputs": [],
   "source": [
    "import pandas as pd\n",
    "import numpy as np\n",
    "import matplotlib.pyplot as plt\n",
    "%matplotlib inline"
   ]
  },
  {
   "cell_type": "code",
   "execution_count": 2,
   "metadata": {
    "ExecuteTime": {
     "end_time": "2016-07-06T19:12:25.823447",
     "start_time": "2016-07-06T19:12:25.447729"
    },
    "collapsed": true
   },
   "outputs": [],
   "source": [
    "from nltk.corpus import stopwords"
   ]
  },
  {
   "cell_type": "code",
   "execution_count": 3,
   "metadata": {
    "ExecuteTime": {
     "end_time": "2016-07-06T19:12:25.828289",
     "start_time": "2016-07-06T19:12:25.824427"
    },
    "collapsed": false
   },
   "outputs": [],
   "source": [
    "stop_words = stopwords.words('spanish')"
   ]
  },
  {
   "cell_type": "code",
   "execution_count": null,
   "metadata": {
    "ExecuteTime": {
     "end_time": "2016-06-21T17:49:11.459282",
     "start_time": "2016-06-21T17:49:11.449341"
    },
    "collapsed": false
   },
   "outputs": [],
   "source": []
  },
  {
   "cell_type": "code",
   "execution_count": 4,
   "metadata": {
    "ExecuteTime": {
     "end_time": "2016-07-06T19:12:25.832190",
     "start_time": "2016-07-06T19:12:25.829685"
    },
    "collapsed": true
   },
   "outputs": [],
   "source": [
    "pd.options.display.max_rows = 30"
   ]
  },
  {
   "cell_type": "code",
   "execution_count": null,
   "metadata": {
    "ExecuteTime": {
     "end_time": "2016-06-22T14:14:08.136309",
     "start_time": "2016-06-22T14:14:08.078462"
    },
    "collapsed": false
   },
   "outputs": [],
   "source": []
  },
  {
   "cell_type": "code",
   "execution_count": 5,
   "metadata": {
    "ExecuteTime": {
     "end_time": "2016-07-06T19:12:25.844055",
     "start_time": "2016-07-06T19:12:25.833531"
    },
    "collapsed": true
   },
   "outputs": [],
   "source": [
    "df_producto = pd.read_csv('input/producto_tabla.csv.gz', compression='gzip')\n",
    "df_townstate = pd.read_csv('input/town_state.csv.gz', compression='gzip')"
   ]
  },
  {
   "cell_type": "code",
   "execution_count": 6,
   "metadata": {
    "ExecuteTime": {
     "end_time": "2016-07-06T19:12:25.851615",
     "start_time": "2016-07-06T19:12:25.845096"
    },
    "collapsed": false
   },
   "outputs": [],
   "source": [
    "df_producto['short_names'] = df_producto.NombreProducto.str.extract('^(\\D*)')"
   ]
  },
  {
   "cell_type": "code",
   "execution_count": 7,
   "metadata": {
    "ExecuteTime": {
     "end_time": "2016-07-06T19:12:26.618195",
     "start_time": "2016-07-06T19:12:25.853004"
    },
    "collapsed": false
   },
   "outputs": [],
   "source": [
    "df_producto['short_names_processed'] = df_producto['short_names'].map(lambda x: \" \".join([i for i in x.lower().split() if i not in stopwords.words('spanish')]))"
   ]
  },
  {
   "cell_type": "code",
   "execution_count": 8,
   "metadata": {
    "ExecuteTime": {
     "end_time": "2016-07-06T19:12:26.622173",
     "start_time": "2016-07-06T19:12:26.619175"
    },
    "collapsed": false
   },
   "outputs": [
    {
     "name": "stdout",
     "output_type": "stream",
     "text": [
      "tortill\n"
     ]
    }
   ],
   "source": [
    "from nltk.stem.snowball import SnowballStemmer\n",
    "stemmer = SnowballStemmer(\"spanish\")\n",
    "print(stemmer.stem(\"Tortillas\"))"
   ]
  },
  {
   "cell_type": "code",
   "execution_count": 9,
   "metadata": {
    "ExecuteTime": {
     "end_time": "2016-07-06T19:12:26.799867",
     "start_time": "2016-07-06T19:12:26.623043"
    },
    "collapsed": false
   },
   "outputs": [],
   "source": [
    "df_producto['short_names_processed'] = (df_producto['short_names_processed']\n",
    "                                        .map(lambda x: \" \".join([stemmer.stem(i) for i in x.lower().split()])))\n",
    "\n"
   ]
  },
  {
   "cell_type": "code",
   "execution_count": 10,
   "metadata": {
    "ExecuteTime": {
     "end_time": "2016-07-06T19:12:26.806781",
     "start_time": "2016-07-06T19:12:26.800837"
    },
    "collapsed": false
   },
   "outputs": [],
   "source": [
    "df_aux_producto = df_producto['short_names_processed'].value_counts()[df_producto['short_names_processed'].value_counts() > 10].reset_index()"
   ]
  },
  {
   "cell_type": "code",
   "execution_count": 11,
   "metadata": {
    "ExecuteTime": {
     "end_time": "2016-07-06T19:12:26.812081",
     "start_time": "2016-07-06T19:12:26.808093"
    },
    "collapsed": false
   },
   "outputs": [],
   "source": [
    "# df_producto = df_producto.ix[df_producto.short_names_processed.isin(df_aux_producto['index'])]"
   ]
  },
  {
   "cell_type": "code",
   "execution_count": 12,
   "metadata": {
    "ExecuteTime": {
     "end_time": "2016-07-06T19:12:27.051858",
     "start_time": "2016-07-06T19:12:26.813376"
    },
    "collapsed": false
   },
   "outputs": [],
   "source": [
    "df_producto['NombreProducto'] = df_producto['NombreProducto'].str.upper()\n",
    "df_producto['NombreProducto'] = df_producto.apply(lambda x :x['NombreProducto'].replace(str(x['Producto_ID']),'').strip(), axis=1 )\n",
    "df_producto = pd.DataFrame(df_producto.loc[1:])\n",
    "df_producto['fabricante'] = df_producto.NombreProducto.str.split(' ').str[-1]\n",
    "df_producto.ix[df_producto.fabricante == '1KG','fabricante'] = ''\n",
    "df_producto['NombreProducto'] = df_producto.apply(lambda x :x['NombreProducto'].replace(x['fabricante'],'').strip(), axis=1 )\n",
    "\n",
    "reg = '(\\d{1,4}G|\\d{1,4}KG|\\d{1,4}ML|\\d{1,4}\\ ML)'\n",
    "df_producto['volume'] = df_producto.NombreProducto.str.extract(reg)\n",
    "\n",
    "df_producto['NombreProducto'] = df_producto.apply(lambda x :x['NombreProducto'].replace(str(x['volume']),'').replace('  ',' ').strip(), axis=1 )\n",
    "\n",
    "reg = '(\\d{1,5}P)'\n",
    "df_producto['unidade'] = df_producto.NombreProducto.str.extract(reg)\n",
    "df_producto['NombreProducto'] = df_producto.NombreProducto.str.replace(reg, '').str.replace('  ',' ').str.strip()\n",
    "\n",
    "aux = pd.DataFrame({'Producto_ID':[0],'NombreProducto':['NO IDENTIFICADO']})\n",
    "df_producto = df_producto.append(aux)\n",
    "\n",
    "df_producto['unidade'] = df_producto.volume.str.extract('([A-Z])')\n",
    "df_producto['volume'] = df_producto.volume.str.replace('([A-Z])','')\n",
    "\n",
    "# df_producto"
   ]
  },
  {
   "cell_type": "code",
   "execution_count": 13,
   "metadata": {
    "ExecuteTime": {
     "end_time": "2016-07-06T19:12:27.058416",
     "start_time": "2016-07-06T19:12:27.052854"
    },
    "collapsed": false
   },
   "outputs": [],
   "source": [
    "df_townstate.ix[df_townstate.State.str.contains(\"ESTADO DE MÉXICO\"), 'State'] = 'MÉXICO, D.F.'\n",
    "df_townstate['Ag'] = df_townstate.Town.str.contains('AG.') * 1"
   ]
  },
  {
   "cell_type": "code",
   "execution_count": null,
   "metadata": {
    "collapsed": true
   },
   "outputs": [],
   "source": []
  },
  {
   "cell_type": "code",
   "execution_count": null,
   "metadata": {
    "collapsed": true
   },
   "outputs": [],
   "source": []
  },
  {
   "cell_type": "code",
   "execution_count": 14,
   "metadata": {
    "ExecuteTime": {
     "end_time": "2016-07-06T19:12:34.738503",
     "start_time": "2016-07-06T19:12:27.059660"
    },
    "collapsed": true
   },
   "outputs": [],
   "source": [
    "df_week = pd.read_csv('input/train_week3.csv')"
   ]
  },
  {
   "cell_type": "code",
   "execution_count": 15,
   "metadata": {
    "ExecuteTime": {
     "end_time": "2016-07-06T19:12:34.741508",
     "start_time": "2016-07-06T19:12:34.739517"
    },
    "collapsed": false
   },
   "outputs": [],
   "source": [
    "# df_week.Venta_uni_hoy.hist(range=(0,300), bins=50)"
   ]
  },
  {
   "cell_type": "code",
   "execution_count": 16,
   "metadata": {
    "ExecuteTime": {
     "end_time": "2016-07-06T19:12:35.362321",
     "start_time": "2016-07-06T19:12:34.742458"
    },
    "collapsed": false
   },
   "outputs": [],
   "source": [
    "gb = df_week[['Producto_ID','Venta_hoy']].groupby(['Producto_ID']).median().reset_index()\n",
    "gb[gb['Venta_hoy'] == gb['Venta_hoy'].max()]\n",
    "aux = df_producto.merge(gb, how='left', on='Producto_ID')\n",
    "aux.ix[aux['Venta_hoy'].isnull(),'Venta_hoy'] = 0\n",
    "df_producto = aux"
   ]
  },
  {
   "cell_type": "code",
   "execution_count": 17,
   "metadata": {
    "ExecuteTime": {
     "end_time": "2016-07-06T19:12:35.987988",
     "start_time": "2016-07-06T19:12:35.363310"
    },
    "collapsed": false
   },
   "outputs": [],
   "source": [
    "gb = df_week[['Producto_ID','Venta_uni_hoy']].groupby(['Producto_ID']).median().reset_index()\n",
    "gb[gb['Venta_uni_hoy'] == gb['Venta_uni_hoy'].max()]\n",
    "aux = df_producto.merge(gb, how='left', on='Producto_ID')\n",
    "aux.ix[aux['Venta_uni_hoy'].isnull(),'Venta_uni_hoy'] = 0\n",
    "df_producto = aux"
   ]
  },
  {
   "cell_type": "code",
   "execution_count": 18,
   "metadata": {
    "ExecuteTime": {
     "end_time": "2016-07-06T19:12:36.538475",
     "start_time": "2016-07-06T19:12:35.988997"
    },
    "collapsed": false
   },
   "outputs": [],
   "source": [
    "gb = df_week[['Producto_ID','Dev_uni_proxima']].groupby(['Producto_ID']).median().reset_index()\n",
    "gb[gb['Dev_uni_proxima'] == gb['Dev_uni_proxima'].max()]\n",
    "aux = df_producto.merge(gb, how='left', on='Producto_ID')\n",
    "aux.ix[aux['Dev_uni_proxima'].isnull(),'Dev_uni_proxima'] = 0\n",
    "df_producto = aux"
   ]
  },
  {
   "cell_type": "code",
   "execution_count": null,
   "metadata": {
    "ExecuteTime": {
     "end_time": "2016-07-06T17:53:34.147673",
     "start_time": "2016-07-06T17:53:33.697402"
    },
    "collapsed": false
   },
   "outputs": [],
   "source": []
  },
  {
   "cell_type": "code",
   "execution_count": null,
   "metadata": {
    "ExecuteTime": {
     "end_time": "2016-07-06T17:53:20.374180",
     "start_time": "2016-07-06T17:53:20.369053"
    },
    "collapsed": false
   },
   "outputs": [],
   "source": []
  },
  {
   "cell_type": "code",
   "execution_count": null,
   "metadata": {
    "collapsed": true
   },
   "outputs": [],
   "source": []
  },
  {
   "cell_type": "code",
   "execution_count": null,
   "metadata": {
    "ExecuteTime": {
     "end_time": "2016-07-05T16:53:11.575987",
     "start_time": "2016-07-05T16:53:11.570175"
    },
    "collapsed": false
   },
   "outputs": [],
   "source": []
  },
  {
   "cell_type": "code",
   "execution_count": 19,
   "metadata": {
    "ExecuteTime": {
     "end_time": "2016-07-06T19:12:36.543183",
     "start_time": "2016-07-06T19:12:36.539519"
    },
    "collapsed": false
   },
   "outputs": [],
   "source": [
    "def count_entregas(df, by):\n",
    "    df['entregas_'+by] = 1\n",
    "    aux = df.groupby([by]).agg({\"entregas_\"+by:np.size}).reset_index()\n",
    "    df.drop('entregas_'+by, axis=1, inplace=True)\n",
    "    return df.merge(aux, how='left', on=by)"
   ]
  },
  {
   "cell_type": "code",
   "execution_count": 47,
   "metadata": {
    "ExecuteTime": {
     "end_time": "2016-07-06T19:25:07.088259",
     "start_time": "2016-07-06T19:25:06.981707"
    },
    "collapsed": false
   },
   "outputs": [],
   "source": [
    "def process_df(df):\n",
    "    df = pd.DataFrame(df.ix[df.Demanda_uni_equil < 51])\n",
    "    df = df.drop(['Venta_uni_hoy','Venta_hoy','Dev_uni_proxima'], axis=1)\n",
    "    df = df.merge(df_producto, how='left',on='Producto_ID')\n",
    "    df = df.merge(df_townstate[['Agencia_ID','Ag','State']], on='Agencia_ID')\n",
    "#     df = df.drop(['Agencia_ID','Dev_uni_proxima','Dev_proxima','Venta_hoy','Venta_uni_hoy'], axis=1)\n",
    "    df.volume = df.volume.fillna(0).astype('int')\n",
    "#     df_fabricante = df[['fabricante']]\n",
    "#     df_fabricante = df_fabricante.groupby('fabricante').count().reset_index()\n",
    "#     df_fabricante['index_fabricante'] = df_fabricante.index\n",
    "#     df = df.merge(df_fabricante, on='fabricante')\n",
    "    df.shape\n",
    "    df = df.ix[df.volume<500]\n",
    "    \n",
    "    df = df.ix[df.Demanda_uni_equil<20]\n",
    "    \n",
    "    df = df.ix[df.Producto_ID != 0]\n",
    "        \n",
    "    df['Cliente_ID'] = df['Cliente_ID'].astype('str')\n",
    "    df['Agencia_ID'] = df['Agencia_ID'].astype('str')\n",
    "    df['Canal_ID'] = df['Canal_ID'].astype('str')\n",
    "    df['Ruta_SAK'] = df['Ruta_SAK'].astype('str')\n",
    "    \n",
    "        \n",
    "    lbls = ['0-10','10-20','20-30','30-40','40-50','50-60','60-70''70-80''90-100']\n",
    "    \n",
    "    f = (df['volume'] < 600)\n",
    "    df['volume_bin'] = pd.cut(df.volume.astype('float').values, 6, labels=lbls[0:6])    \n",
    "    \n",
    "    f = (df['Venta_hoy'] < 100)\n",
    "    df['venta_hoy_bin'] = pd.cut(df.Venta_hoy.astype('float').values, 10, labels=lbls[0,10])\n",
    "    \n",
    "    f = (df['Venta_uni_hoy'] < 10)\n",
    "    df['venta_uni_hoy_bin'] = pd.cut(df['venta_uni_hoy'].values, 5,lbls[0:5])\n",
    "    \n",
    "    \n",
    "    aux = df[cols+['Demanda_uni_equil']].drop_duplicates()\n",
    "        \n",
    "    y = aux['Demanda_uni_equil'].values\n",
    "    x = pd.get_dummies(aux[cols]).values\n",
    "    return x, y, df"
   ]
  },
  {
   "cell_type": "code",
   "execution_count": null,
   "metadata": {
    "ExecuteTime": {
     "end_time": "2016-06-22T16:16:27.614047",
     "start_time": "2016-06-22T16:16:27.534091"
    },
    "collapsed": false
   },
   "outputs": [],
   "source": []
  },
  {
   "cell_type": "code",
   "execution_count": 48,
   "metadata": {
    "ExecuteTime": {
     "end_time": "2016-07-06T19:25:07.350657",
     "start_time": "2016-07-06T19:25:07.345982"
    },
    "collapsed": false
   },
   "outputs": [],
   "source": [
    "# df_process['fabricante'].value_counts()"
   ]
  },
  {
   "cell_type": "code",
   "execution_count": 49,
   "metadata": {
    "ExecuteTime": {
     "end_time": "2016-07-06T19:25:07.507040",
     "start_time": "2016-07-06T19:25:07.500420"
    },
    "collapsed": false
   },
   "outputs": [],
   "source": [
    "cols = [\n",
    "#     'volume',\n",
    "#     'entregas_Producto_ID',\n",
    "#     'Cliente_ID',\n",
    "#     'entregas_fabricante',\n",
    "#     'Agencia_ID',\n",
    "#     'Ruta_SAK',\n",
    "#     'Canal_ID',\n",
    "#     'venta_uni_hoy_bin',\n",
    "    'venta_hoy_bin',\n",
    "#     'short_names_processed',\n",
    "#     'State',\n",
    "    'volume_bin'\n",
    "]"
   ]
  },
  {
   "cell_type": "code",
   "execution_count": 50,
   "metadata": {
    "ExecuteTime": {
     "end_time": "2016-07-06T19:25:07.669483",
     "start_time": "2016-07-06T19:25:07.661957"
    },
    "collapsed": false
   },
   "outputs": [],
   "source": [
    "def binarize(df,field, size, increment):\n",
    "    df[field+'_bin'] = '-100000'\n",
    "    for i in range(increment,size,increment):\n",
    "        f = (df[field] < i) & (df[field] > (i -increment))\n",
    "        df.ix[f, field+'_bin'] = '%s-%s' % (i-increment, i)\n",
    "    return df\n",
    "        "
   ]
  },
  {
   "cell_type": "code",
   "execution_count": 51,
   "metadata": {
    "ExecuteTime": {
     "end_time": "2016-07-06T19:25:07.838464",
     "start_time": "2016-07-06T19:25:07.835507"
    },
    "collapsed": false
   },
   "outputs": [],
   "source": [
    "# df_week = pd.read_csv('input/train_week3.csv')"
   ]
  },
  {
   "cell_type": "code",
   "execution_count": 52,
   "metadata": {
    "ExecuteTime": {
     "end_time": "2016-07-06T19:25:08.105422",
     "start_time": "2016-07-06T19:25:08.095104"
    },
    "collapsed": false
   },
   "outputs": [],
   "source": [
    "# df_week.columns"
   ]
  },
  {
   "cell_type": "code",
   "execution_count": 64,
   "metadata": {
    "ExecuteTime": {
     "end_time": "2016-07-06T19:31:44.921264",
     "start_time": "2016-07-06T19:31:43.867118"
    },
    "collapsed": true
   },
   "outputs": [],
   "source": [
    "aux.volume = aux.volume.astype(float)"
   ]
  },
  {
   "cell_type": "code",
   "execution_count": 65,
   "metadata": {
    "ExecuteTime": {
     "end_time": "2016-07-06T19:31:46.355745",
     "start_time": "2016-07-06T19:31:44.923601"
    },
    "collapsed": false
   },
   "outputs": [],
   "source": [
    "lbls = ['0-10','10-20','20-30','30-40','40-50','50-60','60-70''70-80''90-100']\n",
    "\n",
    "f = (aux['volume'] < 600)\n",
    "aux = aux.ix[f]\n",
    "aux['volume_bin'] = pd.cut(aux.volume.astype('float').values, 6, labels=lbls[0:6])    \n"
   ]
  },
  {
   "cell_type": "code",
   "execution_count": 62,
   "metadata": {
    "ExecuteTime": {
     "end_time": "2016-07-06T19:31:36.414960",
     "start_time": "2016-07-06T19:31:34.935495"
    },
    "collapsed": false
   },
   "outputs": [],
   "source": [
    "aux = df_week[['Producto_ID']].merge(df_producto, how='left', on='Producto_ID')"
   ]
  },
  {
   "cell_type": "code",
   "execution_count": null,
   "metadata": {
    "ExecuteTime": {
     "end_time": "2016-07-06T19:20:35.068740",
     "start_time": "2016-07-06T19:20:34.158542"
    },
    "collapsed": false
   },
   "outputs": [],
   "source": []
  },
  {
   "cell_type": "code",
   "execution_count": 54,
   "metadata": {
    "ExecuteTime": {
     "end_time": "2016-07-06T19:25:31.917350",
     "start_time": "2016-07-06T19:25:30.676829"
    },
    "collapsed": false
   },
   "outputs": [],
   "source": [
    "aux['volume_bin'] = pd.cut(aux.volume.astype('float').values, 6, labels=['0-10','10-20','20-30','30-40','40-50','50-60'])"
   ]
  },
  {
   "cell_type": "code",
   "execution_count": 67,
   "metadata": {
    "ExecuteTime": {
     "end_time": "2016-07-06T19:31:52.172396",
     "start_time": "2016-07-06T19:31:51.896024"
    },
    "collapsed": false
   },
   "outputs": [
    {
     "data": {
      "text/plain": [
       "<matplotlib.axes._subplots.AxesSubplot at 0x7f0de6e52cc0>"
      ]
     },
     "execution_count": 67,
     "metadata": {},
     "output_type": "execute_result"
    },
    {
     "data": {
      "image/png": "[encoded data removed]",
      "text/plain": [
       "<matplotlib.figure.Figure at 0x7f0da0f04400>"
      ]
     },
     "metadata": {},
     "output_type": "display_data"
    }
   ],
   "source": [
    "aux.groupby('volume_bin').size().hist()"
   ]
  },
  {
   "cell_type": "code",
   "execution_count": null,
   "metadata": {
    "collapsed": true
   },
   "outputs": [],
   "source": []
  },
  {
   "cell_type": "code",
   "execution_count": null,
   "metadata": {
    "ExecuteTime": {
     "end_time": "2016-07-06T19:09:43.147911",
     "start_time": "2016-07-06T19:09:43.132071"
    },
    "collapsed": false
   },
   "outputs": [],
   "source": [
    "aux"
   ]
  },
  {
   "cell_type": "code",
   "execution_count": 31,
   "metadata": {
    "ExecuteTime": {
     "end_time": "2016-07-06T19:14:27.723228",
     "start_time": "2016-07-06T19:14:21.252007"
    },
    "collapsed": false
   },
   "outputs": [],
   "source": [
    "aux = binarize(aux, 'Venta_hoy', 100, 10)"
   ]
  },
  {
   "cell_type": "code",
   "execution_count": 35,
   "metadata": {
    "ExecuteTime": {
     "end_time": "2016-07-06T19:15:02.231688",
     "start_time": "2016-07-06T19:15:01.654375"
    },
    "collapsed": false
   },
   "outputs": [
    {
     "data": {
      "text/plain": [
       "Venta_hoy_bin\n",
       "-100000     612963\n",
       "0-10          7706\n",
       "10-20      2299600\n",
       "20-30      2450032\n",
       "30-40      3408840\n",
       "40-50      1394255\n",
       "50-60       750108\n",
       "60-70        40577\n",
       "70-80       177904\n",
       "80-90        23221\n",
       "dtype: int64"
      ]
     },
     "execution_count": 35,
     "metadata": {},
     "output_type": "execute_result"
    }
   ],
   "source": []
  },
  {
   "cell_type": "code",
   "execution_count": 40,
   "metadata": {
    "ExecuteTime": {
     "end_time": "2016-07-06T19:16:22.653446",
     "start_time": "2016-07-06T19:16:21.780906"
    },
    "collapsed": false
   },
   "outputs": [
    {
     "data": {
      "text/plain": [
       "<matplotlib.axes._subplots.AxesSubplot at 0x7f0da0efda20>"
      ]
     },
     "execution_count": 40,
     "metadata": {},
     "output_type": "execute_result"
    },
    {
     "data": {
      "image/png": "[encoded data removed]",
      "text/plain": [
       "<matplotlib.figure.Figure at 0x7f0da0f153c8>"
      ]
     },
     "metadata": {},
     "output_type": "display_data"
    }
   ],
   "source": [
    "aux['count']=1\n",
    "aux['Venta_hoy_bin'].value_counts().hist()"
   ]
  },
  {
   "cell_type": "code",
   "execution_count": null,
   "metadata": {
    "collapsed": true
   },
   "outputs": [],
   "source": []
  },
  {
   "cell_type": "code",
   "execution_count": null,
   "metadata": {
    "collapsed": true
   },
   "outputs": [],
   "source": []
  },
  {
   "cell_type": "code",
   "execution_count": null,
   "metadata": {
    "ExecuteTime": {
     "end_time": "2016-07-06T19:01:13.956147",
     "start_time": "2016-07-06T19:01:13.951267"
    },
    "collapsed": true
   },
   "outputs": [],
   "source": [
    "from sklearn.ensemble import RandomForestRegressor, ExtraTreesRegressor, GradientBoostingRegressor\n",
    "from sklearn.cross_validation import StratifiedKFold, cross_val_score, train_test_split\n",
    "from sklearn.metrics import mean_squared_error"
   ]
  },
  {
   "cell_type": "code",
   "execution_count": null,
   "metadata": {
    "ExecuteTime": {
     "end_time": "2016-07-06T19:01:14.154195",
     "start_time": "2016-07-06T19:01:14.145315"
    },
    "collapsed": false
   },
   "outputs": [],
   "source": [
    "# rf = ExtraTreesRegressor(n_estimators=50, max_features=1.0,min_samples_split=3,n_jobs=4)\n",
    "\n",
    "rf = ExtraTreesRegressor(n_jobs=4)\n",
    "\n",
    "def train(x, y):\n",
    "    x_train, x_test, y_train, y_test = train_test_split(x, y, test_size=0.05, random_state=1729)\n",
    "    rf.fit(x_train, y_train)\n",
    "    y_pred = rf.predict(x_test)\n",
    "    print(mean_squared_error(y_test, y_pred))\n",
    "        "
   ]
  },
  {
   "cell_type": "code",
   "execution_count": null,
   "metadata": {
    "ExecuteTime": {
     "end_time": "2016-07-06T19:01:15.671532",
     "start_time": "2016-07-06T19:01:15.668220"
    },
    "collapsed": false
   },
   "outputs": [],
   "source": [
    "# print(mean_squared_error(y[train], y_pred))"
   ]
  },
  {
   "cell_type": "code",
   "execution_count": null,
   "metadata": {
    "ExecuteTime": {
     "end_time": "2016-07-06T19:01:15.859951",
     "start_time": "2016-07-06T19:01:15.856919"
    },
    "collapsed": false
   },
   "outputs": [],
   "source": [
    "# df_producto[df_producto.Producto_ID == 1216]"
   ]
  },
  {
   "cell_type": "code",
   "execution_count": null,
   "metadata": {
    "ExecuteTime": {
     "end_time": "2016-07-06T19:01:16.018527",
     "start_time": "2016-07-06T19:01:16.015077"
    },
    "collapsed": false
   },
   "outputs": [],
   "source": [
    "# df.merge(df_producto, how='left',on='Producto_ID')"
   ]
  },
  {
   "cell_type": "code",
   "execution_count": null,
   "metadata": {
    "ExecuteTime": {
     "end_time": "2016-07-06T19:01:16.180088",
     "start_time": "2016-07-06T19:01:16.177012"
    },
    "collapsed": false
   },
   "outputs": [],
   "source": [
    "# df_process"
   ]
  },
  {
   "cell_type": "code",
   "execution_count": null,
   "metadata": {
    "ExecuteTime": {
     "end_time": "2016-07-06T18:55:16.807742",
     "start_time": "2016-07-06T18:55:16.787060"
    },
    "collapsed": false
   },
   "outputs": [],
   "source": []
  },
  {
   "cell_type": "code",
   "execution_count": null,
   "metadata": {
    "ExecuteTime": {
     "end_time": "2016-07-06T18:48:35.099645",
     "start_time": "2016-07-06T18:48:33.660300"
    },
    "collapsed": false
   },
   "outputs": [],
   "source": []
  },
  {
   "cell_type": "code",
   "execution_count": null,
   "metadata": {
    "ExecuteTime": {
     "end_time": "2016-07-06T18:49:41.676162",
     "start_time": "2016-07-06T18:49:41.283212"
    },
    "collapsed": false
   },
   "outputs": [],
   "source": []
  },
  {
   "cell_type": "code",
   "execution_count": null,
   "metadata": {
    "ExecuteTime": {
     "end_time": "2016-07-06T18:45:18.600578",
     "start_time": "2016-07-06T18:45:18.014750"
    },
    "collapsed": false
   },
   "outputs": [],
   "source": []
  },
  {
   "cell_type": "code",
   "execution_count": null,
   "metadata": {
    "ExecuteTime": {
     "end_time": "2016-07-06T18:45:22.369047",
     "start_time": "2016-07-06T18:45:21.954793"
    },
    "collapsed": false
   },
   "outputs": [],
   "source": []
  },
  {
   "cell_type": "code",
   "execution_count": null,
   "metadata": {
    "ExecuteTime": {
     "end_time": "2016-07-06T19:01:03.172619",
     "start_time": "2016-07-06T19:01:02.787647"
    },
    "collapsed": false
   },
   "outputs": [],
   "source": []
  },
  {
   "cell_type": "code",
   "execution_count": null,
   "metadata": {
    "ExecuteTime": {
     "end_time": "2016-07-06T18:46:25.132717",
     "start_time": "2016-07-06T18:46:24.368221"
    },
    "collapsed": false
   },
   "outputs": [],
   "source": []
  },
  {
   "cell_type": "code",
   "execution_count": null,
   "metadata": {
    "ExecuteTime": {
     "end_time": "2016-07-06T19:01:18.524370",
     "start_time": "2016-07-06T19:01:18.479975"
    },
    "collapsed": false
   },
   "outputs": [],
   "source": [
    "# df_process[cols]"
   ]
  },
  {
   "cell_type": "code",
   "execution_count": null,
   "metadata": {
    "ExecuteTime": {
     "end_time": "2016-07-06T19:02:01.287723",
     "start_time": "2016-07-06T19:01:18.675949"
    },
    "collapsed": false
   },
   "outputs": [],
   "source": [
    "for df in pd.read_csv('input/train_week3.csv', chunksize=1e6):\n",
    "    x,y,df_process = process_df(df)\n",
    "    train(x,y)"
   ]
  },
  {
   "cell_type": "code",
   "execution_count": null,
   "metadata": {
    "ExecuteTime": {
     "end_time": "2016-07-06T19:02:01.288642",
     "start_time": "2016-07-06T22:01:19.607Z"
    },
    "collapsed": false
   },
   "outputs": [],
   "source": [
    "12.33"
   ]
  },
  {
   "cell_type": "code",
   "execution_count": null,
   "metadata": {
    "ExecuteTime": {
     "end_time": "2016-07-05T17:23:52.857057",
     "start_time": "2016-07-05T20:23:39.510Z"
    },
    "collapsed": false
   },
   "outputs": [],
   "source": [
    "# df_process['short_names_processed']"
   ]
  },
  {
   "cell_type": "code",
   "execution_count": null,
   "metadata": {
    "ExecuteTime": {
     "end_time": "2016-07-05T17:22:12.424024",
     "start_time": "2016-07-05T17:22:12.341279"
    },
    "collapsed": false
   },
   "outputs": [],
   "source": [
    "# pd.get_dummies(df_process[0:100][cols])"
   ]
  },
  {
   "cell_type": "code",
   "execution_count": null,
   "metadata": {
    "ExecuteTime": {
     "end_time": "2016-06-22T16:38:30.797372",
     "start_time": "2016-06-22T16:38:09.601566"
    },
    "collapsed": false
   },
   "outputs": [],
   "source": [
    "a = pd.get_dummies(df_process[cols])"
   ]
  },
  {
   "cell_type": "code",
   "execution_count": null,
   "metadata": {
    "ExecuteTime": {
     "end_time": "2016-06-22T16:40:21.354026",
     "start_time": "2016-06-22T16:40:20.844888"
    },
    "collapsed": false
   },
   "outputs": [],
   "source": [
    "rf.feature_importances_.shape"
   ]
  },
  {
   "cell_type": "code",
   "execution_count": null,
   "metadata": {
    "ExecuteTime": {
     "end_time": "2016-06-22T16:38:32.733971",
     "start_time": "2016-06-22T19:38:14.374Z"
    },
    "collapsed": false
   },
   "outputs": [],
   "source": [
    "a.columns"
   ]
  },
  {
   "cell_type": "code",
   "execution_count": null,
   "metadata": {
    "ExecuteTime": {
     "end_time": "2016-06-22T16:38:52.033139",
     "start_time": "2016-06-22T16:38:51.523826"
    },
    "collapsed": false
   },
   "outputs": [],
   "source": []
  },
  {
   "cell_type": "code",
   "execution_count": null,
   "metadata": {
    "ExecuteTime": {
     "end_time": "2016-06-22T16:38:55.304753",
     "start_time": "2016-06-22T16:38:54.488452"
    },
    "collapsed": false
   },
   "outputs": [],
   "source": [
    "plt.bar(range(0,18), height=rf.feature_importances_)"
   ]
  },
  {
   "cell_type": "code",
   "execution_count": null,
   "metadata": {
    "ExecuteTime": {
     "end_time": "2016-06-22T16:48:28.775598",
     "start_time": "2016-06-22T16:48:28.604559"
    },
    "collapsed": false
   },
   "outputs": [],
   "source": [
    "f = plt.subplots()\n",
    "i = 444\n",
    "for v in x.T:\n",
    "    i+=1\n",
    "    f.hist(v)"
   ]
  },
  {
   "cell_type": "code",
   "execution_count": null,
   "metadata": {
    "ExecuteTime": {
     "end_time": "2016-06-22T16:41:11.071953",
     "start_time": "2016-06-22T16:41:10.845778"
    },
    "collapsed": false
   },
   "outputs": [],
   "source": []
  },
  {
   "cell_type": "code",
   "execution_count": null,
   "metadata": {
    "ExecuteTime": {
     "end_time": "2016-06-22T16:35:46.831672",
     "start_time": "2016-06-22T19:28:21.110Z"
    },
    "collapsed": false
   },
   "outputs": [],
   "source": [
    "df.columns"
   ]
  },
  {
   "cell_type": "code",
   "execution_count": null,
   "metadata": {
    "ExecuteTime": {
     "end_time": "2016-06-22T15:03:32.549718",
     "start_time": "2016-06-22T15:03:32.543490"
    },
    "collapsed": true
   },
   "outputs": [],
   "source": []
  },
  {
   "cell_type": "code",
   "execution_count": null,
   "metadata": {
    "ExecuteTime": {
     "end_time": "2016-06-22T16:35:46.831936",
     "start_time": "2016-06-22T19:28:21.113Z"
    },
    "collapsed": false
   },
   "outputs": [],
   "source": [
    "count_entregas(df, 'Agencia_ID')"
   ]
  },
  {
   "cell_type": "code",
   "execution_count": null,
   "metadata": {
    "collapsed": true
   },
   "outputs": [],
   "source": []
  }
 ],
 "metadata": {
  "kernelspec": {
   "display_name": "Python 3",
   "language": "python",
   "name": "python3"
  },
  "language_info": {
   "codemirror_mode": {
    "name": "ipython",
    "version": 3
   },
   "file_extension": ".py",
   "mimetype": "text/x-python",
   "name": "python",
   "nbconvert_exporter": "python",
   "pygments_lexer": "ipython3",
   "version": "3.4.3"
  }
 },
 "nbformat": 4,
 "nbformat_minor": 0
}
