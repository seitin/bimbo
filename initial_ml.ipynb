{
 "cells": [
  {
   "cell_type": "code",
   "execution_count": 1,
   "metadata": {
    "ExecuteTime": {
     "end_time": "2016-07-11T17:22:50.179547",
     "start_time": "2016-07-11T17:22:49.423363"
    },
    "collapsed": false
   },
   "outputs": [],
   "source": [
    "import pandas as pd\n",
    "import numpy as np\n",
    "import matplotlib.pyplot as plt\n",
    "%matplotlib inline"
   ]
  },
  {
   "cell_type": "code",
   "execution_count": 2,
   "metadata": {
    "ExecuteTime": {
     "end_time": "2016-07-11T17:22:50.263822",
     "start_time": "2016-07-11T17:22:50.180518"
    },
    "collapsed": false
   },
   "outputs": [],
   "source": [
    "def trata_producto_names(df_producto):\n",
    "    from nltk.stem.snowball import SnowballStemmer\n",
    "\n",
    "    df_producto['short_names'] = df_producto.NombreProducto.str.extract('^(\\D*)')\n",
    "    df_producto['short_names_processed'] = df_producto['short_names'].map(lambda x: \" \".join([i for i in x.lower().split() if i not in stopwords.words('spanish')]))\n",
    "\n",
    "    stemmer = SnowballStemmer(\"spanish\")\n",
    "\n",
    "    df_producto['short_names_processed'] = (df_producto['short_names_processed']\n",
    "                                            .map(lambda x: \" \".join([stemmer.stem(i) for i in x.lower().split()])))\n",
    "    df_aux_producto = df_producto['short_names_processed'].value_counts()[df_producto['short_names_processed'].value_counts() > 10].reset_index()\n",
    "\n",
    "    df_producto['flavor_choc'] = df_producto.short_names_processed.str.contains('choc') * 1\n",
    "    df_producto['flavor_vainill'] = df_producto.short_names_processed.str.contains('vainill') * 1\n",
    "    df_producto['flavor_canel'] = df_producto.short_names_processed.str.contains('canel') * 1\n",
    "\n",
    "    df_producto['NombreProducto'] = df_producto['NombreProducto'].str.upper()\n",
    "    df_producto['NombreProducto'] = df_producto.apply(lambda x :x['NombreProducto'].replace(str(x['Producto_ID']),'').strip(), axis=1 )\n",
    "    df_producto = pd.DataFrame(df_producto.loc[1:])\n",
    "    df_producto['fabricante'] = df_producto.NombreProducto.str.split(' ').str[-1]\n",
    "    df_producto.ix[df_producto.fabricante == '1KG','fabricante'] = ''\n",
    "    df_producto['NombreProducto'] = df_producto.apply(lambda x :x['NombreProducto'].replace(x['fabricante'],'').strip(), axis=1 )\n",
    "\n",
    "    reg = '(\\d{1,4}G|\\d{1,4}KG|\\d{1,4}ML|\\d{1,4}\\ ML)'\n",
    "    df_producto['volume'] = df_producto.NombreProducto.str.extract(reg)\n",
    "\n",
    "    df_producto['NombreProducto'] = df_producto.apply(lambda x :x['NombreProducto'].replace(str(x['volume']),'').replace('  ',' ').strip(), axis=1 )\n",
    "\n",
    "    reg = '(\\d{1,5}P)'\n",
    "    df_producto['unidade'] = df_producto.NombreProducto.str.extract(reg)\n",
    "    df_producto['NombreProducto'] = df_producto.NombreProducto.str.replace(reg, '').str.replace('  ',' ').str.strip()\n",
    "\n",
    "    aux = pd.DataFrame({'Producto_ID':[0],'NombreProducto':['NO IDENTIFICADO']})\n",
    "    df_producto = df_producto.append(aux)\n",
    "\n",
    "    df_producto['unidade'] = df_producto.volume.str.extract('([A-Z])')\n",
    "    df_producto['volume'] = df_producto.volume.str.replace('([A-Z])','')\n",
    "    df_producto['product_name_length'] = df_producto.NombreProducto.str.split(' ').str.len()\n",
    "    return df_producto"
   ]
  },
  {
   "cell_type": "code",
   "execution_count": 3,
   "metadata": {
    "ExecuteTime": {
     "end_time": "2016-07-11T17:22:50.279452",
     "start_time": "2016-07-11T17:22:50.264818"
    },
    "collapsed": true
   },
   "outputs": [],
   "source": [
    "def count_cliente_by_route():\n",
    "    l = []\n",
    "    for i in range(3,10):\n",
    "        df_week = pd.read_csv('input/train_week%s.csv' % i, usecols=['Cliente_ID','Ruta_SAK'])\n",
    "        count_cliente = df_week.merge(df_cliente, on='Cliente_ID', how='left')\n",
    "        count_cliente.ix[(count_cliente.NombreCliente != 'SIN NOMBRE'), 'NombreCliente'] = 'NO IDENTIFICADO'\n",
    "        count_cliente = df_week.merge(df_cliente, on='Cliente_ID', how='left')\n",
    "        count_cliente.ix[(count_cliente.NombreCliente != 'SIN NOMBRE'), 'NombreCliente'] = 'NO IDENTIFICADO'\n",
    "        count_cliente = count_cliente[['Ruta_SAK','NombreCliente']].groupby(['Ruta_SAK']).count().reset_index()\n",
    "        l.append(count_cliente)\n",
    "    result = pd.concat(l)\n",
    "    result = result.groupby('Ruta_SAK').mean().reset_index()\n",
    "    result.columns = ['Ruta_SAK','count_clientes']\n",
    "    return result"
   ]
  },
  {
   "cell_type": "code",
   "execution_count": 4,
   "metadata": {
    "ExecuteTime": {
     "end_time": "2016-07-11T17:22:50.287802",
     "start_time": "2016-07-11T17:22:50.280598"
    },
    "collapsed": false
   },
   "outputs": [],
   "source": [
    "def process_venta_producto():\n",
    "    l = []\n",
    "    print('week: ')\n",
    "    for week in range(3,10):\n",
    "        print(week, end='\\r')\n",
    "        df_week = pd.read_csv('input/train_week%s.csv' % week, usecols=['Producto_ID','Venta_hoy'])\n",
    "        prod_venta = df_week[['Producto_ID','Venta_hoy']].groupby('Producto_ID').median().reset_index()\n",
    "        l.append(prod_venta)\n",
    "    df_venta = pd.concat(l)\n",
    "    df_venta = df_venta.groupby('Producto_ID').median().reset_index()\n",
    "    df_venta['Venta_hoy_log10'] = np.round(np.log10(df_venta['Venta_hoy'].values + 1))\n",
    "    return df_venta"
   ]
  },
  {
   "cell_type": "code",
   "execution_count": 5,
   "metadata": {
    "ExecuteTime": {
     "end_time": "2016-07-11T17:22:50.296740",
     "start_time": "2016-07-11T17:22:50.288980"
    },
    "collapsed": true
   },
   "outputs": [],
   "source": [
    "def process_venta_agencia(df_townstate):\n",
    "    l = []\n",
    "    print('week: ')\n",
    "    for week in range(3,10):\n",
    "        print(week, end='\\r')\n",
    "        df_week = pd.read_csv('input/train_week%s.csv' % week, usecols=['Agencia_ID','Venta_hoy'])\n",
    "        aux = df_week.merge(df_townstate, how='left', on='Agencia_ID')\n",
    "        prod_venta = aux.groupby('State').median().reset_index()\n",
    "        l.append(prod_venta)\n",
    "    df_venta = pd.concat(l)\n",
    "    df_venta = df_venta[['Agencia_ID','Venta_hoy','State']].groupby('State').median().reset_index()\n",
    "    df_venta['Venta_hoy_log10'] = np.round(np.log(df_venta['Venta_hoy'].values+1))\n",
    "    return df_venta"
   ]
  },
  {
   "cell_type": "code",
   "execution_count": 6,
   "metadata": {
    "ExecuteTime": {
     "end_time": "2016-07-11T17:22:50.306102",
     "start_time": "2016-07-11T17:22:50.297736"
    },
    "collapsed": true
   },
   "outputs": [],
   "source": [
    "def process_producto():\n",
    "    df_producto = pd.read_csv('input/producto_tabla.csv.gz', compression='gzip')\n",
    "    df_producto = trata_producto_names(df_producto)\n",
    "    return df_producto"
   ]
  },
  {
   "cell_type": "code",
   "execution_count": 7,
   "metadata": {
    "ExecuteTime": {
     "end_time": "2016-07-11T17:22:50.320447",
     "start_time": "2016-07-11T17:22:50.307159"
    },
    "collapsed": false
   },
   "outputs": [],
   "source": [
    "def process_df(df, test=False):\n",
    "    \n",
    "    if not test:\n",
    "#         df = df.drop(['Venta_uni_hoy','Venta_hoy','Dev_uni_proxima'], axis=1)\n",
    "        df = df.ix[df.Demanda_uni_equil<20]   \n",
    "    \n",
    "    df = df.merge(df_media_unidades, on=['Cliente_ID','Producto_ID'], how='left')\n",
    "    df = df.merge(df_media_clientes_depot, on='Agencia_ID', how='left')\n",
    "    df = df.merge(df_popularidade_produto, on='Producto_ID', how='left')\n",
    "    df = df.merge(df_produto_preco_medio, on='Producto_ID', how='left')\n",
    "    df = df.merge(df_clientes_ruta, on='Ruta_SAK', how='left')\n",
    "        \n",
    "    df = df.merge(df_producto[['flavor_choc', 'flavor_vainill', 'flavor_canel','volume', 'fabricante','Producto_ID', 'product_name_length']], how='left',on='Producto_ID')\n",
    "    df = df.merge(df_townstate[['Agencia_ID','ag','bimbo']], on='Agencia_ID', how='left')\n",
    "    \n",
    "    df.volume = df.volume.fillna(-9999).astype('int')\n",
    "\n",
    "    df.ix[df.volume>500,'volume'] = 9999\n",
    "        \n",
    "    \n",
    "    df['Canal_ID'] = df['Canal_ID'].astype('str')\n",
    "        \n",
    "    return df"
   ]
  },
  {
   "cell_type": "code",
   "execution_count": 8,
   "metadata": {
    "ExecuteTime": {
     "end_time": "2016-07-11T17:22:50.326911",
     "start_time": "2016-07-11T17:22:50.321490"
    },
    "collapsed": true
   },
   "outputs": [],
   "source": [
    "def compras_cliente_mean():\n",
    "    l = []\n",
    "    for i in range(3,10):\n",
    "        df = pd.read_csv('input/train_week%i.csv' % (i), usecols=['Cliente_ID','Producto_ID','Venta_uni_hoy'])\n",
    "        l.append(df.groupby(['Cliente_ID','Producto_ID']).mean().reset_index())\n",
    "    df = pd.concat(l)\n",
    "    df = df.groupby(['Cliente_ID','Producto_ID']).mean().reset_index()\n",
    "    df.columns = ['Cliente_ID','Producto_ID','media_de_unidades']\n",
    "    return df"
   ]
  },
  {
   "cell_type": "code",
   "execution_count": 9,
   "metadata": {
    "ExecuteTime": {
     "end_time": "2016-07-11T17:22:50.333517",
     "start_time": "2016-07-11T17:22:50.328130"
    },
    "collapsed": true
   },
   "outputs": [],
   "source": [
    "def mean_clientes_depot():\n",
    "    l = []\n",
    "    for i in range(3,10):\n",
    "        df = pd.read_csv('input/train_week%i.csv' % (i), usecols=['Agencia_ID','Cliente_ID'])\n",
    "        l.append(df.groupby(['Agencia_ID']).count().reset_index())\n",
    "    df = pd.concat(l)\n",
    "    df = df.groupby(['Agencia_ID']).mean().reset_index()\n",
    "    df.columns = ['Agencia_ID','media_de_clientes_depot']\n",
    "    return df"
   ]
  },
  {
   "cell_type": "code",
   "execution_count": 10,
   "metadata": {
    "ExecuteTime": {
     "end_time": "2016-07-11T17:22:50.339477",
     "start_time": "2016-07-11T17:22:50.334618"
    },
    "collapsed": false
   },
   "outputs": [],
   "source": [
    "def produto_popularidade():\n",
    "    l = []\n",
    "    for i in range(3,10):\n",
    "        df = pd.read_csv('input/train_week%i.csv' % (i), usecols=['Producto_ID','Venta_uni_hoy'])\n",
    "        l.append(df.groupby(['Producto_ID']).count().reset_index())\n",
    "    df = pd.concat(l)\n",
    "    df = df.groupby(['Producto_ID']).mean().reset_index()\n",
    "    df.columns = ['Producto_ID','produto_popularidade']\n",
    "    return df"
   ]
  },
  {
   "cell_type": "code",
   "execution_count": 11,
   "metadata": {
    "ExecuteTime": {
     "end_time": "2016-07-11T17:22:50.346970",
     "start_time": "2016-07-11T17:22:50.340626"
    },
    "collapsed": true
   },
   "outputs": [],
   "source": [
    "def produto_preco_mean():\n",
    "    l = []\n",
    "    for i in range(3,10):\n",
    "        df = pd.read_csv('input/train_week%i.csv' % (i), usecols=['Producto_ID','Venta_uni_hoy','Venta_hoy'])\n",
    "        df['preco_medio'] = df['Venta_hoy'] / df['Venta_uni_hoy']\n",
    "        l.append(df.groupby(['Producto_ID']).mean().reset_index())\n",
    "    df = pd.concat(l)\n",
    "    df = df.groupby(['Producto_ID']).mean().reset_index()\n",
    "    df[['Producto_ID','preco_medio']].columns = ['Producto_ID','preco_medio']\n",
    "    return df[['Producto_ID','preco_medio']]"
   ]
  },
  {
   "cell_type": "code",
   "execution_count": 12,
   "metadata": {
    "ExecuteTime": {
     "end_time": "2016-07-11T17:22:50.354159",
     "start_time": "2016-07-11T17:22:50.348433"
    },
    "collapsed": true
   },
   "outputs": [],
   "source": [
    "def count_clientes_ruta():\n",
    "    l = []\n",
    "    for i in range(3,10):\n",
    "        df = pd.read_csv('input/train_week%i.csv' % (i), usecols=['Ruta_SAK','Cliente_ID'])\n",
    "        df = df.ix[~df.duplicated()]\n",
    "        l.append(df.groupby(['Ruta_SAK']).count().reset_index())\n",
    "    df = pd.concat(l)\n",
    "    df = df.groupby(['Ruta_SAK']).mean().reset_index()\n",
    "    df.columns = ['Ruta_SAK','clientes_por_rota']\n",
    "    return df"
   ]
  },
  {
   "cell_type": "code",
   "execution_count": 13,
   "metadata": {
    "ExecuteTime": {
     "end_time": "2016-07-11T17:26:18.475975",
     "start_time": "2016-07-11T17:22:50.355435"
    },
    "collapsed": false
   },
   "outputs": [],
   "source": [
    "df_media_unidades = compras_cliente_mean()\n",
    "df_media_clientes_depot = mean_clientes_depot()\n",
    "df_popularidade_produto = produto_popularidade()\n",
    "df_produto_preco_medio = produto_preco_mean()\n",
    "df_clientes_ruta = count_clientes_ruta()"
   ]
  },
  {
   "cell_type": "code",
   "execution_count": 14,
   "metadata": {
    "ExecuteTime": {
     "end_time": "2016-07-11T17:26:18.511010",
     "start_time": "2016-07-11T17:26:18.477113"
    },
    "collapsed": false
   },
   "outputs": [],
   "source": [
    "df_produto_preco_medio.preco_medio = df_produto_preco_medio.preco_medio.fillna(-9999)"
   ]
  },
  {
   "cell_type": "code",
   "execution_count": null,
   "metadata": {
    "ExecuteTime": {
     "end_time": "2016-07-11T16:18:59.641290",
     "start_time": "2016-07-11T16:18:34.543827"
    },
    "collapsed": true
   },
   "outputs": [],
   "source": []
  },
  {
   "cell_type": "code",
   "execution_count": 15,
   "metadata": {
    "ExecuteTime": {
     "end_time": "2016-07-11T17:26:18.524085",
     "start_time": "2016-07-11T17:26:18.512062"
    },
    "collapsed": false
   },
   "outputs": [
    {
     "data": {
      "text/plain": [
       "Index(['Ruta_SAK', 'clientes_por_rota'], dtype='object')"
      ]
     },
     "execution_count": 15,
     "metadata": {},
     "output_type": "execute_result"
    }
   ],
   "source": [
    "df_clientes_ruta.columns"
   ]
  },
  {
   "cell_type": "code",
   "execution_count": null,
   "metadata": {
    "ExecuteTime": {
     "end_time": "2016-07-11T16:13:29.214460",
     "start_time": "2016-07-11T16:13:29.172131"
    },
    "collapsed": false
   },
   "outputs": [],
   "source": []
  },
  {
   "cell_type": "code",
   "execution_count": null,
   "metadata": {
    "collapsed": true
   },
   "outputs": [],
   "source": []
  },
  {
   "cell_type": "code",
   "execution_count": null,
   "metadata": {
    "collapsed": true
   },
   "outputs": [],
   "source": []
  },
  {
   "cell_type": "code",
   "execution_count": 16,
   "metadata": {
    "ExecuteTime": {
     "end_time": "2016-07-11T17:26:19.359849",
     "start_time": "2016-07-11T17:26:18.524988"
    },
    "collapsed": true
   },
   "outputs": [],
   "source": [
    "from nltk.corpus import stopwords"
   ]
  },
  {
   "cell_type": "code",
   "execution_count": 17,
   "metadata": {
    "ExecuteTime": {
     "end_time": "2016-07-11T17:26:19.372678",
     "start_time": "2016-07-11T17:26:19.360885"
    },
    "collapsed": false
   },
   "outputs": [],
   "source": [
    "stop_words = stopwords.words('spanish')"
   ]
  },
  {
   "cell_type": "code",
   "execution_count": 18,
   "metadata": {
    "ExecuteTime": {
     "end_time": "2016-07-11T17:26:19.386599",
     "start_time": "2016-07-11T17:26:19.373644"
    },
    "collapsed": false
   },
   "outputs": [],
   "source": [
    "df_townstate = pd.read_csv('input/town_state.csv.gz', compression='gzip')\n",
    "df_townstate['bimbo'] = df_townstate.Town.str.contains('BIMBO') * 1\n",
    "df_townstate['ag'] = df_townstate.Town.str.contains('AG.') * 1"
   ]
  },
  {
   "cell_type": "code",
   "execution_count": 19,
   "metadata": {
    "ExecuteTime": {
     "end_time": "2016-07-11T17:26:19.389428",
     "start_time": "2016-07-11T17:26:19.387570"
    },
    "collapsed": true
   },
   "outputs": [],
   "source": [
    "pd.options.display.max_rows = 30"
   ]
  },
  {
   "cell_type": "code",
   "execution_count": 20,
   "metadata": {
    "ExecuteTime": {
     "end_time": "2016-07-11T17:26:20.630635",
     "start_time": "2016-07-11T17:26:19.390676"
    },
    "collapsed": false
   },
   "outputs": [],
   "source": [
    "df_producto = process_producto()"
   ]
  },
  {
   "cell_type": "code",
   "execution_count": 21,
   "metadata": {
    "ExecuteTime": {
     "end_time": "2016-07-11T17:26:20.633179",
     "start_time": "2016-07-11T17:26:20.631623"
    },
    "collapsed": false
   },
   "outputs": [],
   "source": [
    "# df_process['fabricante'].value_counts()"
   ]
  },
  {
   "cell_type": "code",
   "execution_count": 35,
   "metadata": {
    "ExecuteTime": {
     "end_time": "2016-07-11T18:07:35.684382",
     "start_time": "2016-07-11T18:07:35.676238"
    },
    "collapsed": false
   },
   "outputs": [],
   "source": [
    "cols = [\n",
    "    'media_de_clientes_depot',\n",
    "    'media_de_unidades',\n",
    "    'produto_popularidade',\n",
    "    'preco_medio',\n",
    "    'clientes_por_rota',\n",
    "    'volume',\n",
    "    'Canal_ID',\n",
    "#     'fabricante',\n",
    "    'ag',\n",
    "    'bimbo',\n",
    "    'product_name_length',\n",
    "    'flavor_choc',\n",
    "    'flavor_vainill',\n",
    "    'flavor_canel',\n",
    "]"
   ]
  },
  {
   "cell_type": "code",
   "execution_count": 23,
   "metadata": {
    "ExecuteTime": {
     "end_time": "2016-07-11T17:26:20.642790",
     "start_time": "2016-07-11T17:26:20.639563"
    },
    "collapsed": false
   },
   "outputs": [],
   "source": [
    "# aux.Agencia_ID.dtype "
   ]
  },
  {
   "cell_type": "code",
   "execution_count": 24,
   "metadata": {
    "ExecuteTime": {
     "end_time": "2016-07-11T17:26:20.645537",
     "start_time": "2016-07-11T17:26:20.643913"
    },
    "collapsed": false
   },
   "outputs": [],
   "source": [
    "# enc._n_values"
   ]
  },
  {
   "cell_type": "markdown",
   "metadata": {},
   "source": [
    "# fiitting model"
   ]
  },
  {
   "cell_type": "code",
   "execution_count": 36,
   "metadata": {
    "ExecuteTime": {
     "end_time": "2016-07-11T18:07:37.913124",
     "start_time": "2016-07-11T18:07:37.907008"
    },
    "collapsed": true
   },
   "outputs": [],
   "source": [
    "from sklearn.ensemble import RandomForestRegressor, ExtraTreesRegressor, GradientBoostingRegressor\n",
    "from sklearn.linear_model import LinearRegression, LogisticRegression\n",
    "from sklearn.cross_validation import StratifiedKFold, cross_val_score, train_test_split, KFold\n",
    "from sklearn.metrics import mean_squared_error\n",
    "from sklearn.preprocessing import OneHotEncoder"
   ]
  },
  {
   "cell_type": "code",
   "execution_count": 37,
   "metadata": {
    "ExecuteTime": {
     "end_time": "2016-07-11T18:07:38.090604",
     "start_time": "2016-07-11T18:07:38.082489"
    },
    "collapsed": false
   },
   "outputs": [],
   "source": [
    "# rf = ExtraTreesRegressor(n_estimators=50, max_features=1.0,min_samples_split=3,n_jobs=4)\n",
    "\n",
    "\n",
    "\n",
    "def train(x, y):\n",
    "    kf = StratifiedKFold(y, random_state=401)\n",
    "    for (train, test) in kf:\n",
    "        rf.fit(x[train], y[train])\n",
    "        y_pred = rf.predict(x[test])\n",
    "        print(mean_squared_error(y[test], y_pred))\n",
    "        "
   ]
  },
  {
   "cell_type": "code",
   "execution_count": 38,
   "metadata": {
    "ExecuteTime": {
     "end_time": "2016-07-11T18:07:38.246537",
     "start_time": "2016-07-11T18:07:38.243281"
    },
    "collapsed": false
   },
   "outputs": [],
   "source": [
    "# df.columns"
   ]
  },
  {
   "cell_type": "code",
   "execution_count": null,
   "metadata": {
    "ExecuteTime": {
     "start_time": "2016-07-11T21:07:45.408Z"
    },
    "collapsed": false
   },
   "outputs": [
    {
     "name": "stdout",
     "output_type": "stream",
     "text": [
      "fitting...\n",
      "4.51651109697"
     ]
    }
   ],
   "source": [
    "rf = RandomForestRegressor(n_jobs=4) #, random_state=401\n",
    "\n",
    "for week in range(3,10):\n",
    "    df_week = pd.read_csv('input/train_week%s.csv' % week, usecols=['Demanda_uni_equil','Cliente_ID','Agencia_ID','Producto_ID','Ruta_SAK','Canal_ID'])\n",
    "    aux = process_df(df_week)\n",
    "    df = aux[cols+['Demanda_uni_equil']].iloc[np.random.permutation(len(aux))]\n",
    "    df = pd.get_dummies(df)\n",
    "\n",
    "    print('fitting...')\n",
    "    print(' ')\n",
    "    # for x in range(10000,df.shape[0]-10000,10000):\n",
    "    df_partial = df\n",
    "    x = df_partial.drop(['Demanda_uni_equil'], axis=1).values\n",
    "    y = df_partial['Demanda_uni_equil'].values\n",
    "    train(x,y)\n",
    "    break"
   ]
  },
  {
   "cell_type": "code",
   "execution_count": 34,
   "metadata": {
    "ExecuteTime": {
     "end_time": "2016-07-11T18:07:13.628068",
     "start_time": "2016-07-11T18:07:13.085600"
    },
    "collapsed": false,
    "scrolled": true
   },
   "outputs": [
    {
     "data": {
      "text/plain": [
       "media_de_clientes_depot    float64\n",
       "media_de_unidades          float64\n",
       "produto_popularidade       float64\n",
       "preco_medio                float64\n",
       "clientes_por_rota          float64\n",
       "volume                       int64\n",
       "Canal_ID                    object\n",
       "fabricante                  object\n",
       "ag                           int64\n",
       "bimbo                        int64\n",
       "product_name_length          int64\n",
       "flavor_choc                float64\n",
       "flavor_vainill             float64\n",
       "flavor_canel               float64\n",
       "dtype: object"
      ]
     },
     "execution_count": 34,
     "metadata": {},
     "output_type": "execute_result"
    }
   ],
   "source": [
    "aux[cols].dtypes"
   ]
  },
  {
   "cell_type": "code",
   "execution_count": null,
   "metadata": {
    "ExecuteTime": {
     "end_time": "2016-07-11T18:07:08.889834",
     "start_time": "2016-07-11T18:07:07.830138"
    },
    "collapsed": false
   },
   "outputs": [],
   "source": []
  },
  {
   "cell_type": "code",
   "execution_count": null,
   "metadata": {
    "collapsed": true
   },
   "outputs": [],
   "source": []
  },
  {
   "cell_type": "code",
   "execution_count": null,
   "metadata": {
    "ExecuteTime": {
     "end_time": "2016-07-11T12:39:14.894061",
     "start_time": "2016-07-11T12:39:14.884519"
    },
    "collapsed": false
   },
   "outputs": [],
   "source": [
    "9.58"
   ]
  },
  {
   "cell_type": "markdown",
   "metadata": {
    "ExecuteTime": {
     "end_time": "2016-07-08T11:07:30.348451",
     "start_time": "2016-07-08T11:07:30.338215"
    }
   },
   "source": [
    "# testing feature importances"
   ]
  },
  {
   "cell_type": "code",
   "execution_count": null,
   "metadata": {
    "ExecuteTime": {
     "end_time": "2016-07-11T12:49:11.010489",
     "start_time": "2016-07-11T12:49:10.964068"
    },
    "collapsed": false
   },
   "outputs": [],
   "source": [
    "df"
   ]
  },
  {
   "cell_type": "code",
   "execution_count": null,
   "metadata": {
    "ExecuteTime": {
     "end_time": "2016-07-11T12:13:14.171302",
     "start_time": "2016-07-11T12:13:14.159981"
    },
    "collapsed": false
   },
   "outputs": [],
   "source": []
  },
  {
   "cell_type": "code",
   "execution_count": null,
   "metadata": {
    "ExecuteTime": {
     "end_time": "2016-07-08T18:54:53.890327",
     "start_time": "2016-07-08T18:54:53.882679"
    },
    "collapsed": false
   },
   "outputs": [],
   "source": []
  },
  {
   "cell_type": "code",
   "execution_count": null,
   "metadata": {
    "collapsed": true
   },
   "outputs": [],
   "source": []
  },
  {
   "cell_type": "code",
   "execution_count": null,
   "metadata": {
    "ExecuteTime": {
     "end_time": "2016-07-06T19:02:01.288642",
     "start_time": "2016-07-06T22:01:19.607Z"
    },
    "collapsed": false
   },
   "outputs": [],
   "source": []
  },
  {
   "cell_type": "code",
   "execution_count": null,
   "metadata": {
    "ExecuteTime": {
     "end_time": "2016-07-08T19:02:38.946534",
     "start_time": "2016-07-08T19:02:38.542568"
    },
    "collapsed": false
   },
   "outputs": [],
   "source": [
    "a = pd.get_dummies(aux[cols])"
   ]
  },
  {
   "cell_type": "code",
   "execution_count": null,
   "metadata": {
    "ExecuteTime": {
     "end_time": "2016-07-11T14:59:04.992475",
     "start_time": "2016-07-11T14:59:04.973288"
    },
    "collapsed": false
   },
   "outputs": [],
   "source": [
    "rf.feature_importances_.shape"
   ]
  },
  {
   "cell_type": "code",
   "execution_count": null,
   "metadata": {
    "ExecuteTime": {
     "end_time": "2016-07-08T19:02:39.058200",
     "start_time": "2016-07-08T19:02:39.055418"
    },
    "collapsed": false
   },
   "outputs": [],
   "source": [
    "# a.columns"
   ]
  },
  {
   "cell_type": "code",
   "execution_count": null,
   "metadata": {
    "ExecuteTime": {
     "end_time": "2016-07-08T19:02:40.975615",
     "start_time": "2016-07-08T19:02:40.967624"
    },
    "collapsed": false
   },
   "outputs": [],
   "source": [
    "a.columns[:]"
   ]
  },
  {
   "cell_type": "code",
   "execution_count": null,
   "metadata": {
    "ExecuteTime": {
     "end_time": "2016-07-08T19:02:44.153888",
     "start_time": "2016-07-08T19:02:43.859772"
    },
    "collapsed": false
   },
   "outputs": [],
   "source": [
    "plt.bar(range(0,7), height=rf.feature_importances_)"
   ]
  },
  {
   "cell_type": "code",
   "execution_count": null,
   "metadata": {
    "ExecuteTime": {
     "end_time": "2016-07-08T18:32:35.370634",
     "start_time": "2016-07-08T21:32:13.376Z"
    },
    "collapsed": false
   },
   "outputs": [],
   "source": [
    "# aux.Demanda_uni_equil.value_counts().plot(kind='bar')"
   ]
  },
  {
   "cell_type": "code",
   "execution_count": null,
   "metadata": {
    "ExecuteTime": {
     "end_time": "2016-07-08T18:32:35.370921",
     "start_time": "2016-07-08T21:32:15.441Z"
    },
    "collapsed": false
   },
   "outputs": [],
   "source": [
    "aux.columns"
   ]
  },
  {
   "cell_type": "code",
   "execution_count": null,
   "metadata": {
    "ExecuteTime": {
     "end_time": "2016-07-08T18:46:40.316426",
     "start_time": "2016-07-08T18:46:38.710493"
    },
    "collapsed": false
   },
   "outputs": [],
   "source": []
  },
  {
   "cell_type": "code",
   "execution_count": null,
   "metadata": {
    "ExecuteTime": {
     "end_time": "2016-07-08T18:45:34.313391",
     "start_time": "2016-07-08T18:45:33.970802"
    },
    "collapsed": false
   },
   "outputs": [],
   "source": []
  },
  {
   "cell_type": "code",
   "execution_count": null,
   "metadata": {
    "collapsed": true
   },
   "outputs": [],
   "source": []
  },
  {
   "cell_type": "code",
   "execution_count": null,
   "metadata": {
    "collapsed": true
   },
   "outputs": [],
   "source": []
  },
  {
   "cell_type": "code",
   "execution_count": null,
   "metadata": {
    "ExecuteTime": {
     "end_time": "2016-07-11T15:32:37.418771",
     "start_time": "2016-07-11T15:32:35.161032"
    },
    "collapsed": false
   },
   "outputs": [],
   "source": [
    "df_test = initial_week_processing(df_test)"
   ]
  },
  {
   "cell_type": "code",
   "execution_count": null,
   "metadata": {
    "ExecuteTime": {
     "end_time": "2016-07-11T15:33:12.240067",
     "start_time": "2016-07-11T15:33:12.234069"
    },
    "collapsed": false
   },
   "outputs": [],
   "source": []
  },
  {
   "cell_type": "code",
   "execution_count": null,
   "metadata": {
    "ExecuteTime": {
     "end_time": "2016-07-11T15:33:04.853243",
     "start_time": "2016-07-11T15:33:04.278694"
    },
    "collapsed": false
   },
   "outputs": [],
   "source": []
  },
  {
   "cell_type": "code",
   "execution_count": null,
   "metadata": {
    "ExecuteTime": {
     "end_time": "2016-07-11T15:32:26.050124",
     "start_time": "2016-07-11T15:32:20.834512"
    },
    "collapsed": true
   },
   "outputs": [],
   "source": [
    "df_test = pd.read_csv('input/test.csv.gz', compression='gzip')"
   ]
  },
  {
   "cell_type": "code",
   "execution_count": null,
   "metadata": {
    "ExecuteTime": {
     "end_time": "2016-07-07T18:40:46.404302",
     "start_time": "2016-07-07T18:39:52.016071"
    },
    "collapsed": false,
    "scrolled": false
   },
   "outputs": [],
   "source": [
    "df = process_df(df_test, test=True)\n",
    "# df = aux.iloc[np.random.permutation(len(aux))]\n",
    "df = pd.get_dummies(df)\n",
    "res = rf.predict(df.values)"
   ]
  },
  {
   "cell_type": "code",
   "execution_count": null,
   "metadata": {
    "ExecuteTime": {
     "end_time": "2016-07-07T18:51:35.402823",
     "start_time": "2016-07-07T18:51:34.201563"
    },
    "collapsed": false
   },
   "outputs": [],
   "source": [
    "a = df_test.merge(df_producto, how='left', on='Producto_ID')"
   ]
  },
  {
   "cell_type": "code",
   "execution_count": null,
   "metadata": {
    "ExecuteTime": {
     "end_time": "2016-07-07T18:54:44.406265",
     "start_time": "2016-07-07T18:54:44.103026"
    },
    "collapsed": false
   },
   "outputs": [],
   "source": [
    "a.Venta_uni_hoy.hist(range=(0,10), bins=2)"
   ]
  },
  {
   "cell_type": "code",
   "execution_count": null,
   "metadata": {
    "ExecuteTime": {
     "end_time": "2016-07-07T18:53:03.974638",
     "start_time": "2016-07-07T18:53:03.964546"
    },
    "collapsed": false
   },
   "outputs": [],
   "source": []
  },
  {
   "cell_type": "code",
   "execution_count": null,
   "metadata": {
    "ExecuteTime": {
     "end_time": "2016-07-05T17:23:52.857057",
     "start_time": "2016-07-05T20:23:39.510Z"
    },
    "collapsed": false
   },
   "outputs": [],
   "source": [
    "# df_process['short_names_processed']"
   ]
  },
  {
   "cell_type": "code",
   "execution_count": null,
   "metadata": {
    "ExecuteTime": {
     "end_time": "2016-07-05T17:22:12.424024",
     "start_time": "2016-07-05T17:22:12.341279"
    },
    "collapsed": false
   },
   "outputs": [],
   "source": [
    "# pd.get_dummies(df_process[0:100][cols])"
   ]
  },
  {
   "cell_type": "code",
   "execution_count": null,
   "metadata": {
    "ExecuteTime": {
     "end_time": "2016-06-22T16:48:28.775598",
     "start_time": "2016-06-22T16:48:28.604559"
    },
    "collapsed": false
   },
   "outputs": [],
   "source": [
    "f = plt.subplots()\n",
    "i = 444\n",
    "for v in x.T:\n",
    "    i+=1\n",
    "    f.hist(v)"
   ]
  },
  {
   "cell_type": "code",
   "execution_count": null,
   "metadata": {
    "ExecuteTime": {
     "end_time": "2016-06-22T16:41:11.071953",
     "start_time": "2016-06-22T16:41:10.845778"
    },
    "collapsed": false
   },
   "outputs": [],
   "source": []
  },
  {
   "cell_type": "code",
   "execution_count": null,
   "metadata": {
    "ExecuteTime": {
     "end_time": "2016-06-22T16:35:46.831672",
     "start_time": "2016-06-22T19:28:21.110Z"
    },
    "collapsed": false
   },
   "outputs": [],
   "source": [
    "df.columns"
   ]
  },
  {
   "cell_type": "code",
   "execution_count": null,
   "metadata": {
    "ExecuteTime": {
     "end_time": "2016-06-22T15:03:32.549718",
     "start_time": "2016-06-22T15:03:32.543490"
    },
    "collapsed": true
   },
   "outputs": [],
   "source": []
  },
  {
   "cell_type": "code",
   "execution_count": null,
   "metadata": {
    "ExecuteTime": {
     "end_time": "2016-06-22T16:35:46.831936",
     "start_time": "2016-06-22T19:28:21.113Z"
    },
    "collapsed": false
   },
   "outputs": [],
   "source": [
    "count_entregas(df, 'Agencia_ID')"
   ]
  },
  {
   "cell_type": "code",
   "execution_count": null,
   "metadata": {
    "collapsed": true
   },
   "outputs": [],
   "source": []
  }
 ],
 "metadata": {
  "kernelspec": {
   "display_name": "Python 3",
   "language": "python",
   "name": "python3"
  },
  "language_info": {
   "codemirror_mode": {
    "name": "ipython",
    "version": 3
   },
   "file_extension": ".py",
   "mimetype": "text/x-python",
   "name": "python",
   "nbconvert_exporter": "python",
   "pygments_lexer": "ipython3",
   "version": "3.4.3"
  }
 },
 "nbformat": 4,
 "nbformat_minor": 0
}
