{
 "cells": [
  {
   "cell_type": "code",
   "execution_count": 1,
   "metadata": {
    "ExecuteTime": {
     "end_time": "2016-07-11T20:12:36.217518",
     "start_time": "2016-07-11T20:12:35.480042"
    },
    "collapsed": false
   },
   "outputs": [],
   "source": [
    "import pandas as pd\n",
    "import numpy as np\n",
    "import matplotlib.pyplot as plt\n",
    "%matplotlib inline"
   ]
  },
  {
   "cell_type": "code",
   "execution_count": 2,
   "metadata": {
    "ExecuteTime": {
     "end_time": "2016-07-11T20:12:36.287161",
     "start_time": "2016-07-11T20:12:36.218518"
    },
    "collapsed": false
   },
   "outputs": [],
   "source": [
    "def trata_producto_names(df_producto):\n",
    "    from nltk.stem.snowball import SnowballStemmer\n",
    "\n",
    "    df_producto['short_names'] = df_producto.NombreProducto.str.extract('^(\\D*)')\n",
    "    df_producto['short_names_processed'] = df_producto['short_names'].map(lambda x: \" \".join([i for i in x.lower().split() if i not in stopwords.words('spanish')]))\n",
    "\n",
    "    stemmer = SnowballStemmer(\"spanish\")\n",
    "\n",
    "    df_producto['short_names_processed'] = (df_producto['short_names_processed']\n",
    "                                            .map(lambda x: \" \".join([stemmer.stem(i) for i in x.lower().split()])))\n",
    "    df_aux_producto = df_producto['short_names_processed'].value_counts()[df_producto['short_names_processed'].value_counts() > 10].reset_index()\n",
    "\n",
    "    df_producto['flavor_choc'] = df_producto.short_names_processed.str.contains('choc') * 1\n",
    "    df_producto['flavor_vainill'] = df_producto.short_names_processed.str.contains('vainill') * 1\n",
    "    df_producto['flavor_canel'] = df_producto.short_names_processed.str.contains('canel') * 1\n",
    "\n",
    "    df_producto['NombreProducto'] = df_producto['NombreProducto'].str.upper()\n",
    "    df_producto['NombreProducto'] = df_producto.apply(lambda x :x['NombreProducto'].replace(str(x['Producto_ID']),'').strip(), axis=1 )\n",
    "    df_producto = pd.DataFrame(df_producto.loc[1:])\n",
    "    df_producto['fabricante'] = df_producto.NombreProducto.str.split(' ').str[-1]\n",
    "    df_producto.ix[df_producto.fabricante == '1KG','fabricante'] = ''\n",
    "    df_producto['NombreProducto'] = df_producto.apply(lambda x :x['NombreProducto'].replace(x['fabricante'],'').strip(), axis=1 )\n",
    "\n",
    "    reg = '(\\d{1,4}G|\\d{1,4}KG|\\d{1,4}ML|\\d{1,4}\\ ML)'\n",
    "    df_producto['volume'] = df_producto.NombreProducto.str.extract(reg)\n",
    "\n",
    "    df_producto['NombreProducto'] = df_producto.apply(lambda x :x['NombreProducto'].replace(str(x['volume']),'').replace('  ',' ').strip(), axis=1 )\n",
    "\n",
    "    reg = '(\\d{1,5}P)'\n",
    "    df_producto['unidade'] = df_producto.NombreProducto.str.extract(reg)\n",
    "    df_producto['NombreProducto'] = df_producto.NombreProducto.str.replace(reg, '').str.replace('  ',' ').str.strip()\n",
    "\n",
    "    aux = pd.DataFrame({'Producto_ID':[0],'NombreProducto':['NO IDENTIFICADO']})\n",
    "    df_producto = df_producto.append(aux)\n",
    "\n",
    "    df_producto['unidade'] = df_producto.volume.str.extract('([A-Z])')\n",
    "    df_producto['volume'] = df_producto.volume.str.replace('([A-Z])','')\n",
    "    df_producto['product_name_length'] = df_producto.NombreProducto.str.split(' ').str.len()\n",
    "    return df_producto"
   ]
  },
  {
   "cell_type": "code",
   "execution_count": 3,
   "metadata": {
    "ExecuteTime": {
     "end_time": "2016-07-11T20:12:36.296366",
     "start_time": "2016-07-11T20:12:36.288140"
    },
    "collapsed": true
   },
   "outputs": [],
   "source": [
    "def count_cliente_by_route():\n",
    "    l = []\n",
    "    for i in range(3,10):\n",
    "        df_week = pd.read_csv('input/train_week%s.csv' % i, usecols=['Cliente_ID','Ruta_SAK'])\n",
    "        count_cliente = df_week.merge(df_cliente, on='Cliente_ID', how='left')\n",
    "        count_cliente.ix[(count_cliente.NombreCliente != 'SIN NOMBRE'), 'NombreCliente'] = 'NO IDENTIFICADO'\n",
    "        count_cliente = df_week.merge(df_cliente, on='Cliente_ID', how='left')\n",
    "        count_cliente.ix[(count_cliente.NombreCliente != 'SIN NOMBRE'), 'NombreCliente'] = 'NO IDENTIFICADO'\n",
    "        count_cliente = count_cliente[['Ruta_SAK','NombreCliente']].groupby(['Ruta_SAK']).count().reset_index()\n",
    "        l.append(count_cliente)\n",
    "    result = pd.concat(l)\n",
    "    result = result.groupby('Ruta_SAK').mean().reset_index()\n",
    "    result.columns = ['Ruta_SAK','count_clientes']\n",
    "    return result"
   ]
  },
  {
   "cell_type": "code",
   "execution_count": 4,
   "metadata": {
    "ExecuteTime": {
     "end_time": "2016-07-11T20:12:36.303996",
     "start_time": "2016-07-11T20:12:36.297334"
    },
    "collapsed": false
   },
   "outputs": [],
   "source": [
    "def process_venta_producto():\n",
    "    l = []\n",
    "    print('week: ')\n",
    "    for week in range(3,10):\n",
    "        print(week, end='\\r')\n",
    "        df_week = pd.read_csv('input/train_week%s.csv' % week, usecols=['Producto_ID','Venta_hoy'])\n",
    "        prod_venta = df_week[['Producto_ID','Venta_hoy']].groupby('Producto_ID').median().reset_index()\n",
    "        l.append(prod_venta)\n",
    "    df_venta = pd.concat(l)\n",
    "    df_venta = df_venta.groupby('Producto_ID').median().reset_index()\n",
    "    df_venta['Venta_hoy_log10'] = np.round(np.log10(df_venta['Venta_hoy'].values + 1))\n",
    "    return df_venta"
   ]
  },
  {
   "cell_type": "code",
   "execution_count": 5,
   "metadata": {
    "ExecuteTime": {
     "end_time": "2016-07-11T20:12:36.312986",
     "start_time": "2016-07-11T20:12:36.305055"
    },
    "collapsed": true
   },
   "outputs": [],
   "source": [
    "def process_venta_agencia(df_townstate):\n",
    "    l = []\n",
    "    print('week: ')\n",
    "    for week in range(3,10):\n",
    "        print(week, end='\\r')\n",
    "        df_week = pd.read_csv('input/train_week%s.csv' % week, usecols=['Agencia_ID','Venta_hoy'])\n",
    "        aux = df_week.merge(df_townstate, how='left', on='Agencia_ID')\n",
    "        prod_venta = aux.groupby('State').median().reset_index()\n",
    "        l.append(prod_venta)\n",
    "    df_venta = pd.concat(l)\n",
    "    df_venta = df_venta[['Agencia_ID','Venta_hoy','State']].groupby('State').median().reset_index()\n",
    "    df_venta['Venta_hoy_log10'] = np.round(np.log(df_venta['Venta_hoy'].values+1))\n",
    "    return df_venta"
   ]
  },
  {
   "cell_type": "code",
   "execution_count": 6,
   "metadata": {
    "ExecuteTime": {
     "end_time": "2016-07-11T20:12:36.318112",
     "start_time": "2016-07-11T20:12:36.314343"
    },
    "collapsed": true
   },
   "outputs": [],
   "source": [
    "def process_producto():\n",
    "    df_producto = pd.read_csv('input/producto_tabla.csv.gz', compression='gzip')\n",
    "    df_producto = trata_producto_names(df_producto)\n",
    "    return df_producto"
   ]
  },
  {
   "cell_type": "code",
   "execution_count": 435,
   "metadata": {
    "ExecuteTime": {
     "end_time": "2016-07-12T19:54:36.384315",
     "start_time": "2016-07-12T19:54:36.340935"
    },
    "collapsed": false
   },
   "outputs": [],
   "source": [
    "def process_df(df, test=False):    \n",
    "    if not test:\n",
    "#         df = df.drop(['Venta_uni_hoy','Venta_hoy','Dev_uni_proxima'], axis=1)\n",
    "        df = df.ix[df.Demanda_uni_equil<20]   \n",
    "    \n",
    "    \n",
    "    \n",
    "    \n",
    "    \n",
    "    df = df.merge(df_agencia_canal, on='Canal_ID', how='left')\n",
    "    df = df.merge(df_agencia_produto, on='Agencia_ID', how='left')\n",
    "    df = df.merge(df_cliente_canal, on='Canal_ID', how='left')\n",
    "    \n",
    "    \n",
    "    df = df.merge(df_media_unidades, on=['Cliente_ID','Producto_ID'], how='left')\n",
    "    df = df.merge(df_media_clientes_depot, on='Agencia_ID', how='left')\n",
    "    df = df.merge(df_popularidade_produto, on='Producto_ID', how='left')\n",
    "    df = df.merge(df_produto_preco_medio, on='Producto_ID', how='left')\n",
    "    df = df.merge(df_clientes_ruta, on='Ruta_SAK', how='left')\n",
    "        \n",
    "    df = df.merge(df_producto[['flavor_choc', 'flavor_vainill', 'flavor_canel','volume', 'fabricante','Producto_ID', 'product_name_length']], how='left',on='Producto_ID')\n",
    "    df = df.merge(df_townstate[['Agencia_ID','ag','bimbo']], on='Agencia_ID', how='left')\n",
    "    \n",
    "    df.volume = df.volume.fillna(-9999).astype('int')\n",
    "\n",
    "    df.ix[df.volume>500,'volume'] = 9999\n",
    "        \n",
    "    \n",
    "    df['Canal_ID'] = (df['Canal_ID'] == 1) *1\n",
    "        \n",
    "    return df"
   ]
  },
  {
   "cell_type": "code",
   "execution_count": 352,
   "metadata": {
    "ExecuteTime": {
     "end_time": "2016-07-12T14:45:59.626072",
     "start_time": "2016-07-12T14:45:59.599930"
    },
    "collapsed": true
   },
   "outputs": [],
   "source": [
    "def compras_cliente_mean():\n",
    "    l = []\n",
    "    for i in range(3,10):\n",
    "        df = pd.read_csv('input/train_week%i.csv' % (i), usecols=['Cliente_ID','Producto_ID','Venta_uni_hoy'])\n",
    "        l.append(df.groupby(['Cliente_ID','Producto_ID']).mean().reset_index())\n",
    "    df = pd.concat(l)\n",
    "    df = df.groupby(['Cliente_ID','Producto_ID']).mean().reset_index()\n",
    "    df.columns = ['Cliente_ID','Producto_ID','media_de_unidades']\n",
    "    df['media_de_unidades_log'] = np.log(df['media_de_unidades'].values+1)\n",
    "    df['media_de_unidades_sqrt'] = np.sqrt(df['media_de_unidades'].values)    \n",
    "    return df"
   ]
  },
  {
   "cell_type": "code",
   "execution_count": 353,
   "metadata": {
    "ExecuteTime": {
     "end_time": "2016-07-12T14:45:59.769615",
     "start_time": "2016-07-12T14:45:59.757671"
    },
    "collapsed": true
   },
   "outputs": [],
   "source": [
    "# def mean_clientes_depot():\n",
    "#     l = []\n",
    "#     for i in range(3,10):\n",
    "#         df = pd.read_csv('input/train_week%i.csv' % (i), usecols=['Agencia_ID','Cliente_ID'])\n",
    "#         l.append(df.groupby(['Agencia_ID']).count().reset_index())\n",
    "#     df = pd.concat(l)\n",
    "#     df = df.groupby(['Agencia_ID']).mean().reset_index()\n",
    "#     df.columns = ['Agencia_ID','media_de_clientes_depot']\n",
    "#     df['media_de_clientes_depot_log'] = np.log(df['media_de_clientes_depot'].values+1)\n",
    "#     df['media_de_clientes_depot_sqrt'] = np.sqrt(df['media_de_clientes_depot'].values)\n",
    "#     return df"
   ]
  },
  {
   "cell_type": "code",
   "execution_count": 354,
   "metadata": {
    "ExecuteTime": {
     "end_time": "2016-07-12T14:45:59.935646",
     "start_time": "2016-07-12T14:45:59.922477"
    },
    "collapsed": false
   },
   "outputs": [],
   "source": [
    "def produto_popularidade():\n",
    "    l = []\n",
    "    for i in range(3,10):\n",
    "        df = pd.read_csv('input/train_week%i.csv' % (i), usecols=['Producto_ID','Venta_uni_hoy'])\n",
    "        l.append(df.groupby(['Producto_ID']).sum().reset_index())\n",
    "    df = pd.concat(l)\n",
    "    df = df.groupby(['Producto_ID']).mean().reset_index()\n",
    "    df.columns = ['Producto_ID','produto_popularidade']\n",
    "    df['produto_popularidade_log'] = np.log(df['produto_popularidade'].values+1)\n",
    "    df['produto_popularidade_sqrt'] = np.sqrt(df['produto_popularidade'].values)\n",
    "    return df"
   ]
  },
  {
   "cell_type": "code",
   "execution_count": 355,
   "metadata": {
    "ExecuteTime": {
     "end_time": "2016-07-12T14:46:00.076431",
     "start_time": "2016-07-12T14:46:00.061203"
    },
    "collapsed": true
   },
   "outputs": [],
   "source": [
    "def produto_preco_mean():\n",
    "    l = []\n",
    "    for i in range(3,10):\n",
    "        df = pd.read_csv('input/train_week%i.csv' % (i), usecols=['Producto_ID','Venta_uni_hoy','Venta_hoy'])\n",
    "        df['preco_medio'] = df['Venta_hoy'] / df['Venta_uni_hoy']\n",
    "        l.append(df.groupby(['Producto_ID']).mean().reset_index())\n",
    "    df = pd.concat(l)\n",
    "    df = df.groupby(['Producto_ID']).mean().reset_index()\n",
    "    df[['Producto_ID','preco_medio']].columns = ['Producto_ID','preco_medio']\n",
    "    df['preco_medio'] = df['preco_medio'].fillna(0)\n",
    "    df['preco_medio_log'] = np.log(df['preco_medio'].values+1)\n",
    "    df['preco_medio_sqrt'] = np.sqrt(df['preco_medio'].values)\n",
    "    return df[['Producto_ID','preco_medio','preco_medio_log','preco_medio_sqrt']]"
   ]
  },
  {
   "cell_type": "code",
   "execution_count": 423,
   "metadata": {
    "ExecuteTime": {
     "end_time": "2016-07-12T19:49:46.869899",
     "start_time": "2016-07-12T19:49:46.843131"
    },
    "collapsed": true
   },
   "outputs": [],
   "source": [
    "def count_clientes_ruta():\n",
    "    l = []\n",
    "    for i in range(3,10):\n",
    "        df = pd.read_csv('input/train_week%i.csv' % (i), usecols=['Ruta_SAK','Cliente_ID'])\n",
    "        df = df.ix[~df.duplicated()]\n",
    "        l.append(df.groupby(['Ruta_SAK']).count().reset_index())\n",
    "    df = pd.concat(l)\n",
    "    df = df.groupby(['Ruta_SAK']).mean().reset_index()\n",
    "    df.columns = ['Ruta_SAK','clientes_por_rota']\n",
    "    df['clientes_por_rota_log'] = np.log(df['clientes_por_rota'].values+1)\n",
    "    df['clientes_por_rota_sqrt'] = np.sqrt(df['clientes_por_rota'].values)\n",
    "    return df"
   ]
  },
  {
   "cell_type": "code",
   "execution_count": 422,
   "metadata": {
    "ExecuteTime": {
     "end_time": "2016-07-12T19:49:45.576443",
     "start_time": "2016-07-12T19:49:45.562954"
    },
    "collapsed": true
   },
   "outputs": [],
   "source": [
    "def count_clientes_canal():\n",
    "    l = []\n",
    "    for i in range(3,10):\n",
    "        df = pd.read_csv('input/train_week%i.csv' % (i), usecols=['Canal_ID','Cliente_ID'])\n",
    "        df = df.ix[~df.duplicated()]\n",
    "        l.append(df.groupby(['Canal_ID']).count().reset_index())\n",
    "    df = pd.concat(l)\n",
    "    df = df.groupby(['Canal_ID']).mean().reset_index()\n",
    "    df.columns = ['Canal_ID','clientes_por_canal']\n",
    "    df['clientes_por_canal_log'] = np.log(df['clientes_por_canal'].values+1)\n",
    "    df['clientes_por_canal_sqrt'] = np.sqrt(df['clientes_por_canal'].values)\n",
    "    return df"
   ]
  },
  {
   "cell_type": "code",
   "execution_count": 426,
   "metadata": {
    "ExecuteTime": {
     "end_time": "2016-07-12T19:51:08.204004",
     "start_time": "2016-07-12T19:51:08.181138"
    },
    "collapsed": true
   },
   "outputs": [],
   "source": [
    "def count_agencia_produto():\n",
    "    l = []\n",
    "    for i in range(3,10):\n",
    "        df = pd.read_csv('input/train_week%i.csv' % (i), usecols=['Agencia_ID','Producto_ID'])\n",
    "        df = df.ix[~df.duplicated()]\n",
    "        l.append(df.groupby(['Agencia_ID']).count().reset_index())\n",
    "    df = pd.concat(l)\n",
    "    df = df.groupby(['Agencia_ID']).mean().reset_index()\n",
    "    df.columns = ['Agencia_ID','agencia_por_produto']\n",
    "    df['agencia_por_produto_log'] = np.log(df['agencia_por_produto'].values+1)\n",
    "    df['agencia_por_produto_sqrt'] = np.sqrt(df['agencia_por_produto'].values)\n",
    "    return df"
   ]
  },
  {
   "cell_type": "code",
   "execution_count": 428,
   "metadata": {
    "ExecuteTime": {
     "end_time": "2016-07-12T19:52:18.722017",
     "start_time": "2016-07-12T19:52:18.697881"
    },
    "collapsed": true
   },
   "outputs": [],
   "source": [
    "def count_agencia_canal():\n",
    "    l = []\n",
    "    for i in range(3,10):\n",
    "        df = pd.read_csv('input/train_week%i.csv' % (i), usecols=['Canal_ID','Agencia_ID'])\n",
    "        df = df.ix[~df.duplicated()]\n",
    "        l.append(df.groupby(['Canal_ID']).count().reset_index())\n",
    "    df = pd.concat(l)\n",
    "    df = df.groupby(['Canal_ID']).mean().reset_index()\n",
    "    df.columns = ['Canal_ID','canal_por_agencia']\n",
    "    df['canal_por_agencia_log'] = np.log(df['canal_por_agencia'].values+1)\n",
    "    df['canal_por_agencia_sqrt'] = np.sqrt(df['canal_por_agencia'].values)\n",
    "    return df"
   ]
  },
  {
   "cell_type": "code",
   "execution_count": 357,
   "metadata": {
    "ExecuteTime": {
     "end_time": "2016-07-12T14:49:05.372167",
     "start_time": "2016-07-12T14:46:00.658007"
    },
    "collapsed": false
   },
   "outputs": [],
   "source": [
    "df_media_unidades = compras_cliente_mean()\n",
    "# df_media_clientes_depot = mean_clientes_depot()\n",
    "df_popularidade_produto = produto_popularidade()\n",
    "df_produto_preco_medio = produto_preco_mean()\n",
    "df_clientes_ruta = count_clientes_ruta()"
   ]
  },
  {
   "cell_type": "code",
   "execution_count": 424,
   "metadata": {
    "ExecuteTime": {
     "end_time": "2016-07-12T19:50:31.710942",
     "start_time": "2016-07-12T19:49:55.809238"
    },
    "collapsed": false
   },
   "outputs": [],
   "source": [
    "df_cliente_canal = count_clientes_canal()"
   ]
  },
  {
   "cell_type": "code",
   "execution_count": 427,
   "metadata": {
    "ExecuteTime": {
     "end_time": "2016-07-12T19:51:53.470773",
     "start_time": "2016-07-12T19:51:17.573057"
    },
    "collapsed": false
   },
   "outputs": [],
   "source": [
    "df_agencia_produto = count_agencia_produto()"
   ]
  },
  {
   "cell_type": "code",
   "execution_count": 429,
   "metadata": {
    "ExecuteTime": {
     "end_time": "2016-07-12T19:53:04.234906",
     "start_time": "2016-07-12T19:52:30.697833"
    },
    "collapsed": false
   },
   "outputs": [],
   "source": [
    "df_agencia_canal = count_agencia_canal()"
   ]
  },
  {
   "cell_type": "code",
   "execution_count": null,
   "metadata": {
    "collapsed": true
   },
   "outputs": [],
   "source": []
  },
  {
   "cell_type": "code",
   "execution_count": 344,
   "metadata": {
    "ExecuteTime": {
     "end_time": "2016-07-12T14:45:33.925518",
     "start_time": "2016-07-12T14:45:33.922669"
    },
    "collapsed": true
   },
   "outputs": [],
   "source": [
    "from nltk.corpus import stopwords"
   ]
  },
  {
   "cell_type": "code",
   "execution_count": 345,
   "metadata": {
    "ExecuteTime": {
     "end_time": "2016-07-12T14:45:33.938007",
     "start_time": "2016-07-12T14:45:33.926547"
    },
    "collapsed": false
   },
   "outputs": [],
   "source": [
    "stop_words = stopwords.words('spanish')"
   ]
  },
  {
   "cell_type": "code",
   "execution_count": 346,
   "metadata": {
    "ExecuteTime": {
     "end_time": "2016-07-12T14:45:33.962695",
     "start_time": "2016-07-12T14:45:33.938977"
    },
    "collapsed": false
   },
   "outputs": [],
   "source": [
    "df_townstate = pd.read_csv('input/town_state.csv.gz', compression='gzip')\n",
    "df_townstate['bimbo'] = df_townstate.Town.str.contains('BIMBO') * 1\n",
    "df_townstate['ag'] = df_townstate.Town.str.contains('AG.') * 1"
   ]
  },
  {
   "cell_type": "code",
   "execution_count": 283,
   "metadata": {
    "ExecuteTime": {
     "end_time": "2016-07-12T14:27:03.030390",
     "start_time": "2016-07-12T14:27:03.025156"
    },
    "collapsed": true
   },
   "outputs": [],
   "source": [
    "pd.options.display.max_rows = 30"
   ]
  },
  {
   "cell_type": "code",
   "execution_count": 284,
   "metadata": {
    "ExecuteTime": {
     "end_time": "2016-07-12T14:27:04.292025",
     "start_time": "2016-07-12T14:27:03.031353"
    },
    "collapsed": false
   },
   "outputs": [],
   "source": [
    "df_producto = process_producto()"
   ]
  },
  {
   "cell_type": "code",
   "execution_count": 285,
   "metadata": {
    "ExecuteTime": {
     "end_time": "2016-07-12T14:27:04.294885",
     "start_time": "2016-07-12T14:27:04.293096"
    },
    "collapsed": false
   },
   "outputs": [],
   "source": [
    "# df_process['fabricante'].value_counts()"
   ]
  },
  {
   "cell_type": "code",
   "execution_count": 445,
   "metadata": {
    "ExecuteTime": {
     "end_time": "2016-07-12T19:56:08.663070",
     "start_time": "2016-07-12T19:56:08.645975"
    },
    "collapsed": false
   },
   "outputs": [],
   "source": [
    "cols = [\n",
    "# #     'media_de_clientes_depot_sqrt',\n",
    "#     'media_de_unidades_sqrt',\n",
    "#     'produto_popularidade_sqrt',\n",
    "#     'preco_medio_sqrt',\n",
    "#     'clientes_por_rota_sqrt',\n",
    "    \n",
    "    \n",
    "#     'media_de_clientes_depot_log',\n",
    "    'media_de_unidades_log',\n",
    "    'produto_popularidade_log',\n",
    "    'preco_medio_log',\n",
    "    'clientes_por_rota_log',\n",
    "    'canal_por_agencia_log',\n",
    "#     'agencia_por_produto_log',\n",
    "#     'clientes_por_canal_log',\n",
    "# #     'media_de_clientes_depot',\n",
    "#     'media_de_unidades',\n",
    "#     'produto_popularidade',\n",
    "#     'preco_medio',\n",
    "#     'clientes_por_rota',\n",
    "    \n",
    "    \n",
    "#     'volume',\n",
    "    'Canal_ID',\n",
    "#     'fabricante',\n",
    "#     'ag',\n",
    "#     'bimbo',\n",
    "#     'product_name_length',\n",
    "#     'flavor_choc',\n",
    "#     'flavor_vainill',\n",
    "#     'flavor_canel',\n",
    "]"
   ]
  },
  {
   "cell_type": "code",
   "execution_count": 415,
   "metadata": {
    "ExecuteTime": {
     "end_time": "2016-07-12T15:08:59.579534",
     "start_time": "2016-07-12T15:08:59.576425"
    },
    "collapsed": false
   },
   "outputs": [],
   "source": [
    "# aux.Agencia_ID.dtype "
   ]
  },
  {
   "cell_type": "code",
   "execution_count": 416,
   "metadata": {
    "ExecuteTime": {
     "end_time": "2016-07-12T15:08:59.723811",
     "start_time": "2016-07-12T15:08:59.720703"
    },
    "collapsed": false
   },
   "outputs": [],
   "source": [
    "# enc._n_values"
   ]
  },
  {
   "cell_type": "markdown",
   "metadata": {},
   "source": [
    "# fiitting model"
   ]
  },
  {
   "cell_type": "code",
   "execution_count": 431,
   "metadata": {
    "ExecuteTime": {
     "end_time": "2016-07-12T19:53:13.396235",
     "start_time": "2016-07-12T19:53:13.389977"
    },
    "collapsed": true
   },
   "outputs": [],
   "source": [
    "from sklearn.ensemble import RandomForestRegressor, ExtraTreesRegressor, GradientBoostingRegressor\n",
    "from sklearn.linear_model import LinearRegression, LogisticRegression\n",
    "from sklearn.cross_validation import StratifiedKFold, cross_val_score, train_test_split, KFold\n",
    "from sklearn.metrics import mean_squared_error\n",
    "from sklearn.preprocessing import OneHotEncoder"
   ]
  },
  {
   "cell_type": "code",
   "execution_count": 436,
   "metadata": {
    "ExecuteTime": {
     "end_time": "2016-07-12T19:54:41.327132",
     "start_time": "2016-07-12T19:54:41.314915"
    },
    "collapsed": false
   },
   "outputs": [],
   "source": [
    "# rf = ExtraTreesRegressor(n_estimators=50, max_features=1.0,min_samples_split=3,n_jobs=4)\n",
    "\n",
    "\n",
    "\n",
    "def train(x, y):\n",
    "    results = []\n",
    "    kf = StratifiedKFold(y, n_folds=10, random_state=401)\n",
    "    for (train, test) in kf:\n",
    "        rf.fit(x[train], y[train])\n",
    "        y_pred = rf.predict(x[test])\n",
    "        result = mean_squared_error(y[test], y_pred)\n",
    "#         print(result)\n",
    "        results.append(result)\n",
    "        print(len(results), end='\\r')\n",
    "    return results\n",
    "        "
   ]
  },
  {
   "cell_type": "code",
   "execution_count": 437,
   "metadata": {
    "ExecuteTime": {
     "end_time": "2016-07-12T19:54:41.479987",
     "start_time": "2016-07-12T19:54:41.477218"
    },
    "collapsed": false
   },
   "outputs": [],
   "source": [
    "# df.columns"
   ]
  },
  {
   "cell_type": "code",
   "execution_count": 438,
   "metadata": {
    "ExecuteTime": {
     "end_time": "2016-07-12T19:54:48.886330",
     "start_time": "2016-07-12T19:54:42.437450"
    },
    "collapsed": false
   },
   "outputs": [
    {
     "name": "stdout",
     "output_type": "stream",
     "text": [
      "fitting week 3... \n",
      " \n",
      "mean result:  7.40400946872\n"
     ]
    }
   ],
   "source": [
    "rf = RandomForestRegressor(random_state=401)\n",
    "\n",
    "for week in range(3,9):\n",
    "#     df_week = pd.read_csv('input/train_week%s.csv' % week, usecols=['Demanda_uni_equil','Cliente_ID','Agencia_ID','Producto_ID','Ruta_SAK','Canal_ID'])\n",
    "    for df_week in pd.read_csv('input/train_week%s.csv' % week, \n",
    "                               usecols=['Demanda_uni_equil','Cliente_ID','Agencia_ID','Producto_ID','Ruta_SAK','Canal_ID'], chunksize=10000):\n",
    "        aux = process_df(df_week)\n",
    "        df = aux[cols+['Demanda_uni_equil']]\n",
    "        df = pd.get_dummies(df)\n",
    "\n",
    "        print('fitting week %s... ' % week,)\n",
    "        print(' ')\n",
    "        # for x in range(10000,df.shape[0]-10000,10000):\n",
    "        df_partial = df\n",
    "        x = df_partial.drop(['Demanda_uni_equil'], axis=1).values\n",
    "        y = df_partial['Demanda_uni_equil'].values\n",
    "        results = train(x,y)\n",
    "        print('mean result: ',np.mean(results))\n",
    "        break\n",
    "    break"
   ]
  },
  {
   "cell_type": "code",
   "execution_count": 238,
   "metadata": {
    "ExecuteTime": {
     "end_time": "2016-07-12T13:48:18.785248",
     "start_time": "2016-07-12T13:48:18.780665"
    },
    "collapsed": true
   },
   "outputs": [],
   "source": [
    "# benchmark => 7.38"
   ]
  },
  {
   "cell_type": "code",
   "execution_count": 373,
   "metadata": {
    "ExecuteTime": {
     "end_time": "2016-07-12T14:50:49.087330",
     "start_time": "2016-07-12T14:50:48.301886"
    },
    "collapsed": false
   },
   "outputs": [],
   "source": [
    "df_clientes = pd.read_csv('input/cliente_tabla.csv.gz')"
   ]
  },
  {
   "cell_type": "code",
   "execution_count": 379,
   "metadata": {
    "ExecuteTime": {
     "end_time": "2016-07-12T14:51:37.073254",
     "start_time": "2016-07-12T14:51:37.060891"
    },
    "collapsed": false
   },
   "outputs": [
    {
     "data": {
      "text/plain": [
       "Index(['Cliente_ID', 'NombreCliente'], dtype='object')"
      ]
     },
     "execution_count": 379,
     "metadata": {},
     "output_type": "execute_result"
    }
   ],
   "source": [
    "df_clientes.columns"
   ]
  },
  {
   "cell_type": "code",
   "execution_count": null,
   "metadata": {
    "collapsed": true
   },
   "outputs": [],
   "source": []
  },
  {
   "cell_type": "code",
   "execution_count": null,
   "metadata": {
    "ExecuteTime": {
     "end_time": "2016-07-11T18:07:13.628068",
     "start_time": "2016-07-11T18:07:13.085600"
    },
    "collapsed": false,
    "scrolled": true
   },
   "outputs": [],
   "source": [
    "aux[cols].dtypes"
   ]
  },
  {
   "cell_type": "code",
   "execution_count": null,
   "metadata": {
    "ExecuteTime": {
     "end_time": "2016-07-12T13:20:13.018159",
     "start_time": "2016-07-12T13:20:12.994442"
    },
    "collapsed": false
   },
   "outputs": [],
   "source": []
  },
  {
   "cell_type": "code",
   "execution_count": null,
   "metadata": {
    "collapsed": true
   },
   "outputs": [],
   "source": []
  },
  {
   "cell_type": "code",
   "execution_count": null,
   "metadata": {
    "ExecuteTime": {
     "end_time": "2016-07-11T12:39:14.894061",
     "start_time": "2016-07-11T12:39:14.884519"
    },
    "collapsed": false
   },
   "outputs": [],
   "source": [
    "9.58"
   ]
  },
  {
   "cell_type": "markdown",
   "metadata": {
    "ExecuteTime": {
     "end_time": "2016-07-08T11:07:30.348451",
     "start_time": "2016-07-08T11:07:30.338215"
    }
   },
   "source": [
    "# testing feature importances"
   ]
  },
  {
   "cell_type": "code",
   "execution_count": null,
   "metadata": {
    "ExecuteTime": {
     "end_time": "2016-07-11T12:49:11.010489",
     "start_time": "2016-07-11T12:49:10.964068"
    },
    "collapsed": false
   },
   "outputs": [],
   "source": [
    "df"
   ]
  },
  {
   "cell_type": "code",
   "execution_count": null,
   "metadata": {
    "ExecuteTime": {
     "end_time": "2016-07-11T12:13:14.171302",
     "start_time": "2016-07-11T12:13:14.159981"
    },
    "collapsed": false
   },
   "outputs": [],
   "source": []
  },
  {
   "cell_type": "code",
   "execution_count": null,
   "metadata": {
    "ExecuteTime": {
     "end_time": "2016-07-12T14:15:56.189393",
     "start_time": "2016-07-12T14:15:56.180721"
    },
    "collapsed": false
   },
   "outputs": [],
   "source": []
  },
  {
   "cell_type": "code",
   "execution_count": null,
   "metadata": {
    "collapsed": true
   },
   "outputs": [],
   "source": []
  },
  {
   "cell_type": "code",
   "execution_count": null,
   "metadata": {
    "ExecuteTime": {
     "end_time": "2016-07-12T13:36:07.134930",
     "start_time": "2016-07-12T13:36:07.130496"
    },
    "collapsed": false
   },
   "outputs": [],
   "source": []
  },
  {
   "cell_type": "code",
   "execution_count": 439,
   "metadata": {
    "ExecuteTime": {
     "end_time": "2016-07-12T19:54:54.951661",
     "start_time": "2016-07-12T19:54:54.947623"
    },
    "collapsed": false
   },
   "outputs": [],
   "source": [
    "a = df"
   ]
  },
  {
   "cell_type": "code",
   "execution_count": 440,
   "metadata": {
    "ExecuteTime": {
     "end_time": "2016-07-12T19:54:55.124624",
     "start_time": "2016-07-12T19:54:55.109597"
    },
    "collapsed": false
   },
   "outputs": [
    {
     "data": {
      "text/plain": [
       "(10,)"
      ]
     },
     "execution_count": 440,
     "metadata": {},
     "output_type": "execute_result"
    }
   ],
   "source": [
    "rf.feature_importances_.shape"
   ]
  },
  {
   "cell_type": "code",
   "execution_count": 441,
   "metadata": {
    "ExecuteTime": {
     "end_time": "2016-07-12T19:54:55.253895",
     "start_time": "2016-07-12T19:54:55.251269"
    },
    "collapsed": false
   },
   "outputs": [],
   "source": [
    "# a.columns"
   ]
  },
  {
   "cell_type": "code",
   "execution_count": 442,
   "metadata": {
    "ExecuteTime": {
     "end_time": "2016-07-12T19:54:55.899412",
     "start_time": "2016-07-12T19:54:55.894348"
    },
    "collapsed": false
   },
   "outputs": [
    {
     "data": {
      "text/plain": [
       "Index(['media_de_unidades_log', 'produto_popularidade_log', 'preco_medio_log',\n",
       "       'clientes_por_rota_log', 'canal_por_agencia_log',\n",
       "       'agencia_por_produto_log', 'clientes_por_canal_log', 'volume',\n",
       "       'Canal_ID', 'product_name_length', 'Demanda_uni_equil'],\n",
       "      dtype='object')"
      ]
     },
     "execution_count": 442,
     "metadata": {},
     "output_type": "execute_result"
    }
   ],
   "source": [
    "a.columns[:]"
   ]
  },
  {
   "cell_type": "code",
   "execution_count": 444,
   "metadata": {
    "ExecuteTime": {
     "end_time": "2016-07-12T19:55:02.456317",
     "start_time": "2016-07-12T19:55:02.266456"
    },
    "collapsed": false
   },
   "outputs": [
    {
     "data": {
      "text/plain": [
       "<Container object of 10 artists>"
      ]
     },
     "execution_count": 444,
     "metadata": {},
     "output_type": "execute_result"
    },
    {
     "data": {
      "image/png": "[encoded data removed]",
      "text/plain": [
       "<matplotlib.figure.Figure at 0x7f187840bf60>"
      ]
     },
     "metadata": {},
     "output_type": "display_data"
    }
   ],
   "source": [
    "plt.bar(range(0,10), height=rf.feature_importances_)"
   ]
  },
  {
   "cell_type": "code",
   "execution_count": null,
   "metadata": {
    "ExecuteTime": {
     "end_time": "2016-07-08T18:32:35.370634",
     "start_time": "2016-07-08T21:32:13.376Z"
    },
    "collapsed": false
   },
   "outputs": [],
   "source": [
    "# aux.Demanda_uni_equil.value_counts().plot(kind='bar')"
   ]
  },
  {
   "cell_type": "code",
   "execution_count": null,
   "metadata": {
    "ExecuteTime": {
     "end_time": "2016-07-08T18:32:35.370921",
     "start_time": "2016-07-08T21:32:15.441Z"
    },
    "collapsed": false
   },
   "outputs": [],
   "source": [
    "aux.columns"
   ]
  },
  {
   "cell_type": "code",
   "execution_count": null,
   "metadata": {
    "ExecuteTime": {
     "end_time": "2016-07-08T18:46:40.316426",
     "start_time": "2016-07-08T18:46:38.710493"
    },
    "collapsed": false
   },
   "outputs": [],
   "source": []
  },
  {
   "cell_type": "code",
   "execution_count": null,
   "metadata": {
    "ExecuteTime": {
     "end_time": "2016-07-08T18:45:34.313391",
     "start_time": "2016-07-08T18:45:33.970802"
    },
    "collapsed": false
   },
   "outputs": [],
   "source": []
  },
  {
   "cell_type": "code",
   "execution_count": null,
   "metadata": {
    "collapsed": true
   },
   "outputs": [],
   "source": []
  },
  {
   "cell_type": "code",
   "execution_count": null,
   "metadata": {
    "collapsed": true
   },
   "outputs": [],
   "source": []
  },
  {
   "cell_type": "code",
   "execution_count": null,
   "metadata": {
    "ExecuteTime": {
     "end_time": "2016-07-11T15:32:37.418771",
     "start_time": "2016-07-11T15:32:35.161032"
    },
    "collapsed": false
   },
   "outputs": [],
   "source": [
    "df_test = initial_week_processing(df_test)"
   ]
  },
  {
   "cell_type": "code",
   "execution_count": null,
   "metadata": {
    "ExecuteTime": {
     "end_time": "2016-07-11T15:33:12.240067",
     "start_time": "2016-07-11T15:33:12.234069"
    },
    "collapsed": false
   },
   "outputs": [],
   "source": []
  },
  {
   "cell_type": "code",
   "execution_count": null,
   "metadata": {
    "ExecuteTime": {
     "end_time": "2016-07-11T15:33:04.853243",
     "start_time": "2016-07-11T15:33:04.278694"
    },
    "collapsed": false
   },
   "outputs": [],
   "source": []
  },
  {
   "cell_type": "code",
   "execution_count": null,
   "metadata": {
    "ExecuteTime": {
     "end_time": "2016-07-11T15:32:26.050124",
     "start_time": "2016-07-11T15:32:20.834512"
    },
    "collapsed": true
   },
   "outputs": [],
   "source": [
    "df_test = pd.read_csv('input/test.csv.gz', compression='gzip')"
   ]
  },
  {
   "cell_type": "code",
   "execution_count": null,
   "metadata": {
    "ExecuteTime": {
     "end_time": "2016-07-07T18:40:46.404302",
     "start_time": "2016-07-07T18:39:52.016071"
    },
    "collapsed": false,
    "scrolled": false
   },
   "outputs": [],
   "source": [
    "df = process_df(df_test, test=True)\n",
    "# df = aux.iloc[np.random.permutation(len(aux))]\n",
    "df = pd.get_dummies(df)\n",
    "res = rf.predict(df.values)"
   ]
  },
  {
   "cell_type": "code",
   "execution_count": null,
   "metadata": {
    "ExecuteTime": {
     "end_time": "2016-07-07T18:51:35.402823",
     "start_time": "2016-07-07T18:51:34.201563"
    },
    "collapsed": false
   },
   "outputs": [],
   "source": [
    "a = df_test.merge(df_producto, how='left', on='Producto_ID')"
   ]
  },
  {
   "cell_type": "code",
   "execution_count": null,
   "metadata": {
    "ExecuteTime": {
     "end_time": "2016-07-07T18:54:44.406265",
     "start_time": "2016-07-07T18:54:44.103026"
    },
    "collapsed": false
   },
   "outputs": [],
   "source": [
    "a.Venta_uni_hoy.hist(range=(0,10), bins=2)"
   ]
  },
  {
   "cell_type": "code",
   "execution_count": null,
   "metadata": {
    "ExecuteTime": {
     "end_time": "2016-07-07T18:53:03.974638",
     "start_time": "2016-07-07T18:53:03.964546"
    },
    "collapsed": false
   },
   "outputs": [],
   "source": []
  },
  {
   "cell_type": "code",
   "execution_count": null,
   "metadata": {
    "ExecuteTime": {
     "end_time": "2016-07-05T17:23:52.857057",
     "start_time": "2016-07-05T20:23:39.510Z"
    },
    "collapsed": false
   },
   "outputs": [],
   "source": [
    "# df_process['short_names_processed']"
   ]
  },
  {
   "cell_type": "code",
   "execution_count": null,
   "metadata": {
    "ExecuteTime": {
     "end_time": "2016-07-05T17:22:12.424024",
     "start_time": "2016-07-05T17:22:12.341279"
    },
    "collapsed": false
   },
   "outputs": [],
   "source": [
    "# pd.get_dummies(df_process[0:100][cols])"
   ]
  },
  {
   "cell_type": "code",
   "execution_count": null,
   "metadata": {
    "ExecuteTime": {
     "end_time": "2016-06-22T16:48:28.775598",
     "start_time": "2016-06-22T16:48:28.604559"
    },
    "collapsed": false
   },
   "outputs": [],
   "source": [
    "f = plt.subplots()\n",
    "i = 444\n",
    "for v in x.T:\n",
    "    i+=1\n",
    "    f.hist(v)"
   ]
  },
  {
   "cell_type": "code",
   "execution_count": null,
   "metadata": {
    "ExecuteTime": {
     "end_time": "2016-06-22T16:41:11.071953",
     "start_time": "2016-06-22T16:41:10.845778"
    },
    "collapsed": false
   },
   "outputs": [],
   "source": []
  },
  {
   "cell_type": "code",
   "execution_count": null,
   "metadata": {
    "ExecuteTime": {
     "end_time": "2016-06-22T16:35:46.831672",
     "start_time": "2016-06-22T19:28:21.110Z"
    },
    "collapsed": false
   },
   "outputs": [],
   "source": [
    "df.columns"
   ]
  },
  {
   "cell_type": "code",
   "execution_count": null,
   "metadata": {
    "ExecuteTime": {
     "end_time": "2016-06-22T15:03:32.549718",
     "start_time": "2016-06-22T15:03:32.543490"
    },
    "collapsed": true
   },
   "outputs": [],
   "source": []
  },
  {
   "cell_type": "code",
   "execution_count": null,
   "metadata": {
    "ExecuteTime": {
     "end_time": "2016-06-22T16:35:46.831936",
     "start_time": "2016-06-22T19:28:21.113Z"
    },
    "collapsed": false
   },
   "outputs": [],
   "source": [
    "count_entregas(df, 'Agencia_ID')"
   ]
  },
  {
   "cell_type": "code",
   "execution_count": null,
   "metadata": {
    "collapsed": true
   },
   "outputs": [],
   "source": []
  }
 ],
 "metadata": {
  "kernelspec": {
   "display_name": "Python 3",
   "language": "python",
   "name": "python3"
  },
  "language_info": {
   "codemirror_mode": {
    "name": "ipython",
    "version": 3
   },
   "file_extension": ".py",
   "mimetype": "text/x-python",
   "name": "python",
   "nbconvert_exporter": "python",
   "pygments_lexer": "ipython3",
   "version": "3.4.3"
  }
 },
 "nbformat": 4,
 "nbformat_minor": 0
}
