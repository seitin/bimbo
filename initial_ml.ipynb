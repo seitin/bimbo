{
 "cells": [
  {
   "cell_type": "code",
   "execution_count": 1,
   "metadata": {
    "ExecuteTime": {
     "end_time": "2016-07-14T17:38:14.584935",
     "start_time": "2016-07-14T17:38:13.864039"
    },
    "collapsed": false
   },
   "outputs": [],
   "source": [
    "import pandas as pd\n",
    "import numpy as np\n",
    "import matplotlib.pyplot as plt\n",
    "%matplotlib inline"
   ]
  },
  {
   "cell_type": "code",
   "execution_count": 2,
   "metadata": {
    "ExecuteTime": {
     "end_time": "2016-07-14T17:38:14.628746",
     "start_time": "2016-07-14T17:38:14.586258"
    },
    "collapsed": false
   },
   "outputs": [],
   "source": [
    "def trata_producto_names(df_producto):\n",
    "    from nltk.stem.snowball import SnowballStemmer\n",
    "\n",
    "    df_producto['short_names'] = df_producto.NombreProducto.str.extract('^(\\D*)')\n",
    "    df_producto['short_names_processed'] = df_producto['short_names'].map(lambda x: \" \".join([i for i in x.lower().split() if i not in stopwords.words('spanish')]))\n",
    "\n",
    "    stemmer = SnowballStemmer(\"spanish\")\n",
    "\n",
    "    df_producto['short_names_processed'] = (df_producto['short_names_processed']\n",
    "                                            .map(lambda x: \" \".join([stemmer.stem(i) for i in x.lower().split()])))\n",
    "    df_aux_producto = df_producto['short_names_processed'].value_counts()[df_producto['short_names_processed'].value_counts() > 10].reset_index()\n",
    "\n",
    "    df_producto['flavor_choc'] = df_producto.short_names_processed.str.contains('choc') * 1\n",
    "    df_producto['flavor_vainill'] = df_producto.short_names_processed.str.contains('vainill') * 1\n",
    "    df_producto['flavor_canel'] = df_producto.short_names_processed.str.contains('canel') * 1\n",
    "\n",
    "    df_producto['NombreProducto'] = df_producto['NombreProducto'].str.upper()\n",
    "    df_producto['NombreProducto'] = df_producto.apply(lambda x :x['NombreProducto'].replace(str(x['Producto_ID']),'').strip(), axis=1 )\n",
    "    df_producto = pd.DataFrame(df_producto.loc[1:])\n",
    "    df_producto['fabricante'] = df_producto.NombreProducto.str.split(' ').str[-1]\n",
    "    df_producto.ix[df_producto.fabricante == '1KG','fabricante'] = ''\n",
    "    df_producto['NombreProducto'] = df_producto.apply(lambda x :x['NombreProducto'].replace(x['fabricante'],'').strip(), axis=1 )\n",
    "\n",
    "    reg = '(\\d{1,4}G|\\d{1,4}KG|\\d{1,4}ML|\\d{1,4}\\ ML)'\n",
    "    df_producto['volume'] = df_producto.NombreProducto.str.extract(reg)\n",
    "\n",
    "    df_producto['NombreProducto'] = df_producto.apply(lambda x :x['NombreProducto'].replace(str(x['volume']),'').replace('  ',' ').strip(), axis=1 )\n",
    "\n",
    "    reg = '(\\d{1,5}P)'\n",
    "    df_producto['unidade'] = df_producto.NombreProducto.str.extract(reg)\n",
    "    df_producto['NombreProducto'] = df_producto.NombreProducto.str.replace(reg, '').str.replace('  ',' ').str.strip()\n",
    "\n",
    "    aux = pd.DataFrame({'Producto_ID':[0],'NombreProducto':['NO IDENTIFICADO']})\n",
    "    df_producto = df_producto.append(aux)\n",
    "\n",
    "    df_producto['unidade'] = df_producto.volume.str.extract('([A-Z])')\n",
    "    df_producto['volume'] = df_producto.volume.str.replace('([A-Z])','')\n",
    "    df_producto['product_name_length'] = df_producto.NombreProducto.str.split(' ').str.len()\n",
    "    return df_producto"
   ]
  },
  {
   "cell_type": "code",
   "execution_count": 3,
   "metadata": {
    "ExecuteTime": {
     "end_time": "2016-07-14T17:38:14.640051",
     "start_time": "2016-07-14T17:38:14.630588"
    },
    "collapsed": true
   },
   "outputs": [],
   "source": [
    "def count_cliente_by_route():\n",
    "    l = []\n",
    "    for i in range(3,10):\n",
    "        df_week = pd.read_csv('input/train_week%s.csv' % i, usecols=['Cliente_ID','Ruta_SAK'])\n",
    "        count_cliente = df_week.merge(df_cliente, on='Cliente_ID', how='left')\n",
    "        count_cliente.ix[(count_cliente.NombreCliente != 'SIN NOMBRE'), 'NombreCliente'] = 'NO IDENTIFICADO'\n",
    "        count_cliente = df_week.merge(df_cliente, on='Cliente_ID', how='left')\n",
    "        count_cliente.ix[(count_cliente.NombreCliente != 'SIN NOMBRE'), 'NombreCliente'] = 'NO IDENTIFICADO'\n",
    "        count_cliente = count_cliente[['Ruta_SAK','NombreCliente']].groupby(['Ruta_SAK']).count().reset_index()\n",
    "        l.append(count_cliente)\n",
    "    result = pd.concat(l)\n",
    "    result = result.groupby('Ruta_SAK').mean().reset_index()\n",
    "    result.columns = ['Ruta_SAK','count_clientes']\n",
    "    return result"
   ]
  },
  {
   "cell_type": "code",
   "execution_count": 4,
   "metadata": {
    "ExecuteTime": {
     "end_time": "2016-07-14T17:38:14.650250",
     "start_time": "2016-07-14T17:38:14.641670"
    },
    "collapsed": false
   },
   "outputs": [],
   "source": [
    "def process_venta_producto():\n",
    "    l = []\n",
    "    print('week: ')\n",
    "    for week in range(3,10):\n",
    "        print(week, end='\\r')\n",
    "        df_week = pd.read_csv('input/train_week%s.csv' % week, usecols=['Producto_ID','Venta_hoy'])\n",
    "        prod_venta = df_week[['Producto_ID','Venta_hoy']].groupby('Producto_ID').median().reset_index()\n",
    "        l.append(prod_venta)\n",
    "    df_venta = pd.concat(l)\n",
    "    df_venta = df_venta.groupby('Producto_ID').median().reset_index()\n",
    "    df_venta['Venta_hoy_log10'] = np.round(np.log10(df_venta['Venta_hoy'].values + 1))\n",
    "    return df_venta"
   ]
  },
  {
   "cell_type": "code",
   "execution_count": 5,
   "metadata": {
    "ExecuteTime": {
     "end_time": "2016-07-14T17:38:14.661276",
     "start_time": "2016-07-14T17:38:14.651899"
    },
    "collapsed": true
   },
   "outputs": [],
   "source": [
    "def process_venta_agencia(df_townstate):\n",
    "    l = []\n",
    "    print('week: ')\n",
    "    for week in range(3,10):\n",
    "        print(week, end='\\r')\n",
    "        df_week = pd.read_csv('input/train_week%s.csv' % week, usecols=['Agencia_ID','Venta_hoy'])\n",
    "        aux = df_week.merge(df_townstate, how='left', on='Agencia_ID')\n",
    "        prod_venta = aux.groupby('State').median().reset_index()\n",
    "        l.append(prod_venta)\n",
    "    df_venta = pd.concat(l)\n",
    "    df_venta = df_venta[['Agencia_ID','Venta_hoy','State']].groupby('State').median().reset_index()\n",
    "    df_venta['Venta_hoy_log10'] = np.round(np.log(df_venta['Venta_hoy'].values+1))\n",
    "    return df_venta"
   ]
  },
  {
   "cell_type": "code",
   "execution_count": 6,
   "metadata": {
    "ExecuteTime": {
     "end_time": "2016-07-14T17:38:14.666351",
     "start_time": "2016-07-14T17:38:14.663160"
    },
    "collapsed": true
   },
   "outputs": [],
   "source": [
    "def process_producto():\n",
    "    df_producto = pd.read_csv('input/producto_tabla.csv.gz', compression='gzip')\n",
    "    df_producto = trata_producto_names(df_producto)\n",
    "    return df_producto"
   ]
  },
  {
   "cell_type": "code",
   "execution_count": 7,
   "metadata": {
    "ExecuteTime": {
     "end_time": "2016-07-14T17:38:14.686441",
     "start_time": "2016-07-14T17:38:14.667889"
    },
    "collapsed": false
   },
   "outputs": [],
   "source": [
    "def process_df(df, test=False):    \n",
    "    if not test:\n",
    "        df = df.ix[df.Demanda_uni_equil<15]   \n",
    "    \n",
    "    df = df.merge(df_retorno_cliente, on='Cliente_ID', how='left') \n",
    "    df = df.merge(df_retorno_produto, on='Producto_ID', how='left') \n",
    "    df = df.merge(df_retorno_agencia, on='Agencia_ID', how='left')\n",
    "    \n",
    "#     df = df.merge(df_agencia_canal, on='Canal_ID', how='left')\n",
    "#     df = df.merge(df_agencia_produto, on='Agencia_ID', how='left')\n",
    "#     df = df.merge(df_cliente_canal, on='Canal_ID', how='left')\n",
    "    \n",
    "    \n",
    "    df = df.merge(df_media_unidades, on=['Cliente_ID','Producto_ID'], how='left')\n",
    "#     df = df.merge(df_media_clientes_depot, on='Agencia_ID', how='left')\n",
    "    df = df.merge(df_popularidade_produto, on='Producto_ID', how='left')\n",
    "    df = df.merge(df_produto_preco_medio, on='Producto_ID', how='left')\n",
    "    df = df.merge(df_clientes_ruta, on='Ruta_SAK', how='left')\n",
    "        \n",
    "    df = df.merge(df_producto[['flavor_choc', 'flavor_vainill', 'flavor_canel','volume', 'fabricante','Producto_ID', 'product_name_length']], how='left',on='Producto_ID')\n",
    "    df = df.merge(df_townstate[['Agencia_ID','ag','bimbo']], on='Agencia_ID', how='left')\n",
    "    \n",
    "    df.volume = df.volume.fillna(-9999).astype('int')\n",
    "\n",
    "    df.ix[df.volume>500,'volume'] = 9999\n",
    "        \n",
    "    \n",
    "    df['Canal_ID'] = (df['Canal_ID'] == 1) *1\n",
    "        \n",
    "    return df"
   ]
  },
  {
   "cell_type": "code",
   "execution_count": 8,
   "metadata": {
    "ExecuteTime": {
     "end_time": "2016-07-14T17:38:14.696205",
     "start_time": "2016-07-14T17:38:14.688011"
    },
    "collapsed": true
   },
   "outputs": [],
   "source": [
    "def compras_cliente_mean():\n",
    "    l = []\n",
    "    for i in range(3,10):\n",
    "        df = pd.read_csv('input/train_week%i.csv' % (i), usecols=['Cliente_ID','Producto_ID','Venta_uni_hoy'])\n",
    "        l.append(df.groupby(['Cliente_ID','Producto_ID']).mean().reset_index())\n",
    "    df = pd.concat(l)\n",
    "    df = df.groupby(['Cliente_ID','Producto_ID']).mean().reset_index()\n",
    "    df.columns = ['Cliente_ID','Producto_ID','media_de_unidades']\n",
    "    df['media_de_unidades_log'] = np.log(df['media_de_unidades'].values+1)\n",
    "    df['media_de_unidades_sqrt'] = np.sqrt(df['media_de_unidades'].values)    \n",
    "    return df"
   ]
  },
  {
   "cell_type": "code",
   "execution_count": 9,
   "metadata": {
    "ExecuteTime": {
     "end_time": "2016-07-14T17:38:14.701441",
     "start_time": "2016-07-14T17:38:14.698183"
    },
    "collapsed": true
   },
   "outputs": [],
   "source": []
  },
  {
   "cell_type": "code",
   "execution_count": 10,
   "metadata": {
    "ExecuteTime": {
     "end_time": "2016-07-14T17:38:14.709841",
     "start_time": "2016-07-14T17:38:14.703093"
    },
    "collapsed": false
   },
   "outputs": [],
   "source": [
    "def produto_popularidade():\n",
    "    l = []\n",
    "    for i in range(3,10):\n",
    "        df = pd.read_csv('input/train_week%i.csv' % (i), usecols=['Producto_ID','Venta_uni_hoy'])\n",
    "        l.append(df.groupby(['Producto_ID']).sum().reset_index())\n",
    "    df = pd.concat(l)\n",
    "    df = df.groupby(['Producto_ID']).mean().reset_index()\n",
    "    df.columns = ['Producto_ID','produto_popularidade']\n",
    "    df['produto_popularidade_log'] = np.log(df['produto_popularidade'].values+1)\n",
    "    df['produto_popularidade_sqrt'] = np.sqrt(df['produto_popularidade'].values)\n",
    "    return df"
   ]
  },
  {
   "cell_type": "code",
   "execution_count": 11,
   "metadata": {
    "ExecuteTime": {
     "end_time": "2016-07-14T17:38:14.720357",
     "start_time": "2016-07-14T17:38:14.711610"
    },
    "collapsed": true
   },
   "outputs": [],
   "source": [
    "def produto_preco_mean():\n",
    "    l = []\n",
    "    for i in range(3,10):\n",
    "        df = pd.read_csv('input/train_week%i.csv' % (i), usecols=['Producto_ID','Venta_uni_hoy','Venta_hoy'])\n",
    "        df['preco_medio'] = df['Venta_hoy'] / df['Venta_uni_hoy']\n",
    "        l.append(df.groupby(['Producto_ID']).mean().reset_index())\n",
    "    df = pd.concat(l)\n",
    "    df = df.groupby(['Producto_ID']).mean().reset_index()\n",
    "    df[['Producto_ID','preco_medio']].columns = ['Producto_ID','preco_medio']\n",
    "    df['preco_medio'] = df['preco_medio'].fillna(0)\n",
    "    df['preco_medio_log'] = np.log(df['preco_medio'].values+1)\n",
    "    df['preco_medio_sqrt'] = np.sqrt(df['preco_medio'].values)\n",
    "    return df[['Producto_ID','preco_medio','preco_medio_log','preco_medio_sqrt']]"
   ]
  },
  {
   "cell_type": "code",
   "execution_count": 12,
   "metadata": {
    "ExecuteTime": {
     "end_time": "2016-07-14T17:38:14.730030",
     "start_time": "2016-07-14T17:38:14.722147"
    },
    "collapsed": true
   },
   "outputs": [],
   "source": [
    "def count_clientes_ruta():\n",
    "    l = []\n",
    "    for i in range(3,10):\n",
    "        df = pd.read_csv('input/train_week%i.csv' % (i), usecols=['Ruta_SAK','Cliente_ID'])\n",
    "        df = df.ix[~df.duplicated()]\n",
    "        l.append(df.groupby(['Ruta_SAK']).count().reset_index())\n",
    "    df = pd.concat(l)\n",
    "    df = df.groupby(['Ruta_SAK']).mean().reset_index()\n",
    "    df.columns = ['Ruta_SAK','clientes_por_rota']\n",
    "    df['clientes_por_rota_log'] = np.log(df['clientes_por_rota'].values+1)\n",
    "    df['clientes_por_rota_sqrt'] = np.sqrt(df['clientes_por_rota'].values)\n",
    "    return df"
   ]
  },
  {
   "cell_type": "code",
   "execution_count": 13,
   "metadata": {
    "ExecuteTime": {
     "end_time": "2016-07-14T17:41:15.599905",
     "start_time": "2016-07-14T17:38:14.731774"
    },
    "collapsed": false
   },
   "outputs": [],
   "source": [
    "df_media_unidades = compras_cliente_mean()\n",
    "df_popularidade_produto = produto_popularidade()\n",
    "df_produto_preco_medio = produto_preco_mean()\n",
    "df_clientes_ruta = count_clientes_ruta()"
   ]
  },
  {
   "cell_type": "code",
   "execution_count": 14,
   "metadata": {
    "ExecuteTime": {
     "end_time": "2016-07-14T17:41:15.608786",
     "start_time": "2016-07-14T17:41:15.601300"
    },
    "collapsed": true
   },
   "outputs": [],
   "source": [
    "def retorno_por_agencia():\n",
    "    l = []\n",
    "    for i in range(3,10):\n",
    "        df = pd.read_csv('input/train_week%i.csv' % (i), usecols=['Dev_uni_proxima','Agencia_ID'])\n",
    "        df = df.ix[~df.duplicated()]\n",
    "        l.append(df.groupby(['Agencia_ID']).sum().reset_index())\n",
    "    df = pd.concat(l)\n",
    "    df = df.groupby(['Agencia_ID']).mean().reset_index()\n",
    "    df.columns = ['Agencia_ID','devolucao_por_agencia']\n",
    "    df['devolucao_por_agencia_log'] = np.log(df['devolucao_por_agencia'].values+1)\n",
    "    df['devolucao_por_agencia_sqrt'] = np.sqrt(df['devolucao_por_agencia'].values)\n",
    "    return df"
   ]
  },
  {
   "cell_type": "code",
   "execution_count": 15,
   "metadata": {
    "ExecuteTime": {
     "end_time": "2016-07-14T17:41:39.280554",
     "start_time": "2016-07-14T17:41:15.610053"
    },
    "collapsed": true
   },
   "outputs": [],
   "source": [
    "df_retorno_agencia = retorno_por_agencia()"
   ]
  },
  {
   "cell_type": "code",
   "execution_count": 16,
   "metadata": {
    "ExecuteTime": {
     "end_time": "2016-07-14T17:41:39.289142",
     "start_time": "2016-07-14T17:41:39.281817"
    },
    "collapsed": false
   },
   "outputs": [],
   "source": [
    "def retorno_por_cliente():\n",
    "    l = []\n",
    "    for i in range(3,10):\n",
    "        df = pd.read_csv('input/train_week%i.csv' % (i), usecols=['Dev_uni_proxima','Cliente_ID'])\n",
    "        df = df.ix[~df.duplicated()]\n",
    "        l.append(df.groupby(['Cliente_ID']).sum().reset_index())\n",
    "    df = pd.concat(l)\n",
    "    df = df.groupby(['Cliente_ID']).mean().reset_index()\n",
    "    df.columns = ['Cliente_ID','devolucao_por_cliente']\n",
    "    df['devolucao_por_cliente_log'] = np.log(df['devolucao_por_cliente'].values+1)\n",
    "    df['devolucao_por_cliente_sqrt'] = np.sqrt(df['devolucao_por_cliente'].values)\n",
    "    return df"
   ]
  },
  {
   "cell_type": "code",
   "execution_count": 17,
   "metadata": {
    "ExecuteTime": {
     "end_time": "2016-07-14T17:42:06.563650",
     "start_time": "2016-07-14T17:41:39.290388"
    },
    "collapsed": true
   },
   "outputs": [],
   "source": [
    "df_retorno_cliente = retorno_por_cliente()"
   ]
  },
  {
   "cell_type": "code",
   "execution_count": 18,
   "metadata": {
    "ExecuteTime": {
     "end_time": "2016-07-14T17:42:06.572477",
     "start_time": "2016-07-14T17:42:06.564981"
    },
    "collapsed": true
   },
   "outputs": [],
   "source": [
    "def retorno_por_produto():\n",
    "    l = []\n",
    "    for i in range(3,10):\n",
    "        df = pd.read_csv('input/train_week%i.csv' % (i), usecols=['Dev_uni_proxima','Producto_ID'])\n",
    "        df = df.ix[~df.duplicated()]\n",
    "        l.append(df.groupby(['Producto_ID']).sum().reset_index())\n",
    "    df = pd.concat(l)\n",
    "    df = df.groupby(['Producto_ID']).mean().reset_index()\n",
    "    df.columns = ['Producto_ID','devolucao_por_produto']\n",
    "    df['devolucao_por_produto_log'] = np.log(df['devolucao_por_produto'].values+1)\n",
    "    df['devolucao_por_produto_sqrt'] = np.sqrt(df['devolucao_por_produto'].values)\n",
    "    return df"
   ]
  },
  {
   "cell_type": "code",
   "execution_count": 19,
   "metadata": {
    "ExecuteTime": {
     "end_time": "2016-07-14T17:42:30.997310",
     "start_time": "2016-07-14T17:42:06.573823"
    },
    "collapsed": false
   },
   "outputs": [],
   "source": [
    "df_retorno_produto = retorno_por_produto()"
   ]
  },
  {
   "cell_type": "code",
   "execution_count": null,
   "metadata": {
    "collapsed": true
   },
   "outputs": [],
   "source": []
  },
  {
   "cell_type": "code",
   "execution_count": null,
   "metadata": {
    "collapsed": true
   },
   "outputs": [],
   "source": []
  },
  {
   "cell_type": "code",
   "execution_count": 20,
   "metadata": {
    "ExecuteTime": {
     "end_time": "2016-07-14T17:42:31.891264",
     "start_time": "2016-07-14T17:42:30.998645"
    },
    "collapsed": true
   },
   "outputs": [],
   "source": [
    "from nltk.corpus import stopwords"
   ]
  },
  {
   "cell_type": "code",
   "execution_count": 21,
   "metadata": {
    "ExecuteTime": {
     "end_time": "2016-07-14T17:42:31.902182",
     "start_time": "2016-07-14T17:42:31.892517"
    },
    "collapsed": false
   },
   "outputs": [],
   "source": [
    "stop_words = stopwords.words('spanish')"
   ]
  },
  {
   "cell_type": "code",
   "execution_count": 22,
   "metadata": {
    "ExecuteTime": {
     "end_time": "2016-07-14T17:42:31.918930",
     "start_time": "2016-07-14T17:42:31.903407"
    },
    "collapsed": false
   },
   "outputs": [],
   "source": [
    "df_townstate = pd.read_csv('input/town_state.csv.gz', compression='gzip')\n",
    "df_townstate['bimbo'] = df_townstate.Town.str.contains('BIMBO') * 1\n",
    "df_townstate['ag'] = df_townstate.Town.str.contains('AG.') * 1"
   ]
  },
  {
   "cell_type": "code",
   "execution_count": 23,
   "metadata": {
    "ExecuteTime": {
     "end_time": "2016-07-14T17:42:31.923023",
     "start_time": "2016-07-14T17:42:31.920265"
    },
    "collapsed": true
   },
   "outputs": [],
   "source": [
    "pd.options.display.max_rows = 30"
   ]
  },
  {
   "cell_type": "code",
   "execution_count": 24,
   "metadata": {
    "ExecuteTime": {
     "end_time": "2016-07-14T17:42:33.098924",
     "start_time": "2016-07-14T17:42:31.924389"
    },
    "collapsed": false
   },
   "outputs": [],
   "source": [
    "df_producto = process_producto()"
   ]
  },
  {
   "cell_type": "code",
   "execution_count": 25,
   "metadata": {
    "ExecuteTime": {
     "end_time": "2016-07-14T17:42:33.102592",
     "start_time": "2016-07-14T17:42:33.100205"
    },
    "collapsed": false
   },
   "outputs": [],
   "source": [
    "# df_process['fabricante'].value_counts()"
   ]
  },
  {
   "cell_type": "code",
   "execution_count": 75,
   "metadata": {
    "ExecuteTime": {
     "end_time": "2016-07-14T18:11:12.400298",
     "start_time": "2016-07-14T18:11:12.392050"
    },
    "collapsed": false
   },
   "outputs": [],
   "source": [
    "cols = [    \n",
    "    'media_de_unidades_log',\n",
    "#     'produto_popularidade_log',\n",
    "#     'preco_medio_log',\n",
    "#     'clientes_por_rota_log',\n",
    "    \n",
    "    \n",
    "#     'devolucao_por_cliente_log',\n",
    "#     'devolucao_por_produto_log',\n",
    "#     'volume',\n",
    "#     'product_name_length',\n",
    "]"
   ]
  },
  {
   "cell_type": "code",
   "execution_count": 27,
   "metadata": {
    "ExecuteTime": {
     "end_time": "2016-07-14T17:42:33.117426",
     "start_time": "2016-07-14T17:42:33.113684"
    },
    "collapsed": false
   },
   "outputs": [],
   "source": [
    "# aux.Agencia_ID.dtype "
   ]
  },
  {
   "cell_type": "code",
   "execution_count": 28,
   "metadata": {
    "ExecuteTime": {
     "end_time": "2016-07-14T17:42:33.123321",
     "start_time": "2016-07-14T17:42:33.119970"
    },
    "collapsed": false
   },
   "outputs": [],
   "source": [
    "# enc._n_values"
   ]
  },
  {
   "cell_type": "markdown",
   "metadata": {},
   "source": [
    "# fiitting model"
   ]
  },
  {
   "cell_type": "code",
   "execution_count": 38,
   "metadata": {
    "ExecuteTime": {
     "end_time": "2016-07-14T17:53:31.348883",
     "start_time": "2016-07-14T17:53:31.328554"
    },
    "collapsed": true
   },
   "outputs": [],
   "source": [
    "from sklearn.ensemble import RandomForestRegressor, ExtraTreesRegressor, GradientBoostingRegressor, AdaBoostRegressor, BaggingRegressor\n",
    "from sklearn.neighbors import KNeighborsRegressor\n",
    "from sklearn.linear_model import LinearRegression, LogisticRegression, BayesianRidge\n",
    "from sklearn.cross_validation import StratifiedKFold, cross_val_score, train_test_split, KFold\n",
    "from sklearn.metrics import mean_squared_error\n",
    "from sklearn.preprocessing import OneHotEncoder\n",
    "from sklearn.decomposition import PCA"
   ]
  },
  {
   "cell_type": "code",
   "execution_count": 30,
   "metadata": {
    "ExecuteTime": {
     "end_time": "2016-07-14T17:42:33.182451",
     "start_time": "2016-07-14T17:42:33.177734"
    },
    "collapsed": true
   },
   "outputs": [],
   "source": [
    "def rmsle_func(truths, preds):\n",
    "    truths = np.asarray(truths)\n",
    "    preds = np.asarray(preds)\n",
    "    \n",
    "    n = len(truths)\n",
    "    diff = (np.log(preds+1) - np.log(truths+1))**2\n",
    "#     print(diff, n, np.sum(diff))\n",
    "    return np.sqrt(np.sum(diff)/n)"
   ]
  },
  {
   "cell_type": "code",
   "execution_count": 31,
   "metadata": {
    "ExecuteTime": {
     "end_time": "2016-07-14T17:42:33.191393",
     "start_time": "2016-07-14T17:42:33.184617"
    },
    "collapsed": false
   },
   "outputs": [],
   "source": [
    "# rf = ExtraTreesRegressor(n_estimators=50, max_features=1.0,min_samples_split=3,n_jobs=4)\n",
    "\n",
    "\n",
    "\n",
    "def train(x, y):\n",
    "    results = []\n",
    "    kf = StratifiedKFold(y, n_folds=3, random_state=401)\n",
    "    for (train, test) in kf:\n",
    "        rf.fit(x[train], y[train])\n",
    "        y_pred = rf.predict(x[test])\n",
    "        result = rmsle_func(y[test], y_pred)\n",
    "#         print(\"RESULT\", result)\n",
    "        results.append(result)\n",
    "        print(len(results), end='\\r')\n",
    "    return results\n",
    "        "
   ]
  },
  {
   "cell_type": "code",
   "execution_count": 32,
   "metadata": {
    "ExecuteTime": {
     "end_time": "2016-07-14T17:42:33.196368",
     "start_time": "2016-07-14T17:42:33.192873"
    },
    "collapsed": false
   },
   "outputs": [],
   "source": [
    "# df.columns"
   ]
  },
  {
   "cell_type": "code",
   "execution_count": 77,
   "metadata": {
    "ExecuteTime": {
     "end_time": "2016-07-14T18:11:32.290229",
     "start_time": "2016-07-14T18:11:27.148137"
    },
    "collapsed": false
   },
   "outputs": [
    {
     "name": "stdout",
     "output_type": "stream",
     "text": [
      "fitting week 3... \n",
      "mean result: 0.34531014222 std: 0.0145909201955\n"
     ]
    }
   ],
   "source": [
    "rf = RandomForestRegressor(\n",
    "    random_state=401, n_jobs=4,\n",
    "                          )\n",
    "\n",
    "for week in range(3,10):\n",
    "#     week = 9\n",
    "    print('fitting week %s... ' % week,)\n",
    "#     df_week = pd.read_csv('input/train_week%s.csv' % week, usecols=['Demanda_uni_equil','Cliente_ID','Agencia_ID','Producto_ID','Ruta_SAK','Canal_ID'])\n",
    "    for df_week in pd.read_csv('input/train_week%s.csv' % week, \n",
    "                               usecols=['Demanda_uni_equil','Cliente_ID','Agencia_ID','Producto_ID','Ruta_SAK','Canal_ID'], chunksize=10000):\n",
    "        aux = process_df(df_week)\n",
    "        df = aux[cols+['Demanda_uni_equil']]\n",
    "        df = pd.get_dummies(df)\n",
    "\n",
    "        df_partial = df\n",
    "        x = df_partial.drop(['Demanda_uni_equil'], axis=1).values\n",
    "        y = df_partial['Demanda_uni_equil'].values\n",
    "        results = train(x,y)\n",
    "#         del df_week, aux, x, y, df_partial\n",
    "        print('mean result:',np.mean(results), 'std:',np.std(results))\n",
    "#         print(' ')\n",
    "        break\n",
    "    break\n"
   ]
  },
  {
   "cell_type": "code",
   "execution_count": 40,
   "metadata": {
    "ExecuteTime": {
     "end_time": "2016-07-14T17:53:48.533488",
     "start_time": "2016-07-14T17:53:48.528820"
    },
    "collapsed": true
   },
   "outputs": [],
   "source": []
  },
  {
   "cell_type": "markdown",
   "metadata": {
    "ExecuteTime": {
     "end_time": "2016-07-14T17:53:54.080409",
     "start_time": "2016-07-14T17:53:53.962647"
    }
   },
   "source": [
    "# Principal component analysis"
   ]
  },
  {
   "cell_type": "code",
   "execution_count": null,
   "metadata": {
    "ExecuteTime": {
     "end_time": "2016-07-14T18:04:40.569887",
     "start_time": "2016-07-14T18:04:40.559175"
    },
    "collapsed": false
   },
   "outputs": [],
   "source": []
  },
  {
   "cell_type": "code",
   "execution_count": 76,
   "metadata": {
    "ExecuteTime": {
     "end_time": "2016-07-14T18:11:18.491193",
     "start_time": "2016-07-14T18:11:18.310552"
    },
    "collapsed": false
   },
   "outputs": [
    {
     "data": {
      "text/plain": [
       "[<matplotlib.text.Text at 0x7f0c28ebb940>]"
      ]
     },
     "execution_count": 76,
     "metadata": {},
     "output_type": "execute_result"
    },
    {
     "data": {
      "image/png": "[encoded data removed]",
      "text/plain": [
       "<matplotlib.figure.Figure at 0x7f0c28f04320>"
      ]
     },
     "metadata": {},
     "output_type": "display_data"
    }
   ],
   "source": [
    "pca = PCA()\n",
    "pca.fit(x)\n",
    "# pca.explained_variance_ratio_.shape\n",
    "ax = pd.Series(pca.explained_variance_ratio_).plot(kind='bar')\n",
    "ax.set_xticklabels(cols)"
   ]
  },
  {
   "cell_type": "code",
   "execution_count": 54,
   "metadata": {
    "ExecuteTime": {
     "end_time": "2016-07-14T17:56:40.117631",
     "start_time": "2016-07-14T17:56:40.108925"
    },
    "collapsed": false
   },
   "outputs": [
    {
     "data": {
      "text/plain": [
       "8"
      ]
     },
     "execution_count": 54,
     "metadata": {},
     "output_type": "execute_result"
    }
   ],
   "source": []
  },
  {
   "cell_type": "code",
   "execution_count": 55,
   "metadata": {
    "ExecuteTime": {
     "end_time": "2016-07-14T17:56:46.726194",
     "start_time": "2016-07-14T17:56:46.156237"
    },
    "collapsed": false
   },
   "outputs": [
    {
     "data": {
      "text/plain": [
       "<Container object of 8 artists>"
      ]
     },
     "execution_count": 55,
     "metadata": {},
     "output_type": "execute_result"
    },
    {
     "data": {
      "image/png": "[encoded data removed]",
      "text/plain": [
       "<matplotlib.figure.Figure at 0x7f0c2817dc18>"
      ]
     },
     "metadata": {},
     "output_type": "display_data"
    }
   ],
   "source": []
  },
  {
   "cell_type": "code",
   "execution_count": null,
   "metadata": {
    "collapsed": true
   },
   "outputs": [],
   "source": []
  },
  {
   "cell_type": "code",
   "execution_count": null,
   "metadata": {
    "collapsed": true
   },
   "outputs": [],
   "source": [
    "import pickle"
   ]
  },
  {
   "cell_type": "code",
   "execution_count": 35,
   "metadata": {
    "ExecuteTime": {
     "end_time": "2016-07-14T15:24:23.037265",
     "start_time": "2016-07-14T15:24:22.661496"
    },
    "collapsed": false
   },
   "outputs": [],
   "source": [
    "# f = open('randomforest.pkl', 'wb')\n",
    "# pickle.dump(rf, f)\n",
    "# f.close()"
   ]
  },
  {
   "cell_type": "code",
   "execution_count": null,
   "metadata": {
    "ExecuteTime": {
     "end_time": "2016-07-14T13:18:13.422283",
     "start_time": "2016-07-14T13:18:13.418342"
    },
    "collapsed": false
   },
   "outputs": [],
   "source": [
    "# f = open('randomforest.pkl', 'rb')\n",
    "# rf = pickle.load(f)\n",
    "# f.close()"
   ]
  },
  {
   "cell_type": "code",
   "execution_count": null,
   "metadata": {
    "ExecuteTime": {
     "end_time": "2016-07-13T14:32:33.415953",
     "start_time": "2016-07-13T14:32:33.413120"
    },
    "collapsed": true
   },
   "outputs": [],
   "source": [
    "# benchmark GB => 5.94199629697, 10000\n",
    "# benchmark RF => 0.35103308505, 10000\n",
    "# benchmark Linear => 6.30695175461, 10000\n",
    "# benchmark AdaBoost => 6.09610259777, 10000\n",
    " "
   ]
  },
  {
   "cell_type": "markdown",
   "metadata": {},
   "source": [
    "# Validating model"
   ]
  },
  {
   "cell_type": "code",
   "execution_count": null,
   "metadata": {
    "ExecuteTime": {
     "end_time": "2016-07-14T12:41:55.040522",
     "start_time": "2016-07-14T12:41:46.633106"
    },
    "collapsed": false
   },
   "outputs": [],
   "source": []
  },
  {
   "cell_type": "code",
   "execution_count": null,
   "metadata": {
    "ExecuteTime": {
     "end_time": "2016-07-14T12:42:39.171781",
     "start_time": "2016-07-14T12:42:05.334882"
    },
    "collapsed": true
   },
   "outputs": [],
   "source": []
  },
  {
   "cell_type": "code",
   "execution_count": 34,
   "metadata": {
    "ExecuteTime": {
     "end_time": "2016-07-14T17:42:39.721198",
     "start_time": "2016-07-14T17:42:39.702189"
    },
    "collapsed": true
   },
   "outputs": [],
   "source": [
    "def prediction(df, test=True):\n",
    "    aux = process_df(df, test)    \n",
    "    df = aux[cols]\n",
    "    df = pd.get_dummies(df)\n",
    "    df_partial = df.fillna(0)\n",
    "    x = df_partial.values\n",
    "    y_pred = rf.predict(x)\n",
    "    return y_pred"
   ]
  },
  {
   "cell_type": "code",
   "execution_count": 35,
   "metadata": {
    "ExecuteTime": {
     "end_time": "2016-07-14T17:42:46.808320",
     "start_time": "2016-07-14T17:42:39.723270"
    },
    "collapsed": true
   },
   "outputs": [],
   "source": [
    "df_validation = pd.read_csv('input/train_week9.csv')"
   ]
  },
  {
   "cell_type": "code",
   "execution_count": 36,
   "metadata": {
    "ExecuteTime": {
     "end_time": "2016-07-14T17:44:16.726731",
     "start_time": "2016-07-14T17:42:46.810609"
    },
    "collapsed": false
   },
   "outputs": [],
   "source": [
    "y_pred = prediction(df_validation, True)"
   ]
  },
  {
   "cell_type": "code",
   "execution_count": 37,
   "metadata": {
    "ExecuteTime": {
     "end_time": "2016-07-14T17:44:18.767409",
     "start_time": "2016-07-14T17:44:16.761314"
    },
    "collapsed": false
   },
   "outputs": [
    {
     "name": "stdout",
     "output_type": "stream",
     "text": [
      "0.522055830059\n"
     ]
    }
   ],
   "source": [
    "y = df_validation['Demanda_uni_equil'].values\n",
    "result = rmsle_func(y, y_pred)\n",
    "print(result)"
   ]
  },
  {
   "cell_type": "code",
   "execution_count": null,
   "metadata": {
    "ExecuteTime": {
     "end_time": "2016-07-14T16:48:25.915467",
     "start_time": "2016-07-14T16:48:25.758161"
    },
    "collapsed": false
   },
   "outputs": [],
   "source": []
  },
  {
   "cell_type": "markdown",
   "metadata": {
    "ExecuteTime": {
     "end_time": "2016-07-08T11:07:30.348451",
     "start_time": "2016-07-08T11:07:30.338215"
    }
   },
   "source": [
    "# testing feature importances"
   ]
  },
  {
   "cell_type": "code",
   "execution_count": 74,
   "metadata": {
    "ExecuteTime": {
     "end_time": "2016-07-14T16:46:47.671746",
     "start_time": "2016-07-14T16:46:47.661744"
    },
    "collapsed": false
   },
   "outputs": [],
   "source": [
    "a = pd.DataFrame([{'a':0},{'a':1},{'a':2},{'a':4}])\n",
    "b = pd.DataFrame([{'a':0, 'b':5},{'a':1, 'b':6},{'a':2, 'b':7},{'a':3, 'b':8},{'a':4, 'b':9}])"
   ]
  },
  {
   "cell_type": "code",
   "execution_count": 81,
   "metadata": {
    "ExecuteTime": {
     "end_time": "2016-07-14T16:47:26.842521",
     "start_time": "2016-07-14T16:47:26.823476"
    },
    "collapsed": false
   },
   "outputs": [
    {
     "data": {
      "text/html": [
       "<div>\n",
       "<table border=\"1\" class=\"dataframe\">\n",
       "  <thead>\n",
       "    <tr style=\"text-align: right;\">\n",
       "      <th></th>\n",
       "      <th>a</th>\n",
       "      <th>b</th>\n",
       "    </tr>\n",
       "  </thead>\n",
       "  <tbody>\n",
       "    <tr>\n",
       "      <th>0</th>\n",
       "      <td>0</td>\n",
       "      <td>5</td>\n",
       "    </tr>\n",
       "    <tr>\n",
       "      <th>1</th>\n",
       "      <td>1</td>\n",
       "      <td>6</td>\n",
       "    </tr>\n",
       "    <tr>\n",
       "      <th>2</th>\n",
       "      <td>2</td>\n",
       "      <td>7</td>\n",
       "    </tr>\n",
       "    <tr>\n",
       "      <th>3</th>\n",
       "      <td>4</td>\n",
       "      <td>9</td>\n",
       "    </tr>\n",
       "  </tbody>\n",
       "</table>\n",
       "</div>"
      ],
      "text/plain": [
       "   a  b\n",
       "0  0  5\n",
       "1  1  6\n",
       "2  2  7\n",
       "3  4  9"
      ]
     },
     "execution_count": 81,
     "metadata": {},
     "output_type": "execute_result"
    }
   ],
   "source": []
  },
  {
   "cell_type": "code",
   "execution_count": null,
   "metadata": {
    "collapsed": true
   },
   "outputs": [],
   "source": []
  },
  {
   "cell_type": "code",
   "execution_count": null,
   "metadata": {
    "ExecuteTime": {
     "end_time": "2016-07-12T13:36:07.134930",
     "start_time": "2016-07-12T13:36:07.130496"
    },
    "collapsed": false
   },
   "outputs": [],
   "source": []
  },
  {
   "cell_type": "code",
   "execution_count": 55,
   "metadata": {
    "ExecuteTime": {
     "end_time": "2016-07-14T16:37:08.717767",
     "start_time": "2016-07-14T16:37:08.713549"
    },
    "collapsed": false
   },
   "outputs": [],
   "source": [
    "a = df"
   ]
  },
  {
   "cell_type": "code",
   "execution_count": 56,
   "metadata": {
    "ExecuteTime": {
     "end_time": "2016-07-14T16:37:09.016568",
     "start_time": "2016-07-14T16:37:08.906459"
    },
    "collapsed": false
   },
   "outputs": [
    {
     "data": {
      "text/plain": [
       "(8,)"
      ]
     },
     "execution_count": 56,
     "metadata": {},
     "output_type": "execute_result"
    }
   ],
   "source": [
    "rf.feature_importances_.shape"
   ]
  },
  {
   "cell_type": "code",
   "execution_count": 57,
   "metadata": {
    "ExecuteTime": {
     "end_time": "2016-07-14T16:37:09.099844",
     "start_time": "2016-07-14T16:37:09.095567"
    },
    "collapsed": false
   },
   "outputs": [],
   "source": [
    "# a.columns"
   ]
  },
  {
   "cell_type": "code",
   "execution_count": 58,
   "metadata": {
    "ExecuteTime": {
     "end_time": "2016-07-14T16:37:09.618499",
     "start_time": "2016-07-14T16:37:09.607885"
    },
    "collapsed": false
   },
   "outputs": [
    {
     "data": {
      "text/plain": [
       "Index(['media_de_unidades_log', 'produto_popularidade_log', 'preco_medio_log',\n",
       "       'clientes_por_rota_log', 'devolucao_por_cliente_log',\n",
       "       'devolucao_por_produto_log', 'volume', 'product_name_length',\n",
       "       'Demanda_uni_equil'],\n",
       "      dtype='object')"
      ]
     },
     "execution_count": 58,
     "metadata": {},
     "output_type": "execute_result"
    }
   ],
   "source": [
    "a.columns[:]"
   ]
  },
  {
   "cell_type": "code",
   "execution_count": 59,
   "metadata": {
    "ExecuteTime": {
     "end_time": "2016-07-14T16:37:14.786084",
     "start_time": "2016-07-14T16:37:14.463482"
    },
    "collapsed": false
   },
   "outputs": [
    {
     "data": {
      "text/plain": [
       "<Container object of 8 artists>"
      ]
     },
     "execution_count": 59,
     "metadata": {},
     "output_type": "execute_result"
    },
    {
     "data": {
      "image/png": "[encoded data removed]",
      "text/plain": [
       "<matplotlib.figure.Figure at 0x7f888f35cdd8>"
      ]
     },
     "metadata": {},
     "output_type": "display_data"
    }
   ],
   "source": [
    "plt.bar(range(0,8), height=rf.feature_importances_)"
   ]
  },
  {
   "cell_type": "code",
   "execution_count": null,
   "metadata": {
    "ExecuteTime": {
     "end_time": "2016-07-08T18:32:35.370634",
     "start_time": "2016-07-08T21:32:13.376Z"
    },
    "collapsed": false
   },
   "outputs": [],
   "source": [
    "# aux.Demanda_uni_equil.value_counts().plot(kind='bar')"
   ]
  },
  {
   "cell_type": "code",
   "execution_count": null,
   "metadata": {
    "ExecuteTime": {
     "end_time": "2016-07-08T18:32:35.370921",
     "start_time": "2016-07-08T21:32:15.441Z"
    },
    "collapsed": false
   },
   "outputs": [],
   "source": [
    "aux.columns"
   ]
  },
  {
   "cell_type": "code",
   "execution_count": null,
   "metadata": {
    "ExecuteTime": {
     "end_time": "2016-07-08T18:46:40.316426",
     "start_time": "2016-07-08T18:46:38.710493"
    },
    "collapsed": false
   },
   "outputs": [],
   "source": []
  },
  {
   "cell_type": "code",
   "execution_count": null,
   "metadata": {
    "ExecuteTime": {
     "end_time": "2016-07-08T18:45:34.313391",
     "start_time": "2016-07-08T18:45:33.970802"
    },
    "collapsed": false
   },
   "outputs": [],
   "source": []
  },
  {
   "cell_type": "markdown",
   "metadata": {
    "ExecuteTime": {
     "end_time": "2016-07-14T12:47:53.424310",
     "start_time": "2016-07-14T12:47:53.420691"
    },
    "collapsed": true
   },
   "source": [
    "# test prediction"
   ]
  },
  {
   "cell_type": "code",
   "execution_count": null,
   "metadata": {
    "ExecuteTime": {
     "end_time": "2016-07-14T13:26:15.388402",
     "start_time": "2016-07-14T13:26:15.364657"
    },
    "collapsed": false
   },
   "outputs": [],
   "source": [
    "df_test.index"
   ]
  },
  {
   "cell_type": "code",
   "execution_count": 36,
   "metadata": {
    "ExecuteTime": {
     "end_time": "2016-07-14T15:24:58.226128",
     "start_time": "2016-07-14T15:24:52.355618"
    },
    "collapsed": false
   },
   "outputs": [],
   "source": [
    "df_test = pd.read_csv('input/test.csv.gz')"
   ]
  },
  {
   "cell_type": "code",
   "execution_count": 39,
   "metadata": {
    "ExecuteTime": {
     "end_time": "2016-07-14T15:25:56.383516",
     "start_time": "2016-07-14T15:25:08.807398"
    },
    "collapsed": false
   },
   "outputs": [],
   "source": [
    "ypred = prediction(df_test, True)"
   ]
  },
  {
   "cell_type": "code",
   "execution_count": 40,
   "metadata": {
    "ExecuteTime": {
     "end_time": "2016-07-14T15:25:56.418229",
     "start_time": "2016-07-14T15:25:56.390543"
    },
    "collapsed": false
   },
   "outputs": [],
   "source": [
    "result = pd.DataFrame(ypred, columns=['Demanda_uni_equil'])"
   ]
  },
  {
   "cell_type": "code",
   "execution_count": 41,
   "metadata": {
    "ExecuteTime": {
     "end_time": "2016-07-14T15:25:56.444868",
     "start_time": "2016-07-14T15:25:56.420769"
    },
    "collapsed": false
   },
   "outputs": [],
   "source": [
    "result['id'] = result.index"
   ]
  },
  {
   "cell_type": "code",
   "execution_count": null,
   "metadata": {
    "ExecuteTime": {
     "end_time": "2016-07-14T13:29:11.736543",
     "start_time": "2016-07-14T13:29:11.722407"
    },
    "collapsed": true
   },
   "outputs": [],
   "source": []
  },
  {
   "cell_type": "code",
   "execution_count": null,
   "metadata": {
    "ExecuteTime": {
     "end_time": "2016-07-14T13:29:15.710065",
     "start_time": "2016-07-14T13:29:15.703844"
    },
    "collapsed": false
   },
   "outputs": [],
   "source": []
  },
  {
   "cell_type": "code",
   "execution_count": 42,
   "metadata": {
    "ExecuteTime": {
     "end_time": "2016-07-14T15:26:29.166014",
     "start_time": "2016-07-14T15:25:56.447496"
    },
    "collapsed": false
   },
   "outputs": [],
   "source": [
    "from datetime import datetime\n",
    "d = datetime.now()\n",
    "d = d.strftime('%Y%m%d%M')\n",
    "result[['id','Demanda_uni_equil']].to_csv('result_%s.csv.gz'%d, compression='gzip', index=False)"
   ]
  },
  {
   "cell_type": "code",
   "execution_count": 43,
   "metadata": {
    "ExecuteTime": {
     "end_time": "2016-07-14T15:27:38.389884",
     "start_time": "2016-07-14T15:27:38.376851"
    },
    "collapsed": false
   },
   "outputs": [
    {
     "data": {
      "text/plain": [
       "'2016071425'"
      ]
     },
     "execution_count": 43,
     "metadata": {},
     "output_type": "execute_result"
    }
   ],
   "source": []
  },
  {
   "cell_type": "code",
   "execution_count": null,
   "metadata": {
    "ExecuteTime": {
     "end_time": "2016-07-14T13:27:19.743064",
     "start_time": "2016-07-14T13:27:17.897101"
    },
    "collapsed": false
   },
   "outputs": [],
   "source": [
    "pd.read_csv('input/sample_submission.csv.gz', compression='gzip')"
   ]
  },
  {
   "cell_type": "code",
   "execution_count": null,
   "metadata": {
    "ExecuteTime": {
     "end_time": "2016-07-11T15:32:26.050124",
     "start_time": "2016-07-11T15:32:20.834512"
    },
    "collapsed": true
   },
   "outputs": [],
   "source": [
    "df_test = pd.read_csv('input/test.csv.gz', compression='gzip')"
   ]
  },
  {
   "cell_type": "code",
   "execution_count": null,
   "metadata": {
    "ExecuteTime": {
     "end_time": "2016-07-07T18:40:46.404302",
     "start_time": "2016-07-07T18:39:52.016071"
    },
    "collapsed": false,
    "scrolled": false
   },
   "outputs": [],
   "source": [
    "df = process_df(df_test, test=True)\n",
    "# df = aux.iloc[np.random.permutation(len(aux))]\n",
    "df = pd.get_dummies(df)\n",
    "res = rf.predict(df.values)"
   ]
  },
  {
   "cell_type": "code",
   "execution_count": null,
   "metadata": {
    "ExecuteTime": {
     "end_time": "2016-07-07T18:51:35.402823",
     "start_time": "2016-07-07T18:51:34.201563"
    },
    "collapsed": false
   },
   "outputs": [],
   "source": [
    "a = df_test.merge(df_producto, how='left', on='Producto_ID')"
   ]
  },
  {
   "cell_type": "code",
   "execution_count": null,
   "metadata": {
    "ExecuteTime": {
     "end_time": "2016-07-07T18:54:44.406265",
     "start_time": "2016-07-07T18:54:44.103026"
    },
    "collapsed": false
   },
   "outputs": [],
   "source": [
    "a.Venta_uni_hoy.hist(range=(0,10), bins=2)"
   ]
  },
  {
   "cell_type": "code",
   "execution_count": null,
   "metadata": {
    "ExecuteTime": {
     "end_time": "2016-07-07T18:53:03.974638",
     "start_time": "2016-07-07T18:53:03.964546"
    },
    "collapsed": false
   },
   "outputs": [],
   "source": []
  },
  {
   "cell_type": "code",
   "execution_count": null,
   "metadata": {
    "ExecuteTime": {
     "end_time": "2016-07-05T17:23:52.857057",
     "start_time": "2016-07-05T20:23:39.510Z"
    },
    "collapsed": false
   },
   "outputs": [],
   "source": [
    "# df_process['short_names_processed']"
   ]
  },
  {
   "cell_type": "code",
   "execution_count": null,
   "metadata": {
    "ExecuteTime": {
     "end_time": "2016-07-05T17:22:12.424024",
     "start_time": "2016-07-05T17:22:12.341279"
    },
    "collapsed": false
   },
   "outputs": [],
   "source": [
    "# pd.get_dummies(df_process[0:100][cols])"
   ]
  },
  {
   "cell_type": "code",
   "execution_count": null,
   "metadata": {
    "ExecuteTime": {
     "end_time": "2016-06-22T16:48:28.775598",
     "start_time": "2016-06-22T16:48:28.604559"
    },
    "collapsed": false
   },
   "outputs": [],
   "source": [
    "f = plt.subplots()\n",
    "i = 444\n",
    "for v in x.T:\n",
    "    i+=1\n",
    "    f.hist(v)"
   ]
  },
  {
   "cell_type": "code",
   "execution_count": null,
   "metadata": {
    "ExecuteTime": {
     "end_time": "2016-06-22T16:41:11.071953",
     "start_time": "2016-06-22T16:41:10.845778"
    },
    "collapsed": false
   },
   "outputs": [],
   "source": []
  },
  {
   "cell_type": "code",
   "execution_count": null,
   "metadata": {
    "ExecuteTime": {
     "end_time": "2016-06-22T16:35:46.831672",
     "start_time": "2016-06-22T19:28:21.110Z"
    },
    "collapsed": false
   },
   "outputs": [],
   "source": [
    "df.columns"
   ]
  },
  {
   "cell_type": "code",
   "execution_count": null,
   "metadata": {
    "ExecuteTime": {
     "end_time": "2016-06-22T15:03:32.549718",
     "start_time": "2016-06-22T15:03:32.543490"
    },
    "collapsed": true
   },
   "outputs": [],
   "source": []
  },
  {
   "cell_type": "code",
   "execution_count": null,
   "metadata": {
    "ExecuteTime": {
     "end_time": "2016-06-22T16:35:46.831936",
     "start_time": "2016-06-22T19:28:21.113Z"
    },
    "collapsed": false
   },
   "outputs": [],
   "source": [
    "count_entregas(df, 'Agencia_ID')"
   ]
  },
  {
   "cell_type": "code",
   "execution_count": null,
   "metadata": {
    "collapsed": true
   },
   "outputs": [],
   "source": []
  }
 ],
 "metadata": {
  "kernelspec": {
   "display_name": "Python 3",
   "language": "python",
   "name": "python3"
  },
  "language_info": {
   "codemirror_mode": {
    "name": "ipython",
    "version": 3
   },
   "file_extension": ".py",
   "mimetype": "text/x-python",
   "name": "python",
   "nbconvert_exporter": "python",
   "pygments_lexer": "ipython3",
   "version": "3.4.3"
  }
 },
 "nbformat": 4,
 "nbformat_minor": 0
}
