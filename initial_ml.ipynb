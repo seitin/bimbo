{
 "cells": [
  {
   "cell_type": "code",
   "execution_count": 1,
   "metadata": {
    "ExecuteTime": {
     "end_time": "2016-07-07T19:07:36.509316",
     "start_time": "2016-07-07T19:07:35.861555"
    },
    "collapsed": false
   },
   "outputs": [],
   "source": [
    "import pandas as pd\n",
    "import numpy as np\n",
    "import matplotlib.pyplot as plt\n",
    "%matplotlib inline"
   ]
  },
  {
   "cell_type": "code",
   "execution_count": 2,
   "metadata": {
    "ExecuteTime": {
     "end_time": "2016-07-07T19:07:37.233716",
     "start_time": "2016-07-07T19:07:36.510299"
    },
    "collapsed": true
   },
   "outputs": [],
   "source": [
    "from nltk.corpus import stopwords"
   ]
  },
  {
   "cell_type": "code",
   "execution_count": 3,
   "metadata": {
    "ExecuteTime": {
     "end_time": "2016-07-07T19:07:37.241874",
     "start_time": "2016-07-07T19:07:37.234737"
    },
    "collapsed": false
   },
   "outputs": [],
   "source": [
    "stop_words = stopwords.words('spanish')"
   ]
  },
  {
   "cell_type": "code",
   "execution_count": null,
   "metadata": {
    "ExecuteTime": {
     "end_time": "2016-06-21T17:49:11.459282",
     "start_time": "2016-06-21T17:49:11.449341"
    },
    "collapsed": false
   },
   "outputs": [],
   "source": []
  },
  {
   "cell_type": "code",
   "execution_count": 4,
   "metadata": {
    "ExecuteTime": {
     "end_time": "2016-07-07T19:07:37.245218",
     "start_time": "2016-07-07T19:07:37.243032"
    },
    "collapsed": true
   },
   "outputs": [],
   "source": [
    "pd.options.display.max_rows = 30"
   ]
  },
  {
   "cell_type": "code",
   "execution_count": null,
   "metadata": {
    "ExecuteTime": {
     "end_time": "2016-06-22T14:14:08.136309",
     "start_time": "2016-06-22T14:14:08.078462"
    },
    "collapsed": false
   },
   "outputs": [],
   "source": []
  },
  {
   "cell_type": "code",
   "execution_count": 5,
   "metadata": {
    "ExecuteTime": {
     "end_time": "2016-07-07T19:07:37.262236",
     "start_time": "2016-07-07T19:07:37.246546"
    },
    "collapsed": true
   },
   "outputs": [],
   "source": [
    "\n",
    "df_townstate = pd.read_csv('input/town_state.csv.gz', compression='gzip')\n",
    "df_townstate['bimbo'] = df_townstate.Town.str.contains('BIMBO') * 1\n",
    "df_townstate['ag'] = df_townstate.Town.str.contains('AG.') * 1"
   ]
  },
  {
   "cell_type": "code",
   "execution_count": 6,
   "metadata": {
    "ExecuteTime": {
     "end_time": "2016-07-07T19:07:37.269465",
     "start_time": "2016-07-07T19:07:37.263182"
    },
    "collapsed": false
   },
   "outputs": [],
   "source": [
    "df_producto['short_names'] = df_producto.NombreProducto.str.extract('^(\\D*)')"
   ]
  },
  {
   "cell_type": "code",
   "execution_count": 7,
   "metadata": {
    "ExecuteTime": {
     "end_time": "2016-07-07T19:07:38.041142",
     "start_time": "2016-07-07T19:07:37.270650"
    },
    "collapsed": false
   },
   "outputs": [],
   "source": [
    "df_producto['short_names_processed'] = df_producto['short_names'].map(lambda x: \" \".join([i for i in x.lower().split() if i not in stopwords.words('spanish')]))"
   ]
  },
  {
   "cell_type": "code",
   "execution_count": 8,
   "metadata": {
    "ExecuteTime": {
     "end_time": "2016-07-07T19:07:38.044686",
     "start_time": "2016-07-07T19:07:38.042137"
    },
    "collapsed": false
   },
   "outputs": [
    {
     "name": "stdout",
     "output_type": "stream",
     "text": [
      "tortill\n"
     ]
    }
   ],
   "source": [
    "from nltk.stem.snowball import SnowballStemmer\n",
    "stemmer = SnowballStemmer(\"spanish\")\n",
    "print(stemmer.stem(\"Tortillas\"))"
   ]
  },
  {
   "cell_type": "code",
   "execution_count": 9,
   "metadata": {
    "ExecuteTime": {
     "end_time": "2016-07-07T19:07:38.224778",
     "start_time": "2016-07-07T19:07:38.045542"
    },
    "collapsed": false
   },
   "outputs": [],
   "source": [
    "df_producto['short_names_processed'] = (df_producto['short_names_processed']\n",
    "                                        .map(lambda x: \" \".join([stemmer.stem(i) for i in x.lower().split()])))\n",
    "\n"
   ]
  },
  {
   "cell_type": "code",
   "execution_count": 10,
   "metadata": {
    "ExecuteTime": {
     "end_time": "2016-07-07T19:07:38.231831",
     "start_time": "2016-07-07T19:07:38.225882"
    },
    "collapsed": false
   },
   "outputs": [],
   "source": [
    "df_aux_producto = df_producto['short_names_processed'].value_counts()[df_producto['short_names_processed'].value_counts() > 10].reset_index()"
   ]
  },
  {
   "cell_type": "code",
   "execution_count": 11,
   "metadata": {
    "ExecuteTime": {
     "end_time": "2016-07-07T19:07:38.244440",
     "start_time": "2016-07-07T19:07:38.232893"
    },
    "collapsed": false
   },
   "outputs": [],
   "source": [
    "df_producto['flavor_choc'] = df_producto.short_names_processed.str.contains('choc') * 1\n",
    "df_producto['flavor_vainill'] = df_producto.short_names_processed.str.contains('vainill') * 1\n",
    "df_producto['flavor_canel'] = df_producto.short_names_processed.str.contains('canel') * 1"
   ]
  },
  {
   "cell_type": "code",
   "execution_count": 12,
   "metadata": {
    "ExecuteTime": {
     "end_time": "2016-07-07T19:07:38.482609",
     "start_time": "2016-07-07T19:07:38.245654"
    },
    "collapsed": false
   },
   "outputs": [],
   "source": [
    "df_producto['NombreProducto'] = df_producto['NombreProducto'].str.upper()\n",
    "df_producto['NombreProducto'] = df_producto.apply(lambda x :x['NombreProducto'].replace(str(x['Producto_ID']),'').strip(), axis=1 )\n",
    "df_producto = pd.DataFrame(df_producto.loc[1:])\n",
    "df_producto['fabricante'] = df_producto.NombreProducto.str.split(' ').str[-1]\n",
    "df_producto.ix[df_producto.fabricante == '1KG','fabricante'] = ''\n",
    "df_producto['NombreProducto'] = df_producto.apply(lambda x :x['NombreProducto'].replace(x['fabricante'],'').strip(), axis=1 )\n",
    "\n",
    "reg = '(\\d{1,4}G|\\d{1,4}KG|\\d{1,4}ML|\\d{1,4}\\ ML)'\n",
    "df_producto['volume'] = df_producto.NombreProducto.str.extract(reg)\n",
    "\n",
    "df_producto['NombreProducto'] = df_producto.apply(lambda x :x['NombreProducto'].replace(str(x['volume']),'').replace('  ',' ').strip(), axis=1 )\n",
    "\n",
    "reg = '(\\d{1,5}P)'\n",
    "df_producto['unidade'] = df_producto.NombreProducto.str.extract(reg)\n",
    "df_producto['NombreProducto'] = df_producto.NombreProducto.str.replace(reg, '').str.replace('  ',' ').str.strip()\n",
    "\n",
    "aux = pd.DataFrame({'Producto_ID':[0],'NombreProducto':['NO IDENTIFICADO']})\n",
    "df_producto = df_producto.append(aux)\n",
    "\n",
    "df_producto['unidade'] = df_producto.volume.str.extract('([A-Z])')\n",
    "df_producto['volume'] = df_producto.volume.str.replace('([A-Z])','')\n",
    "\n",
    "# df_producto"
   ]
  },
  {
   "cell_type": "code",
   "execution_count": null,
   "metadata": {
    "ExecuteTime": {
     "end_time": "2016-07-07T14:57:14.302429",
     "start_time": "2016-07-07T14:57:14.296441"
    },
    "collapsed": false
   },
   "outputs": [],
   "source": []
  },
  {
   "cell_type": "code",
   "execution_count": null,
   "metadata": {
    "collapsed": true
   },
   "outputs": [],
   "source": []
  },
  {
   "cell_type": "code",
   "execution_count": null,
   "metadata": {
    "collapsed": true
   },
   "outputs": [],
   "source": []
  },
  {
   "cell_type": "code",
   "execution_count": 13,
   "metadata": {
    "ExecuteTime": {
     "end_time": "2016-07-07T19:07:47.783120",
     "start_time": "2016-07-07T19:07:38.483722"
    },
    "collapsed": true
   },
   "outputs": [],
   "source": [
    "df_week = pd.read_csv('input/train_week3.csv')"
   ]
  },
  {
   "cell_type": "code",
   "execution_count": 14,
   "metadata": {
    "ExecuteTime": {
     "end_time": "2016-07-07T19:07:47.785934",
     "start_time": "2016-07-07T19:07:47.784263"
    },
    "collapsed": false
   },
   "outputs": [],
   "source": [
    "# df_week.Venta_uni_hoy.hist(range=(0,300), bins=50)"
   ]
  },
  {
   "cell_type": "code",
   "execution_count": null,
   "metadata": {
    "ExecuteTime": {
     "end_time": "2016-07-07T16:50:17.277270",
     "start_time": "2016-07-07T16:50:17.190172"
    },
    "collapsed": false
   },
   "outputs": [],
   "source": []
  },
  {
   "cell_type": "code",
   "execution_count": 15,
   "metadata": {
    "ExecuteTime": {
     "end_time": "2016-07-07T19:07:48.353814",
     "start_time": "2016-07-07T19:07:47.786903"
    },
    "collapsed": false
   },
   "outputs": [],
   "source": [
    "gb = df_week[['Producto_ID','Venta_hoy']].groupby(['Producto_ID']).median().reset_index()\n",
    "gb[gb['Venta_hoy'] == gb['Venta_hoy'].max()]\n",
    "aux = df_producto.merge(gb, how='left', on='Producto_ID')\n",
    "aux.ix[aux['Venta_hoy'].isnull(),'Venta_hoy'] = 0\n",
    "df_producto = aux"
   ]
  },
  {
   "cell_type": "code",
   "execution_count": 16,
   "metadata": {
    "ExecuteTime": {
     "end_time": "2016-07-07T19:07:48.943017",
     "start_time": "2016-07-07T19:07:48.354936"
    },
    "collapsed": false
   },
   "outputs": [],
   "source": [
    "gb = df_week[['Producto_ID','Venta_uni_hoy']].groupby(['Producto_ID']).median().reset_index()\n",
    "gb[gb['Venta_uni_hoy'] == gb['Venta_uni_hoy'].max()]\n",
    "aux = df_producto.merge(gb, how='left', on='Producto_ID')\n",
    "aux.ix[aux['Venta_uni_hoy'].isnull(),'Venta_uni_hoy'] = 0\n",
    "df_producto = aux"
   ]
  },
  {
   "cell_type": "code",
   "execution_count": 17,
   "metadata": {
    "ExecuteTime": {
     "end_time": "2016-07-07T19:07:49.470218",
     "start_time": "2016-07-07T19:07:48.944161"
    },
    "collapsed": false
   },
   "outputs": [],
   "source": [
    "gb = df_week[['Producto_ID','Dev_uni_proxima']].groupby(['Producto_ID']).median().reset_index()\n",
    "gb[gb['Dev_uni_proxima'] == gb['Dev_uni_proxima'].max()]\n",
    "aux = df_producto.merge(gb, how='left', on='Producto_ID')\n",
    "aux.ix[aux['Dev_uni_proxima'].isnull(),'Dev_uni_proxima'] = 0\n",
    "df_producto = aux"
   ]
  },
  {
   "cell_type": "code",
   "execution_count": null,
   "metadata": {
    "ExecuteTime": {
     "end_time": "2016-07-06T17:53:34.147673",
     "start_time": "2016-07-06T17:53:33.697402"
    },
    "collapsed": false
   },
   "outputs": [],
   "source": []
  },
  {
   "cell_type": "code",
   "execution_count": null,
   "metadata": {
    "ExecuteTime": {
     "end_time": "2016-07-06T17:53:20.374180",
     "start_time": "2016-07-06T17:53:20.369053"
    },
    "collapsed": false
   },
   "outputs": [],
   "source": []
  },
  {
   "cell_type": "code",
   "execution_count": null,
   "metadata": {
    "collapsed": true
   },
   "outputs": [],
   "source": []
  },
  {
   "cell_type": "code",
   "execution_count": null,
   "metadata": {
    "ExecuteTime": {
     "end_time": "2016-07-05T16:53:11.575987",
     "start_time": "2016-07-05T16:53:11.570175"
    },
    "collapsed": false
   },
   "outputs": [],
   "source": []
  },
  {
   "cell_type": "code",
   "execution_count": 18,
   "metadata": {
    "ExecuteTime": {
     "end_time": "2016-07-07T19:07:49.474770",
     "start_time": "2016-07-07T19:07:49.471341"
    },
    "collapsed": false
   },
   "outputs": [],
   "source": [
    "def count_entregas(df, by):\n",
    "    df['entregas_'+by] = 1\n",
    "    aux = df.groupby([by]).agg({\"entregas_\"+by:np.size}).reset_index()\n",
    "    df.drop('entregas_'+by, axis=1, inplace=True)\n",
    "    return df.merge(aux, how='left', on=by)"
   ]
  },
  {
   "cell_type": "code",
   "execution_count": 19,
   "metadata": {
    "ExecuteTime": {
     "end_time": "2016-07-07T19:07:49.482202",
     "start_time": "2016-07-07T19:07:49.475843"
    },
    "collapsed": true
   },
   "outputs": [],
   "source": [
    "def binarize(df, field, length, step):\n",
    "    df[field+'_bin']=''\n",
    "    df[field] = df[field].astype(float)\n",
    "    for x in range(step, length, step):\n",
    "        a = df[field] > x - step\n",
    "        b = df[field] <= x\n",
    "        f = a & b\n",
    "        value = '%s-%s' % (x-step, x)\n",
    "        df.ix[f, field+'_bin'] = value\n",
    "    print(field+'_bin')\n",
    "    return df"
   ]
  },
  {
   "cell_type": "code",
   "execution_count": 33,
   "metadata": {
    "ExecuteTime": {
     "end_time": "2016-07-07T19:10:20.374661",
     "start_time": "2016-07-07T19:10:20.321393"
    },
    "collapsed": false
   },
   "outputs": [],
   "source": [
    "def process_df(df, test=False):\n",
    "    \n",
    "    if not test:\n",
    "#         df = df.drop(['Venta_uni_hoy','Venta_hoy','Dev_uni_proxima'], axis=1)\n",
    "        df = df.ix[df.Producto_ID != 0]\n",
    "        df = df.ix[df.Demanda_uni_equil<20]\n",
    "        \n",
    "    df = df.merge(df_producto[['flavor_choc', 'flavor_vainill', 'flavor_canel','volume', 'fabricante','Producto_ID']], how='left',on='Producto_ID')\n",
    "    df = df.merge(df_townstate[['Agencia_ID','ag','bimbo','State']], on='Agencia_ID')\n",
    "    df.volume = df.volume.fillna(0).astype('int')\n",
    "\n",
    "    route_count = df[['Cliente_ID','Ruta_SAK']].groupby(['Cliente_ID']).count().reset_index()\n",
    "    route_count.columns = ['Cliente_ID','route_client']\n",
    "    route_count = route_count.ix[route_count['route_client'] <= 60]\n",
    "    df = df.merge(route_count, how='left', on='Cliente_ID')\n",
    "    df = df.ix[~df['route_client'].isnull()]\n",
    "    \n",
    "    df = df.ix[df.volume<500]\n",
    "        \n",
    "    df['Cliente_ID'] = df['Cliente_ID'].astype('str')\n",
    "    df['Agencia_ID'] = df['Agencia_ID'].astype('str')\n",
    "    df['Canal_ID'] = df['Canal_ID'].astype('str')\n",
    "    df['Ruta_SAK'] = df['Ruta_SAK'].astype('str')\n",
    "        \n",
    "    f = (df['volume'] < 600)\n",
    "    df = pd.DataFrame(df.ix[f])\n",
    "    df = binarize(df, 'volume', 600, 60)\n",
    "    \n",
    "#     f = (df['Venta_hoy'] < 60)\n",
    "#     df = pd.DataFrame(df.ix[f])\n",
    "#     df = binarize(df, 'Venta_hoy', 60, 12)\n",
    "\n",
    "#     f = (df['Venta_uni_hoy'] < 10)\n",
    "#     df = pd.DataFrame(df.ix[f])\n",
    "#     df = binarize(df, 'Venta_uni_hoy', 10, 2)\n",
    "    \n",
    "#     a = df['Venta_uni_hoy_bin'] == ''\n",
    "#     b = df['Venta_hoy_bin'] == ''\n",
    "    c = df['volume_bin'] == ''\n",
    "    df = df.ix[~c]\n",
    "    \n",
    "    if test:\n",
    "        df = df[cols]\n",
    "    else:\n",
    "        df = df[cols+['Demanda_uni_equil']].drop_duplicates()\n",
    "        \n",
    "#     y = df['Demanda_uni_equil'].values\n",
    "#     x = pd.get_dummies(aux[cols]).values\n",
    "#   x = pd.get_dummies(aux[cols]).values\n",
    "    return df"
   ]
  },
  {
   "cell_type": "code",
   "execution_count": null,
   "metadata": {
    "ExecuteTime": {
     "end_time": "2016-07-07T15:42:08.249219",
     "start_time": "2016-07-07T15:42:08.238332"
    },
    "collapsed": true
   },
   "outputs": [],
   "source": []
  },
  {
   "cell_type": "code",
   "execution_count": null,
   "metadata": {
    "ExecuteTime": {
     "end_time": "2016-07-07T15:42:09.234800",
     "start_time": "2016-07-07T15:42:08.876630"
    },
    "collapsed": false
   },
   "outputs": [],
   "source": []
  },
  {
   "cell_type": "code",
   "execution_count": null,
   "metadata": {
    "ExecuteTime": {
     "end_time": "2016-06-22T16:16:27.614047",
     "start_time": "2016-06-22T16:16:27.534091"
    },
    "collapsed": false
   },
   "outputs": [],
   "source": []
  },
  {
   "cell_type": "code",
   "execution_count": 21,
   "metadata": {
    "ExecuteTime": {
     "end_time": "2016-07-07T19:07:49.524466",
     "start_time": "2016-07-07T19:07:49.521267"
    },
    "collapsed": false
   },
   "outputs": [],
   "source": [
    "# df_process['fabricante'].value_counts()"
   ]
  },
  {
   "cell_type": "code",
   "execution_count": 22,
   "metadata": {
    "ExecuteTime": {
     "end_time": "2016-07-07T19:07:49.529994",
     "start_time": "2016-07-07T19:07:49.525513"
    },
    "collapsed": false
   },
   "outputs": [],
   "source": [
    "cols = [\n",
    "#     'volume',\n",
    "#     'entregas_Producto_ID',\n",
    "#     'Cliente_ID',\n",
    "#     'entregas_fabricante',\n",
    "#     'Agencia_ID',\n",
    "    'route_client',\n",
    "#     'Canal_ID',\n",
    "    'fabricante',\n",
    "#     'Venta_uni_hoy_bin',\n",
    "#     'Venta_hoy_bin',\n",
    "#     'short_names_processed',\n",
    "    'State',\n",
    "    'volume_bin',\n",
    "    'ag',\n",
    "    'bimbo',\n",
    "    'flavor_choc',\n",
    "    'flavor_vainill',\n",
    "    'flavor_canel',\n",
    "]"
   ]
  },
  {
   "cell_type": "code",
   "execution_count": null,
   "metadata": {
    "ExecuteTime": {
     "end_time": "2016-07-07T16:44:11.734419",
     "start_time": "2016-07-07T16:44:11.728847"
    },
    "collapsed": false
   },
   "outputs": [],
   "source": [
    "def process_producto():\n",
    "    "
   ]
  },
  {
   "cell_type": "code",
   "execution_count": 23,
   "metadata": {
    "ExecuteTime": {
     "end_time": "2016-07-07T19:07:49.533986",
     "start_time": "2016-07-07T19:07:49.531107"
    },
    "collapsed": false
   },
   "outputs": [],
   "source": [
    "# aux = df_week.merge(df_townstate, how='left', on='Agencia_ID' )"
   ]
  },
  {
   "cell_type": "code",
   "execution_count": 40,
   "metadata": {
    "ExecuteTime": {
     "end_time": "2016-07-07T19:16:20.763225",
     "start_time": "2016-07-07T19:16:19.196182"
    },
    "collapsed": false
   },
   "outputs": [],
   "source": [
    "aux = df_week[['Producto_ID']].merge(df_producto, how='left', on='Producto_ID' )"
   ]
  },
  {
   "cell_type": "code",
   "execution_count": 72,
   "metadata": {
    "ExecuteTime": {
     "end_time": "2016-07-07T19:22:51.562994",
     "start_time": "2016-07-07T19:22:50.840720"
    },
    "collapsed": false
   },
   "outputs": [
    {
     "data": {
      "text/plain": [
       "<matplotlib.axes._subplots.AxesSubplot at 0x7fc061d45400>"
      ]
     },
     "execution_count": 72,
     "metadata": {},
     "output_type": "execute_result"
    },
    {
     "data": {
      "image/png": "[encoded data removed]",
      "text/plain": [
       "<matplotlib.figure.Figure at 0x7fc061d94400>"
      ]
     },
     "metadata": {},
     "output_type": "display_data"
    }
   ],
   "source": [
    "gb= aux[['Producto_ID','Venta_hoy']].groupby('Producto_ID').median().reset_index()\n",
    "gb['Venta_hoy'] = np.log10(gb['Venta_hoy'].values+1)\n",
    "gb['Venta_hoy'].hist(range=(0, 5), bins = 5)\n",
    "df_producto = df_producto.merge(gb, how='left', on='Producto_ID')"
   ]
  },
  {
   "cell_type": "code",
   "execution_count": 75,
   "metadata": {
    "ExecuteTime": {
     "end_time": "2016-07-07T19:23:36.094380",
     "start_time": "2016-07-07T19:23:36.017405"
    },
    "collapsed": false
   },
   "outputs": [
    {
     "data": {
      "text/html": [
       "<div>\n",
       "<table border=\"1\" class=\"dataframe\">\n",
       "  <thead>\n",
       "    <tr style=\"text-align: right;\">\n",
       "      <th></th>\n",
       "      <th>NombreProducto</th>\n",
       "      <th>Producto_ID</th>\n",
       "      <th>fabricante</th>\n",
       "      <th>flavor_canel</th>\n",
       "      <th>flavor_choc</th>\n",
       "      <th>flavor_vainill</th>\n",
       "      <th>short_names</th>\n",
       "      <th>short_names_processed</th>\n",
       "      <th>unidade</th>\n",
       "      <th>volume</th>\n",
       "      <th>Venta_hoy_x</th>\n",
       "      <th>Venta_uni_hoy</th>\n",
       "      <th>Dev_uni_proxima</th>\n",
       "      <th>Venta_hoy_y</th>\n",
       "    </tr>\n",
       "  </thead>\n",
       "  <tbody>\n",
       "    <tr>\n",
       "      <th>0</th>\n",
       "      <td>CAPUCCINO MOKA</td>\n",
       "      <td>9</td>\n",
       "      <td>NES</td>\n",
       "      <td>0</td>\n",
       "      <td>0</td>\n",
       "      <td>0</td>\n",
       "      <td>Capuccino Moka</td>\n",
       "      <td>capuccin mok</td>\n",
       "      <td>G</td>\n",
       "      <td>750</td>\n",
       "      <td>0.000</td>\n",
       "      <td>0.0</td>\n",
       "      <td>0.0</td>\n",
       "      <td>NaN</td>\n",
       "    </tr>\n",
       "    <tr>\n",
       "      <th>1</th>\n",
       "      <td>BOLLOS EXT SAJONJOLI</td>\n",
       "      <td>41</td>\n",
       "      <td>BIM</td>\n",
       "      <td>0</td>\n",
       "      <td>0</td>\n",
       "      <td>0</td>\n",
       "      <td>Bimbollos Ext sAjonjoli</td>\n",
       "      <td>bimboll ext sajonjoli</td>\n",
       "      <td>G</td>\n",
       "      <td>480</td>\n",
       "      <td>2084.950</td>\n",
       "      <td>115.0</td>\n",
       "      <td>0.0</td>\n",
       "      <td>3.319304</td>\n",
       "    </tr>\n",
       "    <tr>\n",
       "      <th>2</th>\n",
       "      <td>BURRITOS SINCRO CU</td>\n",
       "      <td>53</td>\n",
       "      <td>LON</td>\n",
       "      <td>0</td>\n",
       "      <td>0</td>\n",
       "      <td>0</td>\n",
       "      <td>Burritos Sincro</td>\n",
       "      <td>burrit sincr</td>\n",
       "      <td>G</td>\n",
       "      <td>170</td>\n",
       "      <td>5970.250</td>\n",
       "      <td>417.5</td>\n",
       "      <td>0.0</td>\n",
       "      <td>3.776065</td>\n",
       "    </tr>\n",
       "    <tr>\n",
       "      <th>3</th>\n",
       "      <td>DIV TIRA MINI DORADITA</td>\n",
       "      <td>72</td>\n",
       "      <td>TR</td>\n",
       "      <td>0</td>\n",
       "      <td>0</td>\n",
       "      <td>0</td>\n",
       "      <td>Div Tira Mini Doradita</td>\n",
       "      <td>div tir mini doradit</td>\n",
       "      <td>G</td>\n",
       "      <td>45</td>\n",
       "      <td>14.800</td>\n",
       "      <td>4.0</td>\n",
       "      <td>0.0</td>\n",
       "      <td>1.198657</td>\n",
       "    </tr>\n",
       "    <tr>\n",
       "      <th>4</th>\n",
       "      <td>PAN MULTIGRANO LINAZA</td>\n",
       "      <td>73</td>\n",
       "      <td>BIM</td>\n",
       "      <td>0</td>\n",
       "      <td>0</td>\n",
       "      <td>0</td>\n",
       "      <td>Pan Multigrano Linaza</td>\n",
       "      <td>pan multigran linaz</td>\n",
       "      <td>G</td>\n",
       "      <td>540</td>\n",
       "      <td>42.640</td>\n",
       "      <td>2.0</td>\n",
       "      <td>0.0</td>\n",
       "      <td>1.639885</td>\n",
       "    </tr>\n",
       "    <tr>\n",
       "      <th>5</th>\n",
       "      <td>TOSTADO INTEGRAL</td>\n",
       "      <td>98</td>\n",
       "      <td>WON</td>\n",
       "      <td>0</td>\n",
       "      <td>0</td>\n",
       "      <td>0</td>\n",
       "      <td>Tostado Integral</td>\n",
       "      <td>tost integral</td>\n",
       "      <td>G</td>\n",
       "      <td>180</td>\n",
       "      <td>0.000</td>\n",
       "      <td>0.0</td>\n",
       "      <td>0.0</td>\n",
       "      <td>NaN</td>\n",
       "    </tr>\n",
       "    <tr>\n",
       "      <th>6</th>\n",
       "      <td>PAN BLANCO</td>\n",
       "      <td>99</td>\n",
       "      <td>WON</td>\n",
       "      <td>0</td>\n",
       "      <td>0</td>\n",
       "      <td>0</td>\n",
       "      <td>Pan Blanco</td>\n",
       "      <td>pan blanc</td>\n",
       "      <td>G</td>\n",
       "      <td>567</td>\n",
       "      <td>0.000</td>\n",
       "      <td>0.0</td>\n",
       "      <td>0.0</td>\n",
       "      <td>NaN</td>\n",
       "    </tr>\n",
       "    <tr>\n",
       "      <th>7</th>\n",
       "      <td>SUPER PAN BCO AJONJOLI SP</td>\n",
       "      <td>100</td>\n",
       "      <td>WON</td>\n",
       "      <td>0</td>\n",
       "      <td>0</td>\n",
       "      <td>0</td>\n",
       "      <td>Super Pan Bco Ajonjoli</td>\n",
       "      <td>sup pan bco ajonjoli</td>\n",
       "      <td>G</td>\n",
       "      <td>680</td>\n",
       "      <td>86.320</td>\n",
       "      <td>4.0</td>\n",
       "      <td>0.0</td>\n",
       "      <td>1.941114</td>\n",
       "    </tr>\n",
       "    <tr>\n",
       "      <th>8</th>\n",
       "      <td>DER CT MEDIANO</td>\n",
       "      <td>106</td>\n",
       "      <td>WON</td>\n",
       "      <td>0</td>\n",
       "      <td>0</td>\n",
       "      <td>0</td>\n",
       "      <td>Wonder</td>\n",
       "      <td>wond</td>\n",
       "      <td>G</td>\n",
       "      <td>475</td>\n",
       "      <td>63.120</td>\n",
       "      <td>3.0</td>\n",
       "      <td>0.0</td>\n",
       "      <td>1.806994</td>\n",
       "    </tr>\n",
       "    <tr>\n",
       "      <th>9</th>\n",
       "      <td>DER CT GDE SP</td>\n",
       "      <td>107</td>\n",
       "      <td>WON</td>\n",
       "      <td>0</td>\n",
       "      <td>0</td>\n",
       "      <td>0</td>\n",
       "      <td>Wonder</td>\n",
       "      <td>wond</td>\n",
       "      <td>G</td>\n",
       "      <td>680</td>\n",
       "      <td>42.640</td>\n",
       "      <td>2.0</td>\n",
       "      <td>0.0</td>\n",
       "      <td>1.639885</td>\n",
       "    </tr>\n",
       "    <tr>\n",
       "      <th>10</th>\n",
       "      <td>BAGUETTE PRECOCIDA CONG</td>\n",
       "      <td>108</td>\n",
       "      <td>DH</td>\n",
       "      <td>0</td>\n",
       "      <td>0</td>\n",
       "      <td>0</td>\n",
       "      <td>Baguette Precocida Cong</td>\n",
       "      <td>baguett precoc cong</td>\n",
       "      <td>G</td>\n",
       "      <td>280</td>\n",
       "      <td>153.600</td>\n",
       "      <td>24.0</td>\n",
       "      <td>0.0</td>\n",
       "      <td>2.189209</td>\n",
       "    </tr>\n",
       "    <tr>\n",
       "      <th>11</th>\n",
       "      <td>PAN MULTICEREAL</td>\n",
       "      <td>109</td>\n",
       "      <td>WON</td>\n",
       "      <td>0</td>\n",
       "      <td>0</td>\n",
       "      <td>0</td>\n",
       "      <td>Pan Multicereal</td>\n",
       "      <td>pan multicereal</td>\n",
       "      <td>G</td>\n",
       "      <td>475</td>\n",
       "      <td>0.000</td>\n",
       "      <td>0.0</td>\n",
       "      <td>0.0</td>\n",
       "      <td>NaN</td>\n",
       "    </tr>\n",
       "    <tr>\n",
       "      <th>12</th>\n",
       "      <td>TOSTADO INTEGRAL</td>\n",
       "      <td>112</td>\n",
       "      <td>WON</td>\n",
       "      <td>0</td>\n",
       "      <td>0</td>\n",
       "      <td>0</td>\n",
       "      <td>Tostado Integral</td>\n",
       "      <td>tost integral</td>\n",
       "      <td>G</td>\n",
       "      <td>180</td>\n",
       "      <td>0.000</td>\n",
       "      <td>0.0</td>\n",
       "      <td>0.0</td>\n",
       "      <td>NaN</td>\n",
       "    </tr>\n",
       "    <tr>\n",
       "      <th>13</th>\n",
       "      <td>BISCOTEL RECETA ORIGINAL CU</td>\n",
       "      <td>122</td>\n",
       "      <td>SUA</td>\n",
       "      <td>0</td>\n",
       "      <td>0</td>\n",
       "      <td>0</td>\n",
       "      <td>Biscotel Receta Original</td>\n",
       "      <td>biscotel recet original</td>\n",
       "      <td>G</td>\n",
       "      <td>410</td>\n",
       "      <td>0.000</td>\n",
       "      <td>0.0</td>\n",
       "      <td>0.0</td>\n",
       "      <td>NaN</td>\n",
       "    </tr>\n",
       "    <tr>\n",
       "      <th>14</th>\n",
       "      <td>SUPER BOLLOS 5IN</td>\n",
       "      <td>123</td>\n",
       "      <td>WON</td>\n",
       "      <td>0</td>\n",
       "      <td>0</td>\n",
       "      <td>0</td>\n",
       "      <td>Super Bollos</td>\n",
       "      <td>sup boll</td>\n",
       "      <td>G</td>\n",
       "      <td>540</td>\n",
       "      <td>106.750</td>\n",
       "      <td>5.0</td>\n",
       "      <td>0.0</td>\n",
       "      <td>2.032417</td>\n",
       "    </tr>\n",
       "    <tr>\n",
       "      <th>...</th>\n",
       "      <td>...</td>\n",
       "      <td>...</td>\n",
       "      <td>...</td>\n",
       "      <td>...</td>\n",
       "      <td>...</td>\n",
       "      <td>...</td>\n",
       "      <td>...</td>\n",
       "      <td>...</td>\n",
       "      <td>...</td>\n",
       "      <td>...</td>\n",
       "      <td>...</td>\n",
       "      <td>...</td>\n",
       "      <td>...</td>\n",
       "      <td>...</td>\n",
       "    </tr>\n",
       "    <tr>\n",
       "      <th>2577</th>\n",
       "      <td>CONCHAS PROM TAB</td>\n",
       "      <td>49920</td>\n",
       "      <td>TR</td>\n",
       "      <td>0</td>\n",
       "      <td>0</td>\n",
       "      <td>0</td>\n",
       "      <td>Conchas</td>\n",
       "      <td>conch</td>\n",
       "      <td>G</td>\n",
       "      <td>180</td>\n",
       "      <td>12.750</td>\n",
       "      <td>1.0</td>\n",
       "      <td>0.0</td>\n",
       "      <td>1.138303</td>\n",
       "    </tr>\n",
       "    <tr>\n",
       "      <th>2578</th>\n",
       "      <td>DONA TIRA</td>\n",
       "      <td>49928</td>\n",
       "      <td>BIM</td>\n",
       "      <td>0</td>\n",
       "      <td>0</td>\n",
       "      <td>0</td>\n",
       "      <td>Dona</td>\n",
       "      <td>don</td>\n",
       "      <td>G</td>\n",
       "      <td>26</td>\n",
       "      <td>5018.400</td>\n",
       "      <td>2091.0</td>\n",
       "      <td>30.0</td>\n",
       "      <td>3.700652</td>\n",
       "    </tr>\n",
       "    <tr>\n",
       "      <th>2579</th>\n",
       "      <td>PAN BLANCO BO RENDIDOR TNB</td>\n",
       "      <td>49944</td>\n",
       "      <td>BIM</td>\n",
       "      <td>0</td>\n",
       "      <td>0</td>\n",
       "      <td>0</td>\n",
       "      <td>Pan Blanco Bimbo Rendidor</td>\n",
       "      <td>pan blanc bimb rendidor</td>\n",
       "      <td>G</td>\n",
       "      <td>567</td>\n",
       "      <td>16.600</td>\n",
       "      <td>1.0</td>\n",
       "      <td>0.0</td>\n",
       "      <td>1.245513</td>\n",
       "    </tr>\n",
       "    <tr>\n",
       "      <th>2580</th>\n",
       "      <td>PAN BLANCO BO RENDIDOR MTA</td>\n",
       "      <td>49972</td>\n",
       "      <td>BIM</td>\n",
       "      <td>0</td>\n",
       "      <td>0</td>\n",
       "      <td>0</td>\n",
       "      <td>Pan Blanco Bimbo Rendidor</td>\n",
       "      <td>pan blanc bimb rendidor</td>\n",
       "      <td>G</td>\n",
       "      <td>567</td>\n",
       "      <td>16.600</td>\n",
       "      <td>1.0</td>\n",
       "      <td>0.0</td>\n",
       "      <td>1.245513</td>\n",
       "    </tr>\n",
       "    <tr>\n",
       "      <th>2581</th>\n",
       "      <td>PAN BLANCO BO RENDIDOR</td>\n",
       "      <td>49973</td>\n",
       "      <td>BIM</td>\n",
       "      <td>0</td>\n",
       "      <td>0</td>\n",
       "      <td>0</td>\n",
       "      <td>Pan Blanco Bimbo Rendidor</td>\n",
       "      <td>pan blanc bimb rendidor</td>\n",
       "      <td>G</td>\n",
       "      <td>567</td>\n",
       "      <td>33.200</td>\n",
       "      <td>2.0</td>\n",
       "      <td>0.0</td>\n",
       "      <td>1.534026</td>\n",
       "    </tr>\n",
       "    <tr>\n",
       "      <th>2582</th>\n",
       "      <td>TOSTADO BLANCO</td>\n",
       "      <td>49986</td>\n",
       "      <td>WON</td>\n",
       "      <td>0</td>\n",
       "      <td>0</td>\n",
       "      <td>0</td>\n",
       "      <td>Tostado Blanco</td>\n",
       "      <td>tost blanc</td>\n",
       "      <td>G</td>\n",
       "      <td>180</td>\n",
       "      <td>41.820</td>\n",
       "      <td>3.0</td>\n",
       "      <td>0.0</td>\n",
       "      <td>1.631647</td>\n",
       "    </tr>\n",
       "    <tr>\n",
       "      <th>2583</th>\n",
       "      <td>TOSTADO BLANCO MTA</td>\n",
       "      <td>49988</td>\n",
       "      <td>WON</td>\n",
       "      <td>0</td>\n",
       "      <td>0</td>\n",
       "      <td>0</td>\n",
       "      <td>Tostado Blanco</td>\n",
       "      <td>tost blanc</td>\n",
       "      <td>G</td>\n",
       "      <td>180</td>\n",
       "      <td>262.035</td>\n",
       "      <td>18.5</td>\n",
       "      <td>0.0</td>\n",
       "      <td>2.420014</td>\n",
       "    </tr>\n",
       "    <tr>\n",
       "      <th>2584</th>\n",
       "      <td>TOSTADO BLANCO TAB</td>\n",
       "      <td>49989</td>\n",
       "      <td>WON</td>\n",
       "      <td>0</td>\n",
       "      <td>0</td>\n",
       "      <td>0</td>\n",
       "      <td>Tostado Blanco</td>\n",
       "      <td>tost blanc</td>\n",
       "      <td>G</td>\n",
       "      <td>180</td>\n",
       "      <td>92.340</td>\n",
       "      <td>6.0</td>\n",
       "      <td>2.5</td>\n",
       "      <td>1.970068</td>\n",
       "    </tr>\n",
       "    <tr>\n",
       "      <th>2585</th>\n",
       "      <td>TOSTADO INTEGRAL</td>\n",
       "      <td>49990</td>\n",
       "      <td>WON</td>\n",
       "      <td>0</td>\n",
       "      <td>0</td>\n",
       "      <td>0</td>\n",
       "      <td>Tostado Integral</td>\n",
       "      <td>tost integral</td>\n",
       "      <td>G</td>\n",
       "      <td>180</td>\n",
       "      <td>29.880</td>\n",
       "      <td>2.0</td>\n",
       "      <td>0.0</td>\n",
       "      <td>1.489677</td>\n",
       "    </tr>\n",
       "    <tr>\n",
       "      <th>2586</th>\n",
       "      <td>TOSTADO INTEGRAL MTA</td>\n",
       "      <td>49992</td>\n",
       "      <td>WON</td>\n",
       "      <td>0</td>\n",
       "      <td>0</td>\n",
       "      <td>0</td>\n",
       "      <td>Tostado Integral</td>\n",
       "      <td>tost integral</td>\n",
       "      <td>G</td>\n",
       "      <td>180</td>\n",
       "      <td>315.495</td>\n",
       "      <td>22.0</td>\n",
       "      <td>0.0</td>\n",
       "      <td>2.500367</td>\n",
       "    </tr>\n",
       "    <tr>\n",
       "      <th>2587</th>\n",
       "      <td>TOSTADO INTEGRAL TAB</td>\n",
       "      <td>49993</td>\n",
       "      <td>WON</td>\n",
       "      <td>0</td>\n",
       "      <td>0</td>\n",
       "      <td>0</td>\n",
       "      <td>Tostado Integral</td>\n",
       "      <td>tost integral</td>\n",
       "      <td>G</td>\n",
       "      <td>180</td>\n",
       "      <td>0.000</td>\n",
       "      <td>0.0</td>\n",
       "      <td>10.0</td>\n",
       "      <td>0.000000</td>\n",
       "    </tr>\n",
       "    <tr>\n",
       "      <th>2588</th>\n",
       "      <td>TOSTADO INT CT GRASA AZUC</td>\n",
       "      <td>49994</td>\n",
       "      <td>WON</td>\n",
       "      <td>0</td>\n",
       "      <td>0</td>\n",
       "      <td>0</td>\n",
       "      <td>Tostado Int</td>\n",
       "      <td>tost int</td>\n",
       "      <td>G</td>\n",
       "      <td>200</td>\n",
       "      <td>29.520</td>\n",
       "      <td>2.0</td>\n",
       "      <td>0.0</td>\n",
       "      <td>1.484585</td>\n",
       "    </tr>\n",
       "    <tr>\n",
       "      <th>2589</th>\n",
       "      <td>TOSTADO INT CT GRASA AZUC MTA</td>\n",
       "      <td>49996</td>\n",
       "      <td>WON</td>\n",
       "      <td>0</td>\n",
       "      <td>0</td>\n",
       "      <td>0</td>\n",
       "      <td>Tostado Int</td>\n",
       "      <td>tost int</td>\n",
       "      <td>G</td>\n",
       "      <td>200</td>\n",
       "      <td>14.760</td>\n",
       "      <td>1.0</td>\n",
       "      <td>0.0</td>\n",
       "      <td>1.197556</td>\n",
       "    </tr>\n",
       "    <tr>\n",
       "      <th>2590</th>\n",
       "      <td>TOSTADO INT CT GRASA AZUC TAB</td>\n",
       "      <td>49997</td>\n",
       "      <td>WON</td>\n",
       "      <td>0</td>\n",
       "      <td>0</td>\n",
       "      <td>0</td>\n",
       "      <td>Tostado Int</td>\n",
       "      <td>tost int</td>\n",
       "      <td>G</td>\n",
       "      <td>200</td>\n",
       "      <td>0.000</td>\n",
       "      <td>0.0</td>\n",
       "      <td>3.0</td>\n",
       "      <td>0.000000</td>\n",
       "    </tr>\n",
       "    <tr>\n",
       "      <th>2591</th>\n",
       "      <td>NO IDENTIFICADO</td>\n",
       "      <td>0</td>\n",
       "      <td>NaN</td>\n",
       "      <td>NaN</td>\n",
       "      <td>NaN</td>\n",
       "      <td>NaN</td>\n",
       "      <td>NaN</td>\n",
       "      <td>NaN</td>\n",
       "      <td>NaN</td>\n",
       "      <td>NaN</td>\n",
       "      <td>0.000</td>\n",
       "      <td>0.0</td>\n",
       "      <td>0.0</td>\n",
       "      <td>NaN</td>\n",
       "    </tr>\n",
       "  </tbody>\n",
       "</table>\n",
       "<p>2592 rows × 14 columns</p>\n",
       "</div>"
      ],
      "text/plain": [
       "                     NombreProducto  Producto_ID fabricante  flavor_canel  \\\n",
       "0                    CAPUCCINO MOKA            9        NES             0   \n",
       "1              BOLLOS EXT SAJONJOLI           41        BIM             0   \n",
       "2                BURRITOS SINCRO CU           53        LON             0   \n",
       "3            DIV TIRA MINI DORADITA           72         TR             0   \n",
       "4             PAN MULTIGRANO LINAZA           73        BIM             0   \n",
       "5                  TOSTADO INTEGRAL           98        WON             0   \n",
       "6                        PAN BLANCO           99        WON             0   \n",
       "7         SUPER PAN BCO AJONJOLI SP          100        WON             0   \n",
       "8                    DER CT MEDIANO          106        WON             0   \n",
       "9                     DER CT GDE SP          107        WON             0   \n",
       "10          BAGUETTE PRECOCIDA CONG          108         DH             0   \n",
       "11                  PAN MULTICEREAL          109        WON             0   \n",
       "12                 TOSTADO INTEGRAL          112        WON             0   \n",
       "13      BISCOTEL RECETA ORIGINAL CU          122        SUA             0   \n",
       "14                 SUPER BOLLOS 5IN          123        WON             0   \n",
       "...                             ...          ...        ...           ...   \n",
       "2577               CONCHAS PROM TAB        49920         TR             0   \n",
       "2578                      DONA TIRA        49928        BIM             0   \n",
       "2579     PAN BLANCO BO RENDIDOR TNB        49944        BIM             0   \n",
       "2580     PAN BLANCO BO RENDIDOR MTA        49972        BIM             0   \n",
       "2581         PAN BLANCO BO RENDIDOR        49973        BIM             0   \n",
       "2582                 TOSTADO BLANCO        49986        WON             0   \n",
       "2583             TOSTADO BLANCO MTA        49988        WON             0   \n",
       "2584             TOSTADO BLANCO TAB        49989        WON             0   \n",
       "2585               TOSTADO INTEGRAL        49990        WON             0   \n",
       "2586           TOSTADO INTEGRAL MTA        49992        WON             0   \n",
       "2587           TOSTADO INTEGRAL TAB        49993        WON             0   \n",
       "2588      TOSTADO INT CT GRASA AZUC        49994        WON             0   \n",
       "2589  TOSTADO INT CT GRASA AZUC MTA        49996        WON             0   \n",
       "2590  TOSTADO INT CT GRASA AZUC TAB        49997        WON             0   \n",
       "2591                NO IDENTIFICADO            0        NaN           NaN   \n",
       "\n",
       "      flavor_choc  flavor_vainill                 short_names  \\\n",
       "0               0               0             Capuccino Moka    \n",
       "1               0               0    Bimbollos Ext sAjonjoli    \n",
       "2               0               0            Burritos Sincro    \n",
       "3               0               0     Div Tira Mini Doradita    \n",
       "4               0               0      Pan Multigrano Linaza    \n",
       "5               0               0           Tostado Integral    \n",
       "6               0               0                 Pan Blanco    \n",
       "7               0               0     Super Pan Bco Ajonjoli    \n",
       "8               0               0                     Wonder    \n",
       "9               0               0                     Wonder    \n",
       "10              0               0    Baguette Precocida Cong    \n",
       "11              0               0            Pan Multicereal    \n",
       "12              0               0           Tostado Integral    \n",
       "13              0               0   Biscotel Receta Original    \n",
       "14              0               0               Super Bollos    \n",
       "...           ...             ...                         ...   \n",
       "2577            0               0                    Conchas    \n",
       "2578            0               0                       Dona    \n",
       "2579            0               0  Pan Blanco Bimbo Rendidor    \n",
       "2580            0               0  Pan Blanco Bimbo Rendidor    \n",
       "2581            0               0  Pan Blanco Bimbo Rendidor    \n",
       "2582            0               0             Tostado Blanco    \n",
       "2583            0               0             Tostado Blanco    \n",
       "2584            0               0             Tostado Blanco    \n",
       "2585            0               0           Tostado Integral    \n",
       "2586            0               0           Tostado Integral    \n",
       "2587            0               0           Tostado Integral    \n",
       "2588            0               0                Tostado Int    \n",
       "2589            0               0                Tostado Int    \n",
       "2590            0               0                Tostado Int    \n",
       "2591          NaN             NaN                         NaN   \n",
       "\n",
       "        short_names_processed unidade volume  Venta_hoy_x  Venta_uni_hoy  \\\n",
       "0                capuccin mok       G    750        0.000            0.0   \n",
       "1       bimboll ext sajonjoli       G    480     2084.950          115.0   \n",
       "2                burrit sincr       G    170     5970.250          417.5   \n",
       "3        div tir mini doradit       G     45       14.800            4.0   \n",
       "4         pan multigran linaz       G    540       42.640            2.0   \n",
       "5               tost integral       G    180        0.000            0.0   \n",
       "6                   pan blanc       G    567        0.000            0.0   \n",
       "7        sup pan bco ajonjoli       G    680       86.320            4.0   \n",
       "8                        wond       G    475       63.120            3.0   \n",
       "9                        wond       G    680       42.640            2.0   \n",
       "10        baguett precoc cong       G    280      153.600           24.0   \n",
       "11            pan multicereal       G    475        0.000            0.0   \n",
       "12              tost integral       G    180        0.000            0.0   \n",
       "13    biscotel recet original       G    410        0.000            0.0   \n",
       "14                   sup boll       G    540      106.750            5.0   \n",
       "...                       ...     ...    ...          ...            ...   \n",
       "2577                    conch       G    180       12.750            1.0   \n",
       "2578                      don       G     26     5018.400         2091.0   \n",
       "2579  pan blanc bimb rendidor       G    567       16.600            1.0   \n",
       "2580  pan blanc bimb rendidor       G    567       16.600            1.0   \n",
       "2581  pan blanc bimb rendidor       G    567       33.200            2.0   \n",
       "2582               tost blanc       G    180       41.820            3.0   \n",
       "2583               tost blanc       G    180      262.035           18.5   \n",
       "2584               tost blanc       G    180       92.340            6.0   \n",
       "2585            tost integral       G    180       29.880            2.0   \n",
       "2586            tost integral       G    180      315.495           22.0   \n",
       "2587            tost integral       G    180        0.000            0.0   \n",
       "2588                 tost int       G    200       29.520            2.0   \n",
       "2589                 tost int       G    200       14.760            1.0   \n",
       "2590                 tost int       G    200        0.000            0.0   \n",
       "2591                      NaN     NaN    NaN        0.000            0.0   \n",
       "\n",
       "      Dev_uni_proxima  Venta_hoy_y  \n",
       "0                 0.0          NaN  \n",
       "1                 0.0     3.319304  \n",
       "2                 0.0     3.776065  \n",
       "3                 0.0     1.198657  \n",
       "4                 0.0     1.639885  \n",
       "5                 0.0          NaN  \n",
       "6                 0.0          NaN  \n",
       "7                 0.0     1.941114  \n",
       "8                 0.0     1.806994  \n",
       "9                 0.0     1.639885  \n",
       "10                0.0     2.189209  \n",
       "11                0.0          NaN  \n",
       "12                0.0          NaN  \n",
       "13                0.0          NaN  \n",
       "14                0.0     2.032417  \n",
       "...               ...          ...  \n",
       "2577              0.0     1.138303  \n",
       "2578             30.0     3.700652  \n",
       "2579              0.0     1.245513  \n",
       "2580              0.0     1.245513  \n",
       "2581              0.0     1.534026  \n",
       "2582              0.0     1.631647  \n",
       "2583              0.0     2.420014  \n",
       "2584              2.5     1.970068  \n",
       "2585              0.0     1.489677  \n",
       "2586              0.0     2.500367  \n",
       "2587             10.0     0.000000  \n",
       "2588              0.0     1.484585  \n",
       "2589              0.0     1.197556  \n",
       "2590              3.0     0.000000  \n",
       "2591              0.0          NaN  \n",
       "\n",
       "[2592 rows x 14 columns]"
      ]
     },
     "execution_count": 75,
     "metadata": {},
     "output_type": "execute_result"
    }
   ],
   "source": []
  },
  {
   "cell_type": "code",
   "execution_count": 64,
   "metadata": {
    "ExecuteTime": {
     "end_time": "2016-07-07T19:20:46.908735",
     "start_time": "2016-07-07T19:20:46.896255"
    },
    "collapsed": false
   },
   "outputs": [],
   "source": [
    "df_producto.merge()"
   ]
  },
  {
   "cell_type": "code",
   "execution_count": 70,
   "metadata": {
    "ExecuteTime": {
     "end_time": "2016-07-07T19:21:24.058449",
     "start_time": "2016-07-07T19:21:23.865269"
    },
    "collapsed": false
   },
   "outputs": [
    {
     "data": {
      "text/plain": [
       "<matplotlib.axes._subplots.AxesSubplot at 0x7fc061de3d30>"
      ]
     },
     "execution_count": 70,
     "metadata": {},
     "output_type": "execute_result"
    },
    {
     "data": {
      "image/png": "[encoded data removed]",
      "text/plain": [
       "<matplotlib.figure.Figure at 0x7fc061deff98>"
      ]
     },
     "metadata": {},
     "output_type": "display_data"
    }
   ],
   "source": []
  },
  {
   "cell_type": "code",
   "execution_count": 25,
   "metadata": {
    "ExecuteTime": {
     "end_time": "2016-07-07T19:07:49.543105",
     "start_time": "2016-07-07T19:07:49.540824"
    },
    "collapsed": false
   },
   "outputs": [],
   "source": [
    "# aux.State.value_counts().plot(kind='bar')"
   ]
  },
  {
   "cell_type": "code",
   "execution_count": 26,
   "metadata": {
    "ExecuteTime": {
     "end_time": "2016-07-07T19:07:49.547040",
     "start_time": "2016-07-07T19:07:49.544197"
    },
    "collapsed": false
   },
   "outputs": [],
   "source": [
    "# list(aux.short_names_processed.unique())"
   ]
  },
  {
   "cell_type": "code",
   "execution_count": null,
   "metadata": {
    "ExecuteTime": {
     "end_time": "2016-07-07T17:46:49.280118",
     "start_time": "2016-07-07T17:46:48.525813"
    },
    "collapsed": false
   },
   "outputs": [],
   "source": []
  },
  {
   "cell_type": "code",
   "execution_count": 27,
   "metadata": {
    "ExecuteTime": {
     "end_time": "2016-07-07T19:07:49.551116",
     "start_time": "2016-07-07T19:07:49.548327"
    },
    "collapsed": false
   },
   "outputs": [],
   "source": [
    "# aux = df_week.merge(df_townstate, how='left', on='Agencia_ID')"
   ]
  },
  {
   "cell_type": "code",
   "execution_count": null,
   "metadata": {
    "ExecuteTime": {
     "end_time": "2016-07-07T18:49:53.376290",
     "start_time": "2016-07-07T18:49:53.319888"
    },
    "collapsed": false
   },
   "outputs": [],
   "source": []
  },
  {
   "cell_type": "code",
   "execution_count": 28,
   "metadata": {
    "ExecuteTime": {
     "end_time": "2016-07-07T19:07:49.641830",
     "start_time": "2016-07-07T19:07:49.552097"
    },
    "collapsed": false
   },
   "outputs": [
    {
     "ename": "KeyError",
     "evalue": "\"['Cliente_ID' 'Ruta_SAK'] not in index\"",
     "output_type": "error",
     "traceback": [
      "\u001b[1;31m---------------------------------------------------------------------------\u001b[0m",
      "\u001b[1;31mKeyError\u001b[0m                                  Traceback (most recent call last)",
      "\u001b[1;32m<ipython-input-28-0e2d8528573a>\u001b[0m in \u001b[0;36m<module>\u001b[1;34m()\u001b[0m\n\u001b[1;32m----> 1\u001b[1;33m \u001b[0maux\u001b[0m\u001b[1;33m[\u001b[0m\u001b[1;33m[\u001b[0m\u001b[1;34m'Cliente_ID'\u001b[0m\u001b[1;33m,\u001b[0m\u001b[1;34m'Ruta_SAK'\u001b[0m\u001b[1;33m]\u001b[0m\u001b[1;33m]\u001b[0m\u001b[1;33m.\u001b[0m\u001b[0mgroupby\u001b[0m\u001b[1;33m(\u001b[0m\u001b[1;33m[\u001b[0m\u001b[1;34m'Cliente_ID'\u001b[0m\u001b[1;33m]\u001b[0m\u001b[1;33m)\u001b[0m\u001b[1;33m.\u001b[0m\u001b[0mcount\u001b[0m\u001b[1;33m(\u001b[0m\u001b[1;33m)\u001b[0m\u001b[1;33m[\u001b[0m\u001b[1;34m'Ruta_SAK'\u001b[0m\u001b[1;33m]\u001b[0m\u001b[1;33m.\u001b[0m\u001b[0mhist\u001b[0m\u001b[1;33m(\u001b[0m\u001b[0mrange\u001b[0m\u001b[1;33m=\u001b[0m\u001b[1;33m(\u001b[0m\u001b[1;36m0\u001b[0m\u001b[1;33m,\u001b[0m\u001b[1;36m60\u001b[0m\u001b[1;33m)\u001b[0m\u001b[1;33m)\u001b[0m\u001b[1;33m\u001b[0m\u001b[0m\n\u001b[0m",
      "\u001b[1;32m/usr/local/lib/python3.4/dist-packages/pandas/core/frame.py\u001b[0m in \u001b[0;36m__getitem__\u001b[1;34m(self, key)\u001b[0m\n\u001b[0;32m   1961\u001b[0m         \u001b[1;32mif\u001b[0m \u001b[0misinstance\u001b[0m\u001b[1;33m(\u001b[0m\u001b[0mkey\u001b[0m\u001b[1;33m,\u001b[0m \u001b[1;33m(\u001b[0m\u001b[0mSeries\u001b[0m\u001b[1;33m,\u001b[0m \u001b[0mnp\u001b[0m\u001b[1;33m.\u001b[0m\u001b[0mndarray\u001b[0m\u001b[1;33m,\u001b[0m \u001b[0mIndex\u001b[0m\u001b[1;33m,\u001b[0m \u001b[0mlist\u001b[0m\u001b[1;33m)\u001b[0m\u001b[1;33m)\u001b[0m\u001b[1;33m:\u001b[0m\u001b[1;33m\u001b[0m\u001b[0m\n\u001b[0;32m   1962\u001b[0m             \u001b[1;31m# either boolean or fancy integer index\u001b[0m\u001b[1;33m\u001b[0m\u001b[1;33m\u001b[0m\u001b[0m\n\u001b[1;32m-> 1963\u001b[1;33m             \u001b[1;32mreturn\u001b[0m \u001b[0mself\u001b[0m\u001b[1;33m.\u001b[0m\u001b[0m_getitem_array\u001b[0m\u001b[1;33m(\u001b[0m\u001b[0mkey\u001b[0m\u001b[1;33m)\u001b[0m\u001b[1;33m\u001b[0m\u001b[0m\n\u001b[0m\u001b[0;32m   1964\u001b[0m         \u001b[1;32melif\u001b[0m \u001b[0misinstance\u001b[0m\u001b[1;33m(\u001b[0m\u001b[0mkey\u001b[0m\u001b[1;33m,\u001b[0m \u001b[0mDataFrame\u001b[0m\u001b[1;33m)\u001b[0m\u001b[1;33m:\u001b[0m\u001b[1;33m\u001b[0m\u001b[0m\n\u001b[0;32m   1965\u001b[0m             \u001b[1;32mreturn\u001b[0m \u001b[0mself\u001b[0m\u001b[1;33m.\u001b[0m\u001b[0m_getitem_frame\u001b[0m\u001b[1;33m(\u001b[0m\u001b[0mkey\u001b[0m\u001b[1;33m)\u001b[0m\u001b[1;33m\u001b[0m\u001b[0m\n",
      "\u001b[1;32m/usr/local/lib/python3.4/dist-packages/pandas/core/frame.py\u001b[0m in \u001b[0;36m_getitem_array\u001b[1;34m(self, key)\u001b[0m\n\u001b[0;32m   2005\u001b[0m             \u001b[1;32mreturn\u001b[0m \u001b[0mself\u001b[0m\u001b[1;33m.\u001b[0m\u001b[0mtake\u001b[0m\u001b[1;33m(\u001b[0m\u001b[0mindexer\u001b[0m\u001b[1;33m,\u001b[0m \u001b[0maxis\u001b[0m\u001b[1;33m=\u001b[0m\u001b[1;36m0\u001b[0m\u001b[1;33m,\u001b[0m \u001b[0mconvert\u001b[0m\u001b[1;33m=\u001b[0m\u001b[1;32mFalse\u001b[0m\u001b[1;33m)\u001b[0m\u001b[1;33m\u001b[0m\u001b[0m\n\u001b[0;32m   2006\u001b[0m         \u001b[1;32melse\u001b[0m\u001b[1;33m:\u001b[0m\u001b[1;33m\u001b[0m\u001b[0m\n\u001b[1;32m-> 2007\u001b[1;33m             \u001b[0mindexer\u001b[0m \u001b[1;33m=\u001b[0m \u001b[0mself\u001b[0m\u001b[1;33m.\u001b[0m\u001b[0mix\u001b[0m\u001b[1;33m.\u001b[0m\u001b[0m_convert_to_indexer\u001b[0m\u001b[1;33m(\u001b[0m\u001b[0mkey\u001b[0m\u001b[1;33m,\u001b[0m \u001b[0maxis\u001b[0m\u001b[1;33m=\u001b[0m\u001b[1;36m1\u001b[0m\u001b[1;33m)\u001b[0m\u001b[1;33m\u001b[0m\u001b[0m\n\u001b[0m\u001b[0;32m   2008\u001b[0m             \u001b[1;32mreturn\u001b[0m \u001b[0mself\u001b[0m\u001b[1;33m.\u001b[0m\u001b[0mtake\u001b[0m\u001b[1;33m(\u001b[0m\u001b[0mindexer\u001b[0m\u001b[1;33m,\u001b[0m \u001b[0maxis\u001b[0m\u001b[1;33m=\u001b[0m\u001b[1;36m1\u001b[0m\u001b[1;33m,\u001b[0m \u001b[0mconvert\u001b[0m\u001b[1;33m=\u001b[0m\u001b[1;32mTrue\u001b[0m\u001b[1;33m)\u001b[0m\u001b[1;33m\u001b[0m\u001b[0m\n\u001b[0;32m   2009\u001b[0m \u001b[1;33m\u001b[0m\u001b[0m\n",
      "\u001b[1;32m/usr/local/lib/python3.4/dist-packages/pandas/core/indexing.py\u001b[0m in \u001b[0;36m_convert_to_indexer\u001b[1;34m(self, obj, axis, is_setter)\u001b[0m\n\u001b[0;32m   1148\u001b[0m                 \u001b[0mmask\u001b[0m \u001b[1;33m=\u001b[0m \u001b[0mcheck\u001b[0m \u001b[1;33m==\u001b[0m \u001b[1;33m-\u001b[0m\u001b[1;36m1\u001b[0m\u001b[1;33m\u001b[0m\u001b[0m\n\u001b[0;32m   1149\u001b[0m                 \u001b[1;32mif\u001b[0m \u001b[0mmask\u001b[0m\u001b[1;33m.\u001b[0m\u001b[0many\u001b[0m\u001b[1;33m(\u001b[0m\u001b[1;33m)\u001b[0m\u001b[1;33m:\u001b[0m\u001b[1;33m\u001b[0m\u001b[0m\n\u001b[1;32m-> 1150\u001b[1;33m                     \u001b[1;32mraise\u001b[0m \u001b[0mKeyError\u001b[0m\u001b[1;33m(\u001b[0m\u001b[1;34m'%s not in index'\u001b[0m \u001b[1;33m%\u001b[0m \u001b[0mobjarr\u001b[0m\u001b[1;33m[\u001b[0m\u001b[0mmask\u001b[0m\u001b[1;33m]\u001b[0m\u001b[1;33m)\u001b[0m\u001b[1;33m\u001b[0m\u001b[0m\n\u001b[0m\u001b[0;32m   1151\u001b[0m \u001b[1;33m\u001b[0m\u001b[0m\n\u001b[0;32m   1152\u001b[0m                 \u001b[1;32mreturn\u001b[0m \u001b[0m_values_from_object\u001b[0m\u001b[1;33m(\u001b[0m\u001b[0mindexer\u001b[0m\u001b[1;33m)\u001b[0m\u001b[1;33m\u001b[0m\u001b[0m\n",
      "\u001b[1;31mKeyError\u001b[0m: \"['Cliente_ID' 'Ruta_SAK'] not in index\""
     ]
    }
   ],
   "source": [
    "# aux[['Cliente_ID','Ruta_SAK']].groupby(['Cliente_ID']).count()['Ruta_SAK'].hist(range=(0,60))"
   ]
  },
  {
   "cell_type": "code",
   "execution_count": null,
   "metadata": {
    "ExecuteTime": {
     "end_time": "2016-07-07T19:07:49.642466",
     "start_time": "2016-07-07T22:07:37.394Z"
    },
    "collapsed": false
   },
   "outputs": [],
   "source": [
    "# aux.Cliente_ID.unique()[0]"
   ]
  },
  {
   "cell_type": "code",
   "execution_count": null,
   "metadata": {
    "ExecuteTime": {
     "end_time": "2016-07-07T19:07:49.642774",
     "start_time": "2016-07-07T22:07:37.397Z"
    },
    "collapsed": false
   },
   "outputs": [],
   "source": [
    "# df"
   ]
  },
  {
   "cell_type": "code",
   "execution_count": null,
   "metadata": {
    "ExecuteTime": {
     "end_time": "2016-07-07T18:15:08.278042",
     "start_time": "2016-07-07T18:15:08.245886"
    },
    "collapsed": false
   },
   "outputs": [],
   "source": []
  },
  {
   "cell_type": "code",
   "execution_count": null,
   "metadata": {
    "ExecuteTime": {
     "end_time": "2016-07-07T19:07:49.643048",
     "start_time": "2016-07-07T22:07:37.399Z"
    },
    "collapsed": false
   },
   "outputs": [],
   "source": [
    "# aux.shape"
   ]
  },
  {
   "cell_type": "code",
   "execution_count": null,
   "metadata": {
    "ExecuteTime": {
     "end_time": "2016-07-07T19:07:49.643299",
     "start_time": "2016-07-07T22:07:37.402Z"
    },
    "collapsed": false
   },
   "outputs": [],
   "source": [
    "# enc._n_values"
   ]
  },
  {
   "cell_type": "code",
   "execution_count": 29,
   "metadata": {
    "ExecuteTime": {
     "end_time": "2016-07-07T19:07:54.702075",
     "start_time": "2016-07-07T19:07:54.663479"
    },
    "collapsed": true
   },
   "outputs": [],
   "source": [
    "from sklearn.ensemble import RandomForestRegressor, ExtraTreesRegressor, GradientBoostingRegressor\n",
    "from sklearn.linear_model import LinearRegression\n",
    "from sklearn.cross_validation import StratifiedKFold, cross_val_score, train_test_split\n",
    "from sklearn.metrics import mean_squared_error\n",
    "from sklearn.preprocessing import OneHotEncoder"
   ]
  },
  {
   "cell_type": "code",
   "execution_count": 30,
   "metadata": {
    "ExecuteTime": {
     "end_time": "2016-07-07T19:07:54.874640",
     "start_time": "2016-07-07T19:07:54.865936"
    },
    "collapsed": false
   },
   "outputs": [],
   "source": [
    "# rf = ExtraTreesRegressor(n_estimators=50, max_features=1.0,min_samples_split=3,n_jobs=4)\n",
    "\n",
    "\n",
    "\n",
    "def train(x, y):\n",
    "    x_train, x_test, y_train, y_test = train_test_split(x, y, test_size=0.05, random_state=1729)\n",
    "    rf.fit(x_train, y_train)\n",
    "    y_pred = rf.predict(x_test)\n",
    "    print(mean_squared_error(y_test, y_pred))\n",
    "        "
   ]
  },
  {
   "cell_type": "code",
   "execution_count": 31,
   "metadata": {
    "ExecuteTime": {
     "end_time": "2016-07-07T19:07:55.031415",
     "start_time": "2016-07-07T19:07:55.025780"
    },
    "collapsed": false
   },
   "outputs": [],
   "source": [
    "# df.columns"
   ]
  },
  {
   "cell_type": "code",
   "execution_count": 34,
   "metadata": {
    "ExecuteTime": {
     "end_time": "2016-07-07T19:14:04.914110",
     "start_time": "2016-07-07T19:10:23.538892"
    },
    "collapsed": false
   },
   "outputs": [
    {
     "name": "stdout",
     "output_type": "stream",
     "text": [
      "volume_bin\n",
      "fitting...\n",
      "23.2844522712\n"
     ]
    },
    {
     "ename": "KeyboardInterrupt",
     "evalue": "",
     "output_type": "error",
     "traceback": [
      "\u001b[1;31m---------------------------------------------------------------------------\u001b[0m",
      "\u001b[1;31mKeyboardInterrupt\u001b[0m                         Traceback (most recent call last)",
      "\u001b[1;32m<ipython-input-34-ea30680fd020>\u001b[0m in \u001b[0;36m<module>\u001b[1;34m()\u001b[0m\n\u001b[0;32m      2\u001b[0m \u001b[1;33m\u001b[0m\u001b[0m\n\u001b[0;32m      3\u001b[0m \u001b[1;32mfor\u001b[0m \u001b[0mweek\u001b[0m \u001b[1;32min\u001b[0m \u001b[0mrange\u001b[0m\u001b[1;33m(\u001b[0m\u001b[1;36m3\u001b[0m\u001b[1;33m,\u001b[0m\u001b[1;36m10\u001b[0m\u001b[1;33m)\u001b[0m\u001b[1;33m:\u001b[0m\u001b[1;33m\u001b[0m\u001b[0m\n\u001b[1;32m----> 4\u001b[1;33m     \u001b[0mdf_week\u001b[0m \u001b[1;33m=\u001b[0m \u001b[0mpd\u001b[0m\u001b[1;33m.\u001b[0m\u001b[0mread_csv\u001b[0m\u001b[1;33m(\u001b[0m\u001b[1;34m'input/train_week%s.csv'\u001b[0m \u001b[1;33m%\u001b[0m \u001b[0mweek\u001b[0m\u001b[1;33m)\u001b[0m\u001b[1;33m\u001b[0m\u001b[0m\n\u001b[0m\u001b[0;32m      5\u001b[0m \u001b[1;33m\u001b[0m\u001b[0m\n\u001b[0;32m      6\u001b[0m     \u001b[0maux\u001b[0m \u001b[1;33m=\u001b[0m \u001b[0mprocess_df\u001b[0m\u001b[1;33m(\u001b[0m\u001b[0mdf_week\u001b[0m\u001b[1;33m)\u001b[0m\u001b[1;33m\u001b[0m\u001b[0m\n",
      "\u001b[1;32m/usr/local/lib/python3.4/dist-packages/pandas/io/parsers.py\u001b[0m in \u001b[0;36mparser_f\u001b[1;34m(filepath_or_buffer, sep, dialect, compression, doublequote, escapechar, quotechar, quoting, skipinitialspace, lineterminator, header, index_col, names, prefix, skiprows, skipfooter, skip_footer, na_values, true_values, false_values, delimiter, converters, dtype, usecols, engine, delim_whitespace, as_recarray, na_filter, compact_ints, use_unsigned, low_memory, buffer_lines, warn_bad_lines, error_bad_lines, keep_default_na, thousands, comment, decimal, parse_dates, keep_date_col, dayfirst, date_parser, memory_map, float_precision, nrows, iterator, chunksize, verbose, encoding, squeeze, mangle_dupe_cols, tupleize_cols, infer_datetime_format, skip_blank_lines)\u001b[0m\n\u001b[0;32m    496\u001b[0m                     skip_blank_lines=skip_blank_lines)\n\u001b[0;32m    497\u001b[0m \u001b[1;33m\u001b[0m\u001b[0m\n\u001b[1;32m--> 498\u001b[1;33m         \u001b[1;32mreturn\u001b[0m \u001b[0m_read\u001b[0m\u001b[1;33m(\u001b[0m\u001b[0mfilepath_or_buffer\u001b[0m\u001b[1;33m,\u001b[0m \u001b[0mkwds\u001b[0m\u001b[1;33m)\u001b[0m\u001b[1;33m\u001b[0m\u001b[0m\n\u001b[0m\u001b[0;32m    499\u001b[0m \u001b[1;33m\u001b[0m\u001b[0m\n\u001b[0;32m    500\u001b[0m     \u001b[0mparser_f\u001b[0m\u001b[1;33m.\u001b[0m\u001b[0m__name__\u001b[0m \u001b[1;33m=\u001b[0m \u001b[0mname\u001b[0m\u001b[1;33m\u001b[0m\u001b[0m\n",
      "\u001b[1;32m/usr/local/lib/python3.4/dist-packages/pandas/io/parsers.py\u001b[0m in \u001b[0;36m_read\u001b[1;34m(filepath_or_buffer, kwds)\u001b[0m\n\u001b[0;32m    283\u001b[0m         \u001b[1;32mreturn\u001b[0m \u001b[0mparser\u001b[0m\u001b[1;33m\u001b[0m\u001b[0m\n\u001b[0;32m    284\u001b[0m \u001b[1;33m\u001b[0m\u001b[0m\n\u001b[1;32m--> 285\u001b[1;33m     \u001b[1;32mreturn\u001b[0m \u001b[0mparser\u001b[0m\u001b[1;33m.\u001b[0m\u001b[0mread\u001b[0m\u001b[1;33m(\u001b[0m\u001b[1;33m)\u001b[0m\u001b[1;33m\u001b[0m\u001b[0m\n\u001b[0m\u001b[0;32m    286\u001b[0m \u001b[1;33m\u001b[0m\u001b[0m\n\u001b[0;32m    287\u001b[0m _parser_defaults = {\n",
      "\u001b[1;32m/usr/local/lib/python3.4/dist-packages/pandas/io/parsers.py\u001b[0m in \u001b[0;36mread\u001b[1;34m(self, nrows)\u001b[0m\n\u001b[0;32m    745\u001b[0m                 \u001b[1;32mraise\u001b[0m \u001b[0mValueError\u001b[0m\u001b[1;33m(\u001b[0m\u001b[1;34m'skip_footer not supported for iteration'\u001b[0m\u001b[1;33m)\u001b[0m\u001b[1;33m\u001b[0m\u001b[0m\n\u001b[0;32m    746\u001b[0m \u001b[1;33m\u001b[0m\u001b[0m\n\u001b[1;32m--> 747\u001b[1;33m         \u001b[0mret\u001b[0m \u001b[1;33m=\u001b[0m \u001b[0mself\u001b[0m\u001b[1;33m.\u001b[0m\u001b[0m_engine\u001b[0m\u001b[1;33m.\u001b[0m\u001b[0mread\u001b[0m\u001b[1;33m(\u001b[0m\u001b[0mnrows\u001b[0m\u001b[1;33m)\u001b[0m\u001b[1;33m\u001b[0m\u001b[0m\n\u001b[0m\u001b[0;32m    748\u001b[0m \u001b[1;33m\u001b[0m\u001b[0m\n\u001b[0;32m    749\u001b[0m         \u001b[1;32mif\u001b[0m \u001b[0mself\u001b[0m\u001b[1;33m.\u001b[0m\u001b[0moptions\u001b[0m\u001b[1;33m.\u001b[0m\u001b[0mget\u001b[0m\u001b[1;33m(\u001b[0m\u001b[1;34m'as_recarray'\u001b[0m\u001b[1;33m)\u001b[0m\u001b[1;33m:\u001b[0m\u001b[1;33m\u001b[0m\u001b[0m\n",
      "\u001b[1;32m/usr/local/lib/python3.4/dist-packages/pandas/io/parsers.py\u001b[0m in \u001b[0;36mread\u001b[1;34m(self, nrows)\u001b[0m\n\u001b[0;32m   1195\u001b[0m     \u001b[1;32mdef\u001b[0m \u001b[0mread\u001b[0m\u001b[1;33m(\u001b[0m\u001b[0mself\u001b[0m\u001b[1;33m,\u001b[0m \u001b[0mnrows\u001b[0m\u001b[1;33m=\u001b[0m\u001b[1;32mNone\u001b[0m\u001b[1;33m)\u001b[0m\u001b[1;33m:\u001b[0m\u001b[1;33m\u001b[0m\u001b[0m\n\u001b[0;32m   1196\u001b[0m         \u001b[1;32mtry\u001b[0m\u001b[1;33m:\u001b[0m\u001b[1;33m\u001b[0m\u001b[0m\n\u001b[1;32m-> 1197\u001b[1;33m             \u001b[0mdata\u001b[0m \u001b[1;33m=\u001b[0m \u001b[0mself\u001b[0m\u001b[1;33m.\u001b[0m\u001b[0m_reader\u001b[0m\u001b[1;33m.\u001b[0m\u001b[0mread\u001b[0m\u001b[1;33m(\u001b[0m\u001b[0mnrows\u001b[0m\u001b[1;33m)\u001b[0m\u001b[1;33m\u001b[0m\u001b[0m\n\u001b[0m\u001b[0;32m   1198\u001b[0m         \u001b[1;32mexcept\u001b[0m \u001b[0mStopIteration\u001b[0m\u001b[1;33m:\u001b[0m\u001b[1;33m\u001b[0m\u001b[0m\n\u001b[0;32m   1199\u001b[0m             \u001b[1;32mif\u001b[0m \u001b[0mself\u001b[0m\u001b[1;33m.\u001b[0m\u001b[0m_first_chunk\u001b[0m\u001b[1;33m:\u001b[0m\u001b[1;33m\u001b[0m\u001b[0m\n",
      "\u001b[1;31mKeyboardInterrupt\u001b[0m: "
     ]
    }
   ],
   "source": [
    "rf = RandomForestRegressor(n_jobs=4) #, random_state=401\n",
    "\n",
    "for week in range(3,10):\n",
    "    df_week = pd.read_csv('input/train_week%s.csv' % week)\n",
    "\n",
    "    aux = process_df(df_week)\n",
    "    df = aux.iloc[np.random.permutation(len(aux))]\n",
    "    df = pd.get_dummies(df)\n",
    "\n",
    "    print('fitting...')\n",
    "    # for x in range(10000,df.shape[0]-10000,10000):\n",
    "    df_partial = df\n",
    "    x = df_partial.drop(['Demanda_uni_equil'], axis=1).values\n",
    "    y = df_partial['Demanda_uni_equil'].values\n",
    "    train(x,y)\n",
    "    "
   ]
  },
  {
   "cell_type": "code",
   "execution_count": null,
   "metadata": {
    "ExecuteTime": {
     "end_time": "2016-07-06T19:02:01.288642",
     "start_time": "2016-07-06T22:01:19.607Z"
    },
    "collapsed": false
   },
   "outputs": [],
   "source": [
    "1.12"
   ]
  },
  {
   "cell_type": "code",
   "execution_count": null,
   "metadata": {
    "collapsed": true
   },
   "outputs": [],
   "source": []
  },
  {
   "cell_type": "code",
   "execution_count": null,
   "metadata": {
    "ExecuteTime": {
     "end_time": "2016-07-07T19:05:17.325288",
     "start_time": "2016-07-07T19:05:17.271413"
    },
    "collapsed": false
   },
   "outputs": [],
   "source": [
    "df_test"
   ]
  },
  {
   "cell_type": "code",
   "execution_count": null,
   "metadata": {
    "ExecuteTime": {
     "end_time": "2016-07-07T19:05:14.743715",
     "start_time": "2016-07-07T19:05:09.618129"
    },
    "collapsed": true
   },
   "outputs": [],
   "source": [
    "df_test = pd.read_csv('input/test.csv.gz', compression='gzip')"
   ]
  },
  {
   "cell_type": "code",
   "execution_count": null,
   "metadata": {
    "ExecuteTime": {
     "end_time": "2016-07-07T18:40:46.404302",
     "start_time": "2016-07-07T18:39:52.016071"
    },
    "collapsed": false,
    "scrolled": false
   },
   "outputs": [],
   "source": [
    "df = process_df(df_test, test=True)\n",
    "# df = aux.iloc[np.random.permutation(len(aux))]\n",
    "df = pd.get_dummies(df)\n",
    "res = rf.predict(df.values)"
   ]
  },
  {
   "cell_type": "code",
   "execution_count": null,
   "metadata": {
    "ExecuteTime": {
     "end_time": "2016-07-07T18:51:35.402823",
     "start_time": "2016-07-07T18:51:34.201563"
    },
    "collapsed": false
   },
   "outputs": [],
   "source": [
    "a = df_test.merge(df_producto, how='left', on='Producto_ID')"
   ]
  },
  {
   "cell_type": "code",
   "execution_count": null,
   "metadata": {
    "ExecuteTime": {
     "end_time": "2016-07-07T18:54:44.406265",
     "start_time": "2016-07-07T18:54:44.103026"
    },
    "collapsed": false
   },
   "outputs": [],
   "source": [
    "a.Venta_uni_hoy.hist(range=(0,10), bins=2)"
   ]
  },
  {
   "cell_type": "code",
   "execution_count": null,
   "metadata": {
    "ExecuteTime": {
     "end_time": "2016-07-07T18:53:03.974638",
     "start_time": "2016-07-07T18:53:03.964546"
    },
    "collapsed": false
   },
   "outputs": [],
   "source": []
  },
  {
   "cell_type": "code",
   "execution_count": null,
   "metadata": {
    "ExecuteTime": {
     "end_time": "2016-07-05T17:23:52.857057",
     "start_time": "2016-07-05T20:23:39.510Z"
    },
    "collapsed": false
   },
   "outputs": [],
   "source": [
    "# df_process['short_names_processed']"
   ]
  },
  {
   "cell_type": "code",
   "execution_count": null,
   "metadata": {
    "ExecuteTime": {
     "end_time": "2016-07-05T17:22:12.424024",
     "start_time": "2016-07-05T17:22:12.341279"
    },
    "collapsed": false
   },
   "outputs": [],
   "source": [
    "# pd.get_dummies(df_process[0:100][cols])"
   ]
  },
  {
   "cell_type": "code",
   "execution_count": null,
   "metadata": {
    "ExecuteTime": {
     "end_time": "2016-07-07T19:00:25.702424",
     "start_time": "2016-07-07T19:00:23.034346"
    },
    "collapsed": false
   },
   "outputs": [],
   "source": [
    "a = pd.get_dummies(aux[cols])"
   ]
  },
  {
   "cell_type": "code",
   "execution_count": null,
   "metadata": {
    "ExecuteTime": {
     "end_time": "2016-07-07T19:00:02.985702",
     "start_time": "2016-07-07T19:00:02.851766"
    },
    "collapsed": false
   },
   "outputs": [],
   "source": [
    "rf.feature_importances_.shape"
   ]
  },
  {
   "cell_type": "code",
   "execution_count": null,
   "metadata": {
    "ExecuteTime": {
     "end_time": "2016-07-07T18:05:03.797029",
     "start_time": "2016-07-07T21:02:16.147Z"
    },
    "collapsed": false
   },
   "outputs": [],
   "source": [
    "# a.columns"
   ]
  },
  {
   "cell_type": "code",
   "execution_count": null,
   "metadata": {
    "ExecuteTime": {
     "end_time": "2016-07-07T19:00:29.649282",
     "start_time": "2016-07-07T19:00:29.644309"
    },
    "collapsed": false
   },
   "outputs": [],
   "source": [
    "a.columns[0]"
   ]
  },
  {
   "cell_type": "code",
   "execution_count": null,
   "metadata": {
    "ExecuteTime": {
     "end_time": "2016-07-07T19:00:12.635423",
     "start_time": "2016-07-07T19:00:12.224952"
    },
    "collapsed": false
   },
   "outputs": [],
   "source": [
    "plt.bar(range(0,67), height=rf.feature_importances_)"
   ]
  },
  {
   "cell_type": "code",
   "execution_count": null,
   "metadata": {
    "ExecuteTime": {
     "end_time": "2016-06-22T16:48:28.775598",
     "start_time": "2016-06-22T16:48:28.604559"
    },
    "collapsed": false
   },
   "outputs": [],
   "source": [
    "f = plt.subplots()\n",
    "i = 444\n",
    "for v in x.T:\n",
    "    i+=1\n",
    "    f.hist(v)"
   ]
  },
  {
   "cell_type": "code",
   "execution_count": null,
   "metadata": {
    "ExecuteTime": {
     "end_time": "2016-06-22T16:41:11.071953",
     "start_time": "2016-06-22T16:41:10.845778"
    },
    "collapsed": false
   },
   "outputs": [],
   "source": []
  },
  {
   "cell_type": "code",
   "execution_count": null,
   "metadata": {
    "ExecuteTime": {
     "end_time": "2016-06-22T16:35:46.831672",
     "start_time": "2016-06-22T19:28:21.110Z"
    },
    "collapsed": false
   },
   "outputs": [],
   "source": [
    "df.columns"
   ]
  },
  {
   "cell_type": "code",
   "execution_count": null,
   "metadata": {
    "ExecuteTime": {
     "end_time": "2016-06-22T15:03:32.549718",
     "start_time": "2016-06-22T15:03:32.543490"
    },
    "collapsed": true
   },
   "outputs": [],
   "source": []
  },
  {
   "cell_type": "code",
   "execution_count": null,
   "metadata": {
    "ExecuteTime": {
     "end_time": "2016-06-22T16:35:46.831936",
     "start_time": "2016-06-22T19:28:21.113Z"
    },
    "collapsed": false
   },
   "outputs": [],
   "source": [
    "count_entregas(df, 'Agencia_ID')"
   ]
  },
  {
   "cell_type": "code",
   "execution_count": null,
   "metadata": {
    "collapsed": true
   },
   "outputs": [],
   "source": []
  }
 ],
 "metadata": {
  "kernelspec": {
   "display_name": "Python 3",
   "language": "python",
   "name": "python3"
  },
  "language_info": {
   "codemirror_mode": {
    "name": "ipython",
    "version": 3
   },
   "file_extension": ".py",
   "mimetype": "text/x-python",
   "name": "python",
   "nbconvert_exporter": "python",
   "pygments_lexer": "ipython3",
   "version": "3.4.3"
  }
 },
 "nbformat": 4,
 "nbformat_minor": 0
}
