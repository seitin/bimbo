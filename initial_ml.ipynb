{
 "cells": [
  {
   "cell_type": "code",
   "execution_count": 24,
   "metadata": {
    "ExecuteTime": {
     "end_time": "2016-06-17T19:16:08.903838",
     "start_time": "2016-06-17T19:16:08.569595"
    },
    "collapsed": false
   },
   "outputs": [],
   "source": [
    "import pandas as pd\n",
    "import numpy as np\n",
    "import matplotlib.pyplot as plt\n",
    "%matplotlib inline"
   ]
  },
  {
   "cell_type": "code",
   "execution_count": 2,
   "metadata": {
    "ExecuteTime": {
     "end_time": "2016-06-17T19:06:06.119826",
     "start_time": "2016-06-17T19:06:06.117438"
    },
    "collapsed": true
   },
   "outputs": [],
   "source": [
    "pd.options.display.max_rows = 30"
   ]
  },
  {
   "cell_type": "code",
   "execution_count": 3,
   "metadata": {
    "ExecuteTime": {
     "end_time": "2016-06-17T19:06:06.126306",
     "start_time": "2016-06-17T19:06:06.120776"
    },
    "collapsed": false
   },
   "outputs": [],
   "source": [
    "# df_test = pd.read_csv('input/test.csv.gz', compression='gzip')\n",
    "# df_test.columns"
   ]
  },
  {
   "cell_type": "code",
   "execution_count": 4,
   "metadata": {
    "ExecuteTime": {
     "end_time": "2016-06-17T19:06:06.935816",
     "start_time": "2016-06-17T19:06:06.127454"
    },
    "collapsed": false
   },
   "outputs": [],
   "source": [
    "chunksize = 5e6\n",
    "df = pd.read_csv('input/train.csv', nrows=chunksize)\n",
    "\n",
    "df_producto = pd.read_csv('input/producto_tabla.csv.gz', compression='gzip')\n",
    "df_townstate = pd.read_csv('input/town_state.csv.gz', compression='gzip')"
   ]
  },
  {
   "cell_type": "code",
   "execution_count": 5,
   "metadata": {
    "ExecuteTime": {
     "end_time": "2016-06-17T19:06:06.998943",
     "start_time": "2016-06-17T19:06:06.936857"
    },
    "collapsed": true
   },
   "outputs": [],
   "source": [
    "df = pd.DataFrame(df.ix[df.Demanda_uni_equil < 20])"
   ]
  },
  {
   "cell_type": "code",
   "execution_count": 6,
   "metadata": {
    "ExecuteTime": {
     "end_time": "2016-06-17T19:06:07.001693",
     "start_time": "2016-06-17T19:06:07.000015"
    },
    "collapsed": false
   },
   "outputs": [],
   "source": [
    "# df.Demanda_uni_equil.hist(bins=50, range=(0,20))"
   ]
  },
  {
   "cell_type": "code",
   "execution_count": null,
   "metadata": {
    "ExecuteTime": {
     "end_time": "2016-06-17T18:39:21.024601",
     "start_time": "2016-06-17T18:39:21.014136"
    },
    "collapsed": false
   },
   "outputs": [],
   "source": []
  },
  {
   "cell_type": "code",
   "execution_count": 7,
   "metadata": {
    "ExecuteTime": {
     "end_time": "2016-06-17T19:06:07.268584",
     "start_time": "2016-06-17T19:06:07.002682"
    },
    "collapsed": false
   },
   "outputs": [
    {
     "data": {
      "text/html": [
       "<div>\n",
       "<table border=\"1\" class=\"dataframe\">\n",
       "  <thead>\n",
       "    <tr style=\"text-align: right;\">\n",
       "      <th></th>\n",
       "      <th>NombreProducto</th>\n",
       "      <th>Producto_ID</th>\n",
       "      <th>fabricante</th>\n",
       "      <th>unidade</th>\n",
       "      <th>volume</th>\n",
       "    </tr>\n",
       "  </thead>\n",
       "  <tbody>\n",
       "    <tr>\n",
       "      <th>1</th>\n",
       "      <td>CAPUCCINO MOKA</td>\n",
       "      <td>9</td>\n",
       "      <td>NES</td>\n",
       "      <td>G</td>\n",
       "      <td>750</td>\n",
       "    </tr>\n",
       "    <tr>\n",
       "      <th>2</th>\n",
       "      <td>BOLLOS EXT SAJONJOLI</td>\n",
       "      <td>41</td>\n",
       "      <td>BIM</td>\n",
       "      <td>G</td>\n",
       "      <td>480</td>\n",
       "    </tr>\n",
       "    <tr>\n",
       "      <th>3</th>\n",
       "      <td>BURRITOS SINCRO CU</td>\n",
       "      <td>53</td>\n",
       "      <td>LON</td>\n",
       "      <td>G</td>\n",
       "      <td>170</td>\n",
       "    </tr>\n",
       "    <tr>\n",
       "      <th>4</th>\n",
       "      <td>DIV TIRA MINI DORADITA</td>\n",
       "      <td>72</td>\n",
       "      <td>TR</td>\n",
       "      <td>G</td>\n",
       "      <td>45</td>\n",
       "    </tr>\n",
       "    <tr>\n",
       "      <th>5</th>\n",
       "      <td>PAN MULTIGRANO LINAZA</td>\n",
       "      <td>73</td>\n",
       "      <td>BIM</td>\n",
       "      <td>G</td>\n",
       "      <td>540</td>\n",
       "    </tr>\n",
       "    <tr>\n",
       "      <th>6</th>\n",
       "      <td>TOSTADO INTEGRAL</td>\n",
       "      <td>98</td>\n",
       "      <td>WON</td>\n",
       "      <td>G</td>\n",
       "      <td>180</td>\n",
       "    </tr>\n",
       "    <tr>\n",
       "      <th>7</th>\n",
       "      <td>PAN BLANCO</td>\n",
       "      <td>99</td>\n",
       "      <td>WON</td>\n",
       "      <td>G</td>\n",
       "      <td>567</td>\n",
       "    </tr>\n",
       "    <tr>\n",
       "      <th>8</th>\n",
       "      <td>SUPER PAN BCO AJONJOLI SP</td>\n",
       "      <td>100</td>\n",
       "      <td>WON</td>\n",
       "      <td>G</td>\n",
       "      <td>680</td>\n",
       "    </tr>\n",
       "    <tr>\n",
       "      <th>9</th>\n",
       "      <td>DER CT MEDIANO</td>\n",
       "      <td>106</td>\n",
       "      <td>WON</td>\n",
       "      <td>G</td>\n",
       "      <td>475</td>\n",
       "    </tr>\n",
       "    <tr>\n",
       "      <th>10</th>\n",
       "      <td>DER CT GDE SP</td>\n",
       "      <td>107</td>\n",
       "      <td>WON</td>\n",
       "      <td>G</td>\n",
       "      <td>680</td>\n",
       "    </tr>\n",
       "    <tr>\n",
       "      <th>11</th>\n",
       "      <td>BAGUETTE PRECOCIDA CONG</td>\n",
       "      <td>108</td>\n",
       "      <td>DH</td>\n",
       "      <td>G</td>\n",
       "      <td>280</td>\n",
       "    </tr>\n",
       "    <tr>\n",
       "      <th>12</th>\n",
       "      <td>PAN MULTICEREAL</td>\n",
       "      <td>109</td>\n",
       "      <td>WON</td>\n",
       "      <td>G</td>\n",
       "      <td>475</td>\n",
       "    </tr>\n",
       "    <tr>\n",
       "      <th>13</th>\n",
       "      <td>TOSTADO INTEGRAL</td>\n",
       "      <td>112</td>\n",
       "      <td>WON</td>\n",
       "      <td>G</td>\n",
       "      <td>180</td>\n",
       "    </tr>\n",
       "    <tr>\n",
       "      <th>14</th>\n",
       "      <td>BISCOTEL RECETA ORIGINAL CU</td>\n",
       "      <td>122</td>\n",
       "      <td>SUA</td>\n",
       "      <td>G</td>\n",
       "      <td>410</td>\n",
       "    </tr>\n",
       "    <tr>\n",
       "      <th>15</th>\n",
       "      <td>SUPER BOLLOS 5IN</td>\n",
       "      <td>123</td>\n",
       "      <td>WON</td>\n",
       "      <td>G</td>\n",
       "      <td>540</td>\n",
       "    </tr>\n",
       "    <tr>\n",
       "      <th>...</th>\n",
       "      <td>...</td>\n",
       "      <td>...</td>\n",
       "      <td>...</td>\n",
       "      <td>...</td>\n",
       "      <td>...</td>\n",
       "    </tr>\n",
       "    <tr>\n",
       "      <th>2578</th>\n",
       "      <td>CONCHAS PROM TAB</td>\n",
       "      <td>49920</td>\n",
       "      <td>TR</td>\n",
       "      <td>G</td>\n",
       "      <td>180</td>\n",
       "    </tr>\n",
       "    <tr>\n",
       "      <th>2579</th>\n",
       "      <td>DONA TIRA</td>\n",
       "      <td>49928</td>\n",
       "      <td>BIM</td>\n",
       "      <td>G</td>\n",
       "      <td>26</td>\n",
       "    </tr>\n",
       "    <tr>\n",
       "      <th>2580</th>\n",
       "      <td>PAN BLANCO BO RENDIDOR TNB</td>\n",
       "      <td>49944</td>\n",
       "      <td>BIM</td>\n",
       "      <td>G</td>\n",
       "      <td>567</td>\n",
       "    </tr>\n",
       "    <tr>\n",
       "      <th>2581</th>\n",
       "      <td>PAN BLANCO BO RENDIDOR MTA</td>\n",
       "      <td>49972</td>\n",
       "      <td>BIM</td>\n",
       "      <td>G</td>\n",
       "      <td>567</td>\n",
       "    </tr>\n",
       "    <tr>\n",
       "      <th>2582</th>\n",
       "      <td>PAN BLANCO BO RENDIDOR</td>\n",
       "      <td>49973</td>\n",
       "      <td>BIM</td>\n",
       "      <td>G</td>\n",
       "      <td>567</td>\n",
       "    </tr>\n",
       "    <tr>\n",
       "      <th>2583</th>\n",
       "      <td>TOSTADO BLANCO</td>\n",
       "      <td>49986</td>\n",
       "      <td>WON</td>\n",
       "      <td>G</td>\n",
       "      <td>180</td>\n",
       "    </tr>\n",
       "    <tr>\n",
       "      <th>2584</th>\n",
       "      <td>TOSTADO BLANCO MTA</td>\n",
       "      <td>49988</td>\n",
       "      <td>WON</td>\n",
       "      <td>G</td>\n",
       "      <td>180</td>\n",
       "    </tr>\n",
       "    <tr>\n",
       "      <th>2585</th>\n",
       "      <td>TOSTADO BLANCO TAB</td>\n",
       "      <td>49989</td>\n",
       "      <td>WON</td>\n",
       "      <td>G</td>\n",
       "      <td>180</td>\n",
       "    </tr>\n",
       "    <tr>\n",
       "      <th>2586</th>\n",
       "      <td>TOSTADO INTEGRAL</td>\n",
       "      <td>49990</td>\n",
       "      <td>WON</td>\n",
       "      <td>G</td>\n",
       "      <td>180</td>\n",
       "    </tr>\n",
       "    <tr>\n",
       "      <th>2587</th>\n",
       "      <td>TOSTADO INTEGRAL MTA</td>\n",
       "      <td>49992</td>\n",
       "      <td>WON</td>\n",
       "      <td>G</td>\n",
       "      <td>180</td>\n",
       "    </tr>\n",
       "    <tr>\n",
       "      <th>2588</th>\n",
       "      <td>TOSTADO INTEGRAL TAB</td>\n",
       "      <td>49993</td>\n",
       "      <td>WON</td>\n",
       "      <td>G</td>\n",
       "      <td>180</td>\n",
       "    </tr>\n",
       "    <tr>\n",
       "      <th>2589</th>\n",
       "      <td>TOSTADO INT CT GRASA AZUC</td>\n",
       "      <td>49994</td>\n",
       "      <td>WON</td>\n",
       "      <td>G</td>\n",
       "      <td>200</td>\n",
       "    </tr>\n",
       "    <tr>\n",
       "      <th>2590</th>\n",
       "      <td>TOSTADO INT CT GRASA AZUC MTA</td>\n",
       "      <td>49996</td>\n",
       "      <td>WON</td>\n",
       "      <td>G</td>\n",
       "      <td>200</td>\n",
       "    </tr>\n",
       "    <tr>\n",
       "      <th>2591</th>\n",
       "      <td>TOSTADO INT CT GRASA AZUC TAB</td>\n",
       "      <td>49997</td>\n",
       "      <td>WON</td>\n",
       "      <td>G</td>\n",
       "      <td>200</td>\n",
       "    </tr>\n",
       "    <tr>\n",
       "      <th>0</th>\n",
       "      <td>NO IDENTIFICADO</td>\n",
       "      <td>0</td>\n",
       "      <td>NaN</td>\n",
       "      <td>NaN</td>\n",
       "      <td>NaN</td>\n",
       "    </tr>\n",
       "  </tbody>\n",
       "</table>\n",
       "<p>2592 rows × 5 columns</p>\n",
       "</div>"
      ],
      "text/plain": [
       "                     NombreProducto  Producto_ID fabricante unidade volume\n",
       "1                    CAPUCCINO MOKA            9        NES       G    750\n",
       "2              BOLLOS EXT SAJONJOLI           41        BIM       G    480\n",
       "3                BURRITOS SINCRO CU           53        LON       G    170\n",
       "4            DIV TIRA MINI DORADITA           72         TR       G     45\n",
       "5             PAN MULTIGRANO LINAZA           73        BIM       G    540\n",
       "6                  TOSTADO INTEGRAL           98        WON       G    180\n",
       "7                        PAN BLANCO           99        WON       G    567\n",
       "8         SUPER PAN BCO AJONJOLI SP          100        WON       G    680\n",
       "9                    DER CT MEDIANO          106        WON       G    475\n",
       "10                    DER CT GDE SP          107        WON       G    680\n",
       "11          BAGUETTE PRECOCIDA CONG          108         DH       G    280\n",
       "12                  PAN MULTICEREAL          109        WON       G    475\n",
       "13                 TOSTADO INTEGRAL          112        WON       G    180\n",
       "14      BISCOTEL RECETA ORIGINAL CU          122        SUA       G    410\n",
       "15                 SUPER BOLLOS 5IN          123        WON       G    540\n",
       "...                             ...          ...        ...     ...    ...\n",
       "2578               CONCHAS PROM TAB        49920         TR       G    180\n",
       "2579                      DONA TIRA        49928        BIM       G     26\n",
       "2580     PAN BLANCO BO RENDIDOR TNB        49944        BIM       G    567\n",
       "2581     PAN BLANCO BO RENDIDOR MTA        49972        BIM       G    567\n",
       "2582         PAN BLANCO BO RENDIDOR        49973        BIM       G    567\n",
       "2583                 TOSTADO BLANCO        49986        WON       G    180\n",
       "2584             TOSTADO BLANCO MTA        49988        WON       G    180\n",
       "2585             TOSTADO BLANCO TAB        49989        WON       G    180\n",
       "2586               TOSTADO INTEGRAL        49990        WON       G    180\n",
       "2587           TOSTADO INTEGRAL MTA        49992        WON       G    180\n",
       "2588           TOSTADO INTEGRAL TAB        49993        WON       G    180\n",
       "2589      TOSTADO INT CT GRASA AZUC        49994        WON       G    200\n",
       "2590  TOSTADO INT CT GRASA AZUC MTA        49996        WON       G    200\n",
       "2591  TOSTADO INT CT GRASA AZUC TAB        49997        WON       G    200\n",
       "0                   NO IDENTIFICADO            0        NaN     NaN    NaN\n",
       "\n",
       "[2592 rows x 5 columns]"
      ]
     },
     "execution_count": 7,
     "metadata": {},
     "output_type": "execute_result"
    }
   ],
   "source": [
    "df_producto['NombreProducto'] = df_producto['NombreProducto'].str.upper()\n",
    "df_producto['NombreProducto'] = df_producto.apply(lambda x :x['NombreProducto'].replace(str(x['Producto_ID']),'').strip(), axis=1 )\n",
    "df_producto = pd.DataFrame(df_producto.loc[1:])\n",
    "df_producto['fabricante'] = df_producto.NombreProducto.str.split(' ').str[-1]\n",
    "df_producto.ix[df_producto.fabricante == '1KG','fabricante'] = ''\n",
    "df_producto['NombreProducto'] = df_producto.apply(lambda x :x['NombreProducto'].replace(x['fabricante'],'').strip(), axis=1 )\n",
    "\n",
    "reg = '(\\d{1,4}G|\\d{1,4}KG|\\d{1,4}ML|\\d{1,4}\\ ML)'\n",
    "df_producto['volume'] = df_producto.NombreProducto.str.extract(reg)\n",
    "\n",
    "df_producto['NombreProducto'] = df_producto.apply(lambda x :x['NombreProducto'].replace(str(x['volume']),'').replace('  ',' ').strip(), axis=1 )\n",
    "\n",
    "reg = '(\\d{1,5}P)'\n",
    "df_producto['unidade'] = df_producto.NombreProducto.str.extract(reg)\n",
    "df_producto['NombreProducto'] = df_producto.NombreProducto.str.replace(reg, '').str.replace('  ',' ').str.strip()\n",
    "\n",
    "aux = pd.DataFrame({'Producto_ID':[0],'NombreProducto':['NO IDENTIFICADO']})\n",
    "df_producto = df_producto.append(aux)\n",
    "\n",
    "df_producto['unidade'] = df_producto.volume.str.extract('([A-Z])')\n",
    "df_producto['volume'] = df_producto.volume.str.replace('([A-Z])','')\n",
    "\n",
    "df_producto"
   ]
  },
  {
   "cell_type": "code",
   "execution_count": 8,
   "metadata": {
    "ExecuteTime": {
     "end_time": "2016-06-17T19:06:07.275317",
     "start_time": "2016-06-17T19:06:07.269754"
    },
    "collapsed": false
   },
   "outputs": [],
   "source": [
    "df_townstate.ix[df_townstate.State.str.contains(\"ESTADO DE MÉXICO\"), 'State'] = 'MÉXICO, D.F.'\n",
    "df_townstate['Ag'] = df_townstate.Town.str.contains('AG.') * 1"
   ]
  },
  {
   "cell_type": "code",
   "execution_count": null,
   "metadata": {
    "ExecuteTime": {
     "end_time": "2016-06-17T18:03:12.393842",
     "start_time": "2016-06-17T18:03:12.379891"
    },
    "collapsed": false
   },
   "outputs": [],
   "source": []
  },
  {
   "cell_type": "code",
   "execution_count": null,
   "metadata": {
    "ExecuteTime": {
     "end_time": "2016-06-17T17:46:01.812181",
     "start_time": "2016-06-17T17:46:01.777411"
    },
    "collapsed": false
   },
   "outputs": [],
   "source": []
  },
  {
   "cell_type": "code",
   "execution_count": 9,
   "metadata": {
    "ExecuteTime": {
     "end_time": "2016-06-17T19:06:07.571081",
     "start_time": "2016-06-17T19:06:07.276567"
    },
    "collapsed": false
   },
   "outputs": [],
   "source": [
    "# df = df.merge(df_cliente, on='Cliente_ID')\n",
    "df = df.merge(df_producto[['Producto_ID','fabricante','unidade','volume']], on='Producto_ID')\n",
    "df = df.merge(df_townstate[['Agencia_ID','Ag']], on='Agencia_ID')"
   ]
  },
  {
   "cell_type": "code",
   "execution_count": null,
   "metadata": {
    "ExecuteTime": {
     "end_time": "2016-06-17T16:48:13.502679",
     "start_time": "2016-06-17T16:48:13.128023"
    },
    "collapsed": true
   },
   "outputs": [],
   "source": []
  },
  {
   "cell_type": "code",
   "execution_count": 10,
   "metadata": {
    "ExecuteTime": {
     "end_time": "2016-06-17T19:06:07.669734",
     "start_time": "2016-06-17T19:06:07.572160"
    },
    "collapsed": false
   },
   "outputs": [],
   "source": [
    "df = df.drop(['Agencia_ID','Dev_uni_proxima','Dev_proxima','Venta_hoy','Venta_uni_hoy'], axis=1)"
   ]
  },
  {
   "cell_type": "code",
   "execution_count": 11,
   "metadata": {
    "ExecuteTime": {
     "end_time": "2016-06-17T19:06:07.831797",
     "start_time": "2016-06-17T19:06:07.670793"
    },
    "collapsed": false
   },
   "outputs": [],
   "source": [
    "df.volume = df.volume.fillna(0).astype('int')"
   ]
  },
  {
   "cell_type": "code",
   "execution_count": 12,
   "metadata": {
    "ExecuteTime": {
     "end_time": "2016-06-17T19:06:07.838682",
     "start_time": "2016-06-17T19:06:07.832801"
    },
    "collapsed": false
   },
   "outputs": [],
   "source": [
    "y = df.Demanda_uni_equil.values"
   ]
  },
  {
   "cell_type": "code",
   "execution_count": 13,
   "metadata": {
    "ExecuteTime": {
     "end_time": "2016-06-17T19:06:07.887597",
     "start_time": "2016-06-17T19:06:07.839705"
    },
    "collapsed": false
   },
   "outputs": [],
   "source": [
    "df_fabricante = df[['fabricante']]"
   ]
  },
  {
   "cell_type": "code",
   "execution_count": 14,
   "metadata": {
    "ExecuteTime": {
     "end_time": "2016-06-17T19:06:08.094196",
     "start_time": "2016-06-17T19:06:07.888625"
    },
    "collapsed": false
   },
   "outputs": [],
   "source": [
    "df_fabricante = df_fabricante.groupby('fabricante').count().reset_index()\n",
    "df_fabricante['index_fabricante'] = df_fabricante.index\n",
    "df = df.merge(df_fabricante, on='fabricante')"
   ]
  },
  {
   "cell_type": "code",
   "execution_count": null,
   "metadata": {
    "ExecuteTime": {
     "end_time": "2016-06-17T19:00:36.753126",
     "start_time": "2016-06-17T19:00:36.730506"
    },
    "collapsed": false
   },
   "outputs": [],
   "source": []
  },
  {
   "cell_type": "code",
   "execution_count": 15,
   "metadata": {
    "ExecuteTime": {
     "end_time": "2016-06-17T19:06:08.097745",
     "start_time": "2016-06-17T19:06:08.095233"
    },
    "collapsed": false
   },
   "outputs": [
    {
     "data": {
      "text/plain": [
       "(947674, 11)"
      ]
     },
     "execution_count": 15,
     "metadata": {},
     "output_type": "execute_result"
    }
   ],
   "source": [
    "df.shape"
   ]
  },
  {
   "cell_type": "code",
   "execution_count": 16,
   "metadata": {
    "ExecuteTime": {
     "end_time": "2016-06-17T19:06:08.343293",
     "start_time": "2016-06-17T19:06:08.101038"
    },
    "collapsed": false
   },
   "outputs": [],
   "source": [
    "cols = ['Semana','Canal_ID','Ruta_SAK','Cliente_ID','Producto_ID','index_fabricante','unidade','volume','Ag']\n",
    "x = pd.get_dummies(df[cols]).values"
   ]
  },
  {
   "cell_type": "code",
   "execution_count": 53,
   "metadata": {
    "ExecuteTime": {
     "end_time": "2016-06-17T19:20:26.397595",
     "start_time": "2016-06-17T19:20:26.299591"
    },
    "collapsed": false
   },
   "outputs": [],
   "source": [
    "df = df.ix[df.volume<500]\n",
    "df = df.ix[(df.Ruta_SAK>1000) & (df.Ruta_SAK <2500)]"
   ]
  },
  {
   "cell_type": "code",
   "execution_count": 55,
   "metadata": {
    "ExecuteTime": {
     "end_time": "2016-06-17T19:20:32.575547",
     "start_time": "2016-06-17T19:20:32.380584"
    },
    "collapsed": false
   },
   "outputs": [
    {
     "data": {
      "text/plain": [
       "<matplotlib.axes._subplots.AxesSubplot at 0x7fc9ec35fa58>"
      ]
     },
     "execution_count": 55,
     "metadata": {},
     "output_type": "execute_result"
    },
    {
     "data": {
      "image/png": "[encoded data removed]",
      "text/plain": [
       "<matplotlib.figure.Figure at 0x7fc9ec2afac8>"
      ]
     },
     "metadata": {},
     "output_type": "display_data"
    }
   ],
   "source": []
  },
  {
   "cell_type": "code",
   "execution_count": 17,
   "metadata": {
    "ExecuteTime": {
     "end_time": "2016-06-17T19:06:08.377317",
     "start_time": "2016-06-17T19:06:08.344351"
    },
    "collapsed": false
   },
   "outputs": [
    {
     "data": {
      "text/plain": [
       "309"
      ]
     },
     "execution_count": 17,
     "metadata": {},
     "output_type": "execute_result"
    }
   ],
   "source": [
    "# del df\n",
    "import gc\n",
    "gc.collect()"
   ]
  },
  {
   "cell_type": "code",
   "execution_count": null,
   "metadata": {
    "collapsed": true
   },
   "outputs": [],
   "source": []
  },
  {
   "cell_type": "code",
   "execution_count": 18,
   "metadata": {
    "ExecuteTime": {
     "end_time": "2016-06-17T19:06:08.908200",
     "start_time": "2016-06-17T19:06:08.378361"
    },
    "collapsed": true
   },
   "outputs": [],
   "source": [
    "from sklearn.ensemble import RandomForestRegressor\n",
    "from sklearn.cross_validation import KFold, cross_val_score\n",
    "from sklearn.metrics import mean_squared_error"
   ]
  },
  {
   "cell_type": "code",
   "execution_count": 23,
   "metadata": {
    "ExecuteTime": {
     "end_time": "2016-06-17T19:15:54.181047",
     "start_time": "2016-06-17T19:13:33.665402"
    },
    "collapsed": false
   },
   "outputs": [
    {
     "name": "stdout",
     "output_type": "stream",
     "text": [
      "19.7053270666\n",
      "19.4116895288\n",
      "29.7252265481\n"
     ]
    },
    {
     "ename": "KeyboardInterrupt",
     "evalue": "",
     "output_type": "error",
     "traceback": [
      "\u001b[1;31m---------------------------------------------------------------------------\u001b[0m",
      "\u001b[1;31mKeyboardInterrupt\u001b[0m                         Traceback (most recent call last)",
      "\u001b[1;32m<ipython-input-23-c4e97fd04fe8>\u001b[0m in \u001b[0;36m<module>\u001b[1;34m()\u001b[0m\n\u001b[0;32m      3\u001b[0m \u001b[1;33m\u001b[0m\u001b[0m\n\u001b[0;32m      4\u001b[0m \u001b[1;32mfor\u001b[0m \u001b[1;33m(\u001b[0m\u001b[0mtrain\u001b[0m\u001b[1;33m,\u001b[0m \u001b[0mtest\u001b[0m\u001b[1;33m)\u001b[0m \u001b[1;32min\u001b[0m \u001b[0mkf\u001b[0m\u001b[1;33m:\u001b[0m\u001b[1;33m\u001b[0m\u001b[0m\n\u001b[1;32m----> 5\u001b[1;33m     \u001b[0mrf\u001b[0m\u001b[1;33m.\u001b[0m\u001b[0mfit\u001b[0m\u001b[1;33m(\u001b[0m\u001b[0mx\u001b[0m\u001b[1;33m[\u001b[0m\u001b[0mtrain\u001b[0m\u001b[1;33m]\u001b[0m\u001b[1;33m,\u001b[0m \u001b[0my\u001b[0m\u001b[1;33m[\u001b[0m\u001b[0mtrain\u001b[0m\u001b[1;33m]\u001b[0m\u001b[1;33m)\u001b[0m\u001b[1;33m\u001b[0m\u001b[0m\n\u001b[0m\u001b[0;32m      6\u001b[0m     \u001b[0my_pred\u001b[0m \u001b[1;33m=\u001b[0m \u001b[0mrf\u001b[0m\u001b[1;33m.\u001b[0m\u001b[0mpredict\u001b[0m\u001b[1;33m(\u001b[0m\u001b[0mx\u001b[0m\u001b[1;33m[\u001b[0m\u001b[0mtest\u001b[0m\u001b[1;33m]\u001b[0m\u001b[1;33m)\u001b[0m\u001b[1;33m\u001b[0m\u001b[0m\n\u001b[0;32m      7\u001b[0m \u001b[1;31m#     print(cross_val_score(rf,x,y,n_jobs=4))\u001b[0m\u001b[1;33m\u001b[0m\u001b[1;33m\u001b[0m\u001b[0m\n",
      "\u001b[1;32m/usr/local/lib/python3.4/dist-packages/sklearn/ensemble/forest.py\u001b[0m in \u001b[0;36mfit\u001b[1;34m(self, X, y, sample_weight)\u001b[0m\n\u001b[0;32m    288\u001b[0m                     \u001b[0mt\u001b[0m\u001b[1;33m,\u001b[0m \u001b[0mself\u001b[0m\u001b[1;33m,\u001b[0m \u001b[0mX\u001b[0m\u001b[1;33m,\u001b[0m \u001b[0my\u001b[0m\u001b[1;33m,\u001b[0m \u001b[0msample_weight\u001b[0m\u001b[1;33m,\u001b[0m \u001b[0mi\u001b[0m\u001b[1;33m,\u001b[0m \u001b[0mlen\u001b[0m\u001b[1;33m(\u001b[0m\u001b[0mtrees\u001b[0m\u001b[1;33m)\u001b[0m\u001b[1;33m,\u001b[0m\u001b[1;33m\u001b[0m\u001b[0m\n\u001b[0;32m    289\u001b[0m                     verbose=self.verbose, class_weight=self.class_weight)\n\u001b[1;32m--> 290\u001b[1;33m                 for i, t in enumerate(trees))\n\u001b[0m\u001b[0;32m    291\u001b[0m \u001b[1;33m\u001b[0m\u001b[0m\n\u001b[0;32m    292\u001b[0m             \u001b[1;31m# Collect newly grown trees\u001b[0m\u001b[1;33m\u001b[0m\u001b[1;33m\u001b[0m\u001b[0m\n",
      "\u001b[1;32m/usr/local/lib/python3.4/dist-packages/sklearn/externals/joblib/parallel.py\u001b[0m in \u001b[0;36m__call__\u001b[1;34m(self, iterable)\u001b[0m\n\u001b[0;32m    810\u001b[0m                 \u001b[1;31m# consumption.\u001b[0m\u001b[1;33m\u001b[0m\u001b[1;33m\u001b[0m\u001b[0m\n\u001b[0;32m    811\u001b[0m                 \u001b[0mself\u001b[0m\u001b[1;33m.\u001b[0m\u001b[0m_iterating\u001b[0m \u001b[1;33m=\u001b[0m \u001b[1;32mFalse\u001b[0m\u001b[1;33m\u001b[0m\u001b[0m\n\u001b[1;32m--> 812\u001b[1;33m             \u001b[0mself\u001b[0m\u001b[1;33m.\u001b[0m\u001b[0mretrieve\u001b[0m\u001b[1;33m(\u001b[0m\u001b[1;33m)\u001b[0m\u001b[1;33m\u001b[0m\u001b[0m\n\u001b[0m\u001b[0;32m    813\u001b[0m             \u001b[1;31m# Make sure that we get a last message telling us we are done\u001b[0m\u001b[1;33m\u001b[0m\u001b[1;33m\u001b[0m\u001b[0m\n\u001b[0;32m    814\u001b[0m             \u001b[0melapsed_time\u001b[0m \u001b[1;33m=\u001b[0m \u001b[0mtime\u001b[0m\u001b[1;33m.\u001b[0m\u001b[0mtime\u001b[0m\u001b[1;33m(\u001b[0m\u001b[1;33m)\u001b[0m \u001b[1;33m-\u001b[0m \u001b[0mself\u001b[0m\u001b[1;33m.\u001b[0m\u001b[0m_start_time\u001b[0m\u001b[1;33m\u001b[0m\u001b[0m\n",
      "\u001b[1;32m/usr/local/lib/python3.4/dist-packages/sklearn/externals/joblib/parallel.py\u001b[0m in \u001b[0;36mretrieve\u001b[1;34m(self)\u001b[0m\n\u001b[0;32m    729\u001b[0m                 \u001b[0mjob\u001b[0m \u001b[1;33m=\u001b[0m \u001b[0mself\u001b[0m\u001b[1;33m.\u001b[0m\u001b[0m_jobs\u001b[0m\u001b[1;33m.\u001b[0m\u001b[0mpop\u001b[0m\u001b[1;33m(\u001b[0m\u001b[1;36m0\u001b[0m\u001b[1;33m)\u001b[0m\u001b[1;33m\u001b[0m\u001b[0m\n\u001b[0;32m    730\u001b[0m             \u001b[1;32mtry\u001b[0m\u001b[1;33m:\u001b[0m\u001b[1;33m\u001b[0m\u001b[0m\n\u001b[1;32m--> 731\u001b[1;33m                 \u001b[0mself\u001b[0m\u001b[1;33m.\u001b[0m\u001b[0m_output\u001b[0m\u001b[1;33m.\u001b[0m\u001b[0mextend\u001b[0m\u001b[1;33m(\u001b[0m\u001b[0mjob\u001b[0m\u001b[1;33m.\u001b[0m\u001b[0mget\u001b[0m\u001b[1;33m(\u001b[0m\u001b[1;33m)\u001b[0m\u001b[1;33m)\u001b[0m\u001b[1;33m\u001b[0m\u001b[0m\n\u001b[0m\u001b[0;32m    732\u001b[0m             \u001b[1;32mexcept\u001b[0m \u001b[0mtuple\u001b[0m\u001b[1;33m(\u001b[0m\u001b[0mself\u001b[0m\u001b[1;33m.\u001b[0m\u001b[0mexceptions\u001b[0m\u001b[1;33m)\u001b[0m \u001b[1;32mas\u001b[0m \u001b[0mexception\u001b[0m\u001b[1;33m:\u001b[0m\u001b[1;33m\u001b[0m\u001b[0m\n\u001b[0;32m    733\u001b[0m                 \u001b[1;31m# Stop dispatching any new job in the async callback thread\u001b[0m\u001b[1;33m\u001b[0m\u001b[1;33m\u001b[0m\u001b[0m\n",
      "\u001b[1;32m/usr/lib/python3.4/multiprocessing/pool.py\u001b[0m in \u001b[0;36mget\u001b[1;34m(self, timeout)\u001b[0m\n\u001b[0;32m    591\u001b[0m \u001b[1;33m\u001b[0m\u001b[0m\n\u001b[0;32m    592\u001b[0m     \u001b[1;32mdef\u001b[0m \u001b[0mget\u001b[0m\u001b[1;33m(\u001b[0m\u001b[0mself\u001b[0m\u001b[1;33m,\u001b[0m \u001b[0mtimeout\u001b[0m\u001b[1;33m=\u001b[0m\u001b[1;32mNone\u001b[0m\u001b[1;33m)\u001b[0m\u001b[1;33m:\u001b[0m\u001b[1;33m\u001b[0m\u001b[0m\n\u001b[1;32m--> 593\u001b[1;33m         \u001b[0mself\u001b[0m\u001b[1;33m.\u001b[0m\u001b[0mwait\u001b[0m\u001b[1;33m(\u001b[0m\u001b[0mtimeout\u001b[0m\u001b[1;33m)\u001b[0m\u001b[1;33m\u001b[0m\u001b[0m\n\u001b[0m\u001b[0;32m    594\u001b[0m         \u001b[1;32mif\u001b[0m \u001b[1;32mnot\u001b[0m \u001b[0mself\u001b[0m\u001b[1;33m.\u001b[0m\u001b[0mready\u001b[0m\u001b[1;33m(\u001b[0m\u001b[1;33m)\u001b[0m\u001b[1;33m:\u001b[0m\u001b[1;33m\u001b[0m\u001b[0m\n\u001b[0;32m    595\u001b[0m             \u001b[1;32mraise\u001b[0m \u001b[0mTimeoutError\u001b[0m\u001b[1;33m\u001b[0m\u001b[0m\n",
      "\u001b[1;32m/usr/lib/python3.4/multiprocessing/pool.py\u001b[0m in \u001b[0;36mwait\u001b[1;34m(self, timeout)\u001b[0m\n\u001b[0;32m    588\u001b[0m \u001b[1;33m\u001b[0m\u001b[0m\n\u001b[0;32m    589\u001b[0m     \u001b[1;32mdef\u001b[0m \u001b[0mwait\u001b[0m\u001b[1;33m(\u001b[0m\u001b[0mself\u001b[0m\u001b[1;33m,\u001b[0m \u001b[0mtimeout\u001b[0m\u001b[1;33m=\u001b[0m\u001b[1;32mNone\u001b[0m\u001b[1;33m)\u001b[0m\u001b[1;33m:\u001b[0m\u001b[1;33m\u001b[0m\u001b[0m\n\u001b[1;32m--> 590\u001b[1;33m         \u001b[0mself\u001b[0m\u001b[1;33m.\u001b[0m\u001b[0m_event\u001b[0m\u001b[1;33m.\u001b[0m\u001b[0mwait\u001b[0m\u001b[1;33m(\u001b[0m\u001b[0mtimeout\u001b[0m\u001b[1;33m)\u001b[0m\u001b[1;33m\u001b[0m\u001b[0m\n\u001b[0m\u001b[0;32m    591\u001b[0m \u001b[1;33m\u001b[0m\u001b[0m\n\u001b[0;32m    592\u001b[0m     \u001b[1;32mdef\u001b[0m \u001b[0mget\u001b[0m\u001b[1;33m(\u001b[0m\u001b[0mself\u001b[0m\u001b[1;33m,\u001b[0m \u001b[0mtimeout\u001b[0m\u001b[1;33m=\u001b[0m\u001b[1;32mNone\u001b[0m\u001b[1;33m)\u001b[0m\u001b[1;33m:\u001b[0m\u001b[1;33m\u001b[0m\u001b[0m\n",
      "\u001b[1;32m/usr/lib/python3.4/threading.py\u001b[0m in \u001b[0;36mwait\u001b[1;34m(self, timeout)\u001b[0m\n\u001b[0;32m    551\u001b[0m             \u001b[0msignaled\u001b[0m \u001b[1;33m=\u001b[0m \u001b[0mself\u001b[0m\u001b[1;33m.\u001b[0m\u001b[0m_flag\u001b[0m\u001b[1;33m\u001b[0m\u001b[0m\n\u001b[0;32m    552\u001b[0m             \u001b[1;32mif\u001b[0m \u001b[1;32mnot\u001b[0m \u001b[0msignaled\u001b[0m\u001b[1;33m:\u001b[0m\u001b[1;33m\u001b[0m\u001b[0m\n\u001b[1;32m--> 553\u001b[1;33m                 \u001b[0msignaled\u001b[0m \u001b[1;33m=\u001b[0m \u001b[0mself\u001b[0m\u001b[1;33m.\u001b[0m\u001b[0m_cond\u001b[0m\u001b[1;33m.\u001b[0m\u001b[0mwait\u001b[0m\u001b[1;33m(\u001b[0m\u001b[0mtimeout\u001b[0m\u001b[1;33m)\u001b[0m\u001b[1;33m\u001b[0m\u001b[0m\n\u001b[0m\u001b[0;32m    554\u001b[0m             \u001b[1;32mreturn\u001b[0m \u001b[0msignaled\u001b[0m\u001b[1;33m\u001b[0m\u001b[0m\n\u001b[0;32m    555\u001b[0m         \u001b[1;32mfinally\u001b[0m\u001b[1;33m:\u001b[0m\u001b[1;33m\u001b[0m\u001b[0m\n",
      "\u001b[1;32m/usr/lib/python3.4/threading.py\u001b[0m in \u001b[0;36mwait\u001b[1;34m(self, timeout)\u001b[0m\n\u001b[0;32m    288\u001b[0m         \u001b[1;32mtry\u001b[0m\u001b[1;33m:\u001b[0m    \u001b[1;31m# restore state no matter what (e.g., KeyboardInterrupt)\u001b[0m\u001b[1;33m\u001b[0m\u001b[0m\n\u001b[0;32m    289\u001b[0m             \u001b[1;32mif\u001b[0m \u001b[0mtimeout\u001b[0m \u001b[1;32mis\u001b[0m \u001b[1;32mNone\u001b[0m\u001b[1;33m:\u001b[0m\u001b[1;33m\u001b[0m\u001b[0m\n\u001b[1;32m--> 290\u001b[1;33m                 \u001b[0mwaiter\u001b[0m\u001b[1;33m.\u001b[0m\u001b[0macquire\u001b[0m\u001b[1;33m(\u001b[0m\u001b[1;33m)\u001b[0m\u001b[1;33m\u001b[0m\u001b[0m\n\u001b[0m\u001b[0;32m    291\u001b[0m                 \u001b[0mgotit\u001b[0m \u001b[1;33m=\u001b[0m \u001b[1;32mTrue\u001b[0m\u001b[1;33m\u001b[0m\u001b[0m\n\u001b[0;32m    292\u001b[0m             \u001b[1;32melse\u001b[0m\u001b[1;33m:\u001b[0m\u001b[1;33m\u001b[0m\u001b[0m\n",
      "\u001b[1;31mKeyboardInterrupt\u001b[0m: "
     ]
    }
   ],
   "source": [
    "rf = RandomForestRegressor(n_estimators=50, max_features=1.0,min_samples_split=3,n_jobs=4)\n",
    "kf = KFold(y.shape[0],n_folds=5,random_state=401)\n",
    "\n",
    "for (train, test) in kf:\n",
    "    rf.fit(x[train], y[train])\n",
    "    y_pred = rf.predict(x[test])\n",
    "#     print(cross_val_score(rf,x,y,n_jobs=4))\n",
    "    print(mean_squared_error(y[test], y_pred))"
   ]
  },
  {
   "cell_type": "code",
   "execution_count": 20,
   "metadata": {
    "ExecuteTime": {
     "end_time": "2016-06-17T19:07:01.882381",
     "start_time": "2016-06-17T19:07:01.880803"
    },
    "collapsed": false
   },
   "outputs": [],
   "source": [
    "# print(mean_squared_error(y[train], y_pred))"
   ]
  },
  {
   "cell_type": "code",
   "execution_count": null,
   "metadata": {
    "ExecuteTime": {
     "end_time": "2016-06-17T18:23:09.519963",
     "start_time": "2016-06-17T18:23:09.159522"
    },
    "collapsed": false
   },
   "outputs": [],
   "source": []
  },
  {
   "cell_type": "code",
   "execution_count": 21,
   "metadata": {
    "ExecuteTime": {
     "end_time": "2016-06-17T19:07:01.892955",
     "start_time": "2016-06-17T19:07:01.883270"
    },
    "collapsed": false
   },
   "outputs": [
    {
     "name": "stdout",
     "output_type": "stream",
     "text": [
      "KFold\t RandomForestRegressor\t aux\t chunksize\t cols\t cross_val_score\t df\t df_fabricante\t df_producto\t \n",
      "df_townstate\t gc\t kf\t mean_squared_error\t np\t pd\t reg\t rf\t test\t \n",
      "train\t x\t y\t y_pred\t \n"
     ]
    }
   ],
   "source": [
    "%who"
   ]
  },
  {
   "cell_type": "code",
   "execution_count": null,
   "metadata": {
    "ExecuteTime": {
     "end_time": "2016-06-17T18:47:51.883089",
     "start_time": "2016-06-17T18:47:51.842599"
    },
    "collapsed": true
   },
   "outputs": [],
   "source": []
  },
  {
   "cell_type": "code",
   "execution_count": null,
   "metadata": {
    "collapsed": true
   },
   "outputs": [],
   "source": []
  }
 ],
 "metadata": {
  "kernelspec": {
   "display_name": "Python 3",
   "language": "python",
   "name": "python3"
  },
  "language_info": {
   "codemirror_mode": {
    "name": "ipython",
    "version": 3
   },
   "file_extension": ".py",
   "mimetype": "text/x-python",
   "name": "python",
   "nbconvert_exporter": "python",
   "pygments_lexer": "ipython3",
   "version": "3.4.3"
  }
 },
 "nbformat": 4,
 "nbformat_minor": 0
}
