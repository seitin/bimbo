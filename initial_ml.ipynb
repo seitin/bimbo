{
 "cells": [
  {
   "cell_type": "code",
   "execution_count": 1,
   "metadata": {
    "ExecuteTime": {
     "end_time": "2016-07-08T18:37:46.741599",
     "start_time": "2016-07-08T18:37:45.994039"
    },
    "collapsed": false
   },
   "outputs": [],
   "source": [
    "import pandas as pd\n",
    "import numpy as np\n",
    "import matplotlib.pyplot as plt\n",
    "%matplotlib inline"
   ]
  },
  {
   "cell_type": "code",
   "execution_count": 2,
   "metadata": {
    "ExecuteTime": {
     "end_time": "2016-07-08T18:37:47.517762",
     "start_time": "2016-07-08T18:37:46.742609"
    },
    "collapsed": true
   },
   "outputs": [],
   "source": [
    "from nltk.corpus import stopwords"
   ]
  },
  {
   "cell_type": "code",
   "execution_count": 3,
   "metadata": {
    "ExecuteTime": {
     "end_time": "2016-07-08T18:37:47.526043",
     "start_time": "2016-07-08T18:37:47.519988"
    },
    "collapsed": false
   },
   "outputs": [],
   "source": [
    "stop_words = stopwords.words('spanish')"
   ]
  },
  {
   "cell_type": "code",
   "execution_count": null,
   "metadata": {
    "ExecuteTime": {
     "end_time": "2016-06-21T17:49:11.459282",
     "start_time": "2016-06-21T17:49:11.449341"
    },
    "collapsed": false
   },
   "outputs": [],
   "source": []
  },
  {
   "cell_type": "code",
   "execution_count": 4,
   "metadata": {
    "ExecuteTime": {
     "end_time": "2016-07-08T18:37:47.529921",
     "start_time": "2016-07-08T18:37:47.527300"
    },
    "collapsed": true
   },
   "outputs": [],
   "source": [
    "pd.options.display.max_rows = 30"
   ]
  },
  {
   "cell_type": "code",
   "execution_count": null,
   "metadata": {
    "ExecuteTime": {
     "end_time": "2016-06-22T14:14:08.136309",
     "start_time": "2016-06-22T14:14:08.078462"
    },
    "collapsed": false
   },
   "outputs": [],
   "source": []
  },
  {
   "cell_type": "code",
   "execution_count": 5,
   "metadata": {
    "ExecuteTime": {
     "end_time": "2016-07-08T18:37:47.545440",
     "start_time": "2016-07-08T18:37:47.531095"
    },
    "collapsed": true
   },
   "outputs": [],
   "source": [
    "\n",
    "df_townstate = pd.read_csv('input/town_state.csv.gz', compression='gzip')\n",
    "df_townstate['bimbo'] = df_townstate.Town.str.contains('BIMBO') * 1\n",
    "df_townstate['ag'] = df_townstate.Town.str.contains('AG.') * 1"
   ]
  },
  {
   "cell_type": "code",
   "execution_count": null,
   "metadata": {
    "ExecuteTime": {
     "end_time": "2016-07-07T19:07:37.269465",
     "start_time": "2016-07-07T19:07:37.263182"
    },
    "collapsed": false
   },
   "outputs": [],
   "source": []
  },
  {
   "cell_type": "code",
   "execution_count": 6,
   "metadata": {
    "ExecuteTime": {
     "end_time": "2016-07-08T18:37:48.078377",
     "start_time": "2016-07-08T18:37:47.546438"
    },
    "collapsed": false
   },
   "outputs": [],
   "source": [
    "df_cliente = pd.read_csv('input/cliente_tabla.csv.gz', compression='gzip')"
   ]
  },
  {
   "cell_type": "code",
   "execution_count": 7,
   "metadata": {
    "ExecuteTime": {
     "end_time": "2016-07-08T18:37:48.524047",
     "start_time": "2016-07-08T18:37:48.079440"
    },
    "collapsed": false
   },
   "outputs": [
    {
     "data": {
      "text/plain": [
       "9014"
      ]
     },
     "execution_count": 7,
     "metadata": {},
     "output_type": "execute_result"
    }
   ],
   "source": [
    "df_cliente.NombreCliente.str.contains('OXXO').sum()"
   ]
  },
  {
   "cell_type": "code",
   "execution_count": 9,
   "metadata": {
    "ExecuteTime": {
     "end_time": "2016-07-08T18:38:06.219996",
     "start_time": "2016-07-08T18:38:06.216129"
    },
    "collapsed": false
   },
   "outputs": [],
   "source": [
    "# (df_test.Cliente_ID == 2).sum()"
   ]
  },
  {
   "cell_type": "code",
   "execution_count": null,
   "metadata": {
    "ExecuteTime": {
     "end_time": "2016-07-07T19:07:38.231831",
     "start_time": "2016-07-07T19:07:38.225882"
    },
    "collapsed": false
   },
   "outputs": [],
   "source": []
  },
  {
   "cell_type": "code",
   "execution_count": 10,
   "metadata": {
    "ExecuteTime": {
     "end_time": "2016-07-08T18:38:06.637030",
     "start_time": "2016-07-08T18:38:06.576919"
    },
    "collapsed": false
   },
   "outputs": [],
   "source": [
    "def trata_producto_names(df_producto):\n",
    "    from nltk.stem.snowball import SnowballStemmer\n",
    "\n",
    "    df_producto['short_names'] = df_producto.NombreProducto.str.extract('^(\\D*)')\n",
    "    df_producto['short_names_processed'] = df_producto['short_names'].map(lambda x: \" \".join([i for i in x.lower().split() if i not in stopwords.words('spanish')]))\n",
    "\n",
    "    stemmer = SnowballStemmer(\"spanish\")\n",
    "\n",
    "    df_producto['short_names_processed'] = (df_producto['short_names_processed']\n",
    "                                            .map(lambda x: \" \".join([stemmer.stem(i) for i in x.lower().split()])))\n",
    "    df_aux_producto = df_producto['short_names_processed'].value_counts()[df_producto['short_names_processed'].value_counts() > 10].reset_index()\n",
    "\n",
    "    df_producto['flavor_choc'] = df_producto.short_names_processed.str.contains('choc') * 1\n",
    "    df_producto['flavor_vainill'] = df_producto.short_names_processed.str.contains('vainill') * 1\n",
    "    df_producto['flavor_canel'] = df_producto.short_names_processed.str.contains('canel') * 1\n",
    "\n",
    "    df_producto['NombreProducto'] = df_producto['NombreProducto'].str.upper()\n",
    "    df_producto['NombreProducto'] = df_producto.apply(lambda x :x['NombreProducto'].replace(str(x['Producto_ID']),'').strip(), axis=1 )\n",
    "    df_producto = pd.DataFrame(df_producto.loc[1:])\n",
    "    df_producto['fabricante'] = df_producto.NombreProducto.str.split(' ').str[-1]\n",
    "    df_producto.ix[df_producto.fabricante == '1KG','fabricante'] = ''\n",
    "    df_producto['NombreProducto'] = df_producto.apply(lambda x :x['NombreProducto'].replace(x['fabricante'],'').strip(), axis=1 )\n",
    "\n",
    "    reg = '(\\d{1,4}G|\\d{1,4}KG|\\d{1,4}ML|\\d{1,4}\\ ML)'\n",
    "    df_producto['volume'] = df_producto.NombreProducto.str.extract(reg)\n",
    "\n",
    "    df_producto['NombreProducto'] = df_producto.apply(lambda x :x['NombreProducto'].replace(str(x['volume']),'').replace('  ',' ').strip(), axis=1 )\n",
    "\n",
    "    reg = '(\\d{1,5}P)'\n",
    "    df_producto['unidade'] = df_producto.NombreProducto.str.extract(reg)\n",
    "    df_producto['NombreProducto'] = df_producto.NombreProducto.str.replace(reg, '').str.replace('  ',' ').str.strip()\n",
    "\n",
    "    aux = pd.DataFrame({'Producto_ID':[0],'NombreProducto':['NO IDENTIFICADO']})\n",
    "    df_producto = df_producto.append(aux)\n",
    "\n",
    "    df_producto['unidade'] = df_producto.volume.str.extract('([A-Z])')\n",
    "    df_producto['volume'] = df_producto.volume.str.replace('([A-Z])','')\n",
    "\n",
    "    return df_producto"
   ]
  },
  {
   "cell_type": "code",
   "execution_count": 11,
   "metadata": {
    "ExecuteTime": {
     "end_time": "2016-07-08T18:38:06.735372",
     "start_time": "2016-07-08T18:38:06.732198"
    },
    "collapsed": false
   },
   "outputs": [],
   "source": [
    "\n",
    "\n",
    "# df_producto"
   ]
  },
  {
   "cell_type": "code",
   "execution_count": null,
   "metadata": {
    "ExecuteTime": {
     "end_time": "2016-07-07T14:57:14.302429",
     "start_time": "2016-07-07T14:57:14.296441"
    },
    "collapsed": false
   },
   "outputs": [],
   "source": []
  },
  {
   "cell_type": "code",
   "execution_count": null,
   "metadata": {
    "collapsed": true
   },
   "outputs": [],
   "source": []
  },
  {
   "cell_type": "code",
   "execution_count": null,
   "metadata": {
    "collapsed": true
   },
   "outputs": [],
   "source": []
  },
  {
   "cell_type": "code",
   "execution_count": 99,
   "metadata": {
    "ExecuteTime": {
     "end_time": "2016-07-08T19:05:14.080104",
     "start_time": "2016-07-08T19:05:04.697564"
    },
    "collapsed": true
   },
   "outputs": [],
   "source": [
    "df_week = pd.read_csv('input/train_week3.csv')"
   ]
  },
  {
   "cell_type": "code",
   "execution_count": 103,
   "metadata": {
    "ExecuteTime": {
     "end_time": "2016-07-08T19:06:34.661025",
     "start_time": "2016-07-08T19:06:34.557568"
    },
    "collapsed": false
   },
   "outputs": [],
   "source": [
    "df_week['mean_price'] = df_week['Venta_hoy']/df_week['Venta_uni_hoy']"
   ]
  },
  {
   "cell_type": "code",
   "execution_count": 117,
   "metadata": {
    "ExecuteTime": {
     "end_time": "2016-07-08T19:13:52.635682",
     "start_time": "2016-07-08T19:13:52.621532"
    },
    "collapsed": false
   },
   "outputs": [
    {
     "data": {
      "text/plain": [
       "Index(['Agencia_ID', 'Canal_ID', 'Ruta_SAK', 'Cliente_ID', 'Producto_ID',\n",
       "       'Demanda_uni_equil', 'count_agencia', 'State_x', 'Venta_hoy',\n",
       "       'Venta_hoy_log10', 'flavor_choc', 'flavor_vainill', 'flavor_canel',\n",
       "       'volume', 'fabricante', 'ag', 'bimbo', 'State_y', 'route_client',\n",
       "       'route_client_log10', 'Canal_ID1', 'volume_bin', 'Venta_hoy_bin'],\n",
       "      dtype='object')"
      ]
     },
     "execution_count": 117,
     "metadata": {},
     "output_type": "execute_result"
    }
   ],
   "source": [
    "aux.columns"
   ]
  },
  {
   "cell_type": "code",
   "execution_count": null,
   "metadata": {
    "ExecuteTime": {
     "start_time": "2016-07-08T22:20:51.406Z"
    },
    "collapsed": false
   },
   "outputs": [],
   "source": [
    "plt.scatter(aux.Canal_ID1.values, aux.Demanda_uni_equil.values)"
   ]
  },
  {
   "cell_type": "code",
   "execution_count": 13,
   "metadata": {
    "ExecuteTime": {
     "end_time": "2016-07-08T18:38:07.553053",
     "start_time": "2016-07-08T18:38:07.547993"
    },
    "collapsed": false
   },
   "outputs": [],
   "source": [
    "# df_week.Venta_uni_hoy.hist(range=(0,300), bins=50)"
   ]
  },
  {
   "cell_type": "code",
   "execution_count": 119,
   "metadata": {
    "ExecuteTime": {
     "end_time": "2016-07-08T19:16:31.892558",
     "start_time": "2016-07-08T19:16:31.014464"
    },
    "collapsed": false
   },
   "outputs": [
    {
     "data": {
      "text/plain": [
       "<matplotlib.axes._subplots.AxesSubplot at 0x7f54537a2128>"
      ]
     },
     "execution_count": 119,
     "metadata": {},
     "output_type": "execute_result"
    },
    {
     "data": {
      "image/png": "[encoded data removed]",
      "text/plain": [
       "<matplotlib.figure.Figure at 0x7f54537b31d0>"
      ]
     },
     "metadata": {},
     "output_type": "display_data"
    }
   ],
   "source": [
    "aux.count_agencia.hist()"
   ]
  },
  {
   "cell_type": "markdown",
   "metadata": {
    "ExecuteTime": {
     "end_time": "2016-07-07T19:45:34.769497",
     "start_time": "2016-07-07T19:45:34.099454"
    },
    "collapsed": false
   },
   "source": [
    "gb = df_week[['Producto_ID','Venta_hoy']].groupby(['Producto_ID']).median().reset_index()\n",
    "gb[gb['Venta_hoy'] == gb['Venta_hoy'].max()]\n",
    "aux = df_producto.merge(gb, how='left', on='Producto_ID')\n",
    "aux.ix[aux['Venta_hoy'].isnull(),'Venta_hoy'] = 0\n",
    "df_producto = aux"
   ]
  },
  {
   "cell_type": "markdown",
   "metadata": {
    "ExecuteTime": {
     "end_time": "2016-07-07T19:45:34.770002",
     "start_time": "2016-07-07T22:45:23.828Z"
    },
    "collapsed": false
   },
   "source": [
    "gb = df_week[['Producto_ID','Venta_uni_hoy']].groupby(['Producto_ID']).median().reset_index()\n",
    "gb[gb['Venta_uni_hoy'] == gb['Venta_uni_hoy'].max()]\n",
    "aux = df_producto.merge(gb, how='left', on='Producto_ID')\n",
    "aux.ix[aux['Venta_uni_hoy'].isnull(),'Venta_uni_hoy'] = 0\n",
    "df_producto = aux"
   ]
  },
  {
   "cell_type": "markdown",
   "metadata": {
    "ExecuteTime": {
     "end_time": "2016-07-07T19:45:34.770267",
     "start_time": "2016-07-07T22:45:23.830Z"
    },
    "collapsed": false
   },
   "source": [
    "gb = df_week[['Producto_ID','Dev_uni_proxima']].groupby(['Producto_ID']).median().reset_index()\n",
    "gb[gb['Dev_uni_proxima'] == gb['Dev_uni_proxima'].max()]\n",
    "aux = df_producto.merge(gb, how='left', on='Producto_ID')\n",
    "aux.ix[aux['Dev_uni_proxima'].isnull(),'Dev_uni_proxima'] = 0\n",
    "df_producto = aux"
   ]
  },
  {
   "cell_type": "code",
   "execution_count": 14,
   "metadata": {
    "ExecuteTime": {
     "end_time": "2016-07-08T18:38:08.426229",
     "start_time": "2016-07-08T18:38:08.412345"
    },
    "collapsed": false
   },
   "outputs": [],
   "source": [
    "def process_venta_producto():\n",
    "    l = []\n",
    "    print('week: ')\n",
    "    for week in range(3,10):\n",
    "        print(week, end='\\r')\n",
    "        df_week = pd.read_csv('input/train_week%s.csv' % week, usecols=['Producto_ID','Venta_hoy'])\n",
    "        prod_venta = df_week[['Producto_ID','Venta_hoy']].groupby('Producto_ID').median().reset_index()\n",
    "        l.append(prod_venta)\n",
    "    df_venta = pd.concat(l)\n",
    "    df_venta = df_venta.groupby('Producto_ID').median().reset_index()\n",
    "    df_venta['Venta_hoy_log10'] = np.round(np.log10(df_venta['Venta_hoy'].values + 1))\n",
    "    return df_venta"
   ]
  },
  {
   "cell_type": "code",
   "execution_count": 15,
   "metadata": {
    "ExecuteTime": {
     "end_time": "2016-07-08T18:38:08.586500",
     "start_time": "2016-07-08T18:38:08.579084"
    },
    "collapsed": true
   },
   "outputs": [],
   "source": [
    "def process_venta_agencia(df_townstate):\n",
    "    l = []\n",
    "    print('week: ')\n",
    "    for week in range(3,10):\n",
    "        print(week, end='\\r')\n",
    "        df_week = pd.read_csv('input/train_week%s.csv' % week, usecols=['Agencia_ID','Venta_hoy'])\n",
    "        aux = df_week.merge(df_townstate, how='left', on='Agencia_ID')\n",
    "        prod_venta = aux.groupby('State').median().reset_index()\n",
    "        l.append(prod_venta)\n",
    "    df_venta = pd.concat(l)\n",
    "    df_venta = df_venta[['Agencia_ID','Venta_hoy','State']].groupby('State').median().reset_index()\n",
    "    df_venta['Venta_hoy_log10'] = np.round(np.log(df_venta['Venta_hoy'].values+1))\n",
    "    return df_venta"
   ]
  },
  {
   "cell_type": "code",
   "execution_count": 16,
   "metadata": {
    "ExecuteTime": {
     "end_time": "2016-07-08T18:38:08.749855",
     "start_time": "2016-07-08T18:38:08.746862"
    },
    "collapsed": true
   },
   "outputs": [],
   "source": [
    "def process_producto():\n",
    "    df_producto = pd.read_csv('input/producto_tabla.csv.gz', compression='gzip')\n",
    "    df_producto = trata_producto_names(df_producto)\n",
    "    return df_producto"
   ]
  },
  {
   "cell_type": "code",
   "execution_count": 17,
   "metadata": {
    "ExecuteTime": {
     "end_time": "2016-07-08T18:38:08.931803",
     "start_time": "2016-07-08T18:38:08.924604"
    },
    "collapsed": true
   },
   "outputs": [],
   "source": [
    "def count_agencia():\n",
    "    l = []\n",
    "    print('week: ')\n",
    "    for week in range(3,10):\n",
    "        print(week, end='\\r')\n",
    "        df_week = pd.read_csv('input/train_week%s.csv' % week, usecols=['Agencia_ID','Cliente_ID'])\n",
    "        prod_venta = df_week.groupby('Agencia_ID').count().reset_index()\n",
    "        l.append(prod_venta)\n",
    "    prod_venta = pd.concat(l)    \n",
    "    prod_venta = prod_venta.groupby('Agencia_ID').mean().reset_index()\n",
    "    prod_venta['count_agencia'] = prod_venta['Cliente_ID']\n",
    "    prod_venta['Agencia_ID'] = prod_venta['Agencia_ID'].astype(int)\n",
    "    return prod_venta[['Agencia_ID','count_agencia']]"
   ]
  },
  {
   "cell_type": "code",
   "execution_count": 18,
   "metadata": {
    "ExecuteTime": {
     "end_time": "2016-07-08T18:38:48.382837",
     "start_time": "2016-07-08T18:38:09.100121"
    },
    "collapsed": false
   },
   "outputs": [
    {
     "name": "stdout",
     "output_type": "stream",
     "text": [
      "week: \n"
     ]
    }
   ],
   "source": [
    "df_producto = process_producto()\n",
    "df_venta = process_venta_producto()\n",
    "\n",
    "# df_venta = df_venta.ix[a & b]"
   ]
  },
  {
   "cell_type": "code",
   "execution_count": 19,
   "metadata": {
    "ExecuteTime": {
     "end_time": "2016-07-08T18:39:29.216169",
     "start_time": "2016-07-08T18:38:48.383739"
    },
    "collapsed": false
   },
   "outputs": [
    {
     "name": "stdout",
     "output_type": "stream",
     "text": [
      "week: \n"
     ]
    }
   ],
   "source": [
    "df_venta_agencia = process_venta_agencia(df_townstate)"
   ]
  },
  {
   "cell_type": "code",
   "execution_count": 20,
   "metadata": {
    "ExecuteTime": {
     "end_time": "2016-07-08T18:39:53.687764",
     "start_time": "2016-07-08T18:39:29.218594"
    },
    "collapsed": false
   },
   "outputs": [
    {
     "name": "stdout",
     "output_type": "stream",
     "text": [
      "week: \n"
     ]
    }
   ],
   "source": [
    "df_count_agencia = count_agencia()"
   ]
  },
  {
   "cell_type": "code",
   "execution_count": null,
   "metadata": {
    "ExecuteTime": {
     "end_time": "2016-07-08T15:53:25.561573",
     "start_time": "2016-07-08T15:53:19.434737"
    },
    "collapsed": false
   },
   "outputs": [],
   "source": []
  },
  {
   "cell_type": "code",
   "execution_count": null,
   "metadata": {
    "ExecuteTime": {
     "end_time": "2016-07-08T15:53:25.972342",
     "start_time": "2016-07-08T15:53:25.562672"
    },
    "collapsed": false
   },
   "outputs": [],
   "source": []
  },
  {
   "cell_type": "code",
   "execution_count": null,
   "metadata": {
    "ExecuteTime": {
     "end_time": "2016-07-08T15:52:05.991817",
     "start_time": "2016-07-08T15:52:05.982182"
    },
    "collapsed": false
   },
   "outputs": [],
   "source": []
  },
  {
   "cell_type": "code",
   "execution_count": null,
   "metadata": {
    "ExecuteTime": {
     "end_time": "2016-07-08T15:51:45.542389",
     "start_time": "2016-07-08T15:51:45.536693"
    },
    "collapsed": false
   },
   "outputs": [],
   "source": []
  },
  {
   "cell_type": "code",
   "execution_count": 21,
   "metadata": {
    "ExecuteTime": {
     "end_time": "2016-07-08T18:39:53.693886",
     "start_time": "2016-07-08T18:39:53.690075"
    },
    "collapsed": false
   },
   "outputs": [],
   "source": [
    "def count_entregas(df, by):\n",
    "    df['entregas_'+by] = 1\n",
    "    aux = df.groupby([by]).agg({\"entregas_\"+by:np.size}).reset_index()\n",
    "    df.drop('entregas_'+by, axis=1, inplace=True)\n",
    "    return df.merge(aux, how='left', on=by)"
   ]
  },
  {
   "cell_type": "code",
   "execution_count": 22,
   "metadata": {
    "ExecuteTime": {
     "end_time": "2016-07-08T18:39:53.705147",
     "start_time": "2016-07-08T18:39:53.696179"
    },
    "collapsed": true
   },
   "outputs": [],
   "source": [
    "def binarize(df, field, length, step):\n",
    "    df[field+'_bin']='undefined'\n",
    "    df[field] = df[field].astype(float)\n",
    "    for x in range(step, length, step):\n",
    "        a = df[field] > x - step\n",
    "        b = df[field] <= x\n",
    "        f = a & b\n",
    "        value = '%s-%s' % (x-step, x)\n",
    "        df.ix[f, field+'_bin'] = value\n",
    "    print(field+'_bin')\n",
    "    return df"
   ]
  },
  {
   "cell_type": "code",
   "execution_count": 85,
   "metadata": {
    "ExecuteTime": {
     "end_time": "2016-07-08T18:57:17.735016",
     "start_time": "2016-07-08T18:57:17.662780"
    },
    "collapsed": false
   },
   "outputs": [],
   "source": [
    "def process_df(df, test=False):\n",
    "    \n",
    "    if not test:\n",
    "#         df = df.drop(['Venta_uni_hoy','Venta_hoy','Dev_uni_proxima'], axis=1)\n",
    "        df = df.ix[df.Producto_ID != 0]\n",
    "        df = df.ix[df.Demanda_uni_equil<20]\n",
    "        \n",
    "    df = df.merge(df_count_agencia, on='Agencia_ID', how='left')\n",
    "    df['count_agencia'] = df['count_agencia'].fillna(df['count_agencia'].median())\n",
    "    df = df.merge(df_venta_agencia, how='left', on='Agencia_ID')\n",
    "    print (df.columns)\n",
    "    print('')\n",
    "    df = df.merge(df_producto[['flavor_choc', 'flavor_vainill', 'flavor_canel','volume', 'fabricante','Producto_ID']], how='left',on='Producto_ID')\n",
    "    df = df.merge(df_townstate[['Agencia_ID','ag','bimbo','State']], on='Agencia_ID', how='left')\n",
    "    df.volume = df.volume.fillna(0).astype('int')\n",
    "\n",
    "    route_count = df[['Cliente_ID','Ruta_SAK']].groupby(['Cliente_ID']).count().reset_index()\n",
    "    route_count.columns = ['Cliente_ID','route_client']\n",
    "    route_count = route_count.ix[route_count['route_client'] <= 60]\n",
    "    df = df.merge(route_count, how='left', on='Cliente_ID')\n",
    "    df = df.ix[~df['route_client'].isnull()]\n",
    "    df['route_client_log10'] = np.log10(df['route_client'].values+1)\n",
    "    \n",
    "    df = df.ix[df.volume<500]\n",
    "        \n",
    "    df['Cliente_ID'] = df['Cliente_ID'].astype('str')\n",
    "    df['Agencia_ID'] = df['Agencia_ID'].astype('str')\n",
    "    df['Canal_ID1'] = (df['Canal_ID']==1)*1\n",
    "    df['Ruta_SAK'] = df['Ruta_SAK'].astype('str')\n",
    "        \n",
    "#     f = (df['volume'] < 200)\n",
    "#     df = df.ix[f]\n",
    "#     df['volume_bin'] = pd.cut(df.volume.values, 6)\n",
    "    df['volume_bin'] = (df['volume'] <= 100)*1\n",
    "    \n",
    "#     f = (df['Venta_hoy_log10'] <=6 )\n",
    "#     df = pd.DataFrame(df.ix[f])\n",
    "#     df = binarize(df, 'Venta_hoy_log10', 6, 1)\n",
    "    df['Venta_hoy_bin'] = pd.cut(df.Venta_hoy.values, 6)\n",
    "\n",
    "#     f = (df['Venta_uni_hoy'] < 10)\n",
    "#     df = pd.DataFrame(df.ix[f])\n",
    "#     df = binarize(df, 'Venta_uni_hoy', 10, 2)\n",
    "    \n",
    "#     a = df['Venta_uni_hoy_bin'] == ''\n",
    "#     b = df['Venta_hoy_bin'] == ''\n",
    "#     c = df['volume_bin'] == ''\n",
    "#     df = df.ix[~c]\n",
    "    \n",
    "        \n",
    "#     y = df['Demanda_uni_equil'].values\n",
    "#     x = pd.get_dummies(aux[cols]).values\n",
    "#   x = pd.get_dummies(aux[cols]).values\n",
    "    return df"
   ]
  },
  {
   "cell_type": "code",
   "execution_count": null,
   "metadata": {
    "ExecuteTime": {
     "end_time": "2016-07-07T15:42:08.249219",
     "start_time": "2016-07-07T15:42:08.238332"
    },
    "collapsed": true
   },
   "outputs": [],
   "source": []
  },
  {
   "cell_type": "code",
   "execution_count": null,
   "metadata": {
    "ExecuteTime": {
     "end_time": "2016-07-08T14:48:27.585245",
     "start_time": "2016-07-08T14:48:27.580248"
    },
    "collapsed": false
   },
   "outputs": [],
   "source": []
  },
  {
   "cell_type": "code",
   "execution_count": null,
   "metadata": {
    "ExecuteTime": {
     "end_time": "2016-07-07T19:59:17.378601",
     "start_time": "2016-07-07T19:59:17.328828"
    },
    "collapsed": false
   },
   "outputs": [],
   "source": []
  },
  {
   "cell_type": "code",
   "execution_count": 86,
   "metadata": {
    "ExecuteTime": {
     "end_time": "2016-07-08T18:57:18.427489",
     "start_time": "2016-07-08T18:57:18.424487"
    },
    "collapsed": false
   },
   "outputs": [],
   "source": [
    "# df_process['fabricante'].value_counts()"
   ]
  },
  {
   "cell_type": "code",
   "execution_count": 87,
   "metadata": {
    "ExecuteTime": {
     "end_time": "2016-07-08T18:57:18.610595",
     "start_time": "2016-07-08T18:57:18.600978"
    },
    "collapsed": false
   },
   "outputs": [],
   "source": [
    "cols = [\n",
    "#     'volume',\n",
    "#     'entregas_Producto_ID',\n",
    "#     'Cliente_ID',\n",
    "#     'entregas_fabricante',\n",
    "#     'Agencia_ID',\n",
    "    'route_client_log10',\n",
    "    'Canal_ID1',\n",
    "#     'fabricante',\n",
    "#     'Venta_uni_hoy_bin',\n",
    "#     'Venta_hoy_bin',\n",
    "#     'Venta_hoy_log10',\n",
    "#     'short_names_processed',\n",
    "#     'State',\n",
    "    'count_agencia',\n",
    "    'volume_bin',\n",
    "#     'ag',\n",
    "#     'bimbo',\n",
    "    'flavor_choc',\n",
    "    'flavor_vainill',\n",
    "    'flavor_canel',\n",
    "]"
   ]
  },
  {
   "cell_type": "code",
   "execution_count": 88,
   "metadata": {
    "ExecuteTime": {
     "end_time": "2016-07-08T18:57:18.768239",
     "start_time": "2016-07-08T18:57:18.764758"
    },
    "collapsed": false
   },
   "outputs": [],
   "source": [
    "# aux.Agencia_ID.dtype "
   ]
  },
  {
   "cell_type": "code",
   "execution_count": 89,
   "metadata": {
    "ExecuteTime": {
     "end_time": "2016-07-08T18:57:18.940323",
     "start_time": "2016-07-08T18:57:18.936488"
    },
    "collapsed": false
   },
   "outputs": [],
   "source": [
    "# df_count_agencia['Agencia_ID'].dtype"
   ]
  },
  {
   "cell_type": "code",
   "execution_count": 62,
   "metadata": {
    "ExecuteTime": {
     "end_time": "2016-07-08T18:47:45.216260",
     "start_time": "2016-07-08T18:47:45.212344"
    },
    "collapsed": false
   },
   "outputs": [],
   "source": [
    "# a.agencia_count.max()"
   ]
  },
  {
   "cell_type": "code",
   "execution_count": 63,
   "metadata": {
    "ExecuteTime": {
     "end_time": "2016-07-08T18:47:45.388077",
     "start_time": "2016-07-08T18:47:45.385706"
    },
    "collapsed": false
   },
   "outputs": [],
   "source": [
    "# aux.Agencia_ID.dtypes"
   ]
  },
  {
   "cell_type": "code",
   "execution_count": null,
   "metadata": {
    "ExecuteTime": {
     "end_time": "2016-07-08T18:07:17.749406",
     "start_time": "2016-07-08T18:07:17.739021"
    },
    "collapsed": false
   },
   "outputs": [],
   "source": []
  },
  {
   "cell_type": "code",
   "execution_count": 64,
   "metadata": {
    "ExecuteTime": {
     "end_time": "2016-07-08T18:47:45.713465",
     "start_time": "2016-07-08T18:47:45.710274"
    },
    "collapsed": false
   },
   "outputs": [],
   "source": [
    "# df_count_agencia.Agencia_ID.dtype"
   ]
  },
  {
   "cell_type": "code",
   "execution_count": 65,
   "metadata": {
    "ExecuteTime": {
     "end_time": "2016-07-08T18:47:45.885234",
     "start_time": "2016-07-08T18:47:45.882149"
    },
    "collapsed": false
   },
   "outputs": [],
   "source": [
    "# df_week.merge(df_count_agencia, on='Agencia_ID', how='left')"
   ]
  },
  {
   "cell_type": "code",
   "execution_count": null,
   "metadata": {
    "ExecuteTime": {
     "end_time": "2016-07-08T15:35:44.127262",
     "start_time": "2016-07-08T15:35:44.115620"
    },
    "collapsed": false
   },
   "outputs": [],
   "source": []
  },
  {
   "cell_type": "code",
   "execution_count": 32,
   "metadata": {
    "ExecuteTime": {
     "end_time": "2016-07-08T18:39:53.798626",
     "start_time": "2016-07-08T18:39:53.796500"
    },
    "collapsed": false
   },
   "outputs": [],
   "source": [
    "# aux.Canal_ID.value_counts().plot(kind='bar')"
   ]
  },
  {
   "cell_type": "code",
   "execution_count": 33,
   "metadata": {
    "ExecuteTime": {
     "end_time": "2016-07-08T18:39:53.803608",
     "start_time": "2016-07-08T18:39:53.801323"
    },
    "collapsed": false
   },
   "outputs": [],
   "source": [
    "# aux.Venta_hoy.hist(bins=7)\n"
   ]
  },
  {
   "cell_type": "code",
   "execution_count": 34,
   "metadata": {
    "ExecuteTime": {
     "end_time": "2016-07-08T18:39:53.808528",
     "start_time": "2016-07-08T18:39:53.806415"
    },
    "collapsed": false
   },
   "outputs": [],
   "source": [
    "# aux.shape"
   ]
  },
  {
   "cell_type": "code",
   "execution_count": 35,
   "metadata": {
    "ExecuteTime": {
     "end_time": "2016-07-08T18:39:53.812938",
     "start_time": "2016-07-08T18:39:53.811126"
    },
    "collapsed": false
   },
   "outputs": [],
   "source": [
    "# enc._n_values"
   ]
  },
  {
   "cell_type": "markdown",
   "metadata": {},
   "source": [
    "# fiitting model"
   ]
  },
  {
   "cell_type": "code",
   "execution_count": 90,
   "metadata": {
    "ExecuteTime": {
     "end_time": "2016-07-08T18:57:21.658529",
     "start_time": "2016-07-08T18:57:21.645527"
    },
    "collapsed": true
   },
   "outputs": [],
   "source": [
    "from sklearn.ensemble import RandomForestRegressor, ExtraTreesRegressor, GradientBoostingRegressor\n",
    "from sklearn.linear_model import LinearRegression\n",
    "from sklearn.cross_validation import StratifiedKFold, cross_val_score, train_test_split\n",
    "from sklearn.metrics import mean_squared_error\n",
    "from sklearn.preprocessing import OneHotEncoder"
   ]
  },
  {
   "cell_type": "code",
   "execution_count": 91,
   "metadata": {
    "ExecuteTime": {
     "end_time": "2016-07-08T18:57:21.810433",
     "start_time": "2016-07-08T18:57:21.802076"
    },
    "collapsed": false
   },
   "outputs": [],
   "source": [
    "# rf = ExtraTreesRegressor(n_estimators=50, max_features=1.0,min_samples_split=3,n_jobs=4)\n",
    "\n",
    "\n",
    "\n",
    "def train(x, y):\n",
    "    x_train, x_test, y_train, y_test = train_test_split(x, y, test_size=0.05, random_state=1729)\n",
    "    rf.fit(x_train, y_train)\n",
    "    y_pred = rf.predict(x_test)\n",
    "    print(mean_squared_error(y_test, y_pred))\n",
    "        "
   ]
  },
  {
   "cell_type": "code",
   "execution_count": 92,
   "metadata": {
    "ExecuteTime": {
     "end_time": "2016-07-08T18:57:21.951679",
     "start_time": "2016-07-08T18:57:21.948596"
    },
    "collapsed": false
   },
   "outputs": [],
   "source": [
    "# df.columns"
   ]
  },
  {
   "cell_type": "code",
   "execution_count": null,
   "metadata": {
    "ExecuteTime": {
     "end_time": "2016-07-08T10:55:07.678192",
     "start_time": "2016-07-08T10:55:07.658562"
    },
    "collapsed": false
   },
   "outputs": [],
   "source": []
  },
  {
   "cell_type": "code",
   "execution_count": 93,
   "metadata": {
    "ExecuteTime": {
     "end_time": "2016-07-08T19:01:39.967486",
     "start_time": "2016-07-08T18:57:22.250314"
    },
    "collapsed": false
   },
   "outputs": [
    {
     "name": "stdout",
     "output_type": "stream",
     "text": [
      "Index(['Agencia_ID', 'Canal_ID', 'Ruta_SAK', 'Cliente_ID', 'Producto_ID',\n",
      "       'Demanda_uni_equil', 'count_agencia', 'State', 'Venta_hoy',\n",
      "       'Venta_hoy_log10'],\n",
      "      dtype='object')\n",
      "\n",
      "fitting...\n",
      "11.3215266961\n"
     ]
    }
   ],
   "source": [
    "rf = RandomForestRegressor(n_jobs=4) #, random_state=401\n",
    "\n",
    "for week in range(3,10):\n",
    "    df_week = pd.read_csv('input/train_week%s.csv' % week, usecols=['Agencia_ID','Ruta_SAK','Cliente_ID','Canal_ID','Producto_ID','Demanda_uni_equil'])\n",
    "\n",
    "    aux = process_df(df_week)\n",
    "    df = aux[cols+['Demanda_uni_equil']].iloc[np.random.permutation(len(aux))]\n",
    "    df = pd.get_dummies(df)\n",
    "\n",
    "    print('fitting...')\n",
    "    # for x in range(10000,df.shape[0]-10000,10000):\n",
    "    df_partial = df\n",
    "    x = df_partial.drop(['Demanda_uni_equil'], axis=1).values\n",
    "    y = df_partial['Demanda_uni_equil'].values\n",
    "    train(x,y)\n",
    "    break"
   ]
  },
  {
   "cell_type": "code",
   "execution_count": null,
   "metadata": {
    "ExecuteTime": {
     "end_time": "2016-07-08T18:49:26.560754",
     "start_time": "2016-07-08T21:48:03.741Z"
    },
    "collapsed": false
   },
   "outputs": [],
   "source": [
    "11.32"
   ]
  },
  {
   "cell_type": "markdown",
   "metadata": {
    "ExecuteTime": {
     "end_time": "2016-07-08T11:07:30.348451",
     "start_time": "2016-07-08T11:07:30.338215"
    }
   },
   "source": [
    "# testing feature importances"
   ]
  },
  {
   "cell_type": "code",
   "execution_count": null,
   "metadata": {
    "ExecuteTime": {
     "end_time": "2016-07-08T18:54:53.890327",
     "start_time": "2016-07-08T18:54:53.882679"
    },
    "collapsed": false
   },
   "outputs": [],
   "source": []
  },
  {
   "cell_type": "code",
   "execution_count": null,
   "metadata": {
    "collapsed": true
   },
   "outputs": [],
   "source": []
  },
  {
   "cell_type": "code",
   "execution_count": null,
   "metadata": {
    "ExecuteTime": {
     "end_time": "2016-07-06T19:02:01.288642",
     "start_time": "2016-07-06T22:01:19.607Z"
    },
    "collapsed": false
   },
   "outputs": [],
   "source": []
  },
  {
   "cell_type": "code",
   "execution_count": 94,
   "metadata": {
    "ExecuteTime": {
     "end_time": "2016-07-08T19:02:38.946534",
     "start_time": "2016-07-08T19:02:38.542568"
    },
    "collapsed": false
   },
   "outputs": [],
   "source": [
    "a = pd.get_dummies(aux[cols])"
   ]
  },
  {
   "cell_type": "code",
   "execution_count": 95,
   "metadata": {
    "ExecuteTime": {
     "end_time": "2016-07-08T19:02:39.053283",
     "start_time": "2016-07-08T19:02:38.947556"
    },
    "collapsed": false
   },
   "outputs": [
    {
     "data": {
      "text/plain": [
       "(7,)"
      ]
     },
     "execution_count": 95,
     "metadata": {},
     "output_type": "execute_result"
    }
   ],
   "source": [
    "rf.feature_importances_.shape"
   ]
  },
  {
   "cell_type": "code",
   "execution_count": 96,
   "metadata": {
    "ExecuteTime": {
     "end_time": "2016-07-08T19:02:39.058200",
     "start_time": "2016-07-08T19:02:39.055418"
    },
    "collapsed": false
   },
   "outputs": [],
   "source": [
    "# a.columns"
   ]
  },
  {
   "cell_type": "code",
   "execution_count": 97,
   "metadata": {
    "ExecuteTime": {
     "end_time": "2016-07-08T19:02:40.975615",
     "start_time": "2016-07-08T19:02:40.967624"
    },
    "collapsed": false
   },
   "outputs": [
    {
     "data": {
      "text/plain": [
       "Index(['route_client_log10', 'Canal_ID1', 'count_agencia', 'volume_bin',\n",
       "       'flavor_choc', 'flavor_vainill', 'flavor_canel'],\n",
       "      dtype='object')"
      ]
     },
     "execution_count": 97,
     "metadata": {},
     "output_type": "execute_result"
    }
   ],
   "source": [
    "a.columns[:]"
   ]
  },
  {
   "cell_type": "code",
   "execution_count": 98,
   "metadata": {
    "ExecuteTime": {
     "end_time": "2016-07-08T19:02:44.153888",
     "start_time": "2016-07-08T19:02:43.859772"
    },
    "collapsed": false
   },
   "outputs": [
    {
     "data": {
      "text/plain": [
       "<Container object of 7 artists>"
      ]
     },
     "execution_count": 98,
     "metadata": {},
     "output_type": "execute_result"
    },
    {
     "data": {
      "image/png": "[encoded data removed]",
      "text/plain": [
       "<matplotlib.figure.Figure at 0x7f54708dd550>"
      ]
     },
     "metadata": {},
     "output_type": "display_data"
    }
   ],
   "source": [
    "plt.bar(range(0,7), height=rf.feature_importances_)"
   ]
  },
  {
   "cell_type": "code",
   "execution_count": null,
   "metadata": {
    "ExecuteTime": {
     "end_time": "2016-07-08T18:32:35.370634",
     "start_time": "2016-07-08T21:32:13.376Z"
    },
    "collapsed": false
   },
   "outputs": [],
   "source": [
    "# aux.Demanda_uni_equil.value_counts().plot(kind='bar')"
   ]
  },
  {
   "cell_type": "code",
   "execution_count": null,
   "metadata": {
    "ExecuteTime": {
     "end_time": "2016-07-08T18:32:35.370921",
     "start_time": "2016-07-08T21:32:15.441Z"
    },
    "collapsed": false
   },
   "outputs": [],
   "source": [
    "aux.columns"
   ]
  },
  {
   "cell_type": "code",
   "execution_count": 56,
   "metadata": {
    "ExecuteTime": {
     "end_time": "2016-07-08T18:46:40.316426",
     "start_time": "2016-07-08T18:46:38.710493"
    },
    "collapsed": false
   },
   "outputs": [
    {
     "data": {
      "text/plain": [
       "<matplotlib.axes._subplots.AxesSubplot at 0x7f5431fa8b70>"
      ]
     },
     "execution_count": 56,
     "metadata": {},
     "output_type": "execute_result"
    },
    {
     "data": {
      "image/png": "[encoded data removed]",
      "text/plain": [
       "<matplotlib.figure.Figure at 0x7f5431facc50>"
      ]
     },
     "metadata": {},
     "output_type": "display_data"
    }
   ],
   "source": []
  },
  {
   "cell_type": "code",
   "execution_count": null,
   "metadata": {
    "ExecuteTime": {
     "end_time": "2016-07-08T18:45:34.313391",
     "start_time": "2016-07-08T18:45:33.970802"
    },
    "collapsed": false
   },
   "outputs": [],
   "source": []
  },
  {
   "cell_type": "code",
   "execution_count": null,
   "metadata": {
    "collapsed": true
   },
   "outputs": [],
   "source": []
  },
  {
   "cell_type": "code",
   "execution_count": null,
   "metadata": {
    "collapsed": true
   },
   "outputs": [],
   "source": []
  },
  {
   "cell_type": "code",
   "execution_count": null,
   "metadata": {
    "ExecuteTime": {
     "end_time": "2016-07-07T19:05:17.325288",
     "start_time": "2016-07-07T19:05:17.271413"
    },
    "collapsed": false
   },
   "outputs": [],
   "source": [
    "df_test"
   ]
  },
  {
   "cell_type": "code",
   "execution_count": 38,
   "metadata": {
    "ExecuteTime": {
     "end_time": "2016-07-08T18:24:24.292499",
     "start_time": "2016-07-08T18:24:18.928014"
    },
    "collapsed": true
   },
   "outputs": [],
   "source": [
    "df_test = pd.read_csv('input/test.csv.gz', compression='gzip')"
   ]
  },
  {
   "cell_type": "code",
   "execution_count": null,
   "metadata": {
    "ExecuteTime": {
     "end_time": "2016-07-07T18:40:46.404302",
     "start_time": "2016-07-07T18:39:52.016071"
    },
    "collapsed": false,
    "scrolled": false
   },
   "outputs": [],
   "source": [
    "df = process_df(df_test, test=True)\n",
    "# df = aux.iloc[np.random.permutation(len(aux))]\n",
    "df = pd.get_dummies(df)\n",
    "res = rf.predict(df.values)"
   ]
  },
  {
   "cell_type": "code",
   "execution_count": null,
   "metadata": {
    "ExecuteTime": {
     "end_time": "2016-07-07T18:51:35.402823",
     "start_time": "2016-07-07T18:51:34.201563"
    },
    "collapsed": false
   },
   "outputs": [],
   "source": [
    "a = df_test.merge(df_producto, how='left', on='Producto_ID')"
   ]
  },
  {
   "cell_type": "code",
   "execution_count": null,
   "metadata": {
    "ExecuteTime": {
     "end_time": "2016-07-07T18:54:44.406265",
     "start_time": "2016-07-07T18:54:44.103026"
    },
    "collapsed": false
   },
   "outputs": [],
   "source": [
    "a.Venta_uni_hoy.hist(range=(0,10), bins=2)"
   ]
  },
  {
   "cell_type": "code",
   "execution_count": null,
   "metadata": {
    "ExecuteTime": {
     "end_time": "2016-07-07T18:53:03.974638",
     "start_time": "2016-07-07T18:53:03.964546"
    },
    "collapsed": false
   },
   "outputs": [],
   "source": []
  },
  {
   "cell_type": "code",
   "execution_count": null,
   "metadata": {
    "ExecuteTime": {
     "end_time": "2016-07-05T17:23:52.857057",
     "start_time": "2016-07-05T20:23:39.510Z"
    },
    "collapsed": false
   },
   "outputs": [],
   "source": [
    "# df_process['short_names_processed']"
   ]
  },
  {
   "cell_type": "code",
   "execution_count": null,
   "metadata": {
    "ExecuteTime": {
     "end_time": "2016-07-05T17:22:12.424024",
     "start_time": "2016-07-05T17:22:12.341279"
    },
    "collapsed": false
   },
   "outputs": [],
   "source": [
    "# pd.get_dummies(df_process[0:100][cols])"
   ]
  },
  {
   "cell_type": "code",
   "execution_count": null,
   "metadata": {
    "ExecuteTime": {
     "end_time": "2016-06-22T16:48:28.775598",
     "start_time": "2016-06-22T16:48:28.604559"
    },
    "collapsed": false
   },
   "outputs": [],
   "source": [
    "f = plt.subplots()\n",
    "i = 444\n",
    "for v in x.T:\n",
    "    i+=1\n",
    "    f.hist(v)"
   ]
  },
  {
   "cell_type": "code",
   "execution_count": null,
   "metadata": {
    "ExecuteTime": {
     "end_time": "2016-06-22T16:41:11.071953",
     "start_time": "2016-06-22T16:41:10.845778"
    },
    "collapsed": false
   },
   "outputs": [],
   "source": []
  },
  {
   "cell_type": "code",
   "execution_count": null,
   "metadata": {
    "ExecuteTime": {
     "end_time": "2016-06-22T16:35:46.831672",
     "start_time": "2016-06-22T19:28:21.110Z"
    },
    "collapsed": false
   },
   "outputs": [],
   "source": [
    "df.columns"
   ]
  },
  {
   "cell_type": "code",
   "execution_count": null,
   "metadata": {
    "ExecuteTime": {
     "end_time": "2016-06-22T15:03:32.549718",
     "start_time": "2016-06-22T15:03:32.543490"
    },
    "collapsed": true
   },
   "outputs": [],
   "source": []
  },
  {
   "cell_type": "code",
   "execution_count": null,
   "metadata": {
    "ExecuteTime": {
     "end_time": "2016-06-22T16:35:46.831936",
     "start_time": "2016-06-22T19:28:21.113Z"
    },
    "collapsed": false
   },
   "outputs": [],
   "source": [
    "count_entregas(df, 'Agencia_ID')"
   ]
  },
  {
   "cell_type": "code",
   "execution_count": null,
   "metadata": {
    "collapsed": true
   },
   "outputs": [],
   "source": []
  }
 ],
 "metadata": {
  "kernelspec": {
   "display_name": "Python 3",
   "language": "python",
   "name": "python3"
  },
  "language_info": {
   "codemirror_mode": {
    "name": "ipython",
    "version": 3
   },
   "file_extension": ".py",
   "mimetype": "text/x-python",
   "name": "python",
   "nbconvert_exporter": "python",
   "pygments_lexer": "ipython3",
   "version": "3.4.3"
  }
 },
 "nbformat": 4,
 "nbformat_minor": 0
}
