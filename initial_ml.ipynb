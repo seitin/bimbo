{
 "cells": [
  {
   "cell_type": "code",
   "execution_count": 1,
   "metadata": {
    "ExecuteTime": {
     "end_time": "2016-07-07T20:02:15.077415",
     "start_time": "2016-07-07T20:02:14.326622"
    },
    "collapsed": false
   },
   "outputs": [],
   "source": [
    "import pandas as pd\n",
    "import numpy as np\n",
    "import matplotlib.pyplot as plt\n",
    "%matplotlib inline"
   ]
  },
  {
   "cell_type": "code",
   "execution_count": 2,
   "metadata": {
    "ExecuteTime": {
     "end_time": "2016-07-07T20:02:15.864381",
     "start_time": "2016-07-07T20:02:15.078406"
    },
    "collapsed": true
   },
   "outputs": [],
   "source": [
    "from nltk.corpus import stopwords"
   ]
  },
  {
   "cell_type": "code",
   "execution_count": 3,
   "metadata": {
    "ExecuteTime": {
     "end_time": "2016-07-07T20:02:15.872243",
     "start_time": "2016-07-07T20:02:15.865381"
    },
    "collapsed": false
   },
   "outputs": [],
   "source": [
    "stop_words = stopwords.words('spanish')"
   ]
  },
  {
   "cell_type": "code",
   "execution_count": null,
   "metadata": {
    "ExecuteTime": {
     "end_time": "2016-06-21T17:49:11.459282",
     "start_time": "2016-06-21T17:49:11.449341"
    },
    "collapsed": false
   },
   "outputs": [],
   "source": []
  },
  {
   "cell_type": "code",
   "execution_count": 4,
   "metadata": {
    "ExecuteTime": {
     "end_time": "2016-07-07T20:02:15.875455",
     "start_time": "2016-07-07T20:02:15.873208"
    },
    "collapsed": true
   },
   "outputs": [],
   "source": [
    "pd.options.display.max_rows = 30"
   ]
  },
  {
   "cell_type": "code",
   "execution_count": null,
   "metadata": {
    "ExecuteTime": {
     "end_time": "2016-06-22T14:14:08.136309",
     "start_time": "2016-06-22T14:14:08.078462"
    },
    "collapsed": false
   },
   "outputs": [],
   "source": []
  },
  {
   "cell_type": "code",
   "execution_count": 5,
   "metadata": {
    "ExecuteTime": {
     "end_time": "2016-07-07T20:02:15.889089",
     "start_time": "2016-07-07T20:02:15.876670"
    },
    "collapsed": true
   },
   "outputs": [],
   "source": [
    "\n",
    "df_townstate = pd.read_csv('input/town_state.csv.gz', compression='gzip')\n",
    "df_townstate['bimbo'] = df_townstate.Town.str.contains('BIMBO') * 1\n",
    "df_townstate['ag'] = df_townstate.Town.str.contains('AG.') * 1"
   ]
  },
  {
   "cell_type": "code",
   "execution_count": null,
   "metadata": {
    "ExecuteTime": {
     "end_time": "2016-07-07T19:07:37.269465",
     "start_time": "2016-07-07T19:07:37.263182"
    },
    "collapsed": false
   },
   "outputs": [],
   "source": []
  },
  {
   "cell_type": "code",
   "execution_count": null,
   "metadata": {
    "ExecuteTime": {
     "end_time": "2016-07-07T19:07:38.041142",
     "start_time": "2016-07-07T19:07:37.270650"
    },
    "collapsed": false
   },
   "outputs": [],
   "source": []
  },
  {
   "cell_type": "code",
   "execution_count": null,
   "metadata": {
    "ExecuteTime": {
     "end_time": "2016-07-07T19:07:38.044686",
     "start_time": "2016-07-07T19:07:38.042137"
    },
    "collapsed": false
   },
   "outputs": [],
   "source": []
  },
  {
   "cell_type": "code",
   "execution_count": null,
   "metadata": {
    "ExecuteTime": {
     "end_time": "2016-07-07T19:07:38.224778",
     "start_time": "2016-07-07T19:07:38.045542"
    },
    "collapsed": false
   },
   "outputs": [],
   "source": [
    "\n"
   ]
  },
  {
   "cell_type": "code",
   "execution_count": null,
   "metadata": {
    "ExecuteTime": {
     "end_time": "2016-07-07T19:07:38.231831",
     "start_time": "2016-07-07T19:07:38.225882"
    },
    "collapsed": false
   },
   "outputs": [],
   "source": []
  },
  {
   "cell_type": "code",
   "execution_count": 6,
   "metadata": {
    "ExecuteTime": {
     "end_time": "2016-07-07T20:02:15.929924",
     "start_time": "2016-07-07T20:02:15.890098"
    },
    "collapsed": false
   },
   "outputs": [],
   "source": [
    "def trata_producto_names(df_producto):\n",
    "    from nltk.stem.snowball import SnowballStemmer\n",
    "\n",
    "    df_producto['short_names'] = df_producto.NombreProducto.str.extract('^(\\D*)')\n",
    "    df_producto['short_names_processed'] = df_producto['short_names'].map(lambda x: \" \".join([i for i in x.lower().split() if i not in stopwords.words('spanish')]))\n",
    "\n",
    "    stemmer = SnowballStemmer(\"spanish\")\n",
    "\n",
    "    df_producto['short_names_processed'] = (df_producto['short_names_processed']\n",
    "                                            .map(lambda x: \" \".join([stemmer.stem(i) for i in x.lower().split()])))\n",
    "    df_aux_producto = df_producto['short_names_processed'].value_counts()[df_producto['short_names_processed'].value_counts() > 10].reset_index()\n",
    "\n",
    "    df_producto['flavor_choc'] = df_producto.short_names_processed.str.contains('choc') * 1\n",
    "    df_producto['flavor_vainill'] = df_producto.short_names_processed.str.contains('vainill') * 1\n",
    "    df_producto['flavor_canel'] = df_producto.short_names_processed.str.contains('canel') * 1\n",
    "\n",
    "    df_producto['NombreProducto'] = df_producto['NombreProducto'].str.upper()\n",
    "    df_producto['NombreProducto'] = df_producto.apply(lambda x :x['NombreProducto'].replace(str(x['Producto_ID']),'').strip(), axis=1 )\n",
    "    df_producto = pd.DataFrame(df_producto.loc[1:])\n",
    "    df_producto['fabricante'] = df_producto.NombreProducto.str.split(' ').str[-1]\n",
    "    df_producto.ix[df_producto.fabricante == '1KG','fabricante'] = ''\n",
    "    df_producto['NombreProducto'] = df_producto.apply(lambda x :x['NombreProducto'].replace(x['fabricante'],'').strip(), axis=1 )\n",
    "\n",
    "    reg = '(\\d{1,4}G|\\d{1,4}KG|\\d{1,4}ML|\\d{1,4}\\ ML)'\n",
    "    df_producto['volume'] = df_producto.NombreProducto.str.extract(reg)\n",
    "\n",
    "    df_producto['NombreProducto'] = df_producto.apply(lambda x :x['NombreProducto'].replace(str(x['volume']),'').replace('  ',' ').strip(), axis=1 )\n",
    "\n",
    "    reg = '(\\d{1,5}P)'\n",
    "    df_producto['unidade'] = df_producto.NombreProducto.str.extract(reg)\n",
    "    df_producto['NombreProducto'] = df_producto.NombreProducto.str.replace(reg, '').str.replace('  ',' ').str.strip()\n",
    "\n",
    "    aux = pd.DataFrame({'Producto_ID':[0],'NombreProducto':['NO IDENTIFICADO']})\n",
    "    df_producto = df_producto.append(aux)\n",
    "\n",
    "    df_producto['unidade'] = df_producto.volume.str.extract('([A-Z])')\n",
    "    df_producto['volume'] = df_producto.volume.str.replace('([A-Z])','')\n",
    "\n",
    "    return df_producto"
   ]
  },
  {
   "cell_type": "code",
   "execution_count": 7,
   "metadata": {
    "ExecuteTime": {
     "end_time": "2016-07-07T20:02:15.933201",
     "start_time": "2016-07-07T20:02:15.931205"
    },
    "collapsed": false
   },
   "outputs": [],
   "source": [
    "\n",
    "\n",
    "# df_producto"
   ]
  },
  {
   "cell_type": "code",
   "execution_count": null,
   "metadata": {
    "ExecuteTime": {
     "end_time": "2016-07-07T14:57:14.302429",
     "start_time": "2016-07-07T14:57:14.296441"
    },
    "collapsed": false
   },
   "outputs": [],
   "source": []
  },
  {
   "cell_type": "code",
   "execution_count": null,
   "metadata": {
    "collapsed": true
   },
   "outputs": [],
   "source": []
  },
  {
   "cell_type": "code",
   "execution_count": null,
   "metadata": {
    "collapsed": true
   },
   "outputs": [],
   "source": []
  },
  {
   "cell_type": "code",
   "execution_count": 8,
   "metadata": {
    "ExecuteTime": {
     "end_time": "2016-07-07T20:02:25.126099",
     "start_time": "2016-07-07T20:02:15.934827"
    },
    "collapsed": true
   },
   "outputs": [],
   "source": [
    "df_week = pd.read_csv('input/train_week3.csv')"
   ]
  },
  {
   "cell_type": "code",
   "execution_count": 9,
   "metadata": {
    "ExecuteTime": {
     "end_time": "2016-07-07T20:02:25.129026",
     "start_time": "2016-07-07T20:02:25.127140"
    },
    "collapsed": false
   },
   "outputs": [],
   "source": [
    "# df_week.Venta_uni_hoy.hist(range=(0,300), bins=50)"
   ]
  },
  {
   "cell_type": "code",
   "execution_count": null,
   "metadata": {
    "ExecuteTime": {
     "end_time": "2016-07-07T16:50:17.277270",
     "start_time": "2016-07-07T16:50:17.190172"
    },
    "collapsed": false
   },
   "outputs": [],
   "source": []
  },
  {
   "cell_type": "markdown",
   "metadata": {
    "ExecuteTime": {
     "end_time": "2016-07-07T19:45:34.769497",
     "start_time": "2016-07-07T19:45:34.099454"
    },
    "collapsed": false
   },
   "source": [
    "gb = df_week[['Producto_ID','Venta_hoy']].groupby(['Producto_ID']).median().reset_index()\n",
    "gb[gb['Venta_hoy'] == gb['Venta_hoy'].max()]\n",
    "aux = df_producto.merge(gb, how='left', on='Producto_ID')\n",
    "aux.ix[aux['Venta_hoy'].isnull(),'Venta_hoy'] = 0\n",
    "df_producto = aux"
   ]
  },
  {
   "cell_type": "markdown",
   "metadata": {
    "ExecuteTime": {
     "end_time": "2016-07-07T19:45:34.770002",
     "start_time": "2016-07-07T22:45:23.828Z"
    },
    "collapsed": false
   },
   "source": [
    "gb = df_week[['Producto_ID','Venta_uni_hoy']].groupby(['Producto_ID']).median().reset_index()\n",
    "gb[gb['Venta_uni_hoy'] == gb['Venta_uni_hoy'].max()]\n",
    "aux = df_producto.merge(gb, how='left', on='Producto_ID')\n",
    "aux.ix[aux['Venta_uni_hoy'].isnull(),'Venta_uni_hoy'] = 0\n",
    "df_producto = aux"
   ]
  },
  {
   "cell_type": "markdown",
   "metadata": {
    "ExecuteTime": {
     "end_time": "2016-07-07T19:45:34.770267",
     "start_time": "2016-07-07T22:45:23.830Z"
    },
    "collapsed": false
   },
   "source": [
    "gb = df_week[['Producto_ID','Dev_uni_proxima']].groupby(['Producto_ID']).median().reset_index()\n",
    "gb[gb['Dev_uni_proxima'] == gb['Dev_uni_proxima'].max()]\n",
    "aux = df_producto.merge(gb, how='left', on='Producto_ID')\n",
    "aux.ix[aux['Dev_uni_proxima'].isnull(),'Dev_uni_proxima'] = 0\n",
    "df_producto = aux"
   ]
  },
  {
   "cell_type": "code",
   "execution_count": 10,
   "metadata": {
    "ExecuteTime": {
     "end_time": "2016-07-07T20:02:25.140680",
     "start_time": "2016-07-07T20:02:25.131622"
    },
    "collapsed": false
   },
   "outputs": [],
   "source": [
    "def process_venta(df_producto):\n",
    "    l = []\n",
    "    print('week: ')\n",
    "    for week in range(3,10):\n",
    "        print(week, end='\\r')\n",
    "        df_week = pd.read_csv('input/train_week%s.csv' % week, usecols=['Producto_ID','Venta_hoy'])\n",
    "        aux = df_week.merge(df_producto, how='left', on='Producto_ID' )\n",
    "        prod_venta = aux[['Producto_ID','Venta_hoy']].groupby('Producto_ID').mean().reset_index()\n",
    "        l.append(prod_venta)\n",
    "    df_venta = pd.concat(l)\n",
    "    df_venta = df_venta.groupby('Producto_ID').mean().reset_index()\n",
    "    df_venta['Venta_hoy'] = np.log10(df_venta['Venta_hoy'].values + 1)\n",
    "    return df_venta"
   ]
  },
  {
   "cell_type": "code",
   "execution_count": 11,
   "metadata": {
    "ExecuteTime": {
     "end_time": "2016-07-07T20:02:25.145711",
     "start_time": "2016-07-07T20:02:25.142266"
    },
    "collapsed": true
   },
   "outputs": [],
   "source": [
    "def process_producto():\n",
    "    df_producto = pd.read_csv('input/producto_tabla.csv.gz', compression='gzip')\n",
    "    df_producto = trata_producto_names(df_producto)\n",
    "    return df_producto"
   ]
  },
  {
   "cell_type": "code",
   "execution_count": 12,
   "metadata": {
    "ExecuteTime": {
     "end_time": "2016-07-07T20:03:16.007891",
     "start_time": "2016-07-07T20:02:25.146868"
    },
    "collapsed": false
   },
   "outputs": [
    {
     "name": "stdout",
     "output_type": "stream",
     "text": [
      "week: \n"
     ]
    }
   ],
   "source": [
    "df_producto = process_producto()\n",
    "df_venta = process_venta(df_producto)"
   ]
  },
  {
   "cell_type": "code",
   "execution_count": null,
   "metadata": {
    "collapsed": true
   },
   "outputs": [],
   "source": []
  },
  {
   "cell_type": "code",
   "execution_count": null,
   "metadata": {
    "ExecuteTime": {
     "end_time": "2016-07-05T16:53:11.575987",
     "start_time": "2016-07-05T16:53:11.570175"
    },
    "collapsed": false
   },
   "outputs": [],
   "source": []
  },
  {
   "cell_type": "code",
   "execution_count": 13,
   "metadata": {
    "ExecuteTime": {
     "end_time": "2016-07-07T20:03:16.012772",
     "start_time": "2016-07-07T20:03:16.008927"
    },
    "collapsed": false
   },
   "outputs": [],
   "source": [
    "def count_entregas(df, by):\n",
    "    df['entregas_'+by] = 1\n",
    "    aux = df.groupby([by]).agg({\"entregas_\"+by:np.size}).reset_index()\n",
    "    df.drop('entregas_'+by, axis=1, inplace=True)\n",
    "    return df.merge(aux, how='left', on=by)"
   ]
  },
  {
   "cell_type": "code",
   "execution_count": 14,
   "metadata": {
    "ExecuteTime": {
     "end_time": "2016-07-07T20:03:16.020666",
     "start_time": "2016-07-07T20:03:16.014020"
    },
    "collapsed": true
   },
   "outputs": [],
   "source": [
    "def binarize(df, field, length, step):\n",
    "    df[field+'_bin']='undefined'\n",
    "    df[field] = df[field].astype(float)\n",
    "    for x in range(step, length, step):\n",
    "        a = df[field] > x - step\n",
    "        b = df[field] <= x\n",
    "        f = a & b\n",
    "        value = '%s-%s' % (x-step, x)\n",
    "        df.ix[f, field+'_bin'] = value\n",
    "    print(field+'_bin')\n",
    "    return df"
   ]
  },
  {
   "cell_type": "code",
   "execution_count": 15,
   "metadata": {
    "ExecuteTime": {
     "end_time": "2016-07-07T20:03:16.448800",
     "start_time": "2016-07-07T20:03:16.022150"
    },
    "collapsed": false
   },
   "outputs": [],
   "source": [
    "def process_df(df, test=False):\n",
    "    \n",
    "    if not test:\n",
    "#         df = df.drop(['Venta_uni_hoy','Venta_hoy','Dev_uni_proxima'], axis=1)\n",
    "        df = df.ix[df.Producto_ID != 0]\n",
    "        df = df.ix[df.Demanda_uni_equil<20]\n",
    "        \n",
    "    df = df.merge(df_venta, how='left', on='Producto_ID')\n",
    "    print (df.columns)\n",
    "    print('')\n",
    "    df = df.merge(df_producto[['flavor_choc', 'flavor_vainill', 'flavor_canel','volume', 'fabricante','Producto_ID']], how='left',on='Producto_ID')\n",
    "    df = df.merge(df_townstate[['Agencia_ID','ag','bimbo','State']], on='Agencia_ID')\n",
    "    df.volume = df.volume.fillna(0).astype('int')\n",
    "\n",
    "    route_count = df[['Cliente_ID','Ruta_SAK']].groupby(['Cliente_ID']).count().reset_index()\n",
    "    route_count.columns = ['Cliente_ID','route_client']\n",
    "    route_count = route_count.ix[route_count['route_client'] <= 60]\n",
    "    df = df.merge(route_count, how='left', on='Cliente_ID')\n",
    "    df = df.ix[~df['route_client'].isnull()]\n",
    "    \n",
    "    df = df.ix[df.volume<500]\n",
    "        \n",
    "    df['Cliente_ID'] = df['Cliente_ID'].astype('str')\n",
    "    df['Agencia_ID'] = df['Agencia_ID'].astype('str')\n",
    "    df['Canal_ID'] = df['Canal_ID'].astype('str')\n",
    "    df['Ruta_SAK'] = df['Ruta_SAK'].astype('str')\n",
    "        \n",
    "    f = (df['volume'] < 600)\n",
    "    df = pd.DataFrame(df.ix[f])\n",
    "    df = binarize(df, 'volume', 600, 60)\n",
    "    \n",
    "#     f = (df['Venta_hoy'] < 60)\n",
    "#     df = pd.DataFrame(df.ix[f])\n",
    "#     df = binarize(df, 'Venta_hoy', 60, 12)\n",
    "\n",
    "#     f = (df['Venta_uni_hoy'] < 10)\n",
    "#     df = pd.DataFrame(df.ix[f])\n",
    "#     df = binarize(df, 'Venta_uni_hoy', 10, 2)\n",
    "    \n",
    "#     a = df['Venta_uni_hoy_bin'] == ''\n",
    "#     b = df['Venta_hoy_bin'] == ''\n",
    "#     c = df['volume_bin'] == ''\n",
    "#     df = df.ix[~c]\n",
    "    \n",
    "    if test:\n",
    "        df = df[cols]\n",
    "    else:\n",
    "        df = df[cols+['Demanda_uni_equil']].drop_duplicates()\n",
    "        \n",
    "#     y = df['Demanda_uni_equil'].values\n",
    "#     x = pd.get_dummies(aux[cols]).values\n",
    "#   x = pd.get_dummies(aux[cols]).values\n",
    "    return df"
   ]
  },
  {
   "cell_type": "code",
   "execution_count": null,
   "metadata": {
    "ExecuteTime": {
     "end_time": "2016-07-07T15:42:08.249219",
     "start_time": "2016-07-07T15:42:08.238332"
    },
    "collapsed": true
   },
   "outputs": [],
   "source": []
  },
  {
   "cell_type": "code",
   "execution_count": null,
   "metadata": {
    "ExecuteTime": {
     "end_time": "2016-07-07T15:42:09.234800",
     "start_time": "2016-07-07T15:42:08.876630"
    },
    "collapsed": false
   },
   "outputs": [],
   "source": []
  },
  {
   "cell_type": "code",
   "execution_count": null,
   "metadata": {
    "ExecuteTime": {
     "end_time": "2016-07-07T19:59:17.378601",
     "start_time": "2016-07-07T19:59:17.328828"
    },
    "collapsed": false
   },
   "outputs": [],
   "source": []
  },
  {
   "cell_type": "code",
   "execution_count": 16,
   "metadata": {
    "ExecuteTime": {
     "end_time": "2016-07-07T20:03:16.454313",
     "start_time": "2016-07-07T20:03:16.450087"
    },
    "collapsed": false
   },
   "outputs": [],
   "source": [
    "# df_process['fabricante'].value_counts()"
   ]
  },
  {
   "cell_type": "code",
   "execution_count": 17,
   "metadata": {
    "ExecuteTime": {
     "end_time": "2016-07-07T20:03:16.460791",
     "start_time": "2016-07-07T20:03:16.455609"
    },
    "collapsed": false
   },
   "outputs": [],
   "source": [
    "cols = [\n",
    "#     'volume',\n",
    "#     'entregas_Producto_ID',\n",
    "#     'Cliente_ID',\n",
    "#     'entregas_fabricante',\n",
    "#     'Agencia_ID',\n",
    "    'route_client',\n",
    "#     'Canal_ID',\n",
    "    'fabricante',\n",
    "#     'Venta_uni_hoy_bin',\n",
    "    'Venta_hoy',\n",
    "#     'short_names_processed',\n",
    "    'State',\n",
    "    'volume_bin',\n",
    "    'ag',\n",
    "    'bimbo',\n",
    "    'flavor_choc',\n",
    "    'flavor_vainill',\n",
    "    'flavor_canel',\n",
    "]"
   ]
  },
  {
   "cell_type": "code",
   "execution_count": null,
   "metadata": {
    "ExecuteTime": {
     "end_time": "2016-07-07T19:47:05.891698",
     "start_time": "2016-07-07T19:47:05.886540"
    },
    "collapsed": true
   },
   "outputs": [],
   "source": []
  },
  {
   "cell_type": "code",
   "execution_count": null,
   "metadata": {
    "ExecuteTime": {
     "end_time": "2016-07-07T19:49:05.456586",
     "start_time": "2016-07-07T19:49:05.436980"
    },
    "collapsed": false
   },
   "outputs": [],
   "source": []
  },
  {
   "cell_type": "code",
   "execution_count": 18,
   "metadata": {
    "ExecuteTime": {
     "end_time": "2016-07-07T20:03:16.465283",
     "start_time": "2016-07-07T20:03:16.461881"
    },
    "collapsed": false
   },
   "outputs": [],
   "source": [
    "# aux = df_week.merge(df_townstate, how='left', on='Agencia_ID' )"
   ]
  },
  {
   "cell_type": "code",
   "execution_count": null,
   "metadata": {
    "ExecuteTime": {
     "end_time": "2016-07-07T19:35:28.489601",
     "start_time": "2016-07-07T19:35:27.182803"
    },
    "collapsed": true
   },
   "outputs": [],
   "source": []
  },
  {
   "cell_type": "code",
   "execution_count": null,
   "metadata": {
    "ExecuteTime": {
     "end_time": "2016-07-07T19:49:07.509591",
     "start_time": "2016-07-07T19:49:06.202285"
    },
    "collapsed": false
   },
   "outputs": [],
   "source": []
  },
  {
   "cell_type": "code",
   "execution_count": null,
   "metadata": {
    "ExecuteTime": {
     "end_time": "2016-07-07T19:49:56.715465",
     "start_time": "2016-07-07T19:49:07.510582"
    },
    "collapsed": false
   },
   "outputs": [],
   "source": []
  },
  {
   "cell_type": "code",
   "execution_count": null,
   "metadata": {
    "ExecuteTime": {
     "end_time": "2016-07-07T19:50:15.968141",
     "start_time": "2016-07-07T19:50:15.773017"
    },
    "collapsed": false
   },
   "outputs": [],
   "source": []
  },
  {
   "cell_type": "code",
   "execution_count": null,
   "metadata": {
    "ExecuteTime": {
     "end_time": "2016-07-07T19:35:32.944861",
     "start_time": "2016-07-07T19:35:32.870739"
    },
    "collapsed": false
   },
   "outputs": [],
   "source": []
  },
  {
   "cell_type": "code",
   "execution_count": null,
   "metadata": {
    "ExecuteTime": {
     "end_time": "2016-07-07T19:23:36.094380",
     "start_time": "2016-07-07T19:23:36.017405"
    },
    "collapsed": false
   },
   "outputs": [],
   "source": []
  },
  {
   "cell_type": "code",
   "execution_count": 20,
   "metadata": {
    "ExecuteTime": {
     "end_time": "2016-07-07T20:03:43.101032",
     "start_time": "2016-07-07T20:03:43.097911"
    },
    "collapsed": false
   },
   "outputs": [],
   "source": [
    "# df_producto.merge()"
   ]
  },
  {
   "cell_type": "code",
   "execution_count": null,
   "metadata": {
    "ExecuteTime": {
     "end_time": "2016-07-07T19:21:24.058449",
     "start_time": "2016-07-07T19:21:23.865269"
    },
    "collapsed": false
   },
   "outputs": [],
   "source": []
  },
  {
   "cell_type": "code",
   "execution_count": 21,
   "metadata": {
    "ExecuteTime": {
     "end_time": "2016-07-07T20:03:43.500511",
     "start_time": "2016-07-07T20:03:43.497444"
    },
    "collapsed": false
   },
   "outputs": [],
   "source": [
    "# aux.State.value_counts().plot(kind='bar')"
   ]
  },
  {
   "cell_type": "code",
   "execution_count": 22,
   "metadata": {
    "ExecuteTime": {
     "end_time": "2016-07-07T20:03:43.675678",
     "start_time": "2016-07-07T20:03:43.672562"
    },
    "collapsed": false
   },
   "outputs": [],
   "source": [
    "# list(aux.short_names_processed.unique())"
   ]
  },
  {
   "cell_type": "code",
   "execution_count": null,
   "metadata": {
    "ExecuteTime": {
     "end_time": "2016-07-07T17:46:49.280118",
     "start_time": "2016-07-07T17:46:48.525813"
    },
    "collapsed": false
   },
   "outputs": [],
   "source": []
  },
  {
   "cell_type": "code",
   "execution_count": null,
   "metadata": {
    "ExecuteTime": {
     "end_time": "2016-07-07T20:03:16.647090",
     "start_time": "2016-07-07T23:02:15.865Z"
    },
    "collapsed": false
   },
   "outputs": [],
   "source": [
    "# aux = df_week.merge(df_townstate, how='left', on='Agencia_ID')"
   ]
  },
  {
   "cell_type": "code",
   "execution_count": null,
   "metadata": {
    "ExecuteTime": {
     "end_time": "2016-07-07T18:49:53.376290",
     "start_time": "2016-07-07T18:49:53.319888"
    },
    "collapsed": false
   },
   "outputs": [],
   "source": []
  },
  {
   "cell_type": "code",
   "execution_count": null,
   "metadata": {
    "ExecuteTime": {
     "end_time": "2016-07-07T20:03:16.647368",
     "start_time": "2016-07-07T23:02:15.868Z"
    },
    "collapsed": false
   },
   "outputs": [],
   "source": [
    "# aux[['Cliente_ID','Ruta_SAK']].groupby(['Cliente_ID']).count()['Ruta_SAK'].hist(range=(0,60))"
   ]
  },
  {
   "cell_type": "code",
   "execution_count": null,
   "metadata": {
    "ExecuteTime": {
     "end_time": "2016-07-07T20:03:16.647625",
     "start_time": "2016-07-07T23:02:15.870Z"
    },
    "collapsed": false
   },
   "outputs": [],
   "source": [
    "# aux.Cliente_ID.unique()[0]"
   ]
  },
  {
   "cell_type": "code",
   "execution_count": null,
   "metadata": {
    "ExecuteTime": {
     "end_time": "2016-07-07T20:03:16.647905",
     "start_time": "2016-07-07T23:02:15.873Z"
    },
    "collapsed": false
   },
   "outputs": [],
   "source": [
    "# df"
   ]
  },
  {
   "cell_type": "code",
   "execution_count": null,
   "metadata": {
    "ExecuteTime": {
     "end_time": "2016-07-07T18:15:08.278042",
     "start_time": "2016-07-07T18:15:08.245886"
    },
    "collapsed": false
   },
   "outputs": [],
   "source": []
  },
  {
   "cell_type": "code",
   "execution_count": null,
   "metadata": {
    "ExecuteTime": {
     "end_time": "2016-07-07T20:03:16.648159",
     "start_time": "2016-07-07T23:02:15.876Z"
    },
    "collapsed": false
   },
   "outputs": [],
   "source": [
    "# aux.shape"
   ]
  },
  {
   "cell_type": "code",
   "execution_count": null,
   "metadata": {
    "ExecuteTime": {
     "end_time": "2016-07-07T20:03:16.648435",
     "start_time": "2016-07-07T23:02:15.878Z"
    },
    "collapsed": false
   },
   "outputs": [],
   "source": [
    "# enc._n_values"
   ]
  },
  {
   "cell_type": "code",
   "execution_count": 23,
   "metadata": {
    "ExecuteTime": {
     "end_time": "2016-07-07T20:03:45.407289",
     "start_time": "2016-07-07T20:03:45.356645"
    },
    "collapsed": true
   },
   "outputs": [],
   "source": [
    "from sklearn.ensemble import RandomForestRegressor, ExtraTreesRegressor, GradientBoostingRegressor\n",
    "from sklearn.linear_model import LinearRegression\n",
    "from sklearn.cross_validation import StratifiedKFold, cross_val_score, train_test_split\n",
    "from sklearn.metrics import mean_squared_error\n",
    "from sklearn.preprocessing import OneHotEncoder"
   ]
  },
  {
   "cell_type": "code",
   "execution_count": 24,
   "metadata": {
    "ExecuteTime": {
     "end_time": "2016-07-07T20:03:45.519662",
     "start_time": "2016-07-07T20:03:45.511715"
    },
    "collapsed": false
   },
   "outputs": [],
   "source": [
    "# rf = ExtraTreesRegressor(n_estimators=50, max_features=1.0,min_samples_split=3,n_jobs=4)\n",
    "\n",
    "\n",
    "\n",
    "def train(x, y):\n",
    "    x_train, x_test, y_train, y_test = train_test_split(x, y, test_size=0.05, random_state=1729)\n",
    "    rf.fit(x_train, y_train)\n",
    "    y_pred = rf.predict(x_test)\n",
    "    print(mean_squared_error(y_test, y_pred))\n",
    "        "
   ]
  },
  {
   "cell_type": "code",
   "execution_count": 25,
   "metadata": {
    "ExecuteTime": {
     "end_time": "2016-07-07T20:03:45.674214",
     "start_time": "2016-07-07T20:03:45.671180"
    },
    "collapsed": false
   },
   "outputs": [],
   "source": [
    "# df.columns"
   ]
  },
  {
   "cell_type": "code",
   "execution_count": 27,
   "metadata": {
    "ExecuteTime": {
     "end_time": "2016-07-07T20:08:25.403913",
     "start_time": "2016-07-07T20:04:40.602096"
    },
    "collapsed": false
   },
   "outputs": [
    {
     "name": "stdout",
     "output_type": "stream",
     "text": [
      "Index(['Agencia_ID', 'Canal_ID', 'Ruta_SAK', 'Cliente_ID', 'Producto_ID',\n",
      "       'Demanda_uni_equil', 'Venta_hoy'],\n",
      "      dtype='object')\n",
      "\n",
      "volume_bin\n",
      "fitting...\n",
      "19.9603023869\n"
     ]
    },
    {
     "ename": "KeyboardInterrupt",
     "evalue": "",
     "output_type": "error",
     "traceback": [
      "\u001b[1;31m---------------------------------------------------------------------------\u001b[0m",
      "\u001b[1;31mKeyboardInterrupt\u001b[0m                         Traceback (most recent call last)",
      "\u001b[1;32m<ipython-input-27-0a55870d72a7>\u001b[0m in \u001b[0;36m<module>\u001b[1;34m()\u001b[0m\n\u001b[0;32m      2\u001b[0m \u001b[1;33m\u001b[0m\u001b[0m\n\u001b[0;32m      3\u001b[0m \u001b[1;32mfor\u001b[0m \u001b[0mweek\u001b[0m \u001b[1;32min\u001b[0m \u001b[0mrange\u001b[0m\u001b[1;33m(\u001b[0m\u001b[1;36m3\u001b[0m\u001b[1;33m,\u001b[0m\u001b[1;36m10\u001b[0m\u001b[1;33m)\u001b[0m\u001b[1;33m:\u001b[0m\u001b[1;33m\u001b[0m\u001b[0m\n\u001b[1;32m----> 4\u001b[1;33m     \u001b[0mdf_week\u001b[0m \u001b[1;33m=\u001b[0m \u001b[0mpd\u001b[0m\u001b[1;33m.\u001b[0m\u001b[0mread_csv\u001b[0m\u001b[1;33m(\u001b[0m\u001b[1;34m'input/train_week%s.csv'\u001b[0m \u001b[1;33m%\u001b[0m \u001b[0mweek\u001b[0m\u001b[1;33m,\u001b[0m \u001b[0musecols\u001b[0m\u001b[1;33m=\u001b[0m\u001b[1;33m[\u001b[0m\u001b[1;34m'Agencia_ID'\u001b[0m\u001b[1;33m,\u001b[0m\u001b[1;34m'Ruta_SAK'\u001b[0m\u001b[1;33m,\u001b[0m\u001b[1;34m'Cliente_ID'\u001b[0m\u001b[1;33m,\u001b[0m\u001b[1;34m'Canal_ID'\u001b[0m\u001b[1;33m,\u001b[0m\u001b[1;34m'Producto_ID'\u001b[0m\u001b[1;33m,\u001b[0m\u001b[1;34m'Demanda_uni_equil'\u001b[0m\u001b[1;33m]\u001b[0m\u001b[1;33m)\u001b[0m\u001b[1;33m\u001b[0m\u001b[0m\n\u001b[0m\u001b[0;32m      5\u001b[0m \u001b[1;33m\u001b[0m\u001b[0m\n\u001b[0;32m      6\u001b[0m     \u001b[0maux\u001b[0m \u001b[1;33m=\u001b[0m \u001b[0mprocess_df\u001b[0m\u001b[1;33m(\u001b[0m\u001b[0mdf_week\u001b[0m\u001b[1;33m)\u001b[0m\u001b[1;33m\u001b[0m\u001b[0m\n",
      "\u001b[1;32m/usr/local/lib/python3.4/dist-packages/pandas/io/parsers.py\u001b[0m in \u001b[0;36mparser_f\u001b[1;34m(filepath_or_buffer, sep, dialect, compression, doublequote, escapechar, quotechar, quoting, skipinitialspace, lineterminator, header, index_col, names, prefix, skiprows, skipfooter, skip_footer, na_values, true_values, false_values, delimiter, converters, dtype, usecols, engine, delim_whitespace, as_recarray, na_filter, compact_ints, use_unsigned, low_memory, buffer_lines, warn_bad_lines, error_bad_lines, keep_default_na, thousands, comment, decimal, parse_dates, keep_date_col, dayfirst, date_parser, memory_map, float_precision, nrows, iterator, chunksize, verbose, encoding, squeeze, mangle_dupe_cols, tupleize_cols, infer_datetime_format, skip_blank_lines)\u001b[0m\n\u001b[0;32m    496\u001b[0m                     skip_blank_lines=skip_blank_lines)\n\u001b[0;32m    497\u001b[0m \u001b[1;33m\u001b[0m\u001b[0m\n\u001b[1;32m--> 498\u001b[1;33m         \u001b[1;32mreturn\u001b[0m \u001b[0m_read\u001b[0m\u001b[1;33m(\u001b[0m\u001b[0mfilepath_or_buffer\u001b[0m\u001b[1;33m,\u001b[0m \u001b[0mkwds\u001b[0m\u001b[1;33m)\u001b[0m\u001b[1;33m\u001b[0m\u001b[0m\n\u001b[0m\u001b[0;32m    499\u001b[0m \u001b[1;33m\u001b[0m\u001b[0m\n\u001b[0;32m    500\u001b[0m     \u001b[0mparser_f\u001b[0m\u001b[1;33m.\u001b[0m\u001b[0m__name__\u001b[0m \u001b[1;33m=\u001b[0m \u001b[0mname\u001b[0m\u001b[1;33m\u001b[0m\u001b[0m\n",
      "\u001b[1;32m/usr/local/lib/python3.4/dist-packages/pandas/io/parsers.py\u001b[0m in \u001b[0;36m_read\u001b[1;34m(filepath_or_buffer, kwds)\u001b[0m\n\u001b[0;32m    283\u001b[0m         \u001b[1;32mreturn\u001b[0m \u001b[0mparser\u001b[0m\u001b[1;33m\u001b[0m\u001b[0m\n\u001b[0;32m    284\u001b[0m \u001b[1;33m\u001b[0m\u001b[0m\n\u001b[1;32m--> 285\u001b[1;33m     \u001b[1;32mreturn\u001b[0m \u001b[0mparser\u001b[0m\u001b[1;33m.\u001b[0m\u001b[0mread\u001b[0m\u001b[1;33m(\u001b[0m\u001b[1;33m)\u001b[0m\u001b[1;33m\u001b[0m\u001b[0m\n\u001b[0m\u001b[0;32m    286\u001b[0m \u001b[1;33m\u001b[0m\u001b[0m\n\u001b[0;32m    287\u001b[0m _parser_defaults = {\n",
      "\u001b[1;32m/usr/local/lib/python3.4/dist-packages/pandas/io/parsers.py\u001b[0m in \u001b[0;36mread\u001b[1;34m(self, nrows)\u001b[0m\n\u001b[0;32m    745\u001b[0m                 \u001b[1;32mraise\u001b[0m \u001b[0mValueError\u001b[0m\u001b[1;33m(\u001b[0m\u001b[1;34m'skip_footer not supported for iteration'\u001b[0m\u001b[1;33m)\u001b[0m\u001b[1;33m\u001b[0m\u001b[0m\n\u001b[0;32m    746\u001b[0m \u001b[1;33m\u001b[0m\u001b[0m\n\u001b[1;32m--> 747\u001b[1;33m         \u001b[0mret\u001b[0m \u001b[1;33m=\u001b[0m \u001b[0mself\u001b[0m\u001b[1;33m.\u001b[0m\u001b[0m_engine\u001b[0m\u001b[1;33m.\u001b[0m\u001b[0mread\u001b[0m\u001b[1;33m(\u001b[0m\u001b[0mnrows\u001b[0m\u001b[1;33m)\u001b[0m\u001b[1;33m\u001b[0m\u001b[0m\n\u001b[0m\u001b[0;32m    748\u001b[0m \u001b[1;33m\u001b[0m\u001b[0m\n\u001b[0;32m    749\u001b[0m         \u001b[1;32mif\u001b[0m \u001b[0mself\u001b[0m\u001b[1;33m.\u001b[0m\u001b[0moptions\u001b[0m\u001b[1;33m.\u001b[0m\u001b[0mget\u001b[0m\u001b[1;33m(\u001b[0m\u001b[1;34m'as_recarray'\u001b[0m\u001b[1;33m)\u001b[0m\u001b[1;33m:\u001b[0m\u001b[1;33m\u001b[0m\u001b[0m\n",
      "\u001b[1;32m/usr/local/lib/python3.4/dist-packages/pandas/io/parsers.py\u001b[0m in \u001b[0;36mread\u001b[1;34m(self, nrows)\u001b[0m\n\u001b[0;32m   1195\u001b[0m     \u001b[1;32mdef\u001b[0m \u001b[0mread\u001b[0m\u001b[1;33m(\u001b[0m\u001b[0mself\u001b[0m\u001b[1;33m,\u001b[0m \u001b[0mnrows\u001b[0m\u001b[1;33m=\u001b[0m\u001b[1;32mNone\u001b[0m\u001b[1;33m)\u001b[0m\u001b[1;33m:\u001b[0m\u001b[1;33m\u001b[0m\u001b[0m\n\u001b[0;32m   1196\u001b[0m         \u001b[1;32mtry\u001b[0m\u001b[1;33m:\u001b[0m\u001b[1;33m\u001b[0m\u001b[0m\n\u001b[1;32m-> 1197\u001b[1;33m             \u001b[0mdata\u001b[0m \u001b[1;33m=\u001b[0m \u001b[0mself\u001b[0m\u001b[1;33m.\u001b[0m\u001b[0m_reader\u001b[0m\u001b[1;33m.\u001b[0m\u001b[0mread\u001b[0m\u001b[1;33m(\u001b[0m\u001b[0mnrows\u001b[0m\u001b[1;33m)\u001b[0m\u001b[1;33m\u001b[0m\u001b[0m\n\u001b[0m\u001b[0;32m   1198\u001b[0m         \u001b[1;32mexcept\u001b[0m \u001b[0mStopIteration\u001b[0m\u001b[1;33m:\u001b[0m\u001b[1;33m\u001b[0m\u001b[0m\n\u001b[0;32m   1199\u001b[0m             \u001b[1;32mif\u001b[0m \u001b[0mself\u001b[0m\u001b[1;33m.\u001b[0m\u001b[0m_first_chunk\u001b[0m\u001b[1;33m:\u001b[0m\u001b[1;33m\u001b[0m\u001b[0m\n",
      "\u001b[1;31mKeyboardInterrupt\u001b[0m: "
     ]
    }
   ],
   "source": [
    "rf = RandomForestRegressor(n_jobs=4) #, random_state=401\n",
    "\n",
    "for week in range(3,10):\n",
    "    df_week = pd.read_csv('input/train_week%s.csv' % week, usecols=['Agencia_ID','Ruta_SAK','Cliente_ID','Canal_ID','Producto_ID','Demanda_uni_equil'])\n",
    "\n",
    "    aux = process_df(df_week)\n",
    "    df = aux.iloc[np.random.permutation(len(aux))]\n",
    "    df = pd.get_dummies(df)\n",
    "\n",
    "    print('fitting...')\n",
    "    # for x in range(10000,df.shape[0]-10000,10000):\n",
    "    df_partial = df\n",
    "    x = df_partial.drop(['Demanda_uni_equil'], axis=1).values\n",
    "    y = df_partial['Demanda_uni_equil'].values\n",
    "    train(x,y)\n",
    "    "
   ]
  },
  {
   "cell_type": "code",
   "execution_count": null,
   "metadata": {
    "ExecuteTime": {
     "end_time": "2016-07-06T19:02:01.288642",
     "start_time": "2016-07-06T22:01:19.607Z"
    },
    "collapsed": false
   },
   "outputs": [],
   "source": [
    "1.12"
   ]
  },
  {
   "cell_type": "code",
   "execution_count": null,
   "metadata": {
    "collapsed": true
   },
   "outputs": [],
   "source": []
  },
  {
   "cell_type": "code",
   "execution_count": null,
   "metadata": {
    "ExecuteTime": {
     "end_time": "2016-07-07T19:05:17.325288",
     "start_time": "2016-07-07T19:05:17.271413"
    },
    "collapsed": false
   },
   "outputs": [],
   "source": [
    "df_test"
   ]
  },
  {
   "cell_type": "code",
   "execution_count": null,
   "metadata": {
    "ExecuteTime": {
     "end_time": "2016-07-07T19:05:14.743715",
     "start_time": "2016-07-07T19:05:09.618129"
    },
    "collapsed": true
   },
   "outputs": [],
   "source": [
    "df_test = pd.read_csv('input/test.csv.gz', compression='gzip')"
   ]
  },
  {
   "cell_type": "code",
   "execution_count": null,
   "metadata": {
    "ExecuteTime": {
     "end_time": "2016-07-07T18:40:46.404302",
     "start_time": "2016-07-07T18:39:52.016071"
    },
    "collapsed": false,
    "scrolled": false
   },
   "outputs": [],
   "source": [
    "df = process_df(df_test, test=True)\n",
    "# df = aux.iloc[np.random.permutation(len(aux))]\n",
    "df = pd.get_dummies(df)\n",
    "res = rf.predict(df.values)"
   ]
  },
  {
   "cell_type": "code",
   "execution_count": null,
   "metadata": {
    "ExecuteTime": {
     "end_time": "2016-07-07T18:51:35.402823",
     "start_time": "2016-07-07T18:51:34.201563"
    },
    "collapsed": false
   },
   "outputs": [],
   "source": [
    "a = df_test.merge(df_producto, how='left', on='Producto_ID')"
   ]
  },
  {
   "cell_type": "code",
   "execution_count": null,
   "metadata": {
    "ExecuteTime": {
     "end_time": "2016-07-07T18:54:44.406265",
     "start_time": "2016-07-07T18:54:44.103026"
    },
    "collapsed": false
   },
   "outputs": [],
   "source": [
    "a.Venta_uni_hoy.hist(range=(0,10), bins=2)"
   ]
  },
  {
   "cell_type": "code",
   "execution_count": null,
   "metadata": {
    "ExecuteTime": {
     "end_time": "2016-07-07T18:53:03.974638",
     "start_time": "2016-07-07T18:53:03.964546"
    },
    "collapsed": false
   },
   "outputs": [],
   "source": []
  },
  {
   "cell_type": "code",
   "execution_count": null,
   "metadata": {
    "ExecuteTime": {
     "end_time": "2016-07-05T17:23:52.857057",
     "start_time": "2016-07-05T20:23:39.510Z"
    },
    "collapsed": false
   },
   "outputs": [],
   "source": [
    "# df_process['short_names_processed']"
   ]
  },
  {
   "cell_type": "code",
   "execution_count": null,
   "metadata": {
    "ExecuteTime": {
     "end_time": "2016-07-05T17:22:12.424024",
     "start_time": "2016-07-05T17:22:12.341279"
    },
    "collapsed": false
   },
   "outputs": [],
   "source": [
    "# pd.get_dummies(df_process[0:100][cols])"
   ]
  },
  {
   "cell_type": "code",
   "execution_count": null,
   "metadata": {
    "ExecuteTime": {
     "end_time": "2016-07-07T19:00:25.702424",
     "start_time": "2016-07-07T19:00:23.034346"
    },
    "collapsed": false
   },
   "outputs": [],
   "source": [
    "a = pd.get_dummies(aux[cols])"
   ]
  },
  {
   "cell_type": "code",
   "execution_count": null,
   "metadata": {
    "ExecuteTime": {
     "end_time": "2016-07-07T19:00:02.985702",
     "start_time": "2016-07-07T19:00:02.851766"
    },
    "collapsed": false
   },
   "outputs": [],
   "source": [
    "rf.feature_importances_.shape"
   ]
  },
  {
   "cell_type": "code",
   "execution_count": null,
   "metadata": {
    "ExecuteTime": {
     "end_time": "2016-07-07T18:05:03.797029",
     "start_time": "2016-07-07T21:02:16.147Z"
    },
    "collapsed": false
   },
   "outputs": [],
   "source": [
    "# a.columns"
   ]
  },
  {
   "cell_type": "code",
   "execution_count": null,
   "metadata": {
    "ExecuteTime": {
     "end_time": "2016-07-07T19:00:29.649282",
     "start_time": "2016-07-07T19:00:29.644309"
    },
    "collapsed": false
   },
   "outputs": [],
   "source": [
    "a.columns[0]"
   ]
  },
  {
   "cell_type": "code",
   "execution_count": null,
   "metadata": {
    "ExecuteTime": {
     "end_time": "2016-07-07T19:00:12.635423",
     "start_time": "2016-07-07T19:00:12.224952"
    },
    "collapsed": false
   },
   "outputs": [],
   "source": [
    "plt.bar(range(0,67), height=rf.feature_importances_)"
   ]
  },
  {
   "cell_type": "code",
   "execution_count": null,
   "metadata": {
    "ExecuteTime": {
     "end_time": "2016-06-22T16:48:28.775598",
     "start_time": "2016-06-22T16:48:28.604559"
    },
    "collapsed": false
   },
   "outputs": [],
   "source": [
    "f = plt.subplots()\n",
    "i = 444\n",
    "for v in x.T:\n",
    "    i+=1\n",
    "    f.hist(v)"
   ]
  },
  {
   "cell_type": "code",
   "execution_count": null,
   "metadata": {
    "ExecuteTime": {
     "end_time": "2016-06-22T16:41:11.071953",
     "start_time": "2016-06-22T16:41:10.845778"
    },
    "collapsed": false
   },
   "outputs": [],
   "source": []
  },
  {
   "cell_type": "code",
   "execution_count": null,
   "metadata": {
    "ExecuteTime": {
     "end_time": "2016-06-22T16:35:46.831672",
     "start_time": "2016-06-22T19:28:21.110Z"
    },
    "collapsed": false
   },
   "outputs": [],
   "source": [
    "df.columns"
   ]
  },
  {
   "cell_type": "code",
   "execution_count": null,
   "metadata": {
    "ExecuteTime": {
     "end_time": "2016-06-22T15:03:32.549718",
     "start_time": "2016-06-22T15:03:32.543490"
    },
    "collapsed": true
   },
   "outputs": [],
   "source": []
  },
  {
   "cell_type": "code",
   "execution_count": null,
   "metadata": {
    "ExecuteTime": {
     "end_time": "2016-06-22T16:35:46.831936",
     "start_time": "2016-06-22T19:28:21.113Z"
    },
    "collapsed": false
   },
   "outputs": [],
   "source": [
    "count_entregas(df, 'Agencia_ID')"
   ]
  },
  {
   "cell_type": "code",
   "execution_count": null,
   "metadata": {
    "collapsed": true
   },
   "outputs": [],
   "source": []
  }
 ],
 "metadata": {
  "kernelspec": {
   "display_name": "Python 3",
   "language": "python",
   "name": "python3"
  },
  "language_info": {
   "codemirror_mode": {
    "name": "ipython",
    "version": 3
   },
   "file_extension": ".py",
   "mimetype": "text/x-python",
   "name": "python",
   "nbconvert_exporter": "python",
   "pygments_lexer": "ipython3",
   "version": "3.4.3"
  }
 },
 "nbformat": 4,
 "nbformat_minor": 0
}
