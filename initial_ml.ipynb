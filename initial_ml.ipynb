{
 "cells": [
  {
   "cell_type": "code",
   "execution_count": 1,
   "metadata": {
    "ExecuteTime": {
     "end_time": "2016-07-05T17:24:04.402754",
     "start_time": "2016-07-05T17:24:03.661118"
    },
    "collapsed": false
   },
   "outputs": [],
   "source": [
    "import pandas as pd\n",
    "import numpy as np\n",
    "import matplotlib.pyplot as plt\n",
    "%matplotlib inline"
   ]
  },
  {
   "cell_type": "code",
   "execution_count": 2,
   "metadata": {
    "ExecuteTime": {
     "end_time": "2016-07-05T17:24:05.163375",
     "start_time": "2016-07-05T17:24:04.403758"
    },
    "collapsed": true
   },
   "outputs": [],
   "source": [
    "from nltk.corpus import stopwords"
   ]
  },
  {
   "cell_type": "code",
   "execution_count": 3,
   "metadata": {
    "ExecuteTime": {
     "end_time": "2016-07-05T17:24:05.169333",
     "start_time": "2016-07-05T17:24:05.164515"
    },
    "collapsed": false
   },
   "outputs": [],
   "source": [
    "stop_words = stopwords.words('spanish')"
   ]
  },
  {
   "cell_type": "code",
   "execution_count": null,
   "metadata": {
    "ExecuteTime": {
     "end_time": "2016-06-21T17:49:11.459282",
     "start_time": "2016-06-21T17:49:11.449341"
    },
    "collapsed": false
   },
   "outputs": [],
   "source": []
  },
  {
   "cell_type": "code",
   "execution_count": 4,
   "metadata": {
    "ExecuteTime": {
     "end_time": "2016-07-05T17:24:05.172907",
     "start_time": "2016-07-05T17:24:05.170832"
    },
    "collapsed": true
   },
   "outputs": [],
   "source": [
    "pd.options.display.max_rows = 30"
   ]
  },
  {
   "cell_type": "code",
   "execution_count": 5,
   "metadata": {
    "ExecuteTime": {
     "end_time": "2016-07-05T17:24:05.177849",
     "start_time": "2016-07-05T17:24:05.174365"
    },
    "collapsed": false
   },
   "outputs": [],
   "source": [
    "# df_test = pd.read_csv('input/test.csv.gz', compression='gzip')\n",
    "# df_test.columns"
   ]
  },
  {
   "cell_type": "code",
   "execution_count": 6,
   "metadata": {
    "ExecuteTime": {
     "end_time": "2016-07-05T17:24:37.093503",
     "start_time": "2016-07-05T17:24:05.179328"
    },
    "collapsed": false
   },
   "outputs": [],
   "source": [
    "df_timing = pd.read_csv('input/train.csv', usecols=['Semana','Canal_ID'])"
   ]
  },
  {
   "cell_type": "code",
   "execution_count": null,
   "metadata": {
    "ExecuteTime": {
     "end_time": "2016-07-05T16:52:24.673255",
     "start_time": "2016-07-05T16:52:24.557155"
    },
    "collapsed": false
   },
   "outputs": [],
   "source": []
  },
  {
   "cell_type": "code",
   "execution_count": null,
   "metadata": {
    "ExecuteTime": {
     "end_time": "2016-06-22T14:14:16.313559",
     "start_time": "2016-06-22T14:14:15.938448"
    },
    "collapsed": false
   },
   "outputs": [],
   "source": []
  },
  {
   "cell_type": "code",
   "execution_count": null,
   "metadata": {
    "ExecuteTime": {
     "end_time": "2016-07-05T17:02:21.757496",
     "start_time": "2016-07-05T17:02:21.752439"
    },
    "collapsed": false
   },
   "outputs": [],
   "source": []
  },
  {
   "cell_type": "code",
   "execution_count": null,
   "metadata": {
    "ExecuteTime": {
     "end_time": "2016-06-22T14:14:08.077363",
     "start_time": "2016-06-22T14:14:05.454698"
    },
    "collapsed": true
   },
   "outputs": [],
   "source": []
  },
  {
   "cell_type": "code",
   "execution_count": null,
   "metadata": {
    "ExecuteTime": {
     "end_time": "2016-06-22T14:14:08.136309",
     "start_time": "2016-06-22T14:14:08.078462"
    },
    "collapsed": false
   },
   "outputs": [],
   "source": []
  },
  {
   "cell_type": "code",
   "execution_count": 7,
   "metadata": {
    "ExecuteTime": {
     "end_time": "2016-07-05T17:24:37.113210",
     "start_time": "2016-07-05T17:24:37.094543"
    },
    "collapsed": true
   },
   "outputs": [],
   "source": [
    "df_producto = pd.read_csv('input/producto_tabla.csv.gz', compression='gzip')\n",
    "df_townstate = pd.read_csv('input/town_state.csv.gz', compression='gzip')"
   ]
  },
  {
   "cell_type": "code",
   "execution_count": 8,
   "metadata": {
    "ExecuteTime": {
     "end_time": "2016-07-05T17:24:37.120628",
     "start_time": "2016-07-05T17:24:37.114195"
    },
    "collapsed": false
   },
   "outputs": [],
   "source": [
    "df_producto['short_names'] = df_producto.NombreProducto.str.extract('^(\\D*)')"
   ]
  },
  {
   "cell_type": "code",
   "execution_count": 9,
   "metadata": {
    "ExecuteTime": {
     "end_time": "2016-07-05T17:24:37.869066",
     "start_time": "2016-07-05T17:24:37.122193"
    },
    "collapsed": false
   },
   "outputs": [],
   "source": [
    "df_producto['short_names_processed'] = df_producto['short_names'].map(lambda x: \" \".join([i for i in x.lower().split() if i not in stopwords.words('spanish')]))"
   ]
  },
  {
   "cell_type": "code",
   "execution_count": 10,
   "metadata": {
    "ExecuteTime": {
     "end_time": "2016-07-05T17:24:37.874301",
     "start_time": "2016-07-05T17:24:37.871329"
    },
    "collapsed": false
   },
   "outputs": [
    {
     "name": "stdout",
     "output_type": "stream",
     "text": [
      "tortill\n"
     ]
    }
   ],
   "source": [
    "from nltk.stem.snowball import SnowballStemmer\n",
    "stemmer = SnowballStemmer(\"spanish\")\n",
    "print(stemmer.stem(\"Tortillas\"))"
   ]
  },
  {
   "cell_type": "code",
   "execution_count": 11,
   "metadata": {
    "ExecuteTime": {
     "end_time": "2016-07-05T17:24:38.055391",
     "start_time": "2016-07-05T17:24:37.875208"
    },
    "collapsed": false
   },
   "outputs": [],
   "source": [
    "df_producto['short_names_processed'] = (df_producto['short_names_processed']\n",
    "                                        .map(lambda x: \" \".join([stemmer.stem(i) for i in x.lower().split()])))\n",
    "\n"
   ]
  },
  {
   "cell_type": "code",
   "execution_count": 12,
   "metadata": {
    "ExecuteTime": {
     "end_time": "2016-07-05T17:24:38.062443",
     "start_time": "2016-07-05T17:24:38.056383"
    },
    "collapsed": false
   },
   "outputs": [],
   "source": [
    "df_aux_producto = df_producto['short_names_processed'].value_counts()[df_producto['short_names_processed'].value_counts() > 10].reset_index()"
   ]
  },
  {
   "cell_type": "code",
   "execution_count": 13,
   "metadata": {
    "ExecuteTime": {
     "end_time": "2016-07-05T17:24:38.067779",
     "start_time": "2016-07-05T17:24:38.063630"
    },
    "collapsed": false
   },
   "outputs": [],
   "source": [
    "df_producto = df_producto.ix[df_producto.short_names_processed.isin(df_aux_producto['index'])]"
   ]
  },
  {
   "cell_type": "code",
   "execution_count": 14,
   "metadata": {
    "ExecuteTime": {
     "end_time": "2016-07-05T17:24:38.191469",
     "start_time": "2016-07-05T17:24:38.069198"
    },
    "collapsed": false
   },
   "outputs": [],
   "source": [
    "df_producto['NombreProducto'] = df_producto['NombreProducto'].str.upper()\n",
    "df_producto['NombreProducto'] = df_producto.apply(lambda x :x['NombreProducto'].replace(str(x['Producto_ID']),'').strip(), axis=1 )\n",
    "df_producto = pd.DataFrame(df_producto.loc[1:])\n",
    "df_producto['fabricante'] = df_producto.NombreProducto.str.split(' ').str[-1]\n",
    "df_producto.ix[df_producto.fabricante == '1KG','fabricante'] = ''\n",
    "df_producto['NombreProducto'] = df_producto.apply(lambda x :x['NombreProducto'].replace(x['fabricante'],'').strip(), axis=1 )\n",
    "\n",
    "reg = '(\\d{1,4}G|\\d{1,4}KG|\\d{1,4}ML|\\d{1,4}\\ ML)'\n",
    "df_producto['volume'] = df_producto.NombreProducto.str.extract(reg)\n",
    "\n",
    "df_producto['NombreProducto'] = df_producto.apply(lambda x :x['NombreProducto'].replace(str(x['volume']),'').replace('  ',' ').strip(), axis=1 )\n",
    "\n",
    "reg = '(\\d{1,5}P)'\n",
    "df_producto['unidade'] = df_producto.NombreProducto.str.extract(reg)\n",
    "df_producto['NombreProducto'] = df_producto.NombreProducto.str.replace(reg, '').str.replace('  ',' ').str.strip()\n",
    "\n",
    "aux = pd.DataFrame({'Producto_ID':[0],'NombreProducto':['NO IDENTIFICADO']})\n",
    "df_producto = df_producto.append(aux)\n",
    "\n",
    "df_producto['unidade'] = df_producto.volume.str.extract('([A-Z])')\n",
    "df_producto['volume'] = df_producto.volume.str.replace('([A-Z])','')\n",
    "\n",
    "# df_producto"
   ]
  },
  {
   "cell_type": "code",
   "execution_count": 15,
   "metadata": {
    "ExecuteTime": {
     "end_time": "2016-07-05T17:24:38.198453",
     "start_time": "2016-07-05T17:24:38.192429"
    },
    "collapsed": false
   },
   "outputs": [],
   "source": [
    "df_townstate.ix[df_townstate.State.str.contains(\"ESTADO DE MÉXICO\"), 'State'] = 'MÉXICO, D.F.'\n",
    "df_townstate['Ag'] = df_townstate.Town.str.contains('AG.') * 1"
   ]
  },
  {
   "cell_type": "code",
   "execution_count": null,
   "metadata": {
    "ExecuteTime": {
     "end_time": "2016-07-05T16:53:11.575987",
     "start_time": "2016-07-05T16:53:11.570175"
    },
    "collapsed": false
   },
   "outputs": [],
   "source": []
  },
  {
   "cell_type": "code",
   "execution_count": 16,
   "metadata": {
    "ExecuteTime": {
     "end_time": "2016-07-05T17:24:38.205155",
     "start_time": "2016-07-05T17:24:38.199628"
    },
    "collapsed": false
   },
   "outputs": [],
   "source": [
    "def count_entregas(df, by):\n",
    "    df['entregas_'+by] = 1\n",
    "    aux = df.groupby([by]).agg({\"entregas_\"+by:np.size}).reset_index()\n",
    "    df.drop('entregas_'+by, axis=1, inplace=True)\n",
    "    return df.merge(aux, how='left', on=by)"
   ]
  },
  {
   "cell_type": "code",
   "execution_count": 17,
   "metadata": {
    "ExecuteTime": {
     "end_time": "2016-07-05T17:24:38.227787",
     "start_time": "2016-07-05T17:24:38.206595"
    },
    "collapsed": false
   },
   "outputs": [],
   "source": [
    "def process_df(df):\n",
    "    df = pd.DataFrame(df.ix[df.Demanda_uni_equil < 51])\n",
    "    df = df.merge(df_producto, how='left',on='Producto_ID')\n",
    "    df = df.merge(df_townstate[['Agencia_ID','Ag']], on='Agencia_ID')\n",
    "#     df = df.drop(['Agencia_ID','Dev_uni_proxima','Dev_proxima','Venta_hoy','Venta_uni_hoy'], axis=1)\n",
    "    df.volume = df.volume.fillna(0).astype('int')\n",
    "#     df_fabricante = df[['fabricante']]\n",
    "#     df_fabricante = df_fabricante.groupby('fabricante').count().reset_index()\n",
    "#     df_fabricante['index_fabricante'] = df_fabricante.index\n",
    "#     df = df.merge(df_fabricante, on='fabricante')\n",
    "    df.shape\n",
    "    df = df.ix[df.volume<500]\n",
    "    \n",
    "    df = df.ix[df.Demanda_uni_equil<20]\n",
    "    \n",
    "    df = df.ix[df.Producto_ID != 0]\n",
    "    \n",
    "    \n",
    "    df = count_entregas(df, 'Producto_ID')\n",
    "#     df = count_entregas(df, 'short_names_processed')\n",
    "#     df = count_entregas(df, 'Cliente_ID')\n",
    "#     df = count_entregas(df, 'fabricante')\n",
    "#     df = count_entregas(df, 'Agencia_ID')\n",
    "#     df = count_entregas(df, 'Canal_ID')\n",
    "#     df = count_entregas(df, 'Ruta_SAK')  \n",
    "\n",
    "    df['Cliente_ID'] = df['Cliente_ID'].astype('str')\n",
    "    df['Agencia_ID'] = df['Agencia_ID'].astype('str')\n",
    "    df['Canal_ID'] = df['Canal_ID'].astype('str')\n",
    "    df['Ruta_SAK'] = df['Ruta_SAK'].astype('str')\n",
    "    \n",
    "    df.ix[df['volume']==0,'volume'] = df['volume'].median()\n",
    "#     df.ix[df['entregas_fabricante'].isnull(),'entregas_fabricante'] = df['entregas_fabricante'].median()\n",
    "#     df.ix[df['entregas_short_names_processed'].isnull(),'entregas_short_names_processed'] = df['entregas_short_names_processed'].median()\n",
    "    \n",
    "    aux = df[cols+['Demanda_uni_equil']].drop_duplicates()\n",
    "        \n",
    "    y = aux['Demanda_uni_equil'].values\n",
    "    x = pd.get_dummies(aux[cols]).values\n",
    "    return x, y, df"
   ]
  },
  {
   "cell_type": "code",
   "execution_count": null,
   "metadata": {
    "ExecuteTime": {
     "end_time": "2016-06-22T16:16:27.614047",
     "start_time": "2016-06-22T16:16:27.534091"
    },
    "collapsed": false
   },
   "outputs": [],
   "source": []
  },
  {
   "cell_type": "code",
   "execution_count": 18,
   "metadata": {
    "ExecuteTime": {
     "end_time": "2016-07-05T17:24:38.232566",
     "start_time": "2016-07-05T17:24:38.229473"
    },
    "collapsed": false
   },
   "outputs": [],
   "source": [
    "# df_process['fabricante'].value_counts()"
   ]
  },
  {
   "cell_type": "code",
   "execution_count": 19,
   "metadata": {
    "ExecuteTime": {
     "end_time": "2016-07-05T17:24:38.237632",
     "start_time": "2016-07-05T17:24:38.233730"
    },
    "collapsed": false
   },
   "outputs": [],
   "source": [
    "cols = [\n",
    "    'volume',\n",
    "    'entregas_Producto_ID',\n",
    "    'Cliente_ID',\n",
    "#     'entregas_fabricante',\n",
    "    'Agencia_ID',\n",
    "    'Ruta_SAK',\n",
    "    'Canal_ID',\n",
    "    'short_names_processed',\n",
    "#     'fabricante',\n",
    "]"
   ]
  },
  {
   "cell_type": "code",
   "execution_count": null,
   "metadata": {
    "ExecuteTime": {
     "end_time": "2016-06-22T15:20:44.559930",
     "start_time": "2016-06-22T15:20:44.521594"
    },
    "collapsed": false
   },
   "outputs": [],
   "source": []
  },
  {
   "cell_type": "code",
   "execution_count": 20,
   "metadata": {
    "ExecuteTime": {
     "end_time": "2016-07-05T17:24:38.241777",
     "start_time": "2016-07-05T17:24:38.238913"
    },
    "collapsed": false
   },
   "outputs": [],
   "source": [
    "# df_process.columns"
   ]
  },
  {
   "cell_type": "code",
   "execution_count": null,
   "metadata": {
    "collapsed": true
   },
   "outputs": [],
   "source": []
  },
  {
   "cell_type": "code",
   "execution_count": 21,
   "metadata": {
    "ExecuteTime": {
     "end_time": "2016-07-05T17:24:38.271110",
     "start_time": "2016-07-05T17:24:38.242969"
    },
    "collapsed": true
   },
   "outputs": [],
   "source": [
    "from sklearn.ensemble import RandomForestRegressor, ExtraTreesRegressor, GradientBoostingRegressor\n",
    "from sklearn.cross_validation import StratifiedKFold, cross_val_score, train_test_split\n",
    "from sklearn.metrics import mean_squared_error"
   ]
  },
  {
   "cell_type": "code",
   "execution_count": 22,
   "metadata": {
    "ExecuteTime": {
     "end_time": "2016-07-05T17:24:38.276886",
     "start_time": "2016-07-05T17:24:38.272167"
    },
    "collapsed": false
   },
   "outputs": [],
   "source": [
    "# rf = ExtraTreesRegressor(n_estimators=50, max_features=1.0,min_samples_split=3,n_jobs=4)\n",
    "\n",
    "rf = ExtraTreesRegressor(n_jobs=4)\n",
    "\n",
    "def train(x, y):\n",
    "    x_train, x_test, y_train, y_test = train_test_split(x, y, test_size=0.2, random_state=1729)\n",
    "    rf.fit(x_train, y_train)\n",
    "    y_pred = rf.predict(x_test)\n",
    "    print(mean_squared_error(y_test, y_pred))\n",
    "        "
   ]
  },
  {
   "cell_type": "code",
   "execution_count": 23,
   "metadata": {
    "ExecuteTime": {
     "end_time": "2016-07-05T17:24:38.280726",
     "start_time": "2016-07-05T17:24:38.278324"
    },
    "collapsed": false
   },
   "outputs": [],
   "source": [
    "# print(mean_squared_error(y[train], y_pred))"
   ]
  },
  {
   "cell_type": "code",
   "execution_count": null,
   "metadata": {
    "ExecuteTime": {
     "end_time": "2016-06-22T15:59:20.975122",
     "start_time": "2016-06-22T15:59:20.875484"
    },
    "collapsed": false
   },
   "outputs": [],
   "source": []
  },
  {
   "cell_type": "code",
   "execution_count": null,
   "metadata": {
    "ExecuteTime": {
     "start_time": "2016-07-05T20:24:04.184Z"
    },
    "collapsed": false
   },
   "outputs": [],
   "source": [
    "# df_process"
   ]
  },
  {
   "cell_type": "code",
   "execution_count": null,
   "metadata": {
    "ExecuteTime": {
     "start_time": "2016-07-05T20:24:05.851Z"
    },
    "collapsed": false
   },
   "outputs": [],
   "source": [
    "for df in pd.read_csv('input/train_week3.csv', chunksize=1e5):\n",
    "    x,y,df_process = process_df(df)\n",
    "    train(x,y)"
   ]
  },
  {
   "cell_type": "code",
   "execution_count": null,
   "metadata": {
    "ExecuteTime": {
     "end_time": "2016-07-05T17:23:52.856782",
     "start_time": "2016-07-05T20:23:38.876Z"
    },
    "collapsed": false
   },
   "outputs": [],
   "source": [
    "12.33"
   ]
  },
  {
   "cell_type": "code",
   "execution_count": null,
   "metadata": {
    "ExecuteTime": {
     "end_time": "2016-07-05T17:23:52.857057",
     "start_time": "2016-07-05T20:23:39.510Z"
    },
    "collapsed": false
   },
   "outputs": [],
   "source": [
    "# df_process['short_names_processed']"
   ]
  },
  {
   "cell_type": "code",
   "execution_count": null,
   "metadata": {
    "ExecuteTime": {
     "end_time": "2016-07-05T17:22:12.424024",
     "start_time": "2016-07-05T17:22:12.341279"
    },
    "collapsed": false
   },
   "outputs": [],
   "source": [
    "# pd.get_dummies(df_process[0:100][cols])"
   ]
  },
  {
   "cell_type": "code",
   "execution_count": null,
   "metadata": {
    "ExecuteTime": {
     "end_time": "2016-06-22T16:38:30.797372",
     "start_time": "2016-06-22T16:38:09.601566"
    },
    "collapsed": false
   },
   "outputs": [],
   "source": [
    "a = pd.get_dummies(df_process[cols])"
   ]
  },
  {
   "cell_type": "code",
   "execution_count": null,
   "metadata": {
    "ExecuteTime": {
     "end_time": "2016-06-22T16:40:21.354026",
     "start_time": "2016-06-22T16:40:20.844888"
    },
    "collapsed": false
   },
   "outputs": [],
   "source": [
    "rf.feature_importances_.shape"
   ]
  },
  {
   "cell_type": "code",
   "execution_count": null,
   "metadata": {
    "ExecuteTime": {
     "end_time": "2016-06-22T16:38:32.733971",
     "start_time": "2016-06-22T19:38:14.374Z"
    },
    "collapsed": false
   },
   "outputs": [],
   "source": [
    "a.columns"
   ]
  },
  {
   "cell_type": "code",
   "execution_count": null,
   "metadata": {
    "ExecuteTime": {
     "end_time": "2016-06-22T16:38:52.033139",
     "start_time": "2016-06-22T16:38:51.523826"
    },
    "collapsed": false
   },
   "outputs": [],
   "source": []
  },
  {
   "cell_type": "code",
   "execution_count": null,
   "metadata": {
    "ExecuteTime": {
     "end_time": "2016-06-22T16:38:55.304753",
     "start_time": "2016-06-22T16:38:54.488452"
    },
    "collapsed": false
   },
   "outputs": [],
   "source": [
    "plt.bar(range(0,18), height=rf.feature_importances_)"
   ]
  },
  {
   "cell_type": "code",
   "execution_count": null,
   "metadata": {
    "ExecuteTime": {
     "end_time": "2016-06-22T16:48:28.775598",
     "start_time": "2016-06-22T16:48:28.604559"
    },
    "collapsed": false
   },
   "outputs": [],
   "source": [
    "f = plt.subplots()\n",
    "i = 444\n",
    "for v in x.T:\n",
    "    i+=1\n",
    "    f.hist(v)"
   ]
  },
  {
   "cell_type": "code",
   "execution_count": null,
   "metadata": {
    "ExecuteTime": {
     "end_time": "2016-06-22T16:41:11.071953",
     "start_time": "2016-06-22T16:41:10.845778"
    },
    "collapsed": false
   },
   "outputs": [],
   "source": []
  },
  {
   "cell_type": "code",
   "execution_count": null,
   "metadata": {
    "ExecuteTime": {
     "end_time": "2016-06-22T16:35:46.831672",
     "start_time": "2016-06-22T19:28:21.110Z"
    },
    "collapsed": false
   },
   "outputs": [],
   "source": [
    "df.columns"
   ]
  },
  {
   "cell_type": "code",
   "execution_count": null,
   "metadata": {
    "ExecuteTime": {
     "end_time": "2016-06-22T15:03:32.549718",
     "start_time": "2016-06-22T15:03:32.543490"
    },
    "collapsed": true
   },
   "outputs": [],
   "source": []
  },
  {
   "cell_type": "code",
   "execution_count": null,
   "metadata": {
    "ExecuteTime": {
     "end_time": "2016-06-22T16:35:46.831936",
     "start_time": "2016-06-22T19:28:21.113Z"
    },
    "collapsed": false
   },
   "outputs": [],
   "source": [
    "count_entregas(df, 'Agencia_ID')"
   ]
  },
  {
   "cell_type": "code",
   "execution_count": null,
   "metadata": {
    "collapsed": true
   },
   "outputs": [],
   "source": []
  }
 ],
 "metadata": {
  "kernelspec": {
   "display_name": "Python 3",
   "language": "python",
   "name": "python3"
  },
  "language_info": {
   "codemirror_mode": {
    "name": "ipython",
    "version": 3
   },
   "file_extension": ".py",
   "mimetype": "text/x-python",
   "name": "python",
   "nbconvert_exporter": "python",
   "pygments_lexer": "ipython3",
   "version": "3.4.3"
  }
 },
 "nbformat": 4,
 "nbformat_minor": 0
}
