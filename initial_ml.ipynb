{
 "cells": [
  {
   "cell_type": "code",
   "execution_count": 1,
   "metadata": {
    "ExecuteTime": {
     "end_time": "2016-07-07T18:20:27.801139",
     "start_time": "2016-07-07T18:20:27.065772"
    },
    "collapsed": false
   },
   "outputs": [],
   "source": [
    "import pandas as pd\n",
    "import numpy as np\n",
    "import matplotlib.pyplot as plt\n",
    "%matplotlib inline"
   ]
  },
  {
   "cell_type": "code",
   "execution_count": 2,
   "metadata": {
    "ExecuteTime": {
     "end_time": "2016-07-07T18:20:28.610722",
     "start_time": "2016-07-07T18:20:27.802138"
    },
    "collapsed": true
   },
   "outputs": [],
   "source": [
    "from nltk.corpus import stopwords"
   ]
  },
  {
   "cell_type": "code",
   "execution_count": 3,
   "metadata": {
    "ExecuteTime": {
     "end_time": "2016-07-07T18:20:28.619474",
     "start_time": "2016-07-07T18:20:28.611747"
    },
    "collapsed": false
   },
   "outputs": [],
   "source": [
    "stop_words = stopwords.words('spanish')"
   ]
  },
  {
   "cell_type": "code",
   "execution_count": null,
   "metadata": {
    "ExecuteTime": {
     "end_time": "2016-06-21T17:49:11.459282",
     "start_time": "2016-06-21T17:49:11.449341"
    },
    "collapsed": false
   },
   "outputs": [],
   "source": []
  },
  {
   "cell_type": "code",
   "execution_count": 4,
   "metadata": {
    "ExecuteTime": {
     "end_time": "2016-07-07T18:20:28.622351",
     "start_time": "2016-07-07T18:20:28.620442"
    },
    "collapsed": true
   },
   "outputs": [],
   "source": [
    "pd.options.display.max_rows = 30"
   ]
  },
  {
   "cell_type": "code",
   "execution_count": null,
   "metadata": {
    "ExecuteTime": {
     "end_time": "2016-06-22T14:14:08.136309",
     "start_time": "2016-06-22T14:14:08.078462"
    },
    "collapsed": false
   },
   "outputs": [],
   "source": []
  },
  {
   "cell_type": "code",
   "execution_count": 5,
   "metadata": {
    "ExecuteTime": {
     "end_time": "2016-07-07T18:20:28.644127",
     "start_time": "2016-07-07T18:20:28.623447"
    },
    "collapsed": true
   },
   "outputs": [],
   "source": [
    "df_producto = pd.read_csv('input/producto_tabla.csv.gz', compression='gzip')\n",
    "df_townstate = pd.read_csv('input/town_state.csv.gz', compression='gzip')\n",
    "df_townstate['bimbo'] = df_townstate.Town.str.contains('BIMBO') * 1\n",
    "df_townstate['ag'] = df_townstate.Town.str.contains('AG.') * 1"
   ]
  },
  {
   "cell_type": "code",
   "execution_count": 6,
   "metadata": {
    "ExecuteTime": {
     "end_time": "2016-07-07T18:20:28.657583",
     "start_time": "2016-07-07T18:20:28.645140"
    },
    "collapsed": false
   },
   "outputs": [],
   "source": [
    "df_producto['short_names'] = df_producto.NombreProducto.str.extract('^(\\D*)')"
   ]
  },
  {
   "cell_type": "code",
   "execution_count": 7,
   "metadata": {
    "ExecuteTime": {
     "end_time": "2016-07-07T18:20:29.425153",
     "start_time": "2016-07-07T18:20:28.658843"
    },
    "collapsed": false
   },
   "outputs": [],
   "source": [
    "df_producto['short_names_processed'] = df_producto['short_names'].map(lambda x: \" \".join([i for i in x.lower().split() if i not in stopwords.words('spanish')]))"
   ]
  },
  {
   "cell_type": "code",
   "execution_count": 8,
   "metadata": {
    "ExecuteTime": {
     "end_time": "2016-07-07T18:20:29.428848",
     "start_time": "2016-07-07T18:20:29.426172"
    },
    "collapsed": false
   },
   "outputs": [
    {
     "name": "stdout",
     "output_type": "stream",
     "text": [
      "tortill\n"
     ]
    }
   ],
   "source": [
    "from nltk.stem.snowball import SnowballStemmer\n",
    "stemmer = SnowballStemmer(\"spanish\")\n",
    "print(stemmer.stem(\"Tortillas\"))"
   ]
  },
  {
   "cell_type": "code",
   "execution_count": 9,
   "metadata": {
    "ExecuteTime": {
     "end_time": "2016-07-07T18:20:29.614244",
     "start_time": "2016-07-07T18:20:29.429763"
    },
    "collapsed": false
   },
   "outputs": [],
   "source": [
    "df_producto['short_names_processed'] = (df_producto['short_names_processed']\n",
    "                                        .map(lambda x: \" \".join([stemmer.stem(i) for i in x.lower().split()])))\n",
    "\n"
   ]
  },
  {
   "cell_type": "code",
   "execution_count": 10,
   "metadata": {
    "ExecuteTime": {
     "end_time": "2016-07-07T18:20:29.621668",
     "start_time": "2016-07-07T18:20:29.615232"
    },
    "collapsed": false
   },
   "outputs": [],
   "source": [
    "df_aux_producto = df_producto['short_names_processed'].value_counts()[df_producto['short_names_processed'].value_counts() > 10].reset_index()"
   ]
  },
  {
   "cell_type": "code",
   "execution_count": 11,
   "metadata": {
    "ExecuteTime": {
     "end_time": "2016-07-07T18:20:29.632942",
     "start_time": "2016-07-07T18:20:29.622761"
    },
    "collapsed": false
   },
   "outputs": [],
   "source": [
    "df_producto['flavor_choc'] = df_producto.short_names_processed.str.contains('choc') * 1\n",
    "df_producto['flavor_vainill'] = df_producto.short_names_processed.str.contains('vainill') * 1\n",
    "df_producto['flavor_canel'] = df_producto.short_names_processed.str.contains('canel') * 1"
   ]
  },
  {
   "cell_type": "code",
   "execution_count": 12,
   "metadata": {
    "ExecuteTime": {
     "end_time": "2016-07-07T18:20:29.875569",
     "start_time": "2016-07-07T18:20:29.634033"
    },
    "collapsed": false
   },
   "outputs": [],
   "source": [
    "df_producto['NombreProducto'] = df_producto['NombreProducto'].str.upper()\n",
    "df_producto['NombreProducto'] = df_producto.apply(lambda x :x['NombreProducto'].replace(str(x['Producto_ID']),'').strip(), axis=1 )\n",
    "df_producto = pd.DataFrame(df_producto.loc[1:])\n",
    "df_producto['fabricante'] = df_producto.NombreProducto.str.split(' ').str[-1]\n",
    "df_producto.ix[df_producto.fabricante == '1KG','fabricante'] = ''\n",
    "df_producto['NombreProducto'] = df_producto.apply(lambda x :x['NombreProducto'].replace(x['fabricante'],'').strip(), axis=1 )\n",
    "\n",
    "reg = '(\\d{1,4}G|\\d{1,4}KG|\\d{1,4}ML|\\d{1,4}\\ ML)'\n",
    "df_producto['volume'] = df_producto.NombreProducto.str.extract(reg)\n",
    "\n",
    "df_producto['NombreProducto'] = df_producto.apply(lambda x :x['NombreProducto'].replace(str(x['volume']),'').replace('  ',' ').strip(), axis=1 )\n",
    "\n",
    "reg = '(\\d{1,5}P)'\n",
    "df_producto['unidade'] = df_producto.NombreProducto.str.extract(reg)\n",
    "df_producto['NombreProducto'] = df_producto.NombreProducto.str.replace(reg, '').str.replace('  ',' ').str.strip()\n",
    "\n",
    "aux = pd.DataFrame({'Producto_ID':[0],'NombreProducto':['NO IDENTIFICADO']})\n",
    "df_producto = df_producto.append(aux)\n",
    "\n",
    "df_producto['unidade'] = df_producto.volume.str.extract('([A-Z])')\n",
    "df_producto['volume'] = df_producto.volume.str.replace('([A-Z])','')\n",
    "\n",
    "# df_producto"
   ]
  },
  {
   "cell_type": "code",
   "execution_count": null,
   "metadata": {
    "ExecuteTime": {
     "end_time": "2016-07-07T14:57:14.302429",
     "start_time": "2016-07-07T14:57:14.296441"
    },
    "collapsed": false
   },
   "outputs": [],
   "source": []
  },
  {
   "cell_type": "code",
   "execution_count": null,
   "metadata": {
    "collapsed": true
   },
   "outputs": [],
   "source": []
  },
  {
   "cell_type": "code",
   "execution_count": null,
   "metadata": {
    "collapsed": true
   },
   "outputs": [],
   "source": []
  },
  {
   "cell_type": "code",
   "execution_count": 13,
   "metadata": {
    "ExecuteTime": {
     "end_time": "2016-07-07T18:20:39.821427",
     "start_time": "2016-07-07T18:20:29.876554"
    },
    "collapsed": true
   },
   "outputs": [],
   "source": [
    "df_week = pd.read_csv('input/train_week3.csv')"
   ]
  },
  {
   "cell_type": "code",
   "execution_count": 14,
   "metadata": {
    "ExecuteTime": {
     "end_time": "2016-07-07T18:20:39.824047",
     "start_time": "2016-07-07T18:20:39.822443"
    },
    "collapsed": false
   },
   "outputs": [],
   "source": [
    "# df_week.Venta_uni_hoy.hist(range=(0,300), bins=50)"
   ]
  },
  {
   "cell_type": "code",
   "execution_count": null,
   "metadata": {
    "ExecuteTime": {
     "end_time": "2016-07-07T16:50:17.277270",
     "start_time": "2016-07-07T16:50:17.190172"
    },
    "collapsed": false
   },
   "outputs": [],
   "source": []
  },
  {
   "cell_type": "code",
   "execution_count": 15,
   "metadata": {
    "ExecuteTime": {
     "end_time": "2016-07-07T18:20:40.440858",
     "start_time": "2016-07-07T18:20:39.824920"
    },
    "collapsed": false
   },
   "outputs": [],
   "source": [
    "gb = df_week[['Producto_ID','Venta_hoy']].groupby(['Producto_ID']).median().reset_index()\n",
    "gb[gb['Venta_hoy'] == gb['Venta_hoy'].max()]\n",
    "aux = df_producto.merge(gb, how='left', on='Producto_ID')\n",
    "aux.ix[aux['Venta_hoy'].isnull(),'Venta_hoy'] = 0\n",
    "df_producto = aux"
   ]
  },
  {
   "cell_type": "code",
   "execution_count": 16,
   "metadata": {
    "ExecuteTime": {
     "end_time": "2016-07-07T18:20:41.060973",
     "start_time": "2016-07-07T18:20:40.441884"
    },
    "collapsed": false
   },
   "outputs": [],
   "source": [
    "gb = df_week[['Producto_ID','Venta_uni_hoy']].groupby(['Producto_ID']).median().reset_index()\n",
    "gb[gb['Venta_uni_hoy'] == gb['Venta_uni_hoy'].max()]\n",
    "aux = df_producto.merge(gb, how='left', on='Producto_ID')\n",
    "aux.ix[aux['Venta_uni_hoy'].isnull(),'Venta_uni_hoy'] = 0\n",
    "df_producto = aux"
   ]
  },
  {
   "cell_type": "code",
   "execution_count": 17,
   "metadata": {
    "ExecuteTime": {
     "end_time": "2016-07-07T18:20:41.613568",
     "start_time": "2016-07-07T18:20:41.061999"
    },
    "collapsed": false
   },
   "outputs": [],
   "source": [
    "gb = df_week[['Producto_ID','Dev_uni_proxima']].groupby(['Producto_ID']).median().reset_index()\n",
    "gb[gb['Dev_uni_proxima'] == gb['Dev_uni_proxima'].max()]\n",
    "aux = df_producto.merge(gb, how='left', on='Producto_ID')\n",
    "aux.ix[aux['Dev_uni_proxima'].isnull(),'Dev_uni_proxima'] = 0\n",
    "df_producto = aux"
   ]
  },
  {
   "cell_type": "code",
   "execution_count": null,
   "metadata": {
    "ExecuteTime": {
     "end_time": "2016-07-06T17:53:34.147673",
     "start_time": "2016-07-06T17:53:33.697402"
    },
    "collapsed": false
   },
   "outputs": [],
   "source": []
  },
  {
   "cell_type": "code",
   "execution_count": null,
   "metadata": {
    "ExecuteTime": {
     "end_time": "2016-07-06T17:53:20.374180",
     "start_time": "2016-07-06T17:53:20.369053"
    },
    "collapsed": false
   },
   "outputs": [],
   "source": []
  },
  {
   "cell_type": "code",
   "execution_count": null,
   "metadata": {
    "collapsed": true
   },
   "outputs": [],
   "source": []
  },
  {
   "cell_type": "code",
   "execution_count": null,
   "metadata": {
    "ExecuteTime": {
     "end_time": "2016-07-05T16:53:11.575987",
     "start_time": "2016-07-05T16:53:11.570175"
    },
    "collapsed": false
   },
   "outputs": [],
   "source": []
  },
  {
   "cell_type": "code",
   "execution_count": 18,
   "metadata": {
    "ExecuteTime": {
     "end_time": "2016-07-07T18:20:41.617870",
     "start_time": "2016-07-07T18:20:41.614583"
    },
    "collapsed": false
   },
   "outputs": [],
   "source": [
    "def count_entregas(df, by):\n",
    "    df['entregas_'+by] = 1\n",
    "    aux = df.groupby([by]).agg({\"entregas_\"+by:np.size}).reset_index()\n",
    "    df.drop('entregas_'+by, axis=1, inplace=True)\n",
    "    return df.merge(aux, how='left', on=by)"
   ]
  },
  {
   "cell_type": "code",
   "execution_count": 19,
   "metadata": {
    "ExecuteTime": {
     "end_time": "2016-07-07T18:20:41.626037",
     "start_time": "2016-07-07T18:20:41.618888"
    },
    "collapsed": true
   },
   "outputs": [],
   "source": [
    "def binarize(df, field, length, step):\n",
    "    df[field+'_bin']=''\n",
    "    df[field] = df[field].astype(float)\n",
    "    for x in range(step, length, step):\n",
    "        a = df[field] > x - step\n",
    "        b = df[field] <= x\n",
    "        f = a & b\n",
    "        value = '%s-%s' % (x-step, x)\n",
    "        df.ix[f, field+'_bin'] = value\n",
    "    print(field+'_bin')\n",
    "    return df"
   ]
  },
  {
   "cell_type": "code",
   "execution_count": 46,
   "metadata": {
    "ExecuteTime": {
     "end_time": "2016-07-07T18:42:11.657410",
     "start_time": "2016-07-07T18:42:11.600738"
    },
    "collapsed": false
   },
   "outputs": [],
   "source": [
    "def process_df(df, test=False):\n",
    "    df = df.drop(['Venta_uni_hoy','Venta_hoy','Dev_uni_proxima'], axis=1)\n",
    "    \n",
    "    df = df.ix[df.Producto_ID != 0]\n",
    "    if not test:\n",
    "        df = df.ix[df.Demanda_uni_equil<20]\n",
    "        \n",
    "    df = df.merge(df_producto[['flavor_choc', 'flavor_vainill', 'flavor_canel','volume', 'fabricante','Producto_ID','Venta_uni_hoy','Venta_hoy','Dev_uni_proxima']], how='left',on='Producto_ID')\n",
    "    df = df.merge(df_townstate[['Agencia_ID','ag','bimbo','State']], on='Agencia_ID')\n",
    "    df.volume = df.volume.fillna(0).astype('int')\n",
    "\n",
    "    route_count = df[['Cliente_ID','Ruta_SAK']].groupby(['Cliente_ID']).count().reset_index()\n",
    "    route_count.columns = ['Cliente_ID','route_client']\n",
    "    route_count = route_count.ix[route_count['route_client'] <= 60]\n",
    "    df = df.merge(route_count, how='left', on='Cliente_ID')\n",
    "    df = df.ix[~df['route_client'].isnull()]\n",
    "    \n",
    "    df = df.ix[df.volume<500]\n",
    "        \n",
    "    df['Cliente_ID'] = df['Cliente_ID'].astype('str')\n",
    "    df['Agencia_ID'] = df['Agencia_ID'].astype('str')\n",
    "    df['Canal_ID'] = df['Canal_ID'].astype('str')\n",
    "    df['Ruta_SAK'] = df['Ruta_SAK'].astype('str')\n",
    "        \n",
    "    f = (df['volume'] < 600)\n",
    "    df = pd.DataFrame(df.ix[f])\n",
    "    df = binarize(df, 'volume', 600, 60)\n",
    "    \n",
    "    f = (df['Venta_hoy'] < 100)\n",
    "    df = pd.DataFrame(df.ix[f])\n",
    "    df = binarize(df, 'Venta_hoy', 100, 10)\n",
    "\n",
    "    f = (df['Venta_uni_hoy'] < 10)\n",
    "    df = pd.DataFrame(df.ix[f])\n",
    "    df = binarize(df, 'Venta_uni_hoy', 10, 2)\n",
    "    \n",
    "    a = df['Venta_uni_hoy_bin'] == ''\n",
    "    b = df['Venta_hoy_bin'] == ''\n",
    "    c = df['volume_bin'] == ''\n",
    "    df = df.ix[~a & ~b & ~c]\n",
    "    \n",
    "    if test:\n",
    "        df = df[cols]\n",
    "    else:\n",
    "        df = df[cols+['Demanda_uni_equil']].drop_duplicates()\n",
    "        \n",
    "#     y = df['Demanda_uni_equil'].values\n",
    "#     x = pd.get_dummies(aux[cols]).values\n",
    "#   x = pd.get_dummies(aux[cols]).values\n",
    "    return df"
   ]
  },
  {
   "cell_type": "code",
   "execution_count": null,
   "metadata": {
    "ExecuteTime": {
     "end_time": "2016-07-07T15:42:08.249219",
     "start_time": "2016-07-07T15:42:08.238332"
    },
    "collapsed": true
   },
   "outputs": [],
   "source": []
  },
  {
   "cell_type": "code",
   "execution_count": null,
   "metadata": {
    "ExecuteTime": {
     "end_time": "2016-07-07T15:42:09.234800",
     "start_time": "2016-07-07T15:42:08.876630"
    },
    "collapsed": false
   },
   "outputs": [],
   "source": []
  },
  {
   "cell_type": "code",
   "execution_count": null,
   "metadata": {
    "ExecuteTime": {
     "end_time": "2016-06-22T16:16:27.614047",
     "start_time": "2016-06-22T16:16:27.534091"
    },
    "collapsed": false
   },
   "outputs": [],
   "source": []
  },
  {
   "cell_type": "code",
   "execution_count": 21,
   "metadata": {
    "ExecuteTime": {
     "end_time": "2016-07-07T18:20:41.670461",
     "start_time": "2016-07-07T18:20:41.665904"
    },
    "collapsed": false
   },
   "outputs": [],
   "source": [
    "# df_process['fabricante'].value_counts()"
   ]
  },
  {
   "cell_type": "code",
   "execution_count": 22,
   "metadata": {
    "ExecuteTime": {
     "end_time": "2016-07-07T18:20:41.675872",
     "start_time": "2016-07-07T18:20:41.671395"
    },
    "collapsed": false
   },
   "outputs": [],
   "source": [
    "cols = [\n",
    "#     'volume',\n",
    "#     'entregas_Producto_ID',\n",
    "#     'Cliente_ID',\n",
    "#     'entregas_fabricante',\n",
    "#     'Agencia_ID',\n",
    "    'route_client',\n",
    "#     'Canal_ID',\n",
    "    'fabricante',\n",
    "    'Venta_uni_hoy_bin',\n",
    "    'Venta_hoy_bin',\n",
    "#     'short_names_processed',\n",
    "    'State',\n",
    "    'volume_bin',\n",
    "    'ag',\n",
    "    'bimbo',\n",
    "    'flavor_choc',\n",
    "    'flavor_vainill',\n",
    "    'flavor_canel',\n",
    "]"
   ]
  },
  {
   "cell_type": "code",
   "execution_count": null,
   "metadata": {
    "ExecuteTime": {
     "end_time": "2016-07-07T16:44:11.734419",
     "start_time": "2016-07-07T16:44:11.728847"
    },
    "collapsed": false
   },
   "outputs": [],
   "source": []
  },
  {
   "cell_type": "code",
   "execution_count": 23,
   "metadata": {
    "ExecuteTime": {
     "end_time": "2016-07-07T18:20:41.679992",
     "start_time": "2016-07-07T18:20:41.676821"
    },
    "collapsed": false
   },
   "outputs": [],
   "source": [
    "# aux = df_week.merge(df_townstate, how='left', on='Agencia_ID' )"
   ]
  },
  {
   "cell_type": "code",
   "execution_count": 24,
   "metadata": {
    "ExecuteTime": {
     "end_time": "2016-07-07T18:20:41.682805",
     "start_time": "2016-07-07T18:20:41.680890"
    },
    "collapsed": true
   },
   "outputs": [],
   "source": [
    "# aux = df_week.merge(df_producto, how='left', on='Producto_ID' )"
   ]
  },
  {
   "cell_type": "code",
   "execution_count": 25,
   "metadata": {
    "ExecuteTime": {
     "end_time": "2016-07-07T18:20:41.685929",
     "start_time": "2016-07-07T18:20:41.683699"
    },
    "collapsed": false
   },
   "outputs": [],
   "source": [
    "# aux.State.value_counts().plot(kind='bar')"
   ]
  },
  {
   "cell_type": "code",
   "execution_count": 26,
   "metadata": {
    "ExecuteTime": {
     "end_time": "2016-07-07T18:20:41.691120",
     "start_time": "2016-07-07T18:20:41.686824"
    },
    "collapsed": false
   },
   "outputs": [],
   "source": [
    "# list(aux.short_names_processed.unique())"
   ]
  },
  {
   "cell_type": "code",
   "execution_count": null,
   "metadata": {
    "ExecuteTime": {
     "end_time": "2016-07-07T17:46:49.280118",
     "start_time": "2016-07-07T17:46:48.525813"
    },
    "collapsed": false
   },
   "outputs": [],
   "source": []
  },
  {
   "cell_type": "code",
   "execution_count": 27,
   "metadata": {
    "ExecuteTime": {
     "end_time": "2016-07-07T18:20:41.693923",
     "start_time": "2016-07-07T18:20:41.692070"
    },
    "collapsed": false
   },
   "outputs": [],
   "source": [
    "# aux = df_week.merge(df_townstate, how='left', on='Agencia_ID')"
   ]
  },
  {
   "cell_type": "code",
   "execution_count": null,
   "metadata": {
    "ExecuteTime": {
     "end_time": "2016-07-07T18:00:54.202572",
     "start_time": "2016-07-07T18:00:53.703142"
    },
    "collapsed": false
   },
   "outputs": [],
   "source": []
  },
  {
   "cell_type": "code",
   "execution_count": 28,
   "metadata": {
    "ExecuteTime": {
     "end_time": "2016-07-07T18:20:41.698207",
     "start_time": "2016-07-07T18:20:41.694820"
    },
    "collapsed": false
   },
   "outputs": [],
   "source": [
    "# aux[['Cliente_ID','Ruta_SAK']].groupby(['Cliente_ID']).count()['Ruta_SAK'].hist(range=(0,60))"
   ]
  },
  {
   "cell_type": "code",
   "execution_count": 29,
   "metadata": {
    "ExecuteTime": {
     "end_time": "2016-07-07T18:20:41.702837",
     "start_time": "2016-07-07T18:20:41.699401"
    },
    "collapsed": false
   },
   "outputs": [],
   "source": [
    "# aux.Cliente_ID.unique()[0]"
   ]
  },
  {
   "cell_type": "code",
   "execution_count": 30,
   "metadata": {
    "ExecuteTime": {
     "end_time": "2016-07-07T18:20:41.705916",
     "start_time": "2016-07-07T18:20:41.703778"
    },
    "collapsed": false
   },
   "outputs": [],
   "source": [
    "# df"
   ]
  },
  {
   "cell_type": "code",
   "execution_count": null,
   "metadata": {
    "ExecuteTime": {
     "end_time": "2016-07-07T18:15:08.278042",
     "start_time": "2016-07-07T18:15:08.245886"
    },
    "collapsed": false
   },
   "outputs": [],
   "source": []
  },
  {
   "cell_type": "code",
   "execution_count": 31,
   "metadata": {
    "ExecuteTime": {
     "end_time": "2016-07-07T18:20:41.709667",
     "start_time": "2016-07-07T18:20:41.706842"
    },
    "collapsed": false
   },
   "outputs": [],
   "source": [
    "# aux.shape"
   ]
  },
  {
   "cell_type": "code",
   "execution_count": 32,
   "metadata": {
    "ExecuteTime": {
     "end_time": "2016-07-07T18:20:41.713233",
     "start_time": "2016-07-07T18:20:41.710599"
    },
    "collapsed": false
   },
   "outputs": [],
   "source": [
    "# enc._n_values"
   ]
  },
  {
   "cell_type": "code",
   "execution_count": 33,
   "metadata": {
    "ExecuteTime": {
     "end_time": "2016-07-07T18:20:41.742725",
     "start_time": "2016-07-07T18:20:41.714149"
    },
    "collapsed": true
   },
   "outputs": [],
   "source": [
    "from sklearn.ensemble import RandomForestRegressor, ExtraTreesRegressor, GradientBoostingRegressor\n",
    "from sklearn.linear_model import LinearRegression\n",
    "from sklearn.cross_validation import StratifiedKFold, cross_val_score, train_test_split\n",
    "from sklearn.metrics import mean_squared_error\n",
    "from sklearn.preprocessing import OneHotEncoder"
   ]
  },
  {
   "cell_type": "code",
   "execution_count": 34,
   "metadata": {
    "ExecuteTime": {
     "end_time": "2016-07-07T18:20:41.747699",
     "start_time": "2016-07-07T18:20:41.743770"
    },
    "collapsed": false
   },
   "outputs": [],
   "source": [
    "# rf = ExtraTreesRegressor(n_estimators=50, max_features=1.0,min_samples_split=3,n_jobs=4)\n",
    "\n",
    "\n",
    "\n",
    "def train(x, y):\n",
    "    x_train, x_test, y_train, y_test = train_test_split(x, y, test_size=0.05, random_state=1729)\n",
    "    rf.fit(x_train, y_train)\n",
    "    y_pred = rf.predict(x_test)\n",
    "    print(mean_squared_error(y_test, y_pred))\n",
    "        "
   ]
  },
  {
   "cell_type": "code",
   "execution_count": 35,
   "metadata": {
    "ExecuteTime": {
     "end_time": "2016-07-07T18:20:41.752508",
     "start_time": "2016-07-07T18:20:41.748647"
    },
    "collapsed": false
   },
   "outputs": [],
   "source": [
    "# df.columns"
   ]
  },
  {
   "cell_type": "code",
   "execution_count": 38,
   "metadata": {
    "ExecuteTime": {
     "end_time": "2016-07-07T18:36:05.329995",
     "start_time": "2016-07-07T18:32:54.213352"
    },
    "collapsed": false
   },
   "outputs": [
    {
     "name": "stdout",
     "output_type": "stream",
     "text": [
      "volume_bin\n",
      "Venta_hoy_bin\n",
      "Venta_uni_hoy_bin\n",
      "fitting...\n",
      "0.796490767802\n"
     ]
    }
   ],
   "source": [
    "rf = LinearRegression(n_jobs=4) #, random_state=401\n",
    "\n",
    "for week in range(3,10):\n",
    "    df_week = pd.read_csv('input/train_week%s.csv' % week)\n",
    "\n",
    "    aux = process_df(df_week)\n",
    "    df = aux.iloc[np.random.permutation(len(aux))]\n",
    "    df = pd.get_dummies(df)\n",
    "\n",
    "    print('fitting...')\n",
    "    # for x in range(10000,df.shape[0]-10000,10000):\n",
    "    df_partial = df\n",
    "    x = df_partial.drop(['Demanda_uni_equil'], axis=1).values\n",
    "    y = df_partial['Demanda_uni_equil'].values\n",
    "    train(x,y)\n",
    "    break"
   ]
  },
  {
   "cell_type": "code",
   "execution_count": null,
   "metadata": {
    "ExecuteTime": {
     "end_time": "2016-07-06T19:02:01.288642",
     "start_time": "2016-07-06T22:01:19.607Z"
    },
    "collapsed": false
   },
   "outputs": [],
   "source": [
    "1.12"
   ]
  },
  {
   "cell_type": "code",
   "execution_count": null,
   "metadata": {
    "collapsed": true
   },
   "outputs": [],
   "source": []
  },
  {
   "cell_type": "code",
   "execution_count": null,
   "metadata": {
    "collapsed": true
   },
   "outputs": [],
   "source": []
  },
  {
   "cell_type": "code",
   "execution_count": 39,
   "metadata": {
    "ExecuteTime": {
     "end_time": "2016-07-07T18:37:00.713530",
     "start_time": "2016-07-07T18:36:55.075126"
    },
    "collapsed": true
   },
   "outputs": [],
   "source": [
    "df_test = pd.read_csv('input/test.csv.gz', compression='gzip')"
   ]
  },
  {
   "cell_type": "code",
   "execution_count": 45,
   "metadata": {
    "ExecuteTime": {
     "end_time": "2016-07-07T18:40:46.404302",
     "start_time": "2016-07-07T18:39:52.016071"
    },
    "collapsed": false,
    "scrolled": false
   },
   "outputs": [
    {
     "name": "stdout",
     "output_type": "stream",
     "text": [
      "volume_bin\n"
     ]
    },
    {
     "ename": "KeyError",
     "evalue": "'Venta_hoy'",
     "output_type": "error",
     "traceback": [
      "\u001b[1;31m---------------------------------------------------------------------------\u001b[0m",
      "\u001b[1;31mKeyError\u001b[0m                                  Traceback (most recent call last)",
      "\u001b[1;32m<ipython-input-45-f49fd3c43cf6>\u001b[0m in \u001b[0;36m<module>\u001b[1;34m()\u001b[0m\n\u001b[1;32m----> 1\u001b[1;33m \u001b[0mdf\u001b[0m \u001b[1;33m=\u001b[0m \u001b[0mprocess_df\u001b[0m\u001b[1;33m(\u001b[0m\u001b[0mdf_test\u001b[0m\u001b[1;33m,\u001b[0m \u001b[0mtest\u001b[0m\u001b[1;33m=\u001b[0m\u001b[1;32mTrue\u001b[0m\u001b[1;33m)\u001b[0m\u001b[1;33m\u001b[0m\u001b[0m\n\u001b[0m\u001b[0;32m      2\u001b[0m \u001b[1;31m# df = aux.iloc[np.random.permutation(len(aux))]\u001b[0m\u001b[1;33m\u001b[0m\u001b[1;33m\u001b[0m\u001b[0m\n\u001b[0;32m      3\u001b[0m \u001b[0mdf\u001b[0m \u001b[1;33m=\u001b[0m \u001b[0mpd\u001b[0m\u001b[1;33m.\u001b[0m\u001b[0mget_dummies\u001b[0m\u001b[1;33m(\u001b[0m\u001b[0mdf\u001b[0m\u001b[1;33m)\u001b[0m\u001b[1;33m\u001b[0m\u001b[0m\n\u001b[0;32m      4\u001b[0m \u001b[0mres\u001b[0m \u001b[1;33m=\u001b[0m \u001b[0mrf\u001b[0m\u001b[1;33m.\u001b[0m\u001b[0mpredict\u001b[0m\u001b[1;33m(\u001b[0m\u001b[0mdf\u001b[0m\u001b[1;33m.\u001b[0m\u001b[0mvalues\u001b[0m\u001b[1;33m)\u001b[0m\u001b[1;33m\u001b[0m\u001b[0m\n",
      "\u001b[1;32m<ipython-input-44-f3e99f7f3e5e>\u001b[0m in \u001b[0;36mprocess_df\u001b[1;34m(df, test)\u001b[0m\n\u001b[0;32m     27\u001b[0m     \u001b[0mdf\u001b[0m \u001b[1;33m=\u001b[0m \u001b[0mbinarize\u001b[0m\u001b[1;33m(\u001b[0m\u001b[0mdf\u001b[0m\u001b[1;33m,\u001b[0m \u001b[1;34m'volume'\u001b[0m\u001b[1;33m,\u001b[0m \u001b[1;36m600\u001b[0m\u001b[1;33m,\u001b[0m \u001b[1;36m60\u001b[0m\u001b[1;33m)\u001b[0m\u001b[1;33m\u001b[0m\u001b[0m\n\u001b[0;32m     28\u001b[0m \u001b[1;33m\u001b[0m\u001b[0m\n\u001b[1;32m---> 29\u001b[1;33m     \u001b[0mf\u001b[0m \u001b[1;33m=\u001b[0m \u001b[1;33m(\u001b[0m\u001b[0mdf\u001b[0m\u001b[1;33m[\u001b[0m\u001b[1;34m'Venta_hoy'\u001b[0m\u001b[1;33m]\u001b[0m \u001b[1;33m<\u001b[0m \u001b[1;36m100\u001b[0m\u001b[1;33m)\u001b[0m\u001b[1;33m\u001b[0m\u001b[0m\n\u001b[0m\u001b[0;32m     30\u001b[0m     \u001b[0mdf\u001b[0m \u001b[1;33m=\u001b[0m \u001b[0mpd\u001b[0m\u001b[1;33m.\u001b[0m\u001b[0mDataFrame\u001b[0m\u001b[1;33m(\u001b[0m\u001b[0mdf\u001b[0m\u001b[1;33m.\u001b[0m\u001b[0mix\u001b[0m\u001b[1;33m[\u001b[0m\u001b[0mf\u001b[0m\u001b[1;33m]\u001b[0m\u001b[1;33m)\u001b[0m\u001b[1;33m\u001b[0m\u001b[0m\n\u001b[0;32m     31\u001b[0m     \u001b[0mdf\u001b[0m \u001b[1;33m=\u001b[0m \u001b[0mbinarize\u001b[0m\u001b[1;33m(\u001b[0m\u001b[0mdf\u001b[0m\u001b[1;33m,\u001b[0m \u001b[1;34m'Venta_hoy'\u001b[0m\u001b[1;33m,\u001b[0m \u001b[1;36m100\u001b[0m\u001b[1;33m,\u001b[0m \u001b[1;36m10\u001b[0m\u001b[1;33m)\u001b[0m\u001b[1;33m\u001b[0m\u001b[0m\n",
      "\u001b[1;32m/usr/local/lib/python3.4/dist-packages/pandas/core/frame.py\u001b[0m in \u001b[0;36m__getitem__\u001b[1;34m(self, key)\u001b[0m\n\u001b[0;32m   1967\u001b[0m             \u001b[1;32mreturn\u001b[0m \u001b[0mself\u001b[0m\u001b[1;33m.\u001b[0m\u001b[0m_getitem_multilevel\u001b[0m\u001b[1;33m(\u001b[0m\u001b[0mkey\u001b[0m\u001b[1;33m)\u001b[0m\u001b[1;33m\u001b[0m\u001b[0m\n\u001b[0;32m   1968\u001b[0m         \u001b[1;32melse\u001b[0m\u001b[1;33m:\u001b[0m\u001b[1;33m\u001b[0m\u001b[0m\n\u001b[1;32m-> 1969\u001b[1;33m             \u001b[1;32mreturn\u001b[0m \u001b[0mself\u001b[0m\u001b[1;33m.\u001b[0m\u001b[0m_getitem_column\u001b[0m\u001b[1;33m(\u001b[0m\u001b[0mkey\u001b[0m\u001b[1;33m)\u001b[0m\u001b[1;33m\u001b[0m\u001b[0m\n\u001b[0m\u001b[0;32m   1970\u001b[0m \u001b[1;33m\u001b[0m\u001b[0m\n\u001b[0;32m   1971\u001b[0m     \u001b[1;32mdef\u001b[0m \u001b[0m_getitem_column\u001b[0m\u001b[1;33m(\u001b[0m\u001b[0mself\u001b[0m\u001b[1;33m,\u001b[0m \u001b[0mkey\u001b[0m\u001b[1;33m)\u001b[0m\u001b[1;33m:\u001b[0m\u001b[1;33m\u001b[0m\u001b[0m\n",
      "\u001b[1;32m/usr/local/lib/python3.4/dist-packages/pandas/core/frame.py\u001b[0m in \u001b[0;36m_getitem_column\u001b[1;34m(self, key)\u001b[0m\n\u001b[0;32m   1974\u001b[0m         \u001b[1;31m# get column\u001b[0m\u001b[1;33m\u001b[0m\u001b[1;33m\u001b[0m\u001b[0m\n\u001b[0;32m   1975\u001b[0m         \u001b[1;32mif\u001b[0m \u001b[0mself\u001b[0m\u001b[1;33m.\u001b[0m\u001b[0mcolumns\u001b[0m\u001b[1;33m.\u001b[0m\u001b[0mis_unique\u001b[0m\u001b[1;33m:\u001b[0m\u001b[1;33m\u001b[0m\u001b[0m\n\u001b[1;32m-> 1976\u001b[1;33m             \u001b[1;32mreturn\u001b[0m \u001b[0mself\u001b[0m\u001b[1;33m.\u001b[0m\u001b[0m_get_item_cache\u001b[0m\u001b[1;33m(\u001b[0m\u001b[0mkey\u001b[0m\u001b[1;33m)\u001b[0m\u001b[1;33m\u001b[0m\u001b[0m\n\u001b[0m\u001b[0;32m   1977\u001b[0m \u001b[1;33m\u001b[0m\u001b[0m\n\u001b[0;32m   1978\u001b[0m         \u001b[1;31m# duplicate columns & possible reduce dimensionality\u001b[0m\u001b[1;33m\u001b[0m\u001b[1;33m\u001b[0m\u001b[0m\n",
      "\u001b[1;32m/usr/local/lib/python3.4/dist-packages/pandas/core/generic.py\u001b[0m in \u001b[0;36m_get_item_cache\u001b[1;34m(self, item)\u001b[0m\n\u001b[0;32m   1089\u001b[0m         \u001b[0mres\u001b[0m \u001b[1;33m=\u001b[0m \u001b[0mcache\u001b[0m\u001b[1;33m.\u001b[0m\u001b[0mget\u001b[0m\u001b[1;33m(\u001b[0m\u001b[0mitem\u001b[0m\u001b[1;33m)\u001b[0m\u001b[1;33m\u001b[0m\u001b[0m\n\u001b[0;32m   1090\u001b[0m         \u001b[1;32mif\u001b[0m \u001b[0mres\u001b[0m \u001b[1;32mis\u001b[0m \u001b[1;32mNone\u001b[0m\u001b[1;33m:\u001b[0m\u001b[1;33m\u001b[0m\u001b[0m\n\u001b[1;32m-> 1091\u001b[1;33m             \u001b[0mvalues\u001b[0m \u001b[1;33m=\u001b[0m \u001b[0mself\u001b[0m\u001b[1;33m.\u001b[0m\u001b[0m_data\u001b[0m\u001b[1;33m.\u001b[0m\u001b[0mget\u001b[0m\u001b[1;33m(\u001b[0m\u001b[0mitem\u001b[0m\u001b[1;33m)\u001b[0m\u001b[1;33m\u001b[0m\u001b[0m\n\u001b[0m\u001b[0;32m   1092\u001b[0m             \u001b[0mres\u001b[0m \u001b[1;33m=\u001b[0m \u001b[0mself\u001b[0m\u001b[1;33m.\u001b[0m\u001b[0m_box_item_values\u001b[0m\u001b[1;33m(\u001b[0m\u001b[0mitem\u001b[0m\u001b[1;33m,\u001b[0m \u001b[0mvalues\u001b[0m\u001b[1;33m)\u001b[0m\u001b[1;33m\u001b[0m\u001b[0m\n\u001b[0;32m   1093\u001b[0m             \u001b[0mcache\u001b[0m\u001b[1;33m[\u001b[0m\u001b[0mitem\u001b[0m\u001b[1;33m]\u001b[0m \u001b[1;33m=\u001b[0m \u001b[0mres\u001b[0m\u001b[1;33m\u001b[0m\u001b[0m\n",
      "\u001b[1;32m/usr/local/lib/python3.4/dist-packages/pandas/core/internals.py\u001b[0m in \u001b[0;36mget\u001b[1;34m(self, item, fastpath)\u001b[0m\n\u001b[0;32m   3209\u001b[0m \u001b[1;33m\u001b[0m\u001b[0m\n\u001b[0;32m   3210\u001b[0m             \u001b[1;32mif\u001b[0m \u001b[1;32mnot\u001b[0m \u001b[0misnull\u001b[0m\u001b[1;33m(\u001b[0m\u001b[0mitem\u001b[0m\u001b[1;33m)\u001b[0m\u001b[1;33m:\u001b[0m\u001b[1;33m\u001b[0m\u001b[0m\n\u001b[1;32m-> 3211\u001b[1;33m                 \u001b[0mloc\u001b[0m \u001b[1;33m=\u001b[0m \u001b[0mself\u001b[0m\u001b[1;33m.\u001b[0m\u001b[0mitems\u001b[0m\u001b[1;33m.\u001b[0m\u001b[0mget_loc\u001b[0m\u001b[1;33m(\u001b[0m\u001b[0mitem\u001b[0m\u001b[1;33m)\u001b[0m\u001b[1;33m\u001b[0m\u001b[0m\n\u001b[0m\u001b[0;32m   3212\u001b[0m             \u001b[1;32melse\u001b[0m\u001b[1;33m:\u001b[0m\u001b[1;33m\u001b[0m\u001b[0m\n\u001b[0;32m   3213\u001b[0m                 \u001b[0mindexer\u001b[0m \u001b[1;33m=\u001b[0m \u001b[0mnp\u001b[0m\u001b[1;33m.\u001b[0m\u001b[0marange\u001b[0m\u001b[1;33m(\u001b[0m\u001b[0mlen\u001b[0m\u001b[1;33m(\u001b[0m\u001b[0mself\u001b[0m\u001b[1;33m.\u001b[0m\u001b[0mitems\u001b[0m\u001b[1;33m)\u001b[0m\u001b[1;33m)\u001b[0m\u001b[1;33m[\u001b[0m\u001b[0misnull\u001b[0m\u001b[1;33m(\u001b[0m\u001b[0mself\u001b[0m\u001b[1;33m.\u001b[0m\u001b[0mitems\u001b[0m\u001b[1;33m)\u001b[0m\u001b[1;33m]\u001b[0m\u001b[1;33m\u001b[0m\u001b[0m\n",
      "\u001b[1;32m/usr/local/lib/python3.4/dist-packages/pandas/core/index.py\u001b[0m in \u001b[0;36mget_loc\u001b[1;34m(self, key, method, tolerance)\u001b[0m\n\u001b[0;32m   1757\u001b[0m                                  'backfill or nearest lookups')\n\u001b[0;32m   1758\u001b[0m             \u001b[0mkey\u001b[0m \u001b[1;33m=\u001b[0m \u001b[0m_values_from_object\u001b[0m\u001b[1;33m(\u001b[0m\u001b[0mkey\u001b[0m\u001b[1;33m)\u001b[0m\u001b[1;33m\u001b[0m\u001b[0m\n\u001b[1;32m-> 1759\u001b[1;33m             \u001b[1;32mreturn\u001b[0m \u001b[0mself\u001b[0m\u001b[1;33m.\u001b[0m\u001b[0m_engine\u001b[0m\u001b[1;33m.\u001b[0m\u001b[0mget_loc\u001b[0m\u001b[1;33m(\u001b[0m\u001b[0mkey\u001b[0m\u001b[1;33m)\u001b[0m\u001b[1;33m\u001b[0m\u001b[0m\n\u001b[0m\u001b[0;32m   1760\u001b[0m \u001b[1;33m\u001b[0m\u001b[0m\n\u001b[0;32m   1761\u001b[0m         indexer = self.get_indexer([key], method=method,\n",
      "\u001b[1;32mpandas/index.pyx\u001b[0m in \u001b[0;36mpandas.index.IndexEngine.get_loc (pandas/index.c:3979)\u001b[1;34m()\u001b[0m\n",
      "\u001b[1;32mpandas/index.pyx\u001b[0m in \u001b[0;36mpandas.index.IndexEngine.get_loc (pandas/index.c:3843)\u001b[1;34m()\u001b[0m\n",
      "\u001b[1;32mpandas/hashtable.pyx\u001b[0m in \u001b[0;36mpandas.hashtable.PyObjectHashTable.get_item (pandas/hashtable.c:12265)\u001b[1;34m()\u001b[0m\n",
      "\u001b[1;32mpandas/hashtable.pyx\u001b[0m in \u001b[0;36mpandas.hashtable.PyObjectHashTable.get_item (pandas/hashtable.c:12216)\u001b[1;34m()\u001b[0m\n",
      "\u001b[1;31mKeyError\u001b[0m: 'Venta_hoy'"
     ]
    }
   ],
   "source": [
    "df = process_df(df_test, test=True)\n",
    "# df = aux.iloc[np.random.permutation(len(aux))]\n",
    "df = pd.get_dummies(df)\n",
    "res = rf.predict(df.values)"
   ]
  },
  {
   "cell_type": "code",
   "execution_count": null,
   "metadata": {
    "collapsed": true
   },
   "outputs": [],
   "source": []
  },
  {
   "cell_type": "code",
   "execution_count": null,
   "metadata": {
    "collapsed": true
   },
   "outputs": [],
   "source": []
  },
  {
   "cell_type": "code",
   "execution_count": null,
   "metadata": {
    "collapsed": true
   },
   "outputs": [],
   "source": []
  },
  {
   "cell_type": "code",
   "execution_count": null,
   "metadata": {
    "ExecuteTime": {
     "end_time": "2016-07-05T17:23:52.857057",
     "start_time": "2016-07-05T20:23:39.510Z"
    },
    "collapsed": false
   },
   "outputs": [],
   "source": [
    "# df_process['short_names_processed']"
   ]
  },
  {
   "cell_type": "code",
   "execution_count": null,
   "metadata": {
    "ExecuteTime": {
     "end_time": "2016-07-05T17:22:12.424024",
     "start_time": "2016-07-05T17:22:12.341279"
    },
    "collapsed": false
   },
   "outputs": [],
   "source": [
    "# pd.get_dummies(df_process[0:100][cols])"
   ]
  },
  {
   "cell_type": "code",
   "execution_count": null,
   "metadata": {
    "ExecuteTime": {
     "end_time": "2016-07-07T17:12:52.989990",
     "start_time": "2016-07-07T17:12:52.770353"
    },
    "collapsed": false
   },
   "outputs": [],
   "source": [
    "a = pd.get_dummies(aux[cols])"
   ]
  },
  {
   "cell_type": "code",
   "execution_count": null,
   "metadata": {
    "ExecuteTime": {
     "end_time": "2016-07-07T17:17:37.684147",
     "start_time": "2016-07-07T17:17:37.567148"
    },
    "collapsed": false
   },
   "outputs": [],
   "source": [
    "rf.feature_importances_.shape"
   ]
  },
  {
   "cell_type": "code",
   "execution_count": null,
   "metadata": {
    "ExecuteTime": {
     "end_time": "2016-07-07T18:05:03.797029",
     "start_time": "2016-07-07T21:02:16.147Z"
    },
    "collapsed": false
   },
   "outputs": [],
   "source": [
    "# a.columns"
   ]
  },
  {
   "cell_type": "code",
   "execution_count": null,
   "metadata": {
    "ExecuteTime": {
     "end_time": "2016-07-07T17:18:56.904026",
     "start_time": "2016-07-07T17:18:56.899255"
    },
    "collapsed": false
   },
   "outputs": [],
   "source": []
  },
  {
   "cell_type": "code",
   "execution_count": null,
   "metadata": {
    "ExecuteTime": {
     "end_time": "2016-07-07T17:17:41.657635",
     "start_time": "2016-07-07T17:17:41.312353"
    },
    "collapsed": false
   },
   "outputs": [],
   "source": [
    "plt.bar(range(0,40), height=rf.feature_importances_)"
   ]
  },
  {
   "cell_type": "code",
   "execution_count": null,
   "metadata": {
    "ExecuteTime": {
     "end_time": "2016-06-22T16:48:28.775598",
     "start_time": "2016-06-22T16:48:28.604559"
    },
    "collapsed": false
   },
   "outputs": [],
   "source": [
    "f = plt.subplots()\n",
    "i = 444\n",
    "for v in x.T:\n",
    "    i+=1\n",
    "    f.hist(v)"
   ]
  },
  {
   "cell_type": "code",
   "execution_count": null,
   "metadata": {
    "ExecuteTime": {
     "end_time": "2016-06-22T16:41:11.071953",
     "start_time": "2016-06-22T16:41:10.845778"
    },
    "collapsed": false
   },
   "outputs": [],
   "source": []
  },
  {
   "cell_type": "code",
   "execution_count": null,
   "metadata": {
    "ExecuteTime": {
     "end_time": "2016-06-22T16:35:46.831672",
     "start_time": "2016-06-22T19:28:21.110Z"
    },
    "collapsed": false
   },
   "outputs": [],
   "source": [
    "df.columns"
   ]
  },
  {
   "cell_type": "code",
   "execution_count": null,
   "metadata": {
    "ExecuteTime": {
     "end_time": "2016-06-22T15:03:32.549718",
     "start_time": "2016-06-22T15:03:32.543490"
    },
    "collapsed": true
   },
   "outputs": [],
   "source": []
  },
  {
   "cell_type": "code",
   "execution_count": null,
   "metadata": {
    "ExecuteTime": {
     "end_time": "2016-06-22T16:35:46.831936",
     "start_time": "2016-06-22T19:28:21.113Z"
    },
    "collapsed": false
   },
   "outputs": [],
   "source": [
    "count_entregas(df, 'Agencia_ID')"
   ]
  },
  {
   "cell_type": "code",
   "execution_count": null,
   "metadata": {
    "collapsed": true
   },
   "outputs": [],
   "source": []
  }
 ],
 "metadata": {
  "kernelspec": {
   "display_name": "Python 3",
   "language": "python",
   "name": "python3"
  },
  "language_info": {
   "codemirror_mode": {
    "name": "ipython",
    "version": 3
   },
   "file_extension": ".py",
   "mimetype": "text/x-python",
   "name": "python",
   "nbconvert_exporter": "python",
   "pygments_lexer": "ipython3",
   "version": "3.4.3"
  }
 },
 "nbformat": 4,
 "nbformat_minor": 0
}
